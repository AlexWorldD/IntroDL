{
  "nbformat": 4,
  "nbformat_minor": 0,
  "metadata": {
    "colab": {
      "name": "digits_classification.ipynb",
      "version": "0.3.2",
      "provenance": []
    },
    "kernelspec": {
      "name": "python3",
      "display_name": "Python 3"
    },
    "accelerator": "GPU"
  },
  "cells": [
    {
      "metadata": {
        "id": "fZhifit-cfxB",
        "colab_type": "text"
      },
      "cell_type": "markdown",
      "source": [
        "# Initialisation for TensorFlow as well as grading system:\n",
        "\n",
        "\n",
        "---\n",
        "\n"
      ]
    },
    {
      "metadata": {
        "id": "xFj8f-zBcaET",
        "colab_type": "code",
        "colab": {
          "base_uri": "https://localhost:8080/",
          "height": 323
        },
        "outputId": "8fbab7c6-78ef-47ef-e2a8-4a0bb4f3b979"
      },
      "cell_type": "code",
      "source": [
        "! shred -u setup_google_colab.py\n",
        "! wget https://raw.githubusercontent.com/hse-aml/intro-to-dl/master/setup_google_colab.py -O setup_google_colab.py\n",
        "import setup_google_colab\n",
        "setup_google_colab.setup_week2()"
      ],
      "execution_count": 2,
      "outputs": [
        {
          "output_type": "stream",
          "text": [
            "shred: setup_google_colab.py: failed to open for writing: No such file or directory\n",
            "--2018-12-11 17:59:35--  https://raw.githubusercontent.com/hse-aml/intro-to-dl/master/setup_google_colab.py\n",
            "Resolving raw.githubusercontent.com (raw.githubusercontent.com)... 151.101.0.133, 151.101.64.133, 151.101.128.133, ...\n",
            "Connecting to raw.githubusercontent.com (raw.githubusercontent.com)|151.101.0.133|:443... connected.\n",
            "HTTP request sent, awaiting response... 200 OK\n",
            "Length: 3595 (3.5K) [text/plain]\n",
            "Saving to: ‘setup_google_colab.py’\n",
            "\n",
            "setup_google_colab. 100%[===================>]   3.51K  --.-KB/s    in 0s      \n",
            "\n",
            "2018-12-11 17:59:35 (68.8 MB/s) - ‘setup_google_colab.py’ saved [3595/3595]\n",
            "\n"
          ],
          "name": "stdout"
        },
        {
          "output_type": "display_data",
          "data": {
            "application/vnd.jupyter.widget-view+json": {
              "model_id": "e733214e38674a0ebc4a7c0c06336770",
              "version_minor": 0,
              "version_major": 2
            },
            "text/plain": [
              "HBox(children=(IntProgress(value=0, max=87910968), HTML(value='')))"
            ]
          },
          "metadata": {
            "tags": []
          }
        },
        {
          "output_type": "stream",
          "text": [
            "\n"
          ],
          "name": "stdout"
        },
        {
          "output_type": "display_data",
          "data": {
            "application/vnd.jupyter.widget-view+json": {
              "model_id": "a44481cd4620404dba3cac8c27b9f4fc",
              "version_minor": 0,
              "version_major": 2
            },
            "text/plain": [
              "HBox(children=(IntProgress(value=0, max=170498071), HTML(value='')))"
            ]
          },
          "metadata": {
            "tags": []
          }
        },
        {
          "output_type": "stream",
          "text": [
            "\n"
          ],
          "name": "stdout"
        },
        {
          "output_type": "display_data",
          "data": {
            "application/vnd.jupyter.widget-view+json": {
              "model_id": "2d8718e154a446af92106ab52c62ff5f",
              "version_minor": 0,
              "version_major": 2
            },
            "text/plain": [
              "HBox(children=(IntProgress(value=0, max=11490434), HTML(value='')))"
            ]
          },
          "metadata": {
            "tags": []
          }
        },
        {
          "output_type": "stream",
          "text": [
            "\n"
          ],
          "name": "stdout"
        }
      ]
    },
    {
      "metadata": {
        "id": "KiWubX1VboLf",
        "colab_type": "text"
      },
      "cell_type": "markdown",
      "source": [
        "# MNIST digits classification with TensorFlow"
      ]
    },
    {
      "metadata": {
        "id": "wqAkH9x4boLg",
        "colab_type": "text"
      },
      "cell_type": "markdown",
      "source": [
        "<img src=\"https://github.com/AlexWorldD/IntroDL/blob/master/week2/v2/images/mnist_sample.png?raw=1\" style=\"width:30%\">"
      ]
    },
    {
      "metadata": {
        "id": "NC-lzXa8boLh",
        "colab_type": "code",
        "colab": {
          "base_uri": "https://localhost:8080/",
          "height": 51
        },
        "outputId": "fa7511cd-0ddb-4421-9090-20fcddbbe77a"
      },
      "cell_type": "code",
      "source": [
        "import numpy as np\n",
        "from sklearn.metrics import accuracy_score\n",
        "from matplotlib import pyplot as plt\n",
        "%matplotlib inline\n",
        "import tensorflow as tf\n",
        "print(\"We're using TF\", tf.__version__)\n",
        "\n",
        "import sys\n",
        "sys.path.append(\"../..\")\n",
        "import grading\n",
        "\n",
        "import matplotlib_utils\n",
        "from importlib import reload\n",
        "reload(matplotlib_utils)\n",
        "\n",
        "import grading_utils\n",
        "reload(grading_utils)\n",
        "\n",
        "import keras_utils\n",
        "from keras_utils import reset_tf_session"
      ],
      "execution_count": 3,
      "outputs": [
        {
          "output_type": "stream",
          "text": [
            "We're using TF 1.12.0\n"
          ],
          "name": "stdout"
        },
        {
          "output_type": "stream",
          "text": [
            "Using TensorFlow backend.\n"
          ],
          "name": "stderr"
        }
      ]
    },
    {
      "metadata": {
        "id": "AwAiQA9Ic5M9",
        "colab_type": "text"
      },
      "cell_type": "markdown",
      "source": [
        "Check that our GPU is working"
      ]
    },
    {
      "metadata": {
        "id": "qyatO_Rcc-x5",
        "colab_type": "code",
        "colab": {
          "base_uri": "https://localhost:8080/",
          "height": 34
        },
        "outputId": "5db5219a-9e77-416d-e323-fe81089bcb34"
      },
      "cell_type": "code",
      "source": [
        "import tensorflow as tf\n",
        "tf.test.gpu_device_name()"
      ],
      "execution_count": 4,
      "outputs": [
        {
          "output_type": "execute_result",
          "data": {
            "text/plain": [
              "'/device:GPU:0'"
            ]
          },
          "metadata": {
            "tags": []
          },
          "execution_count": 4
        }
      ]
    },
    {
      "metadata": {
        "id": "YPH99xbNboLj",
        "colab_type": "text"
      },
      "cell_type": "markdown",
      "source": [
        "# Fill in your Coursera token and email\n",
        "To successfully submit your answers to our grader, please fill in your Coursera submission token and email"
      ]
    },
    {
      "metadata": {
        "id": "FJY8lg0sboLk",
        "colab_type": "code",
        "colab": {}
      },
      "cell_type": "code",
      "source": [
        "grader = grading.Grader(assignment_key=\"XtD7ho3TEeiHQBLWejjYAA\", \n",
        "                        all_parts=[\"9XaAS\", \"vmogZ\", \"RMv95\", \"i8bgs\", \"rE763\"])"
      ],
      "execution_count": 0,
      "outputs": []
    },
    {
      "metadata": {
        "id": "5GuGkzP5boLn",
        "colab_type": "code",
        "colab": {}
      },
      "cell_type": "code",
      "source": [
        "# token expires every 30 min\n",
        "COURSERA_TOKEN = \"\"\n",
        "COURSERA_EMAIL = \"\""
      ],
      "execution_count": 0,
      "outputs": []
    },
    {
      "metadata": {
        "id": "YVwthkfadt3L",
        "colab_type": "text"
      },
      "cell_type": "markdown",
      "source": [
        "# TensorBoard link:\n",
        "\n",
        "---\n",
        "\n"
      ]
    },
    {
      "metadata": {
        "id": "0Ug3ISEQdyV6",
        "colab_type": "code",
        "colab": {}
      },
      "cell_type": "code",
      "source": [
        "# !!! RUN THIS CELL ONLY ON GOOGLE COLAB !!!\n",
        "! wget https://raw.githubusercontent.com/hse-aml/intro-to-dl/master/setup_google_colab.py -O setup_google_colab.py\n",
        "import setup_google_colab\n",
        "\n",
        "# run tensorboard in background\n",
        "import os\n",
        "os.system(\"tensorboard --logdir=./logs --host 0.0.0.0 --port 6006 &\")\n",
        "\n",
        "# expose port and show the link\n",
        "setup_google_colab.expose_port_on_colab(6006)"
      ],
      "execution_count": 0,
      "outputs": []
    },
    {
      "metadata": {
        "id": "LArbJxxdboLp",
        "colab_type": "text"
      },
      "cell_type": "markdown",
      "source": [
        "# Look at the data\n",
        "\n",
        "In this task we have 50000 28x28 images of digits from 0 to 9.\n",
        "We will train a classifier on this data."
      ]
    },
    {
      "metadata": {
        "id": "yJHklnQcboLp",
        "colab_type": "code",
        "colab": {
          "base_uri": "https://localhost:8080/",
          "height": 51
        },
        "outputId": "2113104e-e291-4a3e-b5a9-b4e5f626a4ed"
      },
      "cell_type": "code",
      "source": [
        "import preprocessed_mnist\n",
        "X_train, y_train, X_val, y_val, X_test, y_test = preprocessed_mnist.load_dataset()"
      ],
      "execution_count": 7,
      "outputs": [
        {
          "output_type": "stream",
          "text": [
            "Downloading data from https://s3.amazonaws.com/img-datasets/mnist.npz\n",
            " 8314880/11490434 [====================>.........] - ETA: 0s"
          ],
          "name": "stdout"
        }
      ]
    },
    {
      "metadata": {
        "id": "0zqc3VojboLs",
        "colab_type": "code",
        "colab": {
          "base_uri": "https://localhost:8080/",
          "height": 683
        },
        "outputId": "802bb1b6-9959-4008-d9d2-60a0cfc28c41"
      },
      "cell_type": "code",
      "source": [
        "# X contains rgb values divided by 255\n",
        "print(\"X_train [shape %s] sample patch:\\n\" % (str(X_train.shape)), X_train[1, 15:20, 5:10])\n",
        "print(\"A closeup of a sample patch:\")\n",
        "plt.imshow(X_train[1, 15:20, 5:10], cmap=\"Greys\")\n",
        "plt.show()\n",
        "print(\"And the whole sample:\")\n",
        "plt.imshow(X_train[1], cmap=\"Greys\")\n",
        "plt.show()\n",
        "print(\"y_train [shape %s] 10 samples:\\n\" % (str(y_train.shape)), y_train[:10])"
      ],
      "execution_count": 8,
      "outputs": [
        {
          "output_type": "stream",
          "text": [
            "X_train [shape (50000, 28, 28)] sample patch:\n",
            " [[0.         0.29803922 0.96470588 0.98823529 0.43921569]\n",
            " [0.         0.33333333 0.98823529 0.90196078 0.09803922]\n",
            " [0.         0.33333333 0.98823529 0.8745098  0.        ]\n",
            " [0.         0.33333333 0.98823529 0.56862745 0.        ]\n",
            " [0.         0.3372549  0.99215686 0.88235294 0.        ]]\n",
            "A closeup of a sample patch:\n"
          ],
          "name": "stdout"
        },
        {
          "output_type": "display_data",
          "data": {
            "image/png": "[encoded data removed]",
            "text/plain": [
              "<matplotlib.figure.Figure at 0x7f7a16353da0>"
            ]
          },
          "metadata": {
            "tags": []
          }
        },
        {
          "output_type": "stream",
          "text": [
            "And the whole sample:\n"
          ],
          "name": "stdout"
        },
        {
          "output_type": "display_data",
          "data": {
            "image/png": "[encoded data removed]",
            "text/plain": [
              "<matplotlib.figure.Figure at 0x7f7a0951a470>"
            ]
          },
          "metadata": {
            "tags": []
          }
        },
        {
          "output_type": "stream",
          "text": [
            "y_train [shape (50000,)] 10 samples:\n",
            " [5 0 4 1 9 2 1 3 1 4]\n"
          ],
          "name": "stdout"
        }
      ]
    },
    {
      "metadata": {
        "id": "1kHmRO7YboLu",
        "colab_type": "text"
      },
      "cell_type": "markdown",
      "source": [
        "# Linear model\n",
        "\n",
        "Your task is to train a linear classifier $\\vec{x} \\rightarrow y$ with SGD using TensorFlow.\n",
        "\n",
        "You will need to calculate a logit (a linear transformation) $z_k$ for each class: \n",
        "$$z_k = \\vec{x} \\cdot \\vec{w_k} + b_k \\quad k = 0..9$$\n",
        "\n",
        "And transform logits $z_k$ to valid probabilities $p_k$ with softmax: \n",
        "$$p_k = \\frac{e^{z_k}}{\\sum_{i=0}^{9}{e^{z_i}}} \\quad k = 0..9$$\n",
        "\n",
        "We will use a cross-entropy loss to train our multi-class classifier:\n",
        "$$\\text{cross-entropy}(y, p) = -\\sum_{k=0}^{9}{\\log(p_k)[y = k]}$$ \n",
        "\n",
        "where \n",
        "$$\n",
        "[x]=\\begin{cases}\n",
        "       1, \\quad \\text{if $x$ is true} \\\\\n",
        "       0, \\quad \\text{otherwise}\n",
        "    \\end{cases}\n",
        "$$\n",
        "\n",
        "Cross-entropy minimization pushes $p_k$ close to 1 when $y = k$, which is what we want.\n",
        "\n",
        "Here's the plan:\n",
        "* Flatten the images (28x28 -> 784) with `X_train.reshape((X_train.shape[0], -1))` to simplify our linear model implementation\n",
        "* Use a matrix placeholder for flattened `X_train`\n",
        "* Convert `y_train` to one-hot encoded vectors that are needed for cross-entropy\n",
        "* Use a shared variable `W` for all weights (a column $\\vec{w_k}$ per class) and `b` for all biases.\n",
        "* Aim for ~0.93 validation accuracy"
      ]
    },
    {
      "metadata": {
        "id": "4NACB13eboLv",
        "colab_type": "code",
        "colab": {
          "base_uri": "https://localhost:8080/",
          "height": 51
        },
        "outputId": "fa4e2640-63c3-440d-fb0b-68b0295c3967"
      },
      "cell_type": "code",
      "source": [
        "X_train_flat = X_train.reshape((X_train.shape[0], -1))\n",
        "print(X_train_flat.shape)\n",
        "\n",
        "X_val_flat = X_val.reshape((X_val.shape[0], -1))\n",
        "print(X_val_flat.shape)"
      ],
      "execution_count": 9,
      "outputs": [
        {
          "output_type": "stream",
          "text": [
            "(50000, 784)\n",
            "(10000, 784)\n"
          ],
          "name": "stdout"
        }
      ]
    },
    {
      "metadata": {
        "id": "XMRlGoezboLx",
        "colab_type": "code",
        "colab": {
          "base_uri": "https://localhost:8080/",
          "height": 85
        },
        "outputId": "13f0737b-9f1f-4efc-c258-9d70c37bc412"
      },
      "cell_type": "code",
      "source": [
        "import keras\n",
        "\n",
        "y_train_oh = keras.utils.to_categorical(y_train, 10)\n",
        "y_val_oh = keras.utils.to_categorical(y_val, 10)\n",
        "\n",
        "print(y_train_oh.shape)\n",
        "print(y_train_oh[:3], y_train[:3])"
      ],
      "execution_count": 10,
      "outputs": [
        {
          "output_type": "stream",
          "text": [
            "(50000, 10)\n",
            "[[0. 0. 0. 0. 0. 1. 0. 0. 0. 0.]\n",
            " [1. 0. 0. 0. 0. 0. 0. 0. 0. 0.]\n",
            " [0. 0. 0. 0. 1. 0. 0. 0. 0. 0.]] [5 0 4]\n"
          ],
          "name": "stdout"
        }
      ]
    },
    {
      "metadata": {
        "id": "KLYxsg3KboL0",
        "colab_type": "code",
        "colab": {}
      },
      "cell_type": "code",
      "source": [
        "# run this again if you remake your graph\n",
        "s = reset_tf_session()"
      ],
      "execution_count": 0,
      "outputs": []
    },
    {
      "metadata": {
        "id": "bOWH6BoWboL3",
        "colab_type": "code",
        "colab": {}
      },
      "cell_type": "code",
      "source": [
        "# Model parameters: W and b\n",
        "W = tf.get_variable(\"weights\", \n",
        "                    shape=(784, 10), \n",
        "                    dtype=tf.float32) ### YOUR CODE HERE ### tf.get_variable(...) with shape[0] = 784\n",
        "b = tf.get_variable(\"bias\", \n",
        "                    shape=(1, 10), \n",
        "                    dtype=tf.float32) ### YOUR CODE HERE ### tf.get_variable(...)"
      ],
      "execution_count": 0,
      "outputs": []
    },
    {
      "metadata": {
        "id": "UKDXxHh3boL5",
        "colab_type": "code",
        "colab": {}
      },
      "cell_type": "code",
      "source": [
        "# Placeholders for the input data\n",
        "input_X = tf.placeholder(tf.float32, shape=(None, 784)) ### YOUR CODE HERE ### tf.placeholder(...) for flat X with shape[0] = None for any batch size\n",
        "input_y = tf.placeholder(tf.float32, shape=(None, 10)) ### YOUR CODE HERE ### tf.placeholder(...) for one-hot encoded true labels"
      ],
      "execution_count": 0,
      "outputs": []
    },
    {
      "metadata": {
        "id": "gTeWJ8suboL6",
        "colab_type": "code",
        "colab": {}
      },
      "cell_type": "code",
      "source": [
        "# Compute predictions\n",
        "logits = input_X @ W + b ### YOUR CODE HERE ### logits for input_X, resulting shape should be [input_X.shape[0], 10]\n",
        "probas = tf.nn.softmax(logits)### YOUR CODE HERE ### apply tf.nn.softmax to logits\n",
        "classes = tf.argmax(probas, axis=1) ### YOUR CODE HERE ### apply tf.argmax to find a class index with highest probability\n",
        "\n",
        "# Loss should be a scalar number: average loss over all the objects with tf.reduce_mean().\n",
        "# Use tf.nn.softmax_cross_entropy_with_logits on top of one-hot encoded input_y and logits.\n",
        "# It is identical to calculating cross-entropy on top of probas, but is more numerically friendly (read the docs).\n",
        "loss = tf.reduce_mean(tf.nn.softmax_cross_entropy_with_logits(labels=input_y, logits=logits)) ### YOUR CODE HERE ### cross-entropy loss\n",
        "\n",
        "# Use a default tf.train.AdamOptimizer to get an SGD step\n",
        "step = tf.train.AdamOptimizer().minimize(loss) ### YOUR CODE HERE ### optimizer step that minimizes the loss"
      ],
      "execution_count": 0,
      "outputs": []
    },
    {
      "metadata": {
        "scrolled": false,
        "id": "96xyfmpZboL8",
        "colab_type": "code",
        "colab": {
          "base_uri": "https://localhost:8080/",
          "height": 309
        },
        "outputId": "708762e0-134c-49bd-8718-59fa6c28b562"
      },
      "cell_type": "code",
      "source": [
        "s.run(tf.global_variables_initializer())\n",
        "\n",
        "BATCH_SIZE = 512\n",
        "EPOCHS = 40\n",
        "\n",
        "# for logging the progress right here in Jupyter (for those who don't have TensorBoard)\n",
        "simpleTrainingCurves = matplotlib_utils.SimpleTrainingCurves(\"cross-entropy\", \"accuracy\")\n",
        "\n",
        "for epoch in range(EPOCHS):  # we finish an epoch when we've looked at all training samples\n",
        "    \n",
        "    batch_losses = []\n",
        "    for batch_start in range(0, X_train_flat.shape[0], BATCH_SIZE):  # data is already shuffled\n",
        "        _, batch_loss = s.run([step, loss], {input_X: X_train_flat[batch_start:batch_start+BATCH_SIZE], \n",
        "                                             input_y: y_train_oh[batch_start:batch_start+BATCH_SIZE]})\n",
        "        # collect batch losses, this is almost free as we need a forward pass for backprop anyway\n",
        "        batch_losses.append(batch_loss)\n",
        "\n",
        "    train_loss = np.mean(batch_losses)\n",
        "    val_loss = s.run(loss, {input_X: X_val_flat, input_y: y_val_oh})  # this part is usually small\n",
        "    train_accuracy = accuracy_score(y_train, s.run(classes, {input_X: X_train_flat}))  # this is slow and usually skipped\n",
        "    valid_accuracy = accuracy_score(y_val, s.run(classes, {input_X: X_val_flat}))  \n",
        "    simpleTrainingCurves.add(train_loss, val_loss, train_accuracy, valid_accuracy)"
      ],
      "execution_count": 85,
      "outputs": [
        {
          "output_type": "display_data",
          "data": {
            "text/html": [
              "<img src=\"data:image/jpeg;base64,/9j/4AAQSkZJRgABAQEASABIAAD/2wBDAAIBAQEBAQIBAQECAgICAgQDAgICAgUEBAMEBgUGBgYFBgYGBwkIBgcJBwYGCAsICQoKCgoKBggLDAsKDAkKCgr/2wBDAQICAgICAgUDAwUKBwYHCgoKCgoKCgoKCgoKCgoKCgoKCgoKCgoKCgoKCgoKCgoKCgoKCgoKCgoKCgoKCgoKCgr/wAARCAEgA2ADASIAAhEBAxEB/8QAHwAAAQUBAQEBAQEAAAAAAAAAAAECAwQFBgcICQoL/8QAtRAAAgEDAwIEAwUFBAQAAAF9AQIDAAQRBRIhMUEGE1FhByJxFDKBkaEII0KxwRVS0fAkM2JyggkKFhcYGRolJicoKSo0NTY3ODk6Q0RFRkdISUpTVFVWV1hZWmNkZWZnaGlqc3R1dnd4eXqDhIWGh4iJipKTlJWWl5iZmqKjpKWmp6ipqrKztLW2t7i5usLDxMXGx8jJytLT1NXW19jZ2uHi4%2BTl5ufo6erx8vP09fb3%2BPn6/8QAHwEAAwEBAQEBAQEBAQAAAAAAAAECAwQFBgcICQoL/8QAtREAAgECBAQDBAcFBAQAAQJ3AAECAxEEBSExBhJBUQdhcRMiMoEIFEKRobHBCSMzUvAVYnLRChYkNOEl8RcYGRomJygpKjU2Nzg5OkNERUZHSElKU1RVVldYWVpjZGVmZ2hpanN0dXZ3eHl6goOEhYaHiImKkpOUlZaXmJmaoqOkpaanqKmqsrO0tba3uLm6wsPExcbHyMnK0tPU1dbX2Nna4uPk5ebn6Onq8vP09fb3%2BPn6/9oADAMBAAIRAxEAPwD9/KKKKACiiigAooooAKKKKACiiigAooooAKKKKACiiigAooooAKKKKACiiigAooooAKKKKACiiigAooooAKKKKACiiigAooooAKKKKACiiigAooooAKKKKACiiigAooooAKKKKACiiigAooooAKKKKACiiigAooooAKKKKACiiigAooooAKKKKACiiigAooooAKKKKACiiigAooooAKKKKACiiigAooooAKKKKACiiigAooooAKKKKACiiigAooooAKKKKACiiigAooooAKKKKACiiigAooooAKKKKACiiigAooooAKKKKACiiigAooooAKKKKACiiigAooooAKKKKACiiigAooooAKKKKACiiigDxPxd/wAFFP2PvAmoXmn%2BK/ipc2gs9UbTReHwpqj2l5eLfw6fJb2lwlsYb2SO7nigkW3eQxOxD7drY2j%2B2f8As6R%2BObL4c3XjHUbfVLy6sLNlu/Cmpw29le3sUctpY3dw9sIbG8lSWIraXDxzkzRjy8uoPiVz%2Bxn%2B1bH4C8N/s66Zqfw9HgXwn8W9N8V22tXOo3r6rqtnb%2BLrXWxbyQC1EVrLHAlxFvEswuJFiJ%2Bzqzbeh8cfsffGzXfGPi3wPoup%2BFv%2BEA8c/F7QfHuq61dalcrrOnvp8mlTyWEVqtu0Mwll0mLbcNcRmJLhh5TmNSwB6Fa/t1fsv3cGr3w8f30Nno2n3N7LqV54U1OC0vYLedLeZ7G4ktli1HbNJHHi1aYlpEAB3rns/hT8ZfAXxp0m91fwJc6njTdQNlqVnrfh690q8tJxGkuyW1voYZ48xyxupZAGVwQSDmvmbTf2IPj5a6t4mtbTwl8ONN8MazoOp22reBV8Za1feHfFN5cXcEsdw2mTwCPQGCJcEvZyTnzLkMRL5Q3egfs4/sm%2BOvDGmXP/AAu3xl4hhgsfFa6n4L8M6H8ZPEOpQaLbC3tla2mvpmtZtTheeGSUQXUbxRLKY1BQnIB0kX7eP7Kk0fiC6HxNlW18N6Jqur32oy%2BHdQS0urLTSRfzWVw1uItSFuRiQWjTFSQCMkZ5vx3/AMFL/wBmXwh4Vl8TaPd%2BJtceDxF4b0yXTdP8Dav9qeLW78WdnfwxNaB7m1crO0c8IeOZoTFEzyvGjeKaH/wSx%2BI%2BjfBrXPgl5eiXX9m/DfxR4c8C%2BK9W%2BK/ia/LzajZT2VtI%2Bkz5sdLUQzFZjALjJGY0j4A7z4//ALEPxs8d%2BOH%2BIfw%2B1Pwo9zp/hz4cxaTp2r6nc20dzfeG/FE2szxSyRW0phhlidIklVJGDliYsAbgD1V/25/2ZFtteu4/G%2BpzJ4b8Sf8ACPakLbwfqsrPq/nPCdOt1S1JvLsOhJggEkgQrIV2MrGpqn/BQX9lDSbTRp5PH%2Bq3U%2Bv2Wq3WmaXpfgnWLy/ZNMuIrfUFks4LR7iGW3lmRZIpI1kT5iVwjleFtv2OvjToXha08QaFfeFZvFegftCaz8R9G0y61O5j0%2B%2Bgvl1C3NnPcrbNJDILbUZSJFhlCyxJ8rCvMNI%2BEf7S3wX/AG5vCGqeD9N8Dav478U%2BA/iX4l1jSNT128tdItftmt%2BFwlvBdpZyzN5Srb5kNuvnFZfli8wbQD6jsf2yP2adU8Gaz8QtK%2BKVvd6PoNxpMGoXtpY3MoLapDaTaeYVWMtcrcJfWvlvCHVmkKZ3I6r6bXwN8Nv2Q7XwR%2B1Z8Ff2dvBXxLsNdsPh58M9Ff432dmnD3ugLu8PPKqki2klutRnuUjf52i06PGVQGvvmgAooooAKKKKACiiigAooooAKKKKACiiigAooooAKKKKACiiigAooooAKKKKACiiigAooooAKKKKACiiigAooooAKKKKACiiigArzb4q/tdfs/fBPxlH4D%2BJPje4stR%2By2l1efZ9Bvru3023urh7a2nvbi3geGwilmjkRJLl41YxvgnY2PSa%2BQ/28f2Kv2o/2pNZ8Z6N4R%2BIWn/8I5rvhC0s/DFtqHxB1rSoNGvoXnkm8/TtPi8jU47ljApluZG8hVJWCXbscA9gh/br/ZUku9btpviqtrFoGn6hfXeoahot7bWVzb2EywXslndSwrDqAhldI3%2ByvKVd1U8sAdDwJ%2B2B%2Bz78R/EmneC/DXjC%2Bj1vVNTutPt9D1fwzqOnX0Vzb2kd5LHPb3dvHLbH7NLHMvnKgkSRShbIrwzQ/wBjX9rW8/ZXP7IXiDWvh5pWgaLpEn9ga1ZX99qF3qF9FqUN9YC5R7e3W2hjMRinKNO1xuDqIOYz1/jH4S/tp%2BNfiB4H%2BPWqaH8ME1/wZ4l1CS08HQeJtQWzGmXel/ZHLambAyTXAnHnAfY408s%2BVnK%2BawB2uh/t0/steJddsPDmh/EuW4utR0KfWotnh7UBFDpsM9zbzXk8pg8u1gSa0njaSZkUMEBP72Le3w9%2B3Z%2By74m8J6741sviFe21l4dsdPvdSj1fwrqdhctbX8jRWM0Ftc20c13Hcyq0UDQJIJpAUjLN8teO/s%2BfsI/tK/Bjw3q7xfFHwvY%2BKLj4J3fhXR/EWlxzSrY61Jq2rX0V6IZYgDAn263baWJ3RuuCAGbkrH/gnN%2B1HceNNR%2BImoa74div59G8Iz2dvrXxT1/xIw1jw7r39rQrLc6hbB/st3vlR/JSJbU7WjgmJY0AfUHw9/bC/Z2%2BJ%2Buy%2BF/Cnj%2BRdTttLvdQvdN1fRL3Tbizgs5Yorrz47uGJoHia4ty8UgWRVnicrskRj2nw98e%2BFvip4C0T4m%2BBr%2BS70XxFpNvqWkXU1nLbtNazxrLE5imVJIyUZTtdVYZwQDxXxx%2B3H8PfjP8Ybb4c/D3xh4x8IaH8UvFXjTUNFj8PeD724unh8D6lZNaa0vnSpDLMYoUS7N2YYIxPDbRBdxQyfbOnadYaRp8Gk6XZx29rawrDbW8KBUijUAKqgcAAAAD2oAmooooAKKKKACiiigAooooAKKKKACiiigAooooAKKKKACiiigAooooAKKKKACiiigAooooAKKKKACiiigAooooAKKKKACiiigAooooAKzPFWs3eh6el3aJGzNMEIkUkYwT2I9K068t%2BMnxZbQvjP4P%2BCTaUjR%2BJvDut6uL4ykNE%2BnzabEIguMEOuoOxOePJAwd3C54QlHn2bS%2Bb0R04XB4jGylGiruMZTf%2BGEeaT%2BS1tu%2Bh0H/AAsPWv8An1tf%2B%2BG/%2BKo/4WHrX/Pra/8AfDf/ABVYNFd3s4djjuze/wCFh61/z62v/fDf/FUf8LD1r/n1tf8Avhv/AIqsGij2cOwXZ0j%2BO9YXT4rsW9tueaRCNjYwoQj%2BL/aNQ/8ACw9a/wCfW1/74b/4qsub/kC2/wD19Tf%2BgxVVpKnDsF2b3/Cw9a/59bX/AL4b/wCKo/4WHrX/AD62v/fDf/FVg0U/Zw7Bdm9/wsPWv%2BfW1/74b/4qprrx3rEEFvKtvbEzQl2yjcHey/3v9kVzdWtQ/wCPSx/69T/6NkpOnC%2BwXZqf8LD1r/n1tf8Avhv/AIqj/hYetf8APra/98N/8VWDRT9nDsF2b3/Cw9a/59bX/vhv/iqP%2BFh61/z62v8A3w3/AMVWDRR7OHYLs6S%2B8d6xazrElvbEGGN%2BUbqyKx/i96h/4WHrX/Pra/8AfDf/ABVZesf8faf9esH/AKKSqtJU4W2C7N7/AIWHrX/Pra/98N/8VR/wsPWv%2BfW1/wC%2BG/8Aiq5DxZ4v8J%2BAvDt14v8AHXijTtF0mxQPe6pq17HbW9upYKC8khCoCSBkkckCuB/4bd/Yv/6O7%2BF//hfad/8AHqxq1sFQly1Zxi/OUV%2BckengclzzM6bqYLC1asU7N06VWaT3s3CnNJ21s2nboe2/8LD1r/n1tf8Avhv/AIqptR8d6xZ6hPaR29sVimZFJRskAkf3q8M/4bd/Yv8A%2Bju/hf8A%2BF9p3/x6uz8I/Gr4N/GfUNVv/g98WvDPiyCzvCt5N4a163v0gLligcwOwXcASM9cHHSpp4jAVqihTqRk%2BylFv7lJv8DTF8P8Q4Cg6%2BKwdanBWvKdGrCKvorynSjFXeivJXeiuzuv%2BFh61/z62v8A3w3/AMVR/wALD1r/AJ9bX/vhv/iq8R%2BL37XHwl%2BBnxGt/AHxJl1Sxjfwpc69dazFod3cWlrbxXVvbBXkhidQzPP0z8u1c/6xMx%2BLf2w/gt4VtdQS91jULK8s9DudRiXXvC%2BrWFs5h086g8DTvZkCdbYGV7dQ9wipJmEtGyjo5KfY8i7Pcv8AhYetf8%2Btr/3w3/xVTad471i81CC0kt7YLLMqMQjZAJA/vV4hof7XfwH8Q%2BKpfA%2BleKL%2B41WCS8geG28M6k8Ulzaw%2BdcWsM32YRz3CxfvBAhMrJ8yoRWj8SvjN4v8EeNvCPgT4W/Du08TeJvEr3V1ZadquuNpdvHa2iRtNI8wt52Vt81vGqeXy02WKhSaHCnbYLs9Y/4WHrX/AD62v/fDf/FUf8LD1r/n1tf%2B%2BG/%2BKrxqD43eKPHXwT8H/GL4G/DiDXI/GWm2epW8eva8ul2%2BnWNxZm6E91KIp3UAbI9sUUreZKuQqB5E87%2BDf7eb/Gv4jaD4L0bwn4R0aHWvDWi6xHD4j%2BIP2bVrhL%2B3edks7FbNxd%2BUqfeEyBgQflFHJT7Bdn1T/wALD1r/AJ9bX/vhv/iqP%2BFh61/z62v/AHw3/wAVXyh4C/4KAyfEzwP/AMJt4I8AeHdTTWtQ0e18GWdh8QYZ5p21KZxANTjS3MmluLdRdMoW4/dllUs6lCXv7fesW2k65qcHwYgc%2BANJvNT%2BKsb%2BKCv9i2ttqN5ZSPZn7Kft5YafezoHFtmKJMlXfYq5aXYNT61sfHesXU7RPb2wAhkfhG6qjMP4vaof%2BFh61/z62v8A3w3/AMVXhMn7Rnxc0L4uTfDKf9nqKW51TQvEF34Ngh8YQm71FdPMUPm3URhEdlbzG4jdJRNMwVlDxpI3lDzib/go9Znw1aT2PhjwTJql7rmqWdlfXHxPjt/Dl/bWENq81za6tJaATgzXtvaBfJX/AEgTKWCxFyctO%2Bwan17/AMLD1r/n1tf%2B%2BG/%2BKo/4WHrX/Pra/wDfDf8AxVfNVz%2B2skvxc8RfDXRfB%2BhTJ4Xt5RqsV345t4NWM8elLqLtDp/lsZ7VRLDbtcJKSJnfETJGz1J8LP2yh47%2BAVx8cNS0fwhcySJZRaRoPgbx5/bc1xqF0ieTp0zNaW4t7hpJYo9pDBdxdiqqTT5aXYNT6R/4WHrX/Pra/wDfDf8AxVTW3jvWJ4LiVre2BhhDrhG5O9V/vf7Rr5hsP2xfHV98Nvhz8Zz8CYYfC3jjSvCk91eS%2BLF%2B0291rk0MKWtpbrbk3ht2njeV5Db5jbdGJCrItT4S/t8av8UdP8dweFPg7ZanqXhzwy2oDRtH8ZRT3VlKuoC2%2BxauskEY0u6Gx5GiBnYJDPt3sirInGnbYNT6j/4WHrX/AD62v/fDf/FUf8LD1r/n1tf%2B%2BG/%2BKr5g1r9um3tY/h1ZaN4P0Eap458IWXiK40/xB45h0sW8NyYVitLWSWEi9u3aSURxHyVYW7lnjyoO34s/a6f4f%2BI/izp/jr4W3dhp/wAM/Bmn%2BI7O6TVYZZ9dgupNThVEiUbYCZdMZU3yEsJkLCLBFPlpdg1PoT/hYetf8%2Btr/wB8N/8AFVs%2BEvEV7r32j7ZFEvlbNvlKRnO7rkn0rw/9n74t6l8ZvBM3ivU7Dw1E0OpSWsc/hDxjFrun3IVEYvHdJFEchnaNkeNGV4m4ZSrt7D8Nv%2BX3/tn/AOzVFSEFC6Q03c6iiiiuYoKKKKACiiigArmfEHjLVNJ1ebT7eC3ZI9u0ujZ5UHs3vXTVwfjP/kZbn/gH/oC1rSipS1E9i1/wsPWv%2BfW1/wC%2BG/8AiqP%2BFh61/wA%2Btr/3w3/xVYNFdHs4dibs3v8AhYetf8%2Btr/3w3/xVH/Cw9a/59bX/AL4b/wCKrBoo9nDsF2dJqPjvWLPUJ7SO3tisUzIpKNkgEj%2B9UP8AwsPWv%2BfW1/74b/4qsvXP%2BQ1ef9fUn/oRqrSVOFtguze/4WHrX/Pra/8AfDf/ABVH/Cw9a/59bX/vhv8A4qsGin7OHYLs6TTvHesXmoQWklvbBZZlRiEbIBIH96of%2BFh61/z62v8A3w3/AMVWXof/ACGrP/r6j/8AQhVWl7OF9guze/4WHrX/AD62v/fDf/FUf8LD1r/n1tf%2B%2BG/%2BKrBop%2Bzh2C7N7/hYetf8%2Btr/AN8N/wDFVNY%2BO9Yup2ie3tgBDI/CN1VGYfxe1c3VrR/%2BPt/%2BvWf/ANFPSdOFtguzU/4WHrX/AD62v/fDf/FUf8LD1r/n1tf%2B%2BG/%2BKrBop%2Bzh2C7N7/hYetf8%2Btr/AN8N/wDFUf8ACw9a/wCfW1/74b/4qsGij2cOwXZ0lt471ieC4la3tgYYQ64RuTvVf73%2B0ah/4WHrX/Pra/8AfDf/ABVZen/8el9/16j/ANGx1VpKnC%2BwXZvf8LD1r/n1tf8Avhv/AIqj/hYetf8APra/98N/8VWDRT9nDsF2b3/Cw9a/59bX/vhv/iqmTx3rDafLdm3ttyTRoBsbGGDk/wAX%2ByK5urUP/IFuP%2BvqH/0GWk6cOwXZqf8ACw9a/wCfW1/74b/4qj/hYetf8%2Btr/wB8N/8AFVg0U/Zw7Bdm9/wsPWv%2BfW1/74b/AOKo/wCFh61/z62v/fDf/FVzd/qFhpdo9/qd9DbQRjMk08oRFHqSeBXl/jv9uj9jf4a708ZftOeCbaWP/WWsPiGCedfrFEzP%2BlYVquDw0b1pRivNpfm0c9fGYbCx5q9SMF/ekl%2BbR70/jvWF0%2BK7FvbbnmkQjY2MKEI/i/2jUP8AwsPWv%2BfW1/74b/4qvkq6/wCCxn7A72SWmjfE3WdUSG5l3XWm%2BC9TkiJKoMBvs4z0PSqv/D3z9je4%2BTR7rxpqMn/PGy8Bagzf%2BPRCvOWd5B/0EQ/8CT/K55v%2BsuQf9BdP5ST/ACufX/8AwsPWv%2BfW1/74b/4qj/hYetf8%2Btr/AN8N/wDFV8gf8PXvgnJ81p8CvjNcR/wyw/DW5Kt9MsKP%2BHq/wpk4sv2a/jlct/cg%2BGU5P6uKf9t5H/z%2Bj/5N/wDIC/1kyP8A6CI/dL/5A%2Bv/APhYetf8%2Btr/AN8N/wDFVNdeO9Yggt5Vt7YmaEu2Ubg72X%2B9/sivjW8/4KiW7wNN4f8A2E/2hbtV6z3Pw8FrAv1kknwPyrnPEH/BWj4htFbwaL%2BxXeQtFCVA8UfE/RdIz%2B8c8%2BbIdvXHPpWVTP8AI6dr1PujP/5BHXhszoY52wkKlZ/9O6Nep/6RQkfc/wDwsPWv%2BfW1/wC%2BG/8AiqP%2BFh61/wA%2Btr/3w3/xVfnlqH/BWX47wZab4HfBvTCekN/%2B0toUrr9RE3P4Vz%2Br/wDBZb4w6IC954D%2BDDAdrT4vxXJ/8gxtmuafFOQQ3k//AAF/5nuYfKOKsW7UMnx0/TA4v9aCP0t/4WHrX/Pra/8AfDf/ABVdN4f1GfVtIh1C4VFeTduCAgcMR3%2BlfkNcf8F3firNef2Zo/wq8A3Nyfuw2es6pdk/Qw2ZB/Ov0m/YL%2BM/i/8AaE/ZP8J/GDx54Wg0XVdYF8brTbaKdEiEV9cQoQLhEkG5I1b5lH3uMjBOmC4gyjNqrpYSTckrv3WlbbfbrsdWM4f4qymkq2Z5ZisLTeilXw9SjFvdJOoo3bSbso7J6nr9FFFeoeYFFFFABRRRQAUUUUAFFFFABRRRQAUUUUAFFFFABRRRQAUUUUAFcL8Kvj94X%2BLnjrxr4B0Pwzr9hdeBtWisNQn1vTfssd40kZdZbYM3mPF8rAO6IHxvTfGyO3dV4n8KvAn7S3hX9o74gfEPxP4E8Cp4d8YXmnm0msPHN5Ne28VpB9nDPA%2BlpGWdfnKibCn5dzD5qAOj%2BDv7TGh/F/xfeeBpPhr4u8K6lBodtrVjbeLdPgtpNQ02eWWKO5SOOaSSH5oSGhuVhnTcu6JSSB5X%2B1hq/wDZv7fP7P8AZ7sf2h4V8cW%2BPXCaPL/7Trsf2Tfhd8fvBms%2BIfHH7SPhnwlJ4s8TCKTWPEvh7xjd6iZRG8hg0%2BGCfTrUWtlbrLIIkV3ZmeSR90kskjeW/t0apc6J/wAFFf2T9QQJ5Mx8cWkpdAw3SaXalBggg5KV5%2BZT9nQhL/p5S/GpFfqfbcA4dYrOq9J9cJjX92Eqy/8AbT26irX9sXf/ADxtf/AGL/4mj%2B2Lv/nja/8AgDF/8TXv6nwpVoq1/bF3/wA8bX/wBi/%2BJo/ti7/542v/AIAxf/E0agE3/IFt/wDr6m/9BiqrWnLqt0NIgk8q2ybmUH/Q4scLH2247/5xVb%2B2Lv8A542v/gDF/wDE0lcCrRVr%2B2Lv/nja/wDgDF/8TR/bF3/zxtf/AABi/wDiaeoFWrWof8elj/16n/0bJR/bF3/zxtf/AABi/wDias32q3S21mwitvmtiTmziP8Ay1ccfLx07Une6AzKKtf2xd/88bX/AMAYv/iaP7Yu/wDnja/%2BAMX/AMTT1Aq0Va/ti7/542v/AIAxf/E0f2xd/wDPG1/8AYv/AImjUA1j/j7T/r1g/wDRSVVrT1XVbqO5VVitv%2BPaE/NZxHrEp7rVb%2B2Lv/nja/8AgDF/8TSV7AYnizwh4T8e%2BHbrwh468L6drWk3yBL3S9Wso7m3uFDBgHjkBVwCAcEHkA1wP/DEX7F//Ronwv8A/CB07/4zXb/Fn43%2BCvgb8O9U%2BK/xS1m10vQNGhWXUr/%2Bx/P8lGdUB2QxO7fMyj5VPX0rwH/h9l/wTi/6OLtf/CB1P/5Bry8fisko1UsbKkpW05%2BS9vLmTdr/ACNI8Y1uHF9XhmUsMpe9yqvOlfpzcsasE9rXs3pa/Q9H/wCGIv2L/wDo0T4X/wDhA6d/8Zrs/CPwV%2BDfwY1DVbD4PfCXwz4TgvLwteQ%2BGtBt7BJyhYIXECKG2gkDPTJx1rwX/h9l/wAE4v8Ao4u1/wDCB1P/AOQa9c%2BAX7bP7Pf7XZ1zWP2dPiBbeIrTRrxI9Qlbw5PamIy72jz9qt42bIRjkZ6c1lg8Xw/VxKjhZ0nPW3L7Pm87cqT238hy48r53H6nLNp11L7DxFSonbX4JVpp23%2BF2303OV/aP/ZU1P49eLrPxJp3xGt9GhXw3Po%2BpWs%2BhNdtPG9/Y3qPG4uIhEyvZBTuWQMshxtK5Pnfxr/4JsX3xd%2BIGveP4vi5otld6vqOqzwahd%2BBBd6lDbX%2BhXOkS2T3n2tHkt4luDLDGgjRGXDrKfmHt/xV/au8I/B/WdS0DxToN7Jd2PhuHV7GGz0q1Y6t5l4LMWlruZd9wJ5LVCr7EzeQfOdzbfM/GH/BSXwrJ4j1L4a/D3RrVfE%2BkeLNE0%2B5t9Wj024jls7nxLYaNdyiOzuXmt5EW83ItysLEujeW6q6j13bqZ6m14e/ZF1LwpqWj65ovxLg%2B2aJ471jxPatdaCzxPLe6Zc2Kwuq3CkrGZxISGBcJsGzdvHY/Ez4N%2BNPHvjTwl49%2BG3xHsvDPirw691bWup3/h86jbSW14kazxtbi4hOfMht5UbzPlaEAh1YivKrj/goze6z4T8NXfw6%2BH11qlxqXiPwjYa3r114atINO09dY1a3tmhkjF28yT/ZpHkTZ50SM8O9ju2H1r4r/Gr4g%2BFdE8I23gvQdN0zxF4x8YafomnDxFpcVxFpzzM8kss0drKvm7IYZSEjmXc%2Bwb1BJA2uVhrc4Xxx%2ByZ4s1P4B%2BF/2bfh78UdK0vwt4ai0ywksNa8MT341fSbOz8gWF4Yr63aRJJVikkKlFdEMLo6SPut%2BLP2bviX4/1fSE8YfFrw%2BdFtdX0HVtT07SvAf2W4kvNKu0u4Ra3Ju3NvbvLDFujlW4cIZVSVRJ8u18OvjN8avih8Cb7W/D1l4Pg8Z6b4l1LQbu4v9NZdLElhq0tjPeiJSZShihe4S380EkrE0y8yjxy3/bx%2BOMkmhalr%2Bv8AgzQ/C09lr1zf%2BPl%2BE2panpt/b2WpxW1vex/Z7sDTrSWB5JvPnkki2oJBIY2DEbXYDX0L/gnxfeHbPRo9J%2BLdjbz%2BBtJ0rS/hrLb%2BEti6baafefaIVv1F1/xMHZAIXdDbfK8rKEeQsJb79gLVLnSNb0uD4zxRnx9pV5pvxVlfwzu/tu1udSu76RLQfaR9gK/2he26F/tGIpVyGdN5t/Fj9ub4p%2BGviz4o8OfDL4b6Rrvh7w78L/FGrWlz/Zxe51XX9Im0tJLWHywQbaMah5UhVHkadJI12mBhJV0H9sz4peL/AAF4w1jwv8XfhBNa%2BAtWH9vfEQeGp5dIubB9Njuo2trSO6JeXz5Dbti7YDyiQGdvKQ07BqdX4V/Zn%2BN9j478eeMj%2B0Foyah4vS8Njrlt4HlGqaVboJGsLJJpdQkha2gHDxLBGJmeaQlJJWeucv8A9iLxhe6rqnxIHxb0D/hONc1HVJNT1ObwI0mlra3%2BnafYTwQ2LX2%2BNjHpdo/mtcOS/m7lZJNi9D4f%2BPH7TN346%2BHC63P4I0G18W%2BGJde8WeE9U8Gyi%2B8O2Fvpscl/vvxfLEzpeXFvAM24AWYkhhExbH%2BH37WPx9%2BMFt491Xw7YeA/Cmk6Hq1hcaHrPizSpGW18PTWf2hr%2B7iDxb5XVfMWLfbiKOZfMYvEystL7AQ6D%2BwVbeEtc0y08K/E4WvhvTdYttbSzl8PpNqbapBoK6KkxvXlMZiMCJI0TW7M0gcGTy3MYv6L%2BxFpfiLxXcfEH4%2BeN313XRa6VbaXd%2BCRf%2BFY7FNPi1CKKVRZ3zSGZk1O7R28wIUZEWNQnPIeC/8AgoN8U/FXi/wt4b1238J%2BGlk0bQL7xBLq3grUJItQ/tTUbq1g8qeLKaQHhtlmhF4JPNku4oMqyO9dN8Av2mPjt8ZLbWNA1n4g%2BCfD/iryry40vQ9U%2BDmpWwtrW31EwNceZcX0aalGI9is9uUWOSeMscERs012DUqfC39ib4i/CO5%2BGtjonxw0fVtG%2BGngvT9D0nTvE/hK9vpI7mNGjvNRgkOqKIZ542ESb0lFrEpiiwjyK%2Bj8Nv2MPH/w78N32n%2BH/jVozz6R8PH8JeELi78FSMLbTpL63lke/CXyG/udsSqsqtbqHaSQoxkZTwr/ALfvxw0rRfDDeJ9f%2BH1g%2Bs%2BHdR8WSa/cfDrUjYvoS3kcOntLHbzzvpyzQM1xNezO8VqCitG5YkegfCj9sn4gfE34weLvB2jXHg%2BO0tLvXtJ8NeHtT8OX1lc317pdyluz/wBp%2BW9pOGmjnZ7eOMywwtHKd%2BCtJtW2Hqc7qv7BHivX/hVpXw51j4x6IbkfDRvAHiXVrbwO6tf6H8gQ2yvfObO7QK5ExeWPdJuMOUQL0Pj39knxx8UviD8RtZ8d/FbQpvDnxC8DWnhibRbLwZLHd2NvaS6lNazC5kvpI5ZVfUnL7rcI/lIAqZbONrv7cHxf8O/sXN8V28M%2BFNS%2BJV1/b9vpWlWmlNHpryabcXiS3ciF2lW2igtTK48wF2KRKyvMldHqv7X3juf47/DP4X%2BE/DWhXOla7qX9n%2BO9Vm08ZsrybQL/AFW2tbXHHmhbJZJd%2B7ZFcQYBMu5Hp2FqdZ8Dfg9r/wAMbrxX4l8ZeMLHWtd8Za/HqmrXGk6I2nWaPHY2tlGkVu087L%2B6tIyzNK5ZmPRQqr7N8Nv%2BX3/tn/7NWD/bF3/zxtf/AABi/wDia6PwBeS3f2vzUiG3y8eVAif3uu0DNKpf2bBbnR0UUVyFhRRRQAUUUUAFcH4z/wCRluf%2BAf8AoC13lcH4z/5GW5/4B/6AtbUPjJlsZdFFFdRIUUUUAWtc/wCQ1ef9fUn/AKEaq1a1z/kNXn/X1J/6Eaq0lsgCiiimBa0P/kNWf/X1H/6EKq1a0P8A5DVn/wBfUf8A6EKxPE/i7wp4J0qTXvGfifTtIsYgTLe6nex28SDry8hAH51MpRjdydkKUowjzSdkjRor5p8V/wDBU79nuXxBL4I/Z88O%2BK/i/r0TbZbH4c6E95BB/tSXLbYgn%2B0rOKp/8Neft%2BeJvl8A/wDBMTVIY2%2B7d%2BKPiRp9js92i2lz9Aa8t55lnM1Tm52/kjOf4xi1/wCTHjPiDKuZxpzdS3/PuE6i9Lwi4/8Akx9RVa0j/j7f/r1n/wDRT18pSX//AAWD8eIYLPw/8EfAVtKMPPd3eoanewA90CDyWYejcGn6V/wTGm%2BLt2b39tT9qrx98Tna3leXQ7fUDomihhGzcWloQcgjGQ4yOoqJZliqyth8NN%2Bc7U4/i5SfyiL%2B1cZXdsLhJvzqWpR/Fyk/lA9q8dftKfs7/DEunxG%2BO3g/Q3T70Wq%2BJLWB8%2BgV3DE%2BwGa8o8T/APBWr/gnr4VuPsV1%2B0fYXsxOFj0bSb2%2B3H2aCF1/Wug8C/8ABN39hL4dBP8AhG/2WfCEjR/ck1fTf7Rce%2B67Mhz75zXcX%2Bvfs6fs/WO3U9Z8FeCbYJ0nuLPTU2/iUGKU5Z5y8050aa/7fl%2BLdNG%2BHwnFmYVVSoRpqT2jCFWrL5Jct/lE8Sb/AIK6/sq6gvl%2BB/DvxF8UXDcQWegfD69klnPZUEioCT7kU1f2zP22/iKfM%2BCP/BNvxFBZNyuo/EXxTa6K6jtm1YNJ%2BR4ro/Gn/BU79gTwNIba%2B/aR0bUZ922O38PQT6k0rdlU2scikn649654f8FLtR8ZHb8CP2IfjN4tjP8Aq9Sn8MDTbGQdts878/iorzJ5hCUuWpmKb7UoRb/D2z/Bep9ph/CLxYxtJVa9GrRpv7UqVPCx/wDA8VUh%2BCbLFl4l/wCCyWu291daN8Nf2ftCiEAMtrrusatdSlfMThWtsLnOOvGM1AdX/wCCyh/0YeEf2dA7dLk3%2BtmNfcr94/hU9n%2B0Z/wU88YW93H4K/4J7aD4bikgAF94w%2BJ1tMAvmJhjDbIHHOBjOearnwD/AMFcfH/yeJPj98I/h/FJ/F4R8LXWqzxD6XxCM36VHMpv91LFzfkuVf8Ak8IJfcb/APEI8Vh9cwz6hQ73x1OpL/wDDUMQ/kpXFPgL/gr14j%2BXWPj58GPDYb7zeHvC99eFPoLogH8aQfskf8FCtVP2zxD/AMFRr2Kf%2BCHSfhTpkMUfty%2BX%2BppU/wCCdvxV8Vn7Z8Xv%2BCj3xu1C7PU%2BEtbh0G3J7/uYY3GPbPFKf%2BCV3w3vPl8Q/tTfHjV4z9%2BLUvidMyt9dsa0/qWOqauhVf8AixVvwgl%2Bov8AiH3hvT0xPElWo1vyUMbJfJurQT9XCPoRz/sl/t/W0LNe/wDBVrUI7VRmRm%2BEukowH/XTzOK5bW/gtqun2c1t8W/%2BC2Wu2YE8fm21lrGkaO54fkEOSuOn/Aq6%2BD/gj7%2BwnPMtz4t%2BHuueI5VOQ%2Bu%2BNNSl59SFnUH8q7jw5/wTW/YK8OaJL/Z/7KXg2UpcRKrahpQu2AKyZGZy57D8qTyjHz/5dRX%2BLEV5fhHl/MP9UfBqh/Fx%2BYV/KNONNffVxk3/AOSo%2BaNY%2BEv/AATctFaf4j/8FV/GniaQf6xr/wCO8Vyx9RttwCB7VxevWX/BDLR5BDffHrxbrt652xpYeItfvJZT6Awrt/UV926N%2ByF%2Byd4ddZNA/Zi%2BHtk69HtfBlijfmIs12eheEfCfhaPyvDPhjTtOTGNthZRwjHphAKf%2BrtafxU6C/7cqz/9LqB/YngZQ1WW4yv/AI62Gh97jTrP9T80rPwJ/wAE4fEF3HN8Pf8Agnx%2B0J8SyjZtWmsNVNgp/vM810gAP%2B0pHtXqHgPw18VdB2P8Bv8AgiJ4N8PqMeTrPizxLpMNwvpuTymn/wDH6%2B7qK2o8MwpS5vaKL/uUqUfxcakvxOihj/DTK5c2XcL4e/8ANXrYis/uj7CP6HzHFrn/AAWHn0S3/sr4W/s%2BaPZrNILexvNW1aWSL5UyCYRsxjbjHvUf2b/gshrf%2Bj3Gp/s76HH3ubSHWrmX8Ff5fzr6qm/5Atv/ANfU3/oMVVa9BZQ2tcTW/wDA7flBfgen/r/CH8PJsvj2/wBlcrf%2BBYl3%2BafofLx/Zl/4KQeNjs%2BIP/BQ6x0K1P8ArLLwV8OrVXb6XE7b0/AUD/gl9oevDzvif%2B2V8d/E0r8zRXfxBaG2PssUUY2D2Br6hop/2Flsv4qlP/HOcvwc0vwD/iKHGFHTBTpYZf8ATjDYWl/5MqE5/wDk9/M%2BY7P/AII/fsEm4W98T/CvVPEFyvIudd8YalOxPuBOqn8q7O3/AOCZ/wCwPoVnZCw/ZU8INm2JY3Wn%2BeWPmOMkyls8AflXtNWtQ/49LH/r1P8A6Nkq4ZJk1J%2B7hqa/7cj%2BqZyYnxL8RcYrVs4xTXb29VJeijOCXySPI9P/AGHv2MdLwbH9k34bqR0dvBNizfm0RNdDo/7O37P3h4htA%2BBfg6xI6Gz8MWkWP%2B%2BYxXY0V1wwOCp/BSivSMV%2BUTw8RxLxJi1avjq8/wDFWrS/Oq/yK%2BnaTpejwfZdJ023tYh0jtoVRfyUAV6J4M/5Fq2/4H/6G1cHXeeDP%2BRatv8Agf8A6G1XWSUEkeRzSnJyk7t99TUooormGFFFFABRRRQAUUUUAFFFFABRRRQAUUUUAFFFFABRRRQAUUUUAFFFFABXx5/wUyT%2BzP2kv2XPF3TyPideafu9PtViUx%2BOyvsOvkD/AIK7D%2BzbL9nvxavH2D9pTw3HK392KVLpXP6CvLznTLpS7OD%2B6pTP0Dwv97jahS/5%2BQxMP/A8Ji1%2BiPb6KKK%2BkPzsKKKKALU3/IFt/wDr6m/9BiqrVqb/AJAtv/19Tf8AoMVVaSAKKKKYBVrUP%2BPSx/69T/6NkqrVrUP%2BPSx/69T/AOjZKT3QFWiiimAUUUUAWtY/4%2B0/69YP/RSVVq1rH/H2n/XrB/6KSqtJbAFFFFMAq1rn/IavP%2BvqT/0I1Vq1rn/IavP%2BvqT/ANCNLqB518V/2efAfxj8beDfHniyfUEvPBOqNe6fFZzokV3lopRBcBkYvEtxbWlyFUqfNs4TkhSredWn/BOv4X2mqaJff8LT8cSW/h64jbSdMkvLD7PDbx63Y61HbYFmGZBd2EX7wsZnR3V5X%2BQp9AUUWTC54NpH/BPn4XeH4tI07QviR4ztNN0zUdB1C40mK9s/I1K70e7S5tJ7gm1LlsxxxusbxoyIvyh1Dj1LxV8G7D4neH9H8H694z1qG903WrLUNM8TWRtUv7S8gmV47hAYDAW6qytC0bI7KyEMRXT1a0P/AJDVn/19R/8AoQpNJRY76njutfsj%2BGdX%2BBd/%2Bz/b/E/xZY6Rq3nPq95ayWLXV9cXGoNf3s8rS2joxupJJkmj2eSY53RY0BBDPGH7J7ePfBQ%2BH/iv9of4gXGl3Gk3Ok61awy6XbR6tp04VXtZY4LBI4gEDRrLbrDOFkYeb93b63RTshHkmqfsP/s2XHxMX4weG/hvpvhnxGuga1pn9seFdNttPui2pmAz332iKITLeKIGEc4cMoubjO7zMjO1n9iTQ9cis7y8%2BO3jo6xB4uXxJf6866PLNqd/HaJaW7zwy6e1rtgijTykjhQJIgl5lG%2BvbKKLIDlvD/wO8MT%2BNLjxj4u1S98R3d34Cbw1qCa5FbPBeWqrO8skkMcKJ5k5kxKFURsEQCNQMHy/Xf8AgnR%2BzxMmux/Duwk8CL4j1jS7/VYvBujaTbwzCwX9zbNFLZSxvbmTbM8bqwaRAcgblP0Ho/8Ax9v/ANes/wD6KeqtKybHc8m8Sfsj%2BHvGeq2ms%2BLvir4t1CZodOh8SBzp0S%2BJI7C9kvbJbxYrNAgillkH%2BjeQXRtshkAGHD9kzQLu/wBX1PxL8W/G2tXF/wCFtV8PaTPqmo2zy6FYajJHJcpayLbq7uWgtsSXLTuot4xnG7d6vRTshHlfxT/ZG%2BH3xT0Cy8Mz%2BJde0Szg8KT%2BGNRi0Ka3j/tTRZljWWwnMsEm1GEQAkh8qVNz7JE3tmzpn7JXhC08Yah460fx94lsPs7ajqGgaRbPZGz0PU7/ABFc6hbLJbM7TN5s7bZ3lhDTyERfNgel1a0//j0vv%2BvUf%2BjY6TSGeC2v7APwQ1L4N3nwV%2BKktz4/sZTqp0vVPGejaRcX2jNqDvJctZyRWMaxM0rmQMVYhlT%2BFVUarfsMfssx%2BK/BXjnTPgx4bsNY8C6nBfaXqWn%2BHbGKe4eHTprCFJ5BBudI45VkQKV2yW0DAgRhT63RT5UK4V1Hw2/5ff8Atn/7NXL11Hw2/wCX3/tn/wCzVFX%2BGxrc6iiiiuMsK5r4zDxmfg/4rHw5Mn/CQ/8ACNX39g%2BV9/7b9nfyNvv5m3FdLRQB8F/BdPgxrnw7%2BK3gH9nb4iWPhbw3rv7OmkW82q6BG8klr4l%2By6z9vuPIt/382pw27WL3SqPtXFuGw5WuT034g/s56J8PvE58e%2BA/g3deFdX%2BIVjZfCfwvp/ihD4FfWjoQF7ctPPHBbTWsMeZpXEBCTiSONXu%2BX/SCigDjf2dPD%2BneEv2fvA3hLSfiQPGNtpPhDTbKDxaLpZ/7aWG1jjF75iswcy7fM3Bmzvzk9ab4tj0tvEFwbi8uEf5NypbKwHyL3Lj%2BVdpXB%2BM/wDkZbn/AIB/6AtbUfiFLYq%2BTov/AEELr/wDX/45R5Oi/wDQQuv/AADX/wCOVVorpt5kFrydF/6CF1/4Br/8co8nRf8AoIXX/gGv/wAcqrRRbzA09Yi0g6vdGW%2BuQ32l9wW1UgHce%2B8Zqt5Oi/8AQQuv/ANf/jlJrzpHrF67sFVbmQkk4AG418tfFD/goLe%2BMfGl18C/2D/h%2BvxQ8Z27eXqetLMU8O6AScb7q7BAlI5PlRHLYYBtw2njxWNw2BpqVWWr0SWspPtGK1b9Fp1aWpx43MMJl8FKtLV6JJNyk%2B0Yq7k/Rabtpan014g13wL4S0W58SeKvFq6Zp1nEZLu/wBQWKGGBB1Z3eUKo9ya%2BaPFv/BS/wAD%2BNdZufAP7D3wp8T/ABn8QQSeVNeaTZiy0Kzf/pvqMzbB1BG0MrDowqj4e/4Jy6v8XtatviB/wUA%2BNeo/FDU4ZRNa%2BEbQtY%2BG9OfsI7WMgzkdPMkxvH31NfRtrafDz4ReDBb2Vto3hjw9pUHCRpFZWdnGPYbUjX8hXC3m%2BMV7rDw87SqW/wDSIfNzaOCEc%2BzSajTj7CL0SsqlV32sleEW%2Bi/eS8r6Hz3ov7O3/BQz9o7UIH/aG/aytvhZpFxOg/4Rf4N2H%2Bm7SwwH1O4bzIpB3MaspPIHatPw1/wST/YV0/VE8R%2BP/D/iXx9q6f8AMV8e61cajK/ruQzrE2fdKd4i/wCCqf7LmieL4vCHwek8Q/FfxJFOhTQfhjocmpu53cfvlxDtJ7q7Y64rnjr3/BUv9pAFPD/hfwn8BfD0/AvdYkXXNeKHoyQri3jJHJWTDKcc15TjkE6loxliqi9auvm3alH8Ldj9Bw3grmEKccVnsIYWD19pj6nLJrvChLmrS8lTwsU%2Bkj6A1vX/ANmT9lzwFG%2Bt%2BJvD3gHw3anZbxvbWunWqn%2B7GgkVS3T5VGT6V4vq3/BWH9j2%2Bv5dD%2BCw%2BIHxQ1KJtrWPw%2B8A3F4Q3Yb5GjQj3DEVP8M/%2BCZP7PXhvxGnxH%2BNNxrHxZ8YdZPEXxGvTfhD12xWzfuY0B%2B6CrFcDDV9BaTo%2BkaDp8ek6FpdtZWsK7Yba0gWONB6BVAA/CvVhTzuvG0XChHore0kl/5JTXok0j3P%2BNXZHFUoQxGYTj1Uo4Oh6RioVsQ4%2BbdJvpGOx8zP%2B0r/AMFGPihJt%2BDP7Cen%2BFbJ/wDUaz8UvFscTH/esrXMyf8AfRq5pXwc/wCCrHxCmZfF/wC2J8PPAHmQSGVPAvw/bVCqbG3KrahIpztyAeozX0tVrR/%2BPt/%2BvWf/ANFPVPKJVF%2B/xNWXpLkX3QjH/wBKD/X6jhNMsyjBUF0cqLxE/nPE1Kib/wC4SXktj5d/4dl2vjT978fP27Pjf4v3f67T7fW00zT5PXNvbnj8GroPBP8AwSq/4J1%2BBpvtln8AbLU7ktulufEccuptK3dmF1cOpJ%2BgFe8UVUMhyiEuZ0VJ95e%2B/vm5mGI8TvEDEUnRjmVWlTf2KLjQh/4Dh4UF99/UyPBfwf8Agf8ADeIQ/DvwFpGgoowqaL4atrUAemIitdD5Oi/9BC6/8A1/%2BOVVor1IU4U48sFZdkkl%2BCR8XiMVicXVdXETlOT3cpSk36uUpN/NmnYxaQLa82X1yQbYbibVRgeanT5%2BecVW8nRf%2Bghdf%2BAa/wDxyjT/APj0vv8Ar1H/AKNjqrTS1ZgWvJ0X/oIXX/gGv/xyjydF/wCghdf%2BAa//AByqtFO3mBa8nRf%2Bghdf%2BAa//HKsxRaR/ZE4F9c7ftMWT9lXIO2THG/61mVah/5Atx/19Q/%2Bgy0mgDydF/6CF1/4Br/8co8nRf8AoIXX/gGv/wAcqrRTt5gWvJ0X/oIXX/gGv/xyjydF/wCghdf%2BAa//AByqtFFvMDTli0j%2ByIAb652/aZcH7KuSdseeN/0qt5Oi/wDQQuv/AADX/wCOUTf8gW3/AOvqb/0GKqtJIC15Oi/9BC6/8A1/%2BOUeTov/AEELr/wDX/45VWinbzAteTov/QQuv/ANf/jlWb6LSDbWe%2B%2BuQBbHaRaqcjzX6/PxzmsyrWof8elj/wBep/8ARslJrVAHk6L/ANBC6/8AANf/AI5R5Oi/9BC6/wDANf8A45VWinbzAteTov8A0ELr/wAA1/8Ajldr4SEC%2BH7cW8junz7WdApPzt2BP864Cu88Gf8AItW3/A//AENqxrL3So7mpRRRXMUFFFFABRRRQAUUUUAFFFFABRRRQAUUUUAFFFFABRRRQAUUUUAFFFeafCr9oHVfHnxD%2BJPgjxd8OJPDMPgDUreGG8utWjuH1G1lgMq3TRxLtgBCllTe7bGQv5blo1APS6%2BQf%2BC1P%2Bg/su%2BE/FXT%2BwvjB4bv9393bcsmf/H69Y/Zp/as1346avZ6X4u%2BFsXhg6/4HsPGHhTydeN813pN07KBcL5EX2a6j/cmSJTMg89Qsr4bHlf/AAXMtpm/4JueMtWtVzNpeq6NeQ/VNSt8n8ia8vPP%2BRPiH2g391pf%2B2n3/hU1/wARLyeD2niKcP8AwY5U/wD3Ie1UVHa3MV5ax3cDZSWMOh9QRkVJX0m5%2BetNOzCiiigRam/5Atv/ANfU3/oMVVatTf8AIFt/%2Bvqb/wBBiqrSQBRRRTAKtah/x6WP/Xqf/RslVatah/x6WP8A16n/ANGyUnugKtFFFMAooooAtax/x9p/16wf%2BikqrVrWP%2BPtP%2BvWD/0UlVaS2AKKKKYBVrXP%2BQ1ef9fUn/oRqrVrXP8AkNXn/X1J/wChGl1Aq0UUUwCrWh/8hqz/AOvqP/0IVVq1of8AyGrP/r6j/wDQhSezAq0UUUwCiiigC1o//H2//XrP/wCinqrVrR/%2BPt/%2BvWf/ANFPVWl1AKKKKYBVrT/%2BPS%2B/69R/6NjqrVrT/wDj0vv%2BvUf%2BjY6T2Aq0UUUwCuo%2BG3/L7/2z/wDZq5euo%2BG3/L7/ANs//Zqzq/w2NbnUUUUVxlhRRRQAUUUUAFcH4z/5GW5/4B/6Atd5XB%2BM/wDkZbn/AIB/6AtbUPjJlsZdFFFdRIV5r%2B07%2B1Z8J/2UPBCeLfiRqE015fTfZvD/AIc0yLztQ1m6OAsFtCOXYkqC3CruGSMgHE/bA/a80f8AZn0HTvDnhnw9J4p%2BIniuY2ngbwTYnM%2Bo3B48yTHMdunV5DgYGAepHN/svfsWax4X8at%2B0/8AtW%2BKI/Gvxc1GDH250/0Dw3CQf9D06I8RqoYqZcbmy2MbnL%2BRisbXq13hMEk5r4pPWNNPv/NJrWMPnJqPxeLi8fiKuIeDwKTqK3NJ6xpp7X/mm1rGCf8Aek4x%2BLlL74A/tf8A7eOpTa9%2B2J4guPhj8PbqdpIvhF4S1A/b76MsSE1S9UA4I4aGMAEHkRuua%2BifBXgP4Ofs3fDUeHfBWg6L4Q8LaLbtLKsWy2t7dFGXmldiMnAy0jkk9ST1qt%2B1Z%2B0n8LP2WPB2qfE74q6w0Nul68On6faoJLvU7pmOy2t48gySMe3AAyzEKCR876D%2Bzf8AH/8Abz1e0%2BJP7ccc3hXwBFMtz4e%2BCmmXjKbgA7o5tXmXBkfofJGAvGQh3q3ElQy%2Bv7PDxdbFSSu5PVJ9ZytaEO0YpN292L%2BJfe8J%2BHuEeElnmb13Qwt3F15rnrVpKzdLDU/d55K6vy%2BzoUrp1Z3tGWhr/wC3b8VP2j9dufhx/wAE6fhpH4kWCYwap8U/E8Ulv4d01hw3k8B72Qf3UGB8rYdTmrWg/wDBM7R/iHq8HjX9t742%2BJPjBq8Mgli0rUZjYaFaSf8ATGwtyF4zgliQwAytfSvh7w54f8I6Ha%2BGfCmh2mmabYwiKzsLC2WGGCMdFREAVQPQCrtdUcoWIfPmE/av%2BXamvSF7P1nzPyWx9HV8QJ5RB4bhSgsDT2dVNTxc%2Bjc8S480L/yYdUIJO3NPd0vhb8PvAfw0Ww8MfDrwVpOg6bFdR%2BXYaNp0dtCvzDokagfpV2rWh/8AIas/%2BvqP/wBCFVa9eMYwXLFWS6LRfgfn1avXxNWVWtNynJ3bk3Jt92222/NtvzCiiirMgq1o/wDx9v8A9es//op6q1a0f/j7f/r1n/8ART0nsBVooopgFFFFAFrT/wDj0vv%2BvUf%2BjY6q1a0//j0vv%2BvUf%2BjY6q0luwCiiimAVah/5Atx/wBfUP8A6DLVWrUP/IFuP%2BvqH/0GWkwKtFFFMAooooAtTf8AIFt/%2Bvqb/wBBiqrVqb/kC2//AF9Tf%2BgxVVpIAooopgFWtQ/49LH/AK9T/wCjZKq1a1D/AI9LH/r1P/o2Sk90BVooopgFd54M/wCRatv%2BB/8AobVwdd54M/5Fq2/4H/6G1Y1/gHHc1KKKK5SwooooAKKKKACiiigAooooAKKKKACiiigAooooAKKKKACiiigArxvwH%2Bz/APGrw18bPG/xJ8S/F/wjqmieOJrX7doEHgC6t54YLeHyI41uTqkiljFkMxhwWO4Ko%2BWvZKKAPGf2av2Utb%2BBWr2mq%2BLPiknic6D4IsPB/hMR6H9iaz0m1dmU3B8%2BX7TdSfuRJMoiQ%2BQm2JMtnjf%2BCwmmyav/AME5fidYxlsDRBMwB6iKRZef%2B/YP4V9MV4b/AMFKNI/tz9hX4p6aF3M3gTV3jHqyWE7r%2BqiuPMYe1y6vDvCf/pEj6ngbE/U%2BN8rr/wAuJw7/APK9H/Mn%2BDPjLWde%2BD/hTXRrN0Re%2BGrGfP2hud9ujevvXS/25rX/AEGLr/wIb/GvKf2LdX/t39j34VauWy0/w60VpD/t/YYQ365r0yvTwclVwlOfeMX98Yv9TyeIMN9Sz/GYf%2BStWj/4DVqx/wDbS1/bmtf9Bi6/8CG/xo/tzWv%2Bgxdf%2BBDf41Vorosux5Bpy6xq40iCUarc7jcygt57ZICx4HX3P51W/tzWv%2Bgxdf8AgQ3%2BNE3/ACBbf/r6m/8AQYqq0kl2Atf25rX/AEGLr/wIb/Gj%2B3Na/wCgxdf%2BBDf41Vop2XYC1/bmtf8AQYuv/Ahv8as32saultZsmq3ILWxLETtyfNcZPPoB%2BVZlWtQ/49LH/r1P/o2Sk0rrQA/tzWv%2Bgxdf%2BBDf40f25rX/AEGLr/wIb/GqtFOy7AWv7c1r/oMXX/gQ3%2BNH9ua1/wBBi6/8CG/xqrRRZdgNPVdY1eO5VY9VuVBtoTgTsOTEpJ6%2BtVv7c1r/AKDF1/4EN/jRrH/H2n/XrB/6KSqtJJW2Atf25rX/AEGLr/wIb/Gj%2B3Na/wCgxdf%2BBDf41Vop2XYC1/bmtf8AQYuv/Ahv8as6xrGrxavdRRarcqq3LhVWdgANx461mVa1z/kNXn/X1J/6EaVlfYA/tzWv%2Bgxdf%2BBDf40f25rX/QYuv/Ahv8aq0U7LsBa/tzWv%2Bgxdf%2BBDf41Z0fWNXl1e1il1W5ZWuUDK07EEbhweazKtaH/yGrP/AK%2Bo/wD0IUmlZ6AH9ua1/wBBi6/8CG/xo/tzWv8AoMXX/gQ3%2BNVaKdl2Atf25rX/AEGLr/wIb/Gj%2B3Na/wCgxdf%2BBDf41VoosuwGnpWsavJcssmq3LAW0xw07HkRMQevrVb%2B3Na/6DF1/wCBDf40aP8A8fb/APXrP/6KeqtKyvsBa/tzWv8AoMXX/gQ3%2BNH9ua1/0GLr/wACG/xqrRTsuwFr%2B3Na/wCgxdf%2BBDf41ZsdY1d7a8Z9VuSVtgVJnbg%2BagyOfQn86zKtaf8A8el9/wBeo/8ARsdJpW2AP7c1r/oMXX/gQ3%2BNH9ua1/0GLr/wIb/GqtFOy7AWv7c1r/oMXX/gQ3%2BNdH4Avr29%2B1/bLyWXb5e3zZC2M7uma5Kuo%2BG3/L7/ANs//ZqzqpcjGtzqKKKK5Cwoornvi741ufhr8J/E/wARbLTheTaB4dvdSitDn9%2B0EDyhOOeSuOPWgDoaK%2BWPBXxU/ap0rwt8RPA%2BieO2%2BIPjK1%2BBOkeMvB02oaVZQY1q/j1aMWapbRwRtbGawgaJZCZPnlV5mADLyvw8/aI%2BOXxS%2BN0f7Kug/Grx1pdv/ak14nj3xH4GsNO12W1TSIJvsTWlzYJAhF1MX3taI7Qx7VzkTsAfaNcH4z/5GW5/4B/6AtM/ZS%2BKGvfG39mL4e/GHxTBbx6p4o8F6ZqmpLaIVhM89rHJIYwSSIyzEryflIq34t024uPEFxNHJbgHZgPdRqfuL2LAitqLtIUtjDrz79qf9oPw1%2By38BvEXxs8TIJl0izP2CwDYa%2BvHOyC3XHOXkZQSM4GW6A16X/Y93/z2tf/AAOi/wDiq%2BRfGOnXH7cX7f8AafC6CSC4%2BHXwBuItU8Sk3Ufkap4okU/ZbbJbbILZNztgna%2B9GHzCubNMXUw%2BHUKP8Wo%2BWHq/tPyiryfol1PIzfF1sNhlCh/FqPkh/ie8n5Qjeb9Eup037E/7K3iTwlcT/tU/tK3za58YPGlkkmrXdzHiPw/auAyaXaJkiFIwQrkcswPJHJ9M/aX/AGjfh7%2Byx8I9Q%2BLnxGuXNva4h0/Trbm41O8fIitYF/ikcj6ABmOApI7bxlrOi/D3wlqfjvxnrthp%2Bk6PYS3mpX09/FsggjQu7nDZ4UE4HJ7V8qfs0/Djxn%2B3j8YLH9u7426N9h8FaK7j4J%2BCtSuI0Kxk4Ot3MbN/rpMAxA8KArDO1HbjqOOW0IYHBa1Z3d3rb%2BarN9df/ApNRVkny/f8CcI5TSwVTMsz5o5fhWvaNO1TEVZXlGhCTverWacqk7NUaSnUe1KMtn9nz9mT4ofFz4sp%2B2t%2B3HYxP4zd3k8FeAQxex8E2ztuChTxJeHjfKRlWHHIXZ9NVp6xpV1Jq91IstsA1y5G68iB%2B8eoLZFVv7Hu/wDnta/%2BB0X/AMVXo4HB0MDQ5Iat6yk9ZSl1cn1f4JWSSSSOXiTiTMOJ8esRiEoQglClSguWnRpq/LTpxvpFXu27ynJynUlOcpSKtFWv7Hu/%2Be1r/wCB0X/xVH9j3f8Az2tf/A6L/wCKrtuj54ND/wCQ1Z/9fUf/AKEKq1p6PpV1Hq9rI0tsQtyhO28iJ%2B8OwbJqt/Y93/z2tf8AwOi/%2BKpXVwKtFWv7Hu/%2Be1r/AOB0X/xVH9j3f/Pa1/8AA6L/AOKp3QFWrWj/APH2/wD16z/%2Bino/se7/AOe1r/4HRf8AxVWdK0q6juWZpbb/AI9phxeRHrEw7NSbVgMyirX9j3f/AD2tf/A6L/4qj%2Bx7v/nta/8AgdF/8VTugKtFWv7Hu/8Anta/%2BB0X/wAVR/Y93/z2tf8AwOi/%2BKougDT/APj0vv8Ar1H/AKNjqrWnY6VdLbXimW2%2Ba2AGLyI/8tUPPzcdO9Vv7Hu/%2Be1r/wCB0X/xVJNXYFWirX9j3f8Az2tf/A6L/wCKo/se7/57Wv8A4HRf/FU7oCrVqH/kC3H/AF9Q/wDoMtH9j3f/AD2tf/A6L/4qrMWlXQ0iePzbbJuYiP8ATIscLJ33Y7/5xSbQGZRVr%2Bx7v/nta/8AgdF/8VR/Y93/AM9rX/wOi/8Aiqd0BVoq1/Y93/z2tf8AwOi/%2BKo/se7/AOe1r/4HRf8AxVF0ATf8gW3/AOvqb/0GKqtaculXR0iCPzbbIuZSf9Mixysffdjt/nNVv7Hu/wDnta/%2BB0X/AMVSTQFWirX9j3f/AD2tf/A6L/4qj%2Bx7v/nta/8AgdF/8VTugKtWtQ/49LH/AK9T/wCjZKP7Hu/%2Be1r/AOB0X/xVWb7SrprazUS23y2xBzeRD/lq54%2Bbnr2pNq6AzKKtf2Pd/wDPa1/8Dov/AIqj%2Bx7v/nta/wDgdF/8VTugKtd54M/5Fq2/4H/6G1cb/Y93/wA9rX/wOi/%2BKrtfCUL2/h%2B3hkKEjfko4YffbuCQaxrNOJUdzRooormKCiiigAooooAKKKKACiiigAooooAKKKKACiiigAooooAKKKKACiiigArzX9r7SP8AhIP2cfF%2Bg7N323w7qFvt9d9nMuP1r0quZ%2BLFhHqvhGTS5vuXLGJ8%2BjRuD/Ok4e0i4d0196a/U6sDiHg8dSxC%2BxOEv/AZxl/7afMP/BM3Vv7a/YI%2BFd5uzs8KQwZ/65M0X/sle6V8z/8ABHvUJb7/AIJ2fD2G54msxqlrKv8AdMeqXagfkBX0xUZJP2mS4aXenD/0lf5H1HiXh1hPEbOaK%2Bzi8Qv/ACtUf/twUUUV6h8SWpv%2BQLb/APX1N/6DFVWrU3/IFt/%2Bvqb/ANBiqrSQBRRRTAKtah/x6WP/AF6n/wBGyVVq1qH/AB6WP/Xqf/RslJ7oCrRRRTAKKKKALWsf8faf9esH/opKq1a1j/j7T/r1g/8ARSVVpLYAooopgFWtc/5DV5/19Sf%2BhGqtWtc/5DV5/wBfUn/oRpdQKtFFFMAq1of/ACGrP/r6j/8AQhVWrWh/8hqz/wCvqP8A9CFJ7MCrRRRTAKKKKALWj/8AH2//AF6z/wDop6q1a0f/AI%2B3/wCvWf8A9FPVWl1AKKKKYBVrT/8Aj0vv%2BvUf%2BjY6q1a0/wD49L7/AK9R/wCjY6T2Aq0UUUwCuo%2BG3/L7/wBs/wD2auXrqPht/wAvv/bP/wBmrOr/AA2NbnUUUUVxlhTLm2t7y3ktLuBJYpUKSxSKGV1IwQQeCCOMU%2BigDzLwZ%2Bx3%2Bzz4A0TUvDfhvwVeCw1fSv7K1Ozv/EmoXkdxp4geBLFhcTv/AKLHHJIsUH%2Bqh82Qxqhdia7/ALFX7Or%2BFF8Iv4X1koutNqx1f/hNdW/tZrxrX7G0ral9q%2B2Nm1xblTMV8pVjxsUKPVaKAKXhvw5oPg/w7YeEfCukW%2Bn6XpVlFZ6bYWkQSK2t4kCRxIo4VVVQoA6ACuQ8Z/8AIy3P/AP/AEBa7yuD8Z/8jLc/8A/9AWtqHxky2PKv2rfjZZ/s5fs4%2BM/jZdyIH8P6DNPZLJ92S7I2W8Z/3pnjX/gVcn/wT0%2BBU/wE/ZV8N6Nr8cjeJdfhOv8AjG8uTme51S8AmmaVj951ysWfSIVwX/BQnPxs%2BMHwZ/YptP3tt4r8W/8ACQ%2BMIRyv9jaYPOaKT0WaTCg/3oxXs37WPx70n9mL9nbxX8btUWOR9E0t20%2B2kPFzeORHbw8c4aZ0U46Ak9q8t1qUszr4qq7Qw8OW/Ztc9R/KKhH52PPyXLcZxJxfHC4SHPUThQprvVquLlb5OnFvoua%2BiZ4b%2B1pqN/8Atn/tG6X%2BwF4NvZR4T0P7Pr3xr1K1kIH2YMHtNI3Do8zBXYcEKFYZ2MK%2BsNO06w0jT4NJ0qyitrW1hWG2t4IwiRRqAqoqjgAAAADoBXiv7AX7O%2Bp/AT4Ewaj4%2Bklu/HnjW4PiH4gapdAGefUrgb2iY9liDeWFHGQxAG417hXRlVCryyxddWqVbNr%2BWP2If9up3l3nKT6I/SuOczwKrUcgyufNg8DzQjJbVqza9viH39pOPLTv8NCnSX2pXta5/wAhq8/6%2BpP/AEI1Vq1rn/IavP8Ar6k/9CNVa9VbI%2BDCiiimBa0P/kNWf/X1H/6EKq1a0P8A5DVn/wBfUf8A6EKq0uoBRRRTAKtaP/x9v/16z/8Aop6q1a0f/j7f/r1n/wDRT0nsBVooopgFFFFAFrT/APj0vv8Ar1H/AKNjqrVrT/8Aj0vv%2BvUf%2BjY6q0luwCiiimAVah/5Atx/19Q/%2Bgy1Vq1D/wAgW4/6%2Bof/AEGWkwKtFFFMAooooAtTf8gW3/6%2Bpv8A0GKqtWpv%2BQLb/wDX1N/6DFVWkgCiiimAVa1D/j0sf%2BvU/wDo2SqtWtQ/49LH/r1P/o2Sk90BVooopgFd54M/5Fq2/wCB/wDobVwdd54M/wCRatv%2BB/8AobVjX%2BAcdzUooorlLCiiigAooooAKKKKACiiigAooooAKKKKACiiigAooooAKKKKACvnr9nv9qb4q/Ejx74Yj8b2Ph0eHviN4W17X/CEGmWU8N3pcGnX9nBHDdyyTyJcvNBexyl0jhETROmJAysPoWvIPAf7GXgT4e%2BM4/FukePfFFxBY22o2Wh6HfS2UllpGn392l3e2MA%2ByiTyZpYoMmSSSRFt40jeNAVYA4v9gz9sH4l/tO6nqFl4/sNIjEfg3RddjGn%2BHL7SzaTXr3ayWkZu5pBq1vH9nXy9Utdtrcbm8vODj3nx3a3V5pEcVpbSSsLkErGhY42tzxXEfAL9lHwf%2Bz7qA1LSPHPiXX5bXwzY%2BHNFPiO5tn/snSLRpGgs4fs8EJdQZOZZjLM%2BxN0jba7P4h/8gWL/AK%2Bl/wDQWq6fxoT2PjX/AIJFaVqkP7LWqeGINNuGGg/EjxDp5CQsdhW9dyvTg/P0r6i/sPWv%2BgPdf%2BA7f4V8q/8ABMH/AIl%2Bm/HPwo3H9k/tFeJool/6ZMYHU/jk19QVx5BdZNQXZNf%2BAynH9D77xV97xFzKp/PUU/8AwZSw9T/3IWv7D1r/AKA91/4Dt/hR/Yetf9Ae6/8AAdv8Kq0V7Gp%2BfGnLo%2BrnSIIhpVzuFzKSvkNkArHg9PY/lVb%2Bw9a/6A91/wCA7f4UTf8AIFt/%2Bvqb/wBBiqrSVwLX9h61/wBAe6/8B2/wo/sPWv8AoD3X/gO3%2BFVaKeoFr%2Bw9a/6A91/4Dt/hVm%2B0fV3trNU0q5JW2IYCBuD5rnB49CPzrMq1qH/HpY/9ep/9GyUne6AP7D1r/oD3X/gO3%2BFH9h61/wBAe6/8B2/wqrRT1Atf2HrX/QHuv/Adv8KP7D1r/oD3X/gO3%2BFVaKNQNPVdH1eS5Vo9KuWAtoRkQMeREoI6etVv7D1r/oD3X/gO3%2BFGsf8AH2n/AF6wf%2BikqrSV7AWv7D1r/oD3X/gO3%2BFH9h61/wBAe6/8B2/wqrRT1Atf2HrX/QHuv/Adv8Ks6xo%2Bry6vdSxaVcsrXLlWWBiCNx56VmVa1z/kNXn/AF9Sf%2BhGlrcA/sPWv%2BgPdf8AgO3%2BFH9h61/0B7r/AMB2/wAKq0U9QLX9h61/0B7r/wAB2/wqzo%2Bj6vFq9rLLpVyqrcoWZoGAA3Dk8VmVa0P/AJDVn/19R/8AoQpO9mAf2HrX/QHuv/Adv8KP7D1r/oD3X/gO3%2BFVaKeoFr%2Bw9a/6A91/4Dt/hR/Yetf9Ae6/8B2/wqrRRqBp6Vo%2Brx3LNJpVyoNtMMtAw5MTADp61W/sPWv%2BgPdf%2BA7f4UaP/wAfb/8AXrP/AOinqrS1uBa/sPWv%2BgPdf%2BA7f4Uf2HrX/QHuv/Adv8Kq0U9QLX9h61/0B7r/AMB2/wAKs2Oj6ulteK%2BlXILWwCgwNyfNQ4HHoD%2BVZlWtP/49L7/r1H/o2Ok72AP7D1r/AKA91/4Dt/hR/Yetf9Ae6/8AAdv8Kq0U9QLX9h61/wBAe6/8B2/wro/AFje2X2v7ZZyxbvL2%2BbGVzjd0zXJV1Hw2/wCX3/tn/wCzVnVvyMa3OoooorkLCiiigAooooAK4Pxn/wAjLc/8A/8AQFrvK8r%2BO/iqHwLonibxvcECPRtGnvpC3TEVuZDn/vmtKcowvJ7JN/dqRUlGEHKWy1%2B5X/Q%2BWf2UP%2BL%2Bft2fGf8Aajn/AH2l%2BFXh%2BHfhCY8gLakT6gVPQg3DIQw6hiKj/aiH/DUP7cHw4/ZHtf3/AId8DgePPiEo5R3iby9OtH7HdIxdoz95GBx8ta3/AATAsNN%2BE/8AwTk8H%2BLvFM/lfaNIvvEeu38vLS%2BdPNctM57nyivPooqD/gmD4a1jxd8P/FP7ZXjq0MfiL4zeI5dXEcnLWekws0Fha57qkaswPdZF9K%2Bbw8JYrB4bDS3rt1qn%2BG6m185OnD0iz6vwoi8i4WxnFlXSrGHLS7/Wsap2kv8Arxh/azT6S9m9ND6fooor7A%2BTLWuf8hq8/wCvqT/0I1Vq1rn/ACGrz/r6k/8AQjVWktkAUUUUwLWh/wDIas/%2BvqP/ANCFVataH/yGrP8A6%2Bo//QhVWl1AKKKKYBVrR/8Aj7f/AK9Z/wD0U9VataP/AMfb/wDXrP8A%2BinpPYCrRRRTAKKKKALWn/8AHpff9eo/9Gx1Vq1p/wDx6X3/AF6j/wBGx1VpLdgFFFFMAq1D/wAgW4/6%2Bof/AEGWqtWof%2BQLcf8AX1D/AOgy0mBVooopgFFFFAFqb/kC2/8A19Tf%2BgxVVq1N/wAgW3/6%2Bpv/AEGKqtJAFFFFMAq1qH/HpY/9ep/9GyVVq1qH/HpY/wDXqf8A0bJSe6Aq0UUUwCu88Gf8i1bf8D/9DauDrvPBn/ItW3/A/wD0Nqxr/AOO5qUUUVylhRRRQAUUUUAFFFFABRRRQAUUUUAFFFFABRRRQAUUUUAFFFFABRRRQAVg/EP/AJAsX/X0v/oLVvV89/tN/GnW/Av7YHwY%2BEK6syaT460HxYtxYkLtmvLNNMngkzjOUiN2oAOMStkHAxE69PDuMp7OUV85Oy/Fo5sViaeFpqc9nKMfnKSivxaPE/2BP%2BJX%2B0F%2B0v4W6eT8WRf7f%2Bvq1R8/jtr6gr5f/ZN/4lP/AAUO/aj8OHhJLrwjfwj%2B95ulybz/AN9ACvqCssi0y/l7Tqr7qs/8z9G8Tve4r9t/z8w%2BCn/4FgsM/wD20KKKK9g/Pi1N/wAgW3/6%2Bpv/AEGKqtWpv%2BQLb/8AX1N/6DFVWkgCiiimAVa1D/j0sf8Ar1P/AKNkqrVrUP8Aj0sf%2BvU/%2BjZKT3QFWiiimAUUUUAWtY/4%2B0/69YP/AEUlVatax/x9p/16wf8AopKq0lsAUUUUwCrWuf8AIavP%2BvqT/wBCNVata5/yGrz/AK%2BpP/QjS6gVaKKKYBVrQ/8AkNWf/X1H/wChCqtWtD/5DVn/ANfUf/oQpPZgVaKKKYBRRRQBa0f/AI%2B3/wCvWf8A9FPVWrWj/wDH2/8A16z/APop6q0uoBRRRTAKtaf/AMel9/16j/0bHVWrWn/8el9/16j/ANGx0nsBVooopgFdR8Nv%2BX3/ALZ/%2BzVy9dR8Nv8Al9/7Z/8As1Z1f4bGtzqKKKK4ywrN8Z%2BLNG8A%2BD9W8deI5mj07RdMnv7%2BRF3FYYY2kcgdyFU8VpVm%2BMvCejePfCGq%2BBvEcDS6drWmz2F/ErbS8M0bRuAexKseaAPFvC/7Zvi%2BTwL421/4h/AabT9b8J/DWz8c2fhvQNdOpy6np11FetDbq5t4dl4JLCaN4lWRFLRlZJA3Hn19/wAFUtLsvATeND4d%2BHbWaeJrnSF8YD4tD/hELkw6XFqG2DWP7P8A3twwlaFYPs4zLBMu/KYPX2n7C3jLWfBHjDwf8T/jzb6zL4w%2BGlt4FudTsPCZs5YNLtYbxbaQK13KjXJkvriSdyvlzDy0WKJVO6Gb9hv4nyeO7r43J8dvDY8dX99dNeTP8OnfQzaz6Za6eyJpzaj5gnCWkR89rlshnjKGMhAAe%2BfD/wAVyeO/AeieOJfD99pLazpFtfNpWpxbLmyM0SyeTMv8MibtrDswNfN3/BVLxj/wgn7G/wAXddEuwyeDbixR84w11EtqMe%2BZhX0N8Ifhxpfwc%2BE/hf4RaJqN1eWXhXw7ZaPZ3d9JvnnitoEhR5GHVyqAk9yTXyT/AMFqNQv9a/Ztj%2BDiX03l%2BPPiF4c8PrbiU7XMl3FPtA/7YZrhzSpKllWIlHfkkl6tcq/GSPH4gqyo5HiZR35JJerXKvxkjiP2uLzVvgZ/wSk0b4O%2BF4yuu6/4U0HwPo9sDgzXF1FDbSJ65MInP1FfUXwv8BaT8K/hr4e%2BGOgqBZeHdEtdNtMLjMcESxKfqQua%2Bff2qdT1H4z/APBQD4D/ALPY1Caaw8I/bfiDrsBlLCI2y/Z9PkAzwRcFxn/a4r6p/tzWv%2Bgxdf8AgQ3%2BNPLafNmFea%2BGmoUo/wDbsVKX/k0or5H6lndKOSeH2S5RHR1VVxc15Taw1C//AHBw85LynpuVaKtf25rX/QYuv/Ahv8aP7c1r/oMXX/gQ3%2BNe5qfAhrn/ACGrz/r6k/8AQjVWtPWNY1eLV7qKLVblVW5cKqzsABuPHWq39ua1/wBBi6/8CG/xpK9kBVoq1/bmtf8AQYuv/Ahv8aP7c1r/AKDF1/4EN/jT1AND/wCQ1Z/9fUf/AKEKq1p6PrGry6vaxS6rcsrXKBladiCNw4PNVv7c1r/oMXX/AIEN/jS1uBVoq1/bmtf9Bi6/8CG/xo/tzWv%2Bgxdf%2BBDf409QKtWtH/4%2B3/69Z/8A0U9H9ua1/wBBi6/8CG/xqzpWsavJcssmq3LAW0xw07HkRMQevrSd7AZlFWv7c1r/AKDF1/4EN/jR/bmtf9Bi6/8AAhv8aeoFWirX9ua1/wBBi6/8CG/xo/tzWv8AoMXX/gQ3%2BNGoBp//AB6X3/XqP/RsdVa07HWNXe2vGfVbklbYFSZ24PmoMjn0J/Oq39ua1/0GLr/wIb/Gkr3YFWirX9ua1/0GLr/wIb/Gj%2B3Na/6DF1/4EN/jT1Aq1ah/5Atx/wBfUP8A6DLR/bmtf9Bi6/8AAhv8asxaxq50ieU6rc7hcxAN57ZAKyZHX2H5UncDMoq1/bmtf9Bi6/8AAhv8aP7c1r/oMXX/AIEN/jT1Aq0Va/tzWv8AoMXX/gQ3%2BNH9ua1/0GLr/wACG/xo1AJv%2BQLb/wDX1N/6DFVWtOXWNXGkQSjVbncbmUFvPbJAWPA6%2B5/Oq39ua1/0GLr/AMCG/wAaSuBVoq1/bmtf9Bi6/wDAhv8AGj%2B3Na/6DF1/4EN/jT1Aq1a1D/j0sf8Ar1P/AKNko/tzWv8AoMXX/gQ3%2BNWb7WNXS2s2TVbkFrYliJ25PmuMnn0A/Kk73QGZRVr%2B3Na/6DF1/wCBDf40f25rX/QYuv8AwIb/ABp6gVa7zwZ/yLVt/wAD/wDQ2rjf7c1r/oMXX/gQ3%2BNdr4SnnufD9vNcTPI7b9zuxJPzt3NY1r8pUdzRooormKCiiigAooooAKKKKACiiigAooooAKKKKACiiigAooooAKKKKACiue%2BLvjW5%2BGvwn8T/ABFstOF5NoHh291KK0Of37QQPKE455K449a%2BZ4v2lfjr8EfhV8V9a8W/EF/Huo%2BE/wBnvTfiLpV3qGk2sAjv7iDV/NtdllFEDab9OieMMHmCtKGkkwuAD65r46/4Kywr4I8Sfs%2BftFp8p8KfGaz0y%2Bn/AOeNhqcLwXDk%2Bn7uMY75FeyfsieO/F2v2PinwP8AEfxr4s1XxD4c1iCO%2Bt/G2haXZahaxTWcEsZzpTG1mhkJkkRlxIgYxSZeMk8F/wAFjvAF58Qv%2BCd/xBt9MIW80Wyi1y1mDhWiaxlW6Zlz32ROOOcE15ucQlLLKrjvFcy9YNTX/pP4njcQ05TyWu4L3ox516wamv8A0j8Ty34P/wDEn/4Ku/GLTun9sfDrw/f4/veUXgz%2BuK%2BoK%2BP4fGB0b9vn4I/tJpNbjRPj18IzobSfaY/LgvI1j1K3LHPyGRZBEoPUg9xX2V/Y93/z2tf/AAOi/wDiq3ySrB068E9qk38p8tSL%2Balc/VOPZRxkMozKnrTr4HC2fd0ozoTXrGVOKfqn1RVoq1/Y93/z2tf/AAOi/wDiqP7Hu/8Anta/%2BB0X/wAVXtXR8AE3/IFt/wDr6m/9BiqrWnLpV0dIgj822yLmUn/TIscrH33Y7f5zVb%2Bx7v8A57Wv/gdF/wDFUk0BVoq1/Y93/wA9rX/wOi/%2BKo/se7/57Wv/AIHRf/FU7oCrVrUP%2BPSx/wCvU/8Ao2Sj%2Bx7v/nta/wDgdF/8VVm%2B0q6a2s1Ett8tsQc3kQ/5auePm569qTaugMyirX9j3f8Az2tf/A6L/wCKo/se7/57Wv8A4HRf/FU7oCrRVr%2Bx7v8A57Wv/gdF/wDFUf2Pd/8APa1/8Dov/iqLoA1j/j7T/r1g/wDRSVVrT1XSrqS5Vlltv%2BPaEfNeRDpEo7tVb%2Bx7v/nta/8AgdF/8VSTVgKtFWv7Hu/%2Be1r/AOB0X/xVH9j3f/Pa1/8AA6L/AOKp3QFWrWuf8hq8/wCvqT/0I0f2Pd/89rX/AMDov/iqs6xpV1Jq91IstsA1y5G68iB%2B8eoLZFK6uBmUVa/se7/57Wv/AIHRf/FUf2Pd/wDPa1/8Dov/AIqndAVataH/AMhqz/6%2Bo/8A0IUf2Pd/89rX/wADov8A4qrOj6VdR6vayNLbELcoTtvIifvDsGyaTaswMyirX9j3f/Pa1/8AA6L/AOKo/se7/wCe1r/4HRf/ABVO6Aq0Va/se7/57Wv/AIHRf/FUf2Pd/wDPa1/8Dov/AIqi6ANH/wCPt/8Ar1n/APRT1VrT0rSrqO5Zmltv%2BPaYcXkR6xMOzVW/se7/AOe1r/4HRf8AxVK6uBVoq1/Y93/z2tf/AAOi/wDiqP7Hu/8Anta/%2BB0X/wAVTugKtWtP/wCPS%2B/69R/6Njo/se7/AOe1r/4HRf8AxVWbHSrpba8Uy23zWwAxeRH/AJaoefm46d6TasBmUVa/se7/AOe1r/4HRf8AxVH9j3f/AD2tf/A6L/4qndAVa6j4bf8AL7/2z/8AZqwf7Hu/%2Be1r/wCB0X/xVdH4As5bT7X5rxHd5ePKnR/73XaTis6rXIxrc6OiiiuQsKKKKACiiigAr4h/4KVgeLf2tP2b/hIfn%2B2/FNvEBi9f7KsfO3Y9vNr7er4T/am1y2vv%2BCt/gr7WQ8Pw5%2BDWueKZVJ4jFwVsy3tkJivNzZr6oqb%2B3Omvlzxk/wAIM8bPKc8RhaeGgrurVowS781SLt8%2BUq/sff8AF4P23Pj7%2B0hJ%2B9s9I1W08BeHZeojSxjD3qg9w1wyNx%2BtfU1fNf8AwSO8PzaX%2Bwd4Q8R6nl9U8T3Oo63q9y33rie4vZiJD7mMRj8K%2BlK68hi/7Kp1Zb1L1H61G5fgnFfI/VPFCpBcc4vBUnenhOTCw/w4WEaF1/ilCrP/ALf73CiiivXPgC1rn/IavP8Ar6k/9CNVata5/wAhq8/6%2BpP/AEI1VpLZAFFFFMC1of8AyGrP/r6j/wDQhVWrWh/8hqz/AOvqP/0IVVpdQCiiimAVa0f/AI%2B3/wCvWf8A9FPVWrWj/wDH2/8A16z/APop6T2Aq0UUUwCiiigC1p//AB6X3/XqP/RsdVataf8A8el9/wBeo/8ARsdVaS3YBRRRTAKtQ/8AIFuP%2BvqH/wBBlqrVqH/kC3H/AF9Q/wDoMtJgVaKKKYBRRRQBam/5Atv/ANfU3/oMVVatTf8AIFt/%2Bvqb/wBBiqrSQBRRRTAKtah/x6WP/Xqf/RslVatah/x6WP8A16n/ANGyUnugKtFFFMArvPBn/ItW3/A//Q2rg67zwZ/yLVt/wP8A9Dasa/wDjualFFFcpYUUUUAFFFFABRRRQAUUUUAFFFFABRRRQAUUUUAFFFFABRRRQAy5tre8t5LS7gSWKVCksUihldSMEEHggjjFeb%2BBP2Qv2fPhxpd/ofhfwTc/YtU0waZqNnqXiG/vorjT1haGOxdLmeRWtY45JFit8eVF5snlohdifS6KAOT%2BE/wQ%2BHHwSsb%2By%2BH2l30bardpc6ne6trt5qd3dSJEkKeZc3ssszqkcaIql9qKuFAqv%2B0D4RsPiB8KtW8B6qB9l1uznsLnIz%2B7mgkjb9GNdpWD8Q/%2BQLF/19L/AOgtTjGM3yy2en33IqRjODjJXTVn89P1PytsF8VeNf8AgjZ4O%2BJmkwE%2BM/gL4jj1OCLJzDLo%2BoSROhPUKLQ7iOnyj0r9C/AvjHRPiH4J0fx/4auPN07XNLt9QsJf78M0ayIfxVhXzD%2BxJ4Y0a3%2BJH7T/AOyZ4ktRLp0fxEn1R7Jun2DXLMSeWB/d2owH%2B9W5/wAEqvE2sRfs3XnwF8XXZk134S%2BLdR8I6kX4Z47eYtbyAf3DDIiqehEdfP5HKWHr0Yy/5eU3B/46EnD73C33H1PDspZ34L0oS1q5XX5X39jiOam/lHE4aL8nW8z6Xooor68%2BVLU3/IFt/wDr6m/9BiqrVqb/AJAtv/19Tf8AoMVVaSAKKKKYBVrUP%2BPSx/69T/6NkqrVrUP%2BPSx/69T/AOjZKT3QFWiiimAUUUUAWtY/4%2B0/69YP/RSVVq1rH/H2n/XrB/6KSqtJbAFFFFMAq1rn/IavP%2BvqT/0I1Vq1rn/IavP%2BvqT/ANCNLqBVooopgFWtD/5DVn/19R/%2BhCqtWtD/AOQ1Z/8AX1H/AOhCk9mBVooopgFFFFAFrR/%2BPt/%2BvWf/ANFPVWrWj/8AH2//AF6z/wDop6q0uoBRRRTAKtaf/wAel9/16j/0bHVWrWn/APHpff8AXqP/AEbHSewFWiiimAV1Hw2/5ff%2B2f8A7NXL11Hw2/5ff%2B2f/s1Z1f4bGtzqKKKK4ywooplzc21lbSXl5cJDDCheWWVwqooGSxJ4AA5zQA%2BivN/B37XP7PfjrwTr/wARdD8fNDo3hfR01fXLzWNHvNO%2Bz6a8Uk0d8EuoY3ktZI4pWSdA0cnlPsZipxRuP21/2dbPw3J4ku/E2uRGLW/7Ik0WTwPq66uLz7J9s8v%2BzDa/bD/ouZ93k7fKBfO0E0AerV%2BaX7T3ijP7Xf7YnxOWT5vAnwFsPD9rLnhZbywlu1UH/rptz71%2Bkeia1pXiTRbTxFoV/HdWN/ax3NndQnKTROoZHU9wVII%2Btfkt%2B0Vr17dfs6/tvfFVI3N5r3xpHhK1UjDSrZ3NnZAD1G2V/wAjXz3ENV06MLdFUn/4BRnb8Zo9HhbALOPEnh3LmrqpjaLfpCUW/wA/uufaP7D/AIX/AOEM/Y4%2BFvhxo9kkHgHSmnXHSV7WN3/8fZq9SrP8JaBB4U8K6Z4XtceVpunw2seOm2OMIP0FaFfVYWj9XwtOl/LGK%2B6KX6CzzHvNc7xWOf8Ay9q1an/gdSpP/wBuQUUUVueWWtc/5DV5/wBfUn/oRqrVrXP%2BQ1ef9fUn/oRqrSWyAKKKKYFrQ/8AkNWf/X1H/wChCqtWtD/5DVn/ANfUf/oQqrS6gFFFFMAq1o//AB9v/wBes/8A6KeqtWtH/wCPt/8Ar1n/APRT0nsBVooopgFFFFAFrT/%2BPS%2B/69R/6NjqrVrT/wDj0vv%2BvUf%2BjY6q0luwCiiimAVah/5Atx/19Q/%2Bgy1Vq1D/AMgW4/6%2Bof8A0GWkwKtFFFMAooooAtTf8gW3/wCvqb/0GKqtWpv%2BQLb/APX1N/6DFVWkgCiiimAVa1D/AI9LH/r1P/o2SqtWtQ/49LH/AK9T/wCjZKT3QFWiiimAV3ngz/kWrb/gf/obVwdd54M/5Fq2/wCB/wDobVjX%2BAcdzUooorlLCiiigAooooAKKKKACiiigAooooAKKKKACiiigAooooAKKKKACiiigArB%2BIf/ACBYv%2Bvpf/QWrerB%2BIf/ACBYv%2Bvpf/QWq6fxoT2Ph/x/qD/swf8ABTXR/ifryCPwn8b/AA7B4Zn1DOFtNftGLWqyHpiWI%2BUnctnspqHxDqz/ALF3/BQy78c%2BJYRB8Pvj8ljYy6qDiLSvEtrG0cKy9kW4jJw38Tkk8ITXsv7Y37OWm/tUfs9698I57oWmozwrd%2BHdUDFW0/U4Tvtp1YcrhwAxHJRnHevMfg3qXhj/AIKV/sN6h8MPjrprWviO2M3h7xzabFFxpOu2ZCm4QfwPvCTqOnzFDkbhXg4nDVqWMlQpO0nJ1qTe3NtUpvyle/kp3%2Byd/AGe4HhnibE5ZmibwGPhKNS2soxlKEpyh3qUKsaeJgvtJVIbSuvp2ivnP9gn9oTxhr9nrH7KP7Q%2BoRx/FT4aSCy1UyyYbXdPAH2bVIt3MiyRlN56hiC23zAB9GV9DgsZSx2GjWp6X3T3TWji%2BzTun/k1fq4k4fxvDGc1cuxVm42cZR1hUhJKVOrB/ahUg4zi%2BzadpRklam/5Atv/ANfU3/oMVVatTf8AIFt/%2Bvqb/wBBiqrXSjwwooopgFWtQ/49LH/r1P8A6NkqrVrUP%2BPSx/69T/6NkpPdAVaKKKYBRRRQBa1j/j7T/r1g/wDRSVVq1rH/AB9p/wBesH/opKq0lsAUUUUwCrWuf8hq8/6%2BpP8A0I1Vq1rn/IavP%2BvqT/0I0uoFWiiimAVa0P8A5DVn/wBfUf8A6EKq1a0P/kNWf/X1H/6EKT2YFWiiimAUUUUAWtH/AOPt/wDr1n/9FPVWrWj/APH2/wD16z/%2BinqrS6gFFFFMAq1p/wDx6X3/AF6j/wBGx1Vq1p//AB6X3/XqP/RsdJ7AVaKKKYBXUfDb/l9/7Z/%2BzVy9dR8Nv%2BX3/tn/AOzVnV/hsa3OoooorjLCue%2BLngq4%2BJXwo8T/AA5tNRFnLr/h6902K7IJ8hp4HiD8c8Fs/hXQ0UAfH6/Bj9prx74E%2BI63vwO/4RvV/EnwC03wHpOn6vqWl3drLqFlDqryzSeXNMhtJX1FIoS8bN8krTQxqQG5Oz/Y7%2BLWn%2BJz8UbD4R/FGLQrbxVeS2XhFfipD/wlzx3Gh2dobyXV21NjIq3NmqrG98zrExA/dgW1fdlFAHL/AAQ0z4laL8F/CGjfGbWYNS8YWnhfT4fFeo2oHlXWpLbRrdSpgKNrTB2GAOD0HSvgP9uX4IXPwc%2BFGk/B3VZLG8u/it%2B15FqU72hkIMGo6rcXsUbZxkrCkKucYDAgEgBj%2BklfEX/BRj/io/21v2a/ht977V8QL7WvL9f7O04S7vw8yvIzqjTq4GTa10iv%2B4k6cX960PufDGhS/wBf8HjpLXDRxFZPt7PC4id/vjD0sfS/9oWn/QDtf%2B%2B5f/i6P7QtP%2BgHa/8Afcv/AMXVWivprI%2BCLX9oWn/QDtf%2B%2B5f/AIuj%2B0LT/oB2v/fcv/xdVaKLIDT1i%2BtU1e6RtHtmIuXBZmlyfmPJw%2BKrf2haf9AO1/77l/8Ai6Nc/wCQ1ef9fUn/AKEaq0klZAWv7QtP%2BgHa/wDfcv8A8XR/aFp/0A7X/vuX/wCLqrRTsgNPR761fV7VF0e2Um5QBlaXI%2BYc8viq39oWn/QDtf8AvuX/AOLo0P8A5DVn/wBfUf8A6EKq0rK4Fr%2B0LT/oB2v/AH3L/wDF0f2haf8AQDtf%2B%2B5f/i6q0U7IC1/aFp/0A7X/AL7l/wDi6s6VfWrXLBdHtl/0aY5DS/8APJuOX79KzKtaP/x9v/16z/8Aop6TSsAf2haf9AO1/wC%2B5f8A4uj%2B0LT/AKAdr/33L/8AF1Vop2QFr%2B0LT/oB2v8A33L/APF0f2haf9AO1/77l/8Ai6q0UWQGnY31q1teEaPbDFsCQGl%2Bb96nB%2Bf8ePSq39oWn/QDtf8AvuX/AOLo0/8A49L7/r1H/o2OqtJJXYFr%2B0LT/oB2v/fcv/xdH9oWn/QDtf8AvuX/AOLqrRTsgLX9oWn/AEA7X/vuX/4urMV9anSJ3/se2AFzECu6XB%2BWTn7%2Bf/11mVah/wCQLcf9fUP/AKDLSaQB/aFp/wBAO1/77l/%2BLo/tC0/6Adr/AN9y/wDxdVaKdkBa/tC0/wCgHa/99y//ABdH9oWn/QDtf%2B%2B5f/i6q0UWQGnLfWo0iB/7HtiDcygLulwPlj5%2B/n/9VVv7QtP%2BgHa/99y//F0Tf8gW3/6%2Bpv8A0GKqtJJAWv7QtP8AoB2v/fcv/wAXR/aFp/0A7X/vuX/4uqtFOyAtf2haf9AO1/77l/8Ai6s319arbWZOj2xzbEgFpfl/evwPn/Hn1rMq1qH/AB6WP/Xqf/RslJpXQB/aFp/0A7X/AL7l/wDi6P7QtP8AoB2v/fcv/wAXVWinZAWv7QtP%2BgHa/wDfcv8A8XXa%2BEpEl8P28kcCRg78IhOB87epJ/WuArvPBn/ItW3/AAP/ANDasaySiVHc1KKKK5igooooAKKKKACiiigAooooAKKKKACiiigAooooAKKKKACiiigDnvi741ufhr8J/E/xFstOF5NoHh291KK0Of37QQPKE455K449a8F%2BE/7R3iv4OR%2BMLr9pH4x3HifRfDvwd8PePL3XLjS7O3ktHvG1NLq2iS0iiVoCbCNoFcPLl5FaWT5SPpi5tre8t5LS7gSWKVCksUihldSMEEHggjjFcH8JP2Yfgv8AA26N58MfD%2Bo2Ehgity1x4m1C7/0aFDHBbYuJ3H2eFWcQwf6qHzHMaoXYkA82/wCCeP7SfiT9ozRfiNdeM/iz4W8T6honj/yrW38KajaXVtpFjcaZYXUVks1sSLhYpZrmH7Q2TK0Mh4A2L7d47tpLrSI44mjBFyD%2B8lVB91u7ECneF/AXhPwXqWu6v4a0n7NceJdY/tTW5PPkf7Td/ZoLbzMOxCfubaBdq4X5M4yWJh%2BIf/IFi/6%2Bl/8AQWq6fxoT2OX/ALHu/wDnta/%2BB0X/AMVXyV%2B0b8NPi7%2BxZ8bta/bp%2BBGgr4i8JeIYYP8AhcXgSwnia5ZIFKrq1kqt80saEmRP4huY/eLx/VdBAIwRSx2CWNpJczjKLvGS3jLv5qzs09Gm0%2BjXnZhgYY%2BikpOM4vmhJbxkuvZqzalF6Si2n0a%2Be/iz%2Bz18KP8AgoD8N/DX7TP7O/xPtdE8YWNsLvwH8R9Fu4lnt25za3SFgXi3FkkgkGUJcYGXVqv7On7cFzN41H7MH7ZWnaf4C%2BLFkwhjS5ulj0nxKnAW60%2B5ciN9/wDzyLbgx2jJDKuF43/ZF%2BOv7MvjvV/jf/wT41vTltNZuze%2BKPg7rpEelanNj55bKUY%2BxTsB04jJxkhVCUlh%2B0V%2BxT%2B3tok37On7UPgSDw14whk8q9%2BH/j%2BP7HqFnckY32U52mQnqrwsHZeSoBxXzzqV6GL5m1RxEtGpX9jWts1LpO2201tKNSKTX2PD/iBl1fLqfDnGdKTpwuqNWDj7Si27v2E5%2B7UpSb5p4SrKLUrypSpzvKf1/LpV0dIgj822yLmUn/TIscrH33Y7f5zVb%2Bx7v/nta/8AgdF/8VXyTD8Gf%2BCgn7HGkRRfs8%2BPLL4yeALa4k%2Bx%2BB/HV79m1yxjCx/urbUfuSgDAAmACgAKvetrwB/wVH/Zw1LW08BfHWPWvhJ4sB2zaD8RdNeyTI4LR3RHkPHno7Mu4EHFerTzmhCSp4tOjP8Av/C3/dn8Evvi/wC6e/ifDnN8RSlisgqRzGgle9C7qxX/AE9wz/2im11ahVhfao1a/wBOf2Pd/wDPa1/8Dov/AIqj%2Bx7v/nta/wDgdF/8VWXouuaL4k0uHXPDusWt/ZXKb7e8srhZYpV9VdSQw9watV7Cd1dM/P5wnTm4zTTWjT0afZppNPyaRa/se7/57Wv/AIHRf/FVZvtKumtrNRLbfLbEHN5EP%2BWrnj5uevasyrWof8elj/16n/0bJQ73RIf2Pd/89rX/AMDov/iqP7Hu/wDnta/%2BB0X/AMVVWinqBa/se7/57Wv/AIHRf/FUf2Pd/wDPa1/8Dov/AIqqtFGoGnqulXUlyrLLbf8AHtCPmvIh0iUd2qt/Y93/AM9rX/wOi/8AiqNY/wCPtP8Ar1g/9FJVWkr2Atf2Pd/89rX/AMDov/iqP7Hu/wDnta/%2BB0X/AMVVWinqBa/se7/57Wv/AIHRf/FVZ1jSrqTV7qRZbYBrlyN15ED949QWyKzKta5/yGrz/r6k/wDQjS1uAf2Pd/8APa1/8Dov/iqP7Hu/%2Be1r/wCB0X/xVVaKeoFr%2Bx7v/nta/wDgdF/8VVnR9Kuo9XtZGltiFuUJ23kRP3h2DZNZlWtD/wCQ1Z/9fUf/AKEKTvZgH9j3f/Pa1/8AA6L/AOKo/se7/wCe1r/4HRf/ABVVaKeoFr%2Bx7v8A57Wv/gdF/wDFUf2Pd/8APa1/8Dov/iqq0UagaelaVdR3LM0tt/x7TDi8iPWJh2aq39j3f/Pa1/8AA6L/AOKo0f8A4%2B3/AOvWf/0U9VaWtwLX9j3f/Pa1/wDA6L/4qj%2Bx7v8A57Wv/gdF/wDFVVop6gWv7Hu/%2Be1r/wCB0X/xVWbHSrpba8Uy23zWwAxeRH/lqh5%2Bbjp3rMq1p/8Ax6X3/XqP/RsdJ3sAf2Pd/wDPa1/8Dov/AIqj%2Bx7v/nta/wDgdF/8VVWinqBa/se7/wCe1r/4HRf/ABVdH4As5bT7X5rxHd5ePKnR/wC912k4rkq6j4bf8vv/AGz/APZqzq35GNbnUUUUVyFhRRRQAUUUUAFfEf7Rv/FVf8Fh/hboH3v%2BEU%2BGet61t/ufavLs93tnGK%2B3K%2BIrf/iqv%2BCznxG137w8KfBnSNGz/cN1dfbMe2QM15uY%2B88PT/mq0/8AyVyn/wC2o%2B/4A/cyzbF/8%2BsBiretRUqC%2B/20kfRtFfPXxF/4KrfsE/Cfx1q3w0%2BIHx4%2Bwa3od9JZ6pZf8IvqkvkTocMm%2BO1ZGwe6kj3rF/4fMf8ABNn/AKOP/wDLP1j/AOQ67J59kdObjLFU01o1zx0a%2BZz0PC7xLxVCFajkuLlCaUoyWHqtOLSaaahZpppprRpp9T6for56%2BHX/AAVW/YJ%2BLHjrSfhp8P8A48fb9b1y%2Bjs9Lsv%2BEX1SLz53OFTfJaqi5PdiB716D%2B1r8TPGvwb/AGa/GnxQ%2BHWn2F1reiaFLc6dFqc7RwCQYG9iqOTtBLBduGKhSVBLDswuOwWOg54apGaWjcWnZ720Pn884a4j4ZrwoZxg6uGnNc0Y1acqbkr2ulNJtX0utL6Hp2uf8hq8/wCvqT/0I1Vr568cftxfEPQ5PENzP8DtIa%2Bs/iBeeGtM0638U6hdy6jPawzTXcyRWWkz3HlJsjVSsLZ3O0nkqgL854Q/4KB%2BLPiFqVsnwp%2BD51iTxHawahpFt4h8Vx2ENpbt4b03WNpaGxldci9MeD5x8wZ3KjbY91JWR4tmfVFFeY3Xx%2B1O6/ZW1T9pvR/CsK2v/Cvz4n0Cxku2klnjOmi8WOZQiiNt5MeFZwQA24Ftq4P7PPjH4tW/xB8S/Cfxx8R5fGVxY%2BAPDniWx1bULC0tWFxqL6pDLbAWkMaeQH01XQsrSATMGd9qmquhHu2h/wDIas/%2BvqP/ANCFVa%2BSfgt8fvjbqI1Hwr8Y/jn4j8F3GleC9B8SeL/E3ibwNZ2U3h66a6uI9TsbFZLdYZof3KJBO8d2v39slySNmT4q/aE/a9%2BG/g7TviB8RZfF1paWXh%2B11DR7e28FW8o1921q7SSDWXW2YabP/ZQ019qNaj7Rc3CqHMawieZXHY%2BzKK%2BGNR/a4/aasZtVux4z1dYNci1NfDEtxpGlG31WSPxVpumWyaBsj8wSG3vGh/4muEa5uLWRd1us8g%2Bkf2QPH3j3x78OtX/4WXqGoy6vo3i/UdMmg123s49TtYopAYYrz7CBaNP5To%2B63zEUkjIJO401JNhY9Wq1o/8Ax9v/ANes/wD6KeqtWtH/AOPt/wDr1n/9FPTewirRRRTAKKKKALWn/wDHpff9eo/9Gx1Vq1p//Hpff9eo/wDRsdVaS3YBRRRTAKtQ/wDIFuP%2BvqH/ANBlqrVqH/kC3H/X1D/6DLSYFWiiimAUUUUAWpv%2BQLb/APX1N/6DFVWrU3/IFt/%2Bvqb/ANBiqrSQBRRRTAKtah/x6WP/AF6n/wBGyVVq1qH/AB6WP/Xqf/RslJ7oCrRRRTAK7zwZ/wAi1bf8D/8AQ2rg67zwZ/yLVt/wP/0Nqxr/AADjualFFFcpYUUUUAFFFFABRRRQAUUUUAFFFFABRRRQAUUUUAFFFFABRRRQAUUUUAFYPxD/AOQLF/19L/6C1b1YPxD/AOQLF/19L/6C1XT%2BNCexxtFFFdpAVwnx0/Zj%2BAX7S2g/8I78cfhXpPiGFUKwT3dvtubYHr5U6ESxH/cYV3dFZ1qNHEU3TqxUovdNJp/J3Mq1CjiaTp1oqUXumk0/k00fLY/Yl/a5/Z%2B0qGT9jf8AbRvpNFiuJfsngL4q2P8AatjGAsZ8uO8XFxBHyAFUHgdSaw/G/wC0J%2B0tYaBJ4O/bb/4JjzeM9FH/AB86n8PXtvENpcDu62E372MD/bbNfZU3/IFt/wDr6m/9BiqrXkPJYQi44arKmv5dJw9OSpzJLyUkvI86hldbLq0a2WYqrh5Rd48sm0mtuVSd426ck426WPzU0e7/AOCT134iml%2BC/wC0p8Qf2d/FLyeZdaXb6hqGjokh7TQ3SPblfVFdRx2FeyeBbr9vy1gWf9nn9uz4N/GvT0GYYPEtilvcNH/dE2mSOHbH8T9Tya%2BsfF3gLwN4/wBP/snx54L0nW7Ugg22r6dFcx89flkUivFfG/8AwSy/YC8ezNdap%2BzRodjMW3JN4fkn0wo3YqLSSNRj6Yry3kWPw7vQ5F/glUov/wABi6lP/wAkR95HxM8TuRU8ynhcygtLYuipzt29q06q07VvSyOdH7YH7dHw%2BHlfGb/gnDrN9DH9/VPh54ttdUE3qUtSFlX6Mc1YuP8Agrp%2BzBo0Fnb/ABi8H/Er4cyRwFJU8bfD68g2N5jnrCsvrjNVx/wSz8F%2BHPm%2BEX7WHxx8GBP9VaaN8QpHtV9jFMj7h7Fqmv8A9jb9vLwzaWq%2BAv8Agp/rU0BtjssvFnw607Udy%2BY42tKzBuxOcZ5pX4nw70Upevsan4p0ZfqP/XbhzE/8jLhXlfWWDxs4fdTrqtD8flY7Xwd/wUT/AGGfHYT%2BwP2qPBatJ9yPU9ZSxc%2B2258s59sZr0/wz8QvAPjWMTeDfHGj6uhGQ2manFcAj1yjGvjvxj%2BxT%2B3Trm9vEGk/suePmOcy%2BM/hnLBI/vut0JU%2B4NeYeJv%2BCc3xpupDP4k/4JsfBDVpVORL4K%2BIWq6Oc%2BqhpVA/EU/7Zz%2Bj/Ewt/wDtyovydRC/tbwoxHx0s0wr86GFxMV86dajJ/cfpXRX5e/8MoftPeDxt0L9ib41eFkT7lx4A/ahtW2/7scsbsPxNGP26vBv/INX9sGx2dPtT6b4kx%2Bfl76P9aa9P%2BLhJr05v/bqSDk8MK38LPp0/Kvl2Nh97p%2B2j9yZ%2Bpmsf8faf9esH/opKq1%2BYd3%2B1R/wUV8KzA3XxL/aCVUijAj8V/so2KoAEGP3sF0WYYx82ORz3qL/AIecftzeGP8Aj98Y6BLt6/8ACWfBjXLP/vr7Lux%2BFJcZ5dBfvKVSP/bqf6oP7K4Oq/wOJsA/8csXR%2B/22BVvvP1Bor8wB/wW4%2BPvh4AeLbz4MzsDhkttH8U2hP8A3%2BtWArQsf%2BC%2BPjGDH2n4KeBtW9fsHj6Wy3fT7VaDH41a434dvaVRr1i/0bHHhzAVv93zvLKnpmOGj/6d9j%2BNj9L6ta5/yGrz/r6k/wDQjX5zaX/wXwtJVDa1%2BzDYW/r9l%2BLelzf%2BhIlb1z/wX7%2BCL3895rnwP1yASTM5Wx8UaRdYySe1wua2jxjw3J3%2BsJeqkv8A201jwbmdR2o4jCVP8GPwEvyxiPvGivhjTf8Ag4A/Y9vZfs9z8NPiTE4%2B8YtIsJkH4x3pz%2BVdHp3/AAXE/YtvwDNpfj21B7z%2BEycf9%2B5GrohxVw5U%2BHFQ%2B9//ACJpLgLiyO2HjL/DXwkv/SMbI%2BxKtaH/AMhqz/6%2Bo/8A0IV8k2v/AAWh/YJlAN9481%2ByHf7V4Ov%2BP%2B%2BImrY8O/8ABZT/AIJvSatbSzftGrB5dwjSC48K6qm0BgT1tcVt/rDkMlpiqf8A4Gl%2BdhLgDjeXwZdWl/hip/8ApE5n0pRXz1Zf8FWv%2BCe1/jyP2ntFXP8Az3tLuL/0OEVrWf8AwUn/AGDb/HkftVeD1z/z21MR/wDoYFbxznJ57Ymn/wCBx/8AkiZcA8dx3yrE/wDgis/yps9voryWz/b2/YkvseT%2B1r8Olz/z28YWcf8A6HIK07T9sT9ka/x9h/am%2BHE2enleN7Bs/lNW0cxy%2BW1aD/7fh/8AJHFV4R4to/xMuxC9cPXX/uE9R0f/AI%2B3/wCvWf8A9FPVWuU8P/tJ/s6Xl0xtPj74KlzbTAeX4qs2yTE3pJVi1%2BMPwkvsfYvil4cmz08rW7dv5PWscThpPScX/wBvR/zOGpk2cUf4mFqx9adRfnTR0dFZtt4z8H3v/Hn4s0yXPTyr%2BNv5Gr0F1bXK7ra4jkHqjg/yrVSjLZnDOjWpfHFr1TX5pElWtP8A%2BPS%2B/wCvUf8Ao2OqtWtP/wCPS%2B/69R/6NjpvYzKtFFFMArqPht/y%2B/8AbP8A9mrl66j4bf8AL7/2z/8AZqzq/wANjW51FFFFcZYUUVzXxmHjM/B/xWPhyZP%2BEh/4Rq%2B/sHyvv/bfs7%2BRt9/M24oA6Wivz38Ga/8AB7Tfgd8ZtJ/ZtlU%2BH7/9mnSlfT/CF8Le6ufEq2ms/byhRXf%2B1Et2sWumKPOv%2BjmRWbCnj/Fdj46uP2UvjV8NPg/4T0rxn4Avr6/u/FXin4IR6dpHh77LD4as3FnZWdxqOIkkuAPtjQTXJdY7hSqvOEiAP04r4g/ZikHir/goJ%2B1T8Rs7kbxN4f0OFuy/YdNMbqP%2BBMCfevrn4L6hd6t8IPC2pX%2Bh3WmTT%2BHrN5dPvniaa3YwplHMLyRlh32Ow9Ca%2BU/%2BCfOhQRa9%2B0F4p1q7nFxqv7SXisRMluGBggnjgjGS46GNxXn4hOeaYSPROcvup2X/AKUfecM1IYfg7P61/elSw1JelTFqUvwoK59BUV4H8Rf%2BCgWi/Dvx3q3gb/hi/wDaQ13%2Byb6S2/tjw58KVurC82HHmwS/a18yM9Q2Bkdqxf8Ah5pov/Rgv7VX/hml/wDk2uqee5VCbjKpqtPhqf8Ayt/mfk88/wAnpzcJVdVo/dqdPSk/zZ9LVkfEDwH4U%2BKPgjVvhz460s32ja5YS2Wp2guJIjLDIpVlEkbK6HB4ZGDKcEEEA1418Ov%2BCgWi/ETx3pPgb/hi/wDaQ0L%2B1r6O2/tjxH8KVtbCz3nHmzy/a28uMdS2Dgdq9S/aH8bap8LPgr4h%2BJvgmA3974dsf7TmsbrTi/2i0gdZbuNAkwPnNbLMI%2BoEhQlWGVPXhcdhcbByoy5ktHpJf%2BlRj%2BTO3B47CY%2BDnh5cyTs9JLX/ALejH8n6mV4m/ZI%2BAt7OdJufCmoMtl4jvNUiuB4n1EXL3VwhiuGlnFx5sySp8skcjNHJ/ErHmqPw6/Y6/Z0%2BFD2UngTwBLZtp0Bhsml1y%2BuDDEbGCw2Dzpn%2BUWttBEq9FWMbcHJPi3xz/wCChvxH8N2viH4jfDzSdH1XRNNu9Z1aOGPRVl87QrTUE0%2BK4e6l1O2SP7TcQ3rRSQx3LNG8GLdsFpMjwH%2B098VNG%2BIV58NtE8QQ3N/rXj7WNL03W/FC3l9Dp6P418QWyB7cXsaOkdrZRwxIpjYMY4/M2IqjZSjZaHbZn1b4M%2BF3gjwB4Oh%2BH3hnSZE0S302DT4NMvL6e6hitYbdLaOFVnd9qeVGoIH3juZtzMzHH%2BGv7Ofwk%2BENs1t8P9F1GzDzW7vLN4jv7mV0giaKC3aSed3NtGjsEtifJTcSqA81zP7CniLxb42%2BCB8UeP8A4gjV5ZPGPiyB5YbOSbLQ%2BJtUiTyppLlj9mWFIo4otvyJGoDkAAef/soeL9d1L4o%2BAtW1X4k%2BJNSuvHvgrxZqvjbS9Q1Ka6trG%2BstY0%2BGFYIJJjHZiA3Nza%2BXEsYbaN4do9wrmWmgj0/Rf2Hv2a/7Pj8GReD9WisbjVdKuN1v4z1aO4g%2BwTGSxhhuFuhNBBbyOzxW8brDGzFlQHmrV1%2Byn8E9RvtG1PWdG1rUbjQjF9km1Xxjql01wIro3cIu/OuW%2B3LFOTJEtz5oib/Vha8I0bxb4m8N/tBf8Iz8Tfi34q0rSPE2peM4vEHjKz8eQyafHp0OqRJYNYwrcS/2ZNaJLBYzv5MDJNI2TO5Ey1WuPiJpfwn13T9a%2BLXi/RtW8E/tJeE9On0XTPFtzqlvHaXmoeHc2J1S6K3l/bvb38krpKIsPdSQMjRRRlp5lfYD3Z/2NP2cZZtSlm8Azyf2mkymOTX79o7HzryO9kNihn26cWuoYbgtaiI%2BbDE%2Bd0akdj8OPhl4L%2BE/h5/DPgbTZre2lvJbu5lvNQnvLi5uJW3STTXFw7yzOx/id2OABnAAHCeRe6V%2B3tbWr/EzxNdaTrHwvv7r%2BwbiRfsFpLBfadEjRQKwXeRLMTK%2B6Q%2BaV3bAqr7J5Oi/9BC6/wDANf8A45VprsBVq1o//H2//XrP/wCino8nRf8AoIXX/gGv/wAcqzpUWkC5by765J%2BzTcNaqOPKbP8AH6UN6CMyirXk6L/0ELr/AMA1/wDjlHk6L/0ELr/wDX/45TuBVoq15Oi/9BC6/wDANf8A45R5Oi/9BC6/8A1/%2BOUXANP/AOPS%2B/69R/6NjqrWnYxaQLa82X1yQbYbibVRgeanT5%2BecVW8nRf%2Bghdf%2BAa//HKSerAq0Va8nRf%2Bghdf%2BAa//HKPJ0X/AKCF1/4Br/8AHKdwKtWof%2BQLcf8AX1D/AOgy0eTov/QQuv8AwDX/AOOVZii0j%2ByJwL652/aYsn7KuQdsmON/1pNgZlFWvJ0X/oIXX/gGv/xyjydF/wCghdf%2BAa//AByncCrRVrydF/6CF1/4Br/8co8nRf8AoIXX/gGv/wAcouATf8gW3/6%2Bpv8A0GKqtacsWkf2RADfXO37TLg/ZVyTtjzxv%2BlVvJ0X/oIXX/gGv/xykmBVoq15Oi/9BC6/8A1/%2BOUeTov/AEELr/wDX/45TuBVq1qH/HpY/wDXqf8A0bJR5Oi/9BC6/wDANf8A45Vm%2Bi0g21nvvrkAWx2kWqnI81%2Bvz8c5pN6oDMoq15Oi/wDQQuv/AADX/wCOUeTov/QQuv8AwDX/AOOU7gVa7zwZ/wAi1bf8D/8AQ2rjfJ0X/oIXX/gGv/xyu18JCBfD9uLeR3T59rOgUn527An%2BdY1n7pUdzRooormKCiiigAooooAKKKKACiiigAooooAKKKKACiiigAooooAKKKKACiiigArB%2BIf/ACBYv%2Bvpf/QWreqh4i0T%2B3rJbP7V5W2UPu2bs4BGOo9aqDSmmxPY8%2BorqP8AhW3/AFGv/Jb/AOyo/wCFbf8AUa/8lv8A7Kur2tPuTZnL0V1H/Ctv%2Bo1/5Lf/AGVH/Ctv%2Bo1/5Lf/AGVHtafcLMwZv%2BQLb/8AX1N/6DFVWutfwBvso7P%2B1v8AVyu%2B7yOu4KMfe/2f1qL/AIVt/wBRr/yW/wDsqSqw7hZnL0V1H/Ctv%2Bo1/wCS3/2VH/Ctv%2Bo1/wCS3/2VP2tPuFmcvVrUP%2BPSx/69T/6Nkre/4Vt/1Gv/ACW/%2ByqW48AefFBF/a2PJiKZ8jr87Nn73H3sfhSdWF9wszkqK6j/AIVt/wBRr/yW/wDsqP8AhW3/AFGv/Jb/AOyp%2B1p9wszl6K6j/hW3/Ua/8lv/ALKj/hW3/Ua/8lv/ALKj2tPuFmYOsf8AH2n/AF6wf%2BikqrXW3ngD7XKJf7W24iRMeRn7qBc/e9s1F/wrb/qNf%2BS3/wBlSVWFtwszlmVWBVlBB6gis6%2B8GeD9Uz/afhTTbnPXz7CN8/mK7r/hW3/Ua/8AJb/7Kj/hW3/Ua/8AJb/7KhzpSWuvyFKCkrNXPLL34E/A/Us/2j8G/Clxnr5/h22fP5pVPxL%2ByV%2Bype6xdpefsy/D6ZRcyACXwZYsMbj6xV6//wAK2/6jX/kt/wDZVLfeAPtt7Nef2tt82Vn2%2BRnGTnH3qwlRwM371OL/AO3Y/wDyJzywOEn8VKL9Yxf/ALafP13%2Bwv8AsVXufP8A2R/hrk9SngewQ/msQrNuv%2BCdv7C13nzf2T/Aoz/zy8Pwp/6CBX0d/wAK2/6jX/kt/wDZUf8ACtv%2Bo1/5Lf8A2VZPA5TLejD/AMAj/wDImMsoyuW%2BHp/%2BAQ/%2BQPmG5/4JjfsCXefN/ZY8KjP/ADytnT/0FhVex/4JPf8ABPDUtVtre6/Ze0QpJcIrrHeXaZBYA/dmFfU3/Ctv%2Bo1/5Lf/AGVS2PgD7Few3n9rbvKlV9vkYzg5x96sZZXkklrh6f8A4BH/AORMXkOSy3wtP/wCH/yJ8f3H/BIP/gnLc/6z9miyGf8Annr2pJ/6Dciqc3/BGj/gm3Nz/wAM5bD6x%2BLdXH/t3X2P/wAK2/6jX/kt/wDZUf8ACtv%2Bo1/5Lf8A2VQ8m4fe%2BGp/%2BAR/yM3w3kD3wdL/AMFx/wAj4tn/AOCK/wDwTmmGF%2BB95H/ueLtTP87g1Um/4Ih/8E7pfufCrVY/9zxVe/1lNfbv/Ctv%2Bo1/5Lf/AGVH/Ctv%2Bo1/5Lf/AGVQ8h4cf/MLT/8AAF/kawyLKKfwYeK9Fb8mj4ftP%2BCFv/BPW9naNvAmvoBBKw2eKLjqsbMOpPcCs%2BX/AIIT/sByfc8O%2BKI/9zxLJ/VTX3rZ%2BAPskpl/tbdmJ0x5GPvIVz973zUX/Ctv%2Bo1/5Lf/AGVZ/wCr3DTeuFp/%2BAnRHLsLD4Ytek6i/Kqj4Hl/4INfsGSfdtPGCf7viP8AxjNQP/wQQ/YWY5ivPHMZ7FPEMfH5wGvv/wD4Vt/1Gv8AyW/%2Byo/4Vt/1Gv8AyW/%2ByqXw3ww/%2BYWn/wCA/wDBNo4fl%2BGdRelWuvyro%2BAF/wCCDX7HEJzZ%2BPPiXb%2Bnk%2BJoB/7bVdsP%2BCFn7MCQXMlp8cfjDbmKAMvkeL7defMRef8ARPevvL/hW3/Ua/8AJb/7KpbfwB5EU8X9rZ86IJnyOnzq2fvc/dx%2BNH%2BrfDS2w0Puf/yQ3Qct6lT/AMHV/wD5oPguH/gip8DbX/jy/ae%2BOcH/AFy8cW6/%2B2lXIP8Agj38OrQf6F%2B2X%2B0LD6eX8Q4R/K0r7j/4Vt/1Gv8AyW/%2Byo/4Vt/1Gv8AyW/%2Byq1w/wAPR2oL75//ACZzzy6hU%2BJzf/cWv/8ANB8Sx/8ABJ3Sbb/jy/by/aOix02/ElR/K3FfQn7DX7LUv7NA8UK/7Q3xK8eLrP2LaPiH4m/tH7B5P2j/AI9/kXy9/m/P13eWn92vVv8AhW3/AFGv/Jb/AOyrU8N%2BG/8AhHvO/wBN87ztv/LPbjGfc%2BtbUsqyrDTVSjTtJbaz/Jza/AVDK8HQrKrCL5l3nUf4SqSX4M1KKKK6j0QooooAKKKKACvGfC3wg8K/Be617QvCct1JHrPirU/EF7JeSKzm71C6kvJgNqqAivMUQYyEVQSxyx9mrB1rwT/a%2Bpy6j/afl%2BZt%2BTyc4woHXcPSqpxpqqpyWqvZ9r2v99jeOKxNPDTw8JtQm4uS6S5G3G/%2BFybXm2cbRXUf8K2/6jX/AJLf/ZUf8K2/6jX/AJLf/ZV1e1p9zlszl6ZPBBdQPbXMKSRyIVkjkUFWUjBBB6gjtXV/8K2/6jX/AJLf/ZUf8K2/6jX/AJLf/ZUe1p9wszy3xX%2Bzf%2BzvqptfDeqfAXwXc6doFncaVoVhceFrR4dOsHXyntYEMe2GFowEMaAKVABGOKin/Z9%2BAtzotz4aufgj4Qk068j2Xenv4atTBOv2l7va6GPaw%2B0yST4I/wBa7P8AeJNeuX3gD7bezXn9rbfNlZ9vkZxk5x96ov8AhW3/AFGv/Jb/AOypKpTsFmee%2BE/hx8PPAMK2/gXwHouixpG8aJpOlw2wVHmkndQI1GA00sspHd5HY8sSall8Gvg/pup6xrWnfCnw1b3niGVJfEF3DoVukupur71a4YJmYhiWBckgnPWvTf8AhW3/AFGv/Jb/AOyo/wCFbf8AUa/8lv8A7Kn7Wn3CzPO9B%2BC/wdj8X6lrsfwm8MrfeKSlv4nvBoNuJdXhOFMd0%2BzNwhUkbZCwxxXP6j%2Byz%2BzHrHhSy8B6t%2Bzl4DutD026e507RrjwhZPaWs7sGeWOFoiiOzKCWUAkgEnivabHwB9ivYbz%2B1t3lSq%2B3yMZwc4%2B9UX/AArb/qNf%2BS3/ANlS9pTuFmeS2n7On7Plh43tfiZY/AnwbD4ksoY4bLxBF4YtFvreOOJYURJxH5iKsaJGAGACqFHAArsq6j/hW3/Ua/8AJb/7Kj/hW3/Ua/8AJb/7Kn7Wn3CzOXq1o/8Ax9v/ANes/wD6Ket7/hW3/Ua/8lv/ALKpbPwB9klMv9rbsxOmPIx95Cufve%2BaTqwtuFmclRXUf8K2/wCo1/5Lf/ZUf8K2/wCo1/5Lf/ZU/a0%2B4WZy9FdR/wAK2/6jX/kt/wDZUf8ACtv%2Bo1/5Lf8A2VHtafcLMwdP/wCPS%2B/69R/6NjqrXW2/gDyIp4v7Wz50QTPkdPnVs/e5%2B7j8ai/4Vt/1Gv8AyW/%2BypKrC%2B4WZy9FdR/wrb/qNf8Akt/9lR/wrb/qNf8Akt/9lT9rT7hZnL1ah/5Atx/19Q/%2Bgy1vf8K2/wCo1/5Lf/ZVKngDZZSWf9rf6yVH3eR02hhj73%2B1%2BlJ1YdwszkqK6j/hW3/Ua/8AJb/7Kj/hW3/Ua/8AJb/7Kn7Wn3CzOXorqP8AhW3/AFGv/Jb/AOyo/wCFbf8AUa/8lv8A7Kj2tPuFmYM3/IFt/wDr6m/9BiqrXWv4A32Udn/a3%2Brld93kddwUY%2B9/s/rUX/Ctv%2Bo1/wCS3/2VJVYdwszl6K6j/hW3/Ua/8lv/ALKj/hW3/Ua/8lv/ALKn7Wn3CzOXq1qH/HpY/wDXqf8A0bJW9/wrb/qNf%2BS3/wBlUtx4A8%2BKCL%2B1seTEUz5HX52bP3uPvY/Ck6sL7hZnJUV1H/Ctv%2Bo1/wCS3/2VH/Ctv%2Bo1/wCS3/2VP2tPuFmcvXeeDP8AkWrb/gf/AKG1Zf8Awrb/AKjX/kt/9lW9oum/2RpkWned5nl7vn24zliemT61nVnGUbIaTTLVFFFc5QUUUUAFFFFABRRRQAUUUUAFFFFABRRRQAUUUUAFFFFABRRRQAUUUUAFfPfxY/aj%2BKng74s67H4bsfDx8H%2BC/E/hPQfEdpfWE76jfz61d28DTW86zrHbpbpeW0m1oZTMVlTMfytX0JXlvjv9kzwH4/8AimPidqXinxBaxXF9o99rfhqyuLddO1i70q4%2B0afcXAeFpg8Mojb91LGsnkRLIJFQCgD1KiiigAooooA%2Bf/hz%2B0r8Q9d/aq8RfCP4geKtF0TSrbxZc6T4T0af4carFPraRaZBebotZkuvsUkwLXDmBIjJ5Vs5wArOPoCvN7r9mvStU%2BMGn/FjxD8UvF%2BqW%2Bja5LrOheE9Qv7eTTNN1CSyksmni/cC5x5M9wFhedoUadmWMEIV9IoAKKKKAOJ/aQ8ZfEb4efAjxX47%2BE%2Bn6Lc6/o2iz3tjH4hklFmvlKXd5BD88m1AzCMFPMYBPMjDGRfFfDn7ZPxk1zXIPF0ml%2BGI/CWmeNPCvhDxFpw064OoXGoazpumXQu7e4%2B0eXFDHJrNknkvFIzLHMfNX5RXvXxj%2BGrfGH4aav8ADNvHOs%2BHYdasntLvU9AS0N0sEilZEX7XBPENykqSYyQDlSpwR5l4E/YM8C%2BCdZ0nU7r4ueNtbt9O1Gw1O90rVZtOW11fUrG3W2sr65W2somMsMEVrGoiaONvsVu0iO6F2APc6KKKACvLP2xPix8Vfgl8GZPiN8J9J0C6ubLWLFNUPiFpzHFZS3CRSGKOEqZZSXVVDOiruLkvsEUnqdcD%2B0d8BYP2j/hzJ8MtR%2BJ/iTwvY3F1DNeT%2BGEsDNcCKRZEjY3trcKqh0RvkVWJUDdgkEA89%2BBn7SvxD8b/AB/8QfDb4meKdF0iKDxJren%2BGvDb/DjVbO41G2s5tqTRatPdG0u38rErxQxbgrbsKqk19AV5X4R/ZZttC%2BIWkfETxf8AHHx34xm8P3F3d6HYeKLyxe3sr25haGe6T7PaQyFmSSdVjZzDEs7pFHGgRU9UoAKKKKAPGP2zPi98cfgd4Em%2BJHwtbwg1npunTONJ16zurm/8R6qzxJY6NZJDLEsMty7PGJ2MxV2j/cMu4jD/AGUf2o/ip8YNc8ISfEix8PLpvxO%2BFy%2BPPB0WiWE8E%2Bl2fm2oNndvLPKtzKItRsz50awqWWYeXjaa7b4y/s0p8X/iT4Z%2BKUHxp8XeGdR8JWt5Fo8OhQaTPbpJchFkuTHqFjcgXAjQxLKu1ljlmQYEr7ovgZ%2ByZ4D%2BAmuJrXh7xV4g1VNP0BdB8MWOt3Fu8Ph7SFl80WFoIYI28rIiXdM0sm23hXfhAKAPUqKKKACvnL9uj9or9pX9m/Sm8ZfCvTfBmrQT/ZbPw74OutNvbvWfEF27SNeSRmGeJYIrS2X7UyhJjKkEyloCUavo2vJPiL%2ByXB8QPjJd/GmD4%2BePNBvrzw3HoL2OhSaWsUFiJHklS3lmsZLq0eZnBkkgmjkYwwkMDDGVAF/ZI%2BNXiD4x%2BFL6bxr490nVNdsDanUtLsPh/qfhufTPOgWRVlttSuJppFb5ik67Y3Cnbu2k161XB/B74DWHwm1rXPF2ofETxH4u8QeIY7OHU/EHih7T7Q9varItvbqtnb28KohmnfiPczTOWZsjHeUAFFFFAHyl%2B1v%2B2J%2B0T%2Bzb8YfDngax0/wheWvjzxTY6B4Xtrvw5qaJYG%2Bmjs7a8n1JpktryVbt90ml26LcC33TCQJGzn2f9nP4n%2BNfiBZeLPDHxJGlyeIPBHjGfQdUvtEs5La0vcW1teQzxwyyzPDm3vIQyGWTDq%2BGIxXJ/Ff9gv4efGbxH/bHjT4qeOnsbXxN/wAJNoGgxarbfZdD14QmKLU7VntmnWSIs8iRSSyWyyOW8npj0X4OfB/Rfg14evtI07xBqms3ur6xcarrmu628Ju9SvJtoaWTyIoolwiRxqscaKqRIoXigDraKKKACvjf44ftnftb/Cj9oDTvghHaeFZf7VumnvL2x%2BFfiDUTotl5g8ryI47mOTXyY5IhLPZrHHay7Y5V3TxgfZFeGyfsM6Uni6x8c6Z%2B0l8ULPUtBjvoPCM8Wr2En9hWt5cRz3VrGJrJxdxSGGBdt99qKLDH5ZRlDUAemfBrxvafEj4XaL43svGWm%2BIE1CyEjaxpGmS2VvcOCVfbbzSSyW5DBlaKR2dGVlbBBA6aua%2BEPwr8N/BX4eWHw38K3F5Pa2LTyyXmozCS4u7ieZ7i4uJWVVUySzSySNtVV3OdqqMAdLQAUUUUAFFFFABRRRQAUUUUAYnxK8b2Pwz%2BHOv/ABI1O1kntvD%2BiXepXEMRw0iQQtKyj3IQgV5j%2BzN8bPjF4y8bah8NfjfH4bk1RPAugeK7K68L6fcW0MUOpPfRPZOs88xkeCSyP78FBKsy/uoypz6/rmi6V4k0W88O67Yx3Vjf2slteW0oys0TqVdD7FSQfrXA/AX9mbwx8BLq91Wx8b%2BJPEmo3mjaboyan4nubeWe30uwE/2OyQwQQgpGbm4be4eZ2mYySOcYAPSKKKKACuB/al%2BI3jj4Rfs6eM/id8NNHgv9f0Pw/cXmkWd1p813HLOi5UNDA6SSjP8AAjKx6Aiu%2BrK8c%2BFR448Iaj4S/wCEj1XSDqFq0Karod79nvLRj92WGTBCupwRkMpxhlZSQQDkv2bvihd/FLwbqF7q/wAQdM1/UtL1qSw1P%2Bz/AARf%2BHZLCURRSC3nsNQnmuIpdkqSguVDxzRsq7SGb0KuM%2BDfwV0r4Ow69dJ4v1rxFq/ijWhqviHxB4ga2%2B1XtwttBaR5W1hhgjVILaCNVjiQYTccuzM3Z0AFFFFAHz7%2B17%2B1d8Tv2X/GUWuDwpoV/wCCrb4ceJvEF8rTTHU7q70qxe88mMjEUEWxVXcRKzmU8RCPMvW/AT4m/FvVPiL4u%2BCnxxn8OXmv%2BGdN0jVF1Twrpk9naTWuoLcqsZhnnncSRzWVyC/mYdDGdqHIqv8AHz9j/wAO/tF%2BNtN8UeOPix4st9LsNKvdMn8JafHpf9nX9pexeTewzGaykuSJ4f3bFJkKrzGUb5q6H4K/ALSfgzc6xrUvj3xF4r1vXfsqal4h8VT2z3ckFtF5Vvb/AOjQQxiOMNIw%2BTczzSMzMzE0Ad5RRRQAV8z/ALSf7Un7Sfwl%2BI3jbwn4S8LeGJrHTPB2k6t4VddHv9VvHM%2Bqw2VzNcwW8kTSKiySstvD82IQ5lPmGOP6Yrx3x3%2ByHc%2BOPjFffGiL9pv4k6JfXejR6ZFp%2BgzaRBb2lvHMJ41jZtPac4nAkIkldZOY5A8LNEQDp/2dviVL8Uvh4devfHum%2BIL221K4s9Rn03wle6EbWeNsG3msL6aW4t5VBXKyMCQysFAYZ7uuQ%2BDfwb0b4M6NqllZeJdW1zUNd1ubV9e17XXgN3qN5IkcXmOLeKKFNsUMMSrHGihIl4zknr6ACiiigD5Q%2BIn7Vn7Vvg79qnwn%2By3Zy/Dm41Dx/fX8dtfWei391F4LjhjubyzXUD9riN/Le2NjfNGqC02S2r/6xMMfdP2avirrPxm%2BDmneOPE2nWtrqy3uoaZrEVhu%2Bzm9sL6exuHiDksImltpGQMSQrKCSRk%2Bfab%2BwLo2l311qtt%2B0h8RftknjC58VWN80WhfaLDWJ/MR7tJf7L3zEWs01ksdwZo1tZPKCfJEU9Z%2BEvwv8NfBn4d6Z8NPCT3UllpkTAXN9MJLi6ld2lmuJXAAaWWV3kcgAFnYgAcUAdHRRRQBHdNcpayPZQpJMIyYY5ZCis2OAWAJUE98HHoelfFvij9tz9rbwV8cX%2BD/AIr1nwIulaVo4uvFfjvwz8KNf16w0jUfJMs2jNDaXwkMlvH5Mz3bFFMd1HuhhKtn7Q1G0lv9PnsYNQmtHmhaNLq22%2BZCSCA671Zdw6jcpGRyCOK8I8G/sHT%2BAfAFl8NvC37YHxatNNsLKe0iEMugo0sc%2BTcvNs0oC4nlc%2Ba1zKHuBJvZZUMs3mAHuHhvVrTX/Dthrun6xaajBe2UU8GoWH%2BoukdAwlj%2BZvkYEMvzNwRyetXazPBPg7w78O/BmkfD/wAIaeLTSdC0y30/S7RXLCG2hjWONMsSThFUZJzxWnQAVleNz42HhHUR8N10o68bVhpJ1tpBaLORhWmEQ3sgPJVcFsY3LncNWsT4keBNP%2BJvgbU/Aep6vqenxalbGL%2B0NGvTb3dq%2BQySwyDO11YKwyCpIwwYEggHx54a/wCCiX7RGt3PxVnisfCEunfA/T7PWfFc174O1PS77X9OuHnPlxWFzeefotxHHY3uBdCczA2sqxrHMDX29Xz3/wAO5vhlc%2BJfEHjDW/i5471HU/G9xat8SLm5u9OQeL4LYQrbWt4kVkiRwxRw%2BUotVt2ZJZQ7OZGJ%2BhKACiiigDlvjNqnxF0X4fXur/DC40uDUbXbNNdato15qSQWqHfO0dlZFZ7yby1YRwRujO5UA5%2BVvmL9lT9vL4z/ABm%2BIqaZ8Wtf8L%2BGNGfxCukaQi/DHWQNdkxKo/4mL3pttMuZHjI%2BwXCvPDIHt33So1fUHxW%2BGkXxT8NQ6EvjTXfDt1aajBfafrXhy6jiurWeJtykCaOSGVSNytHLHIjKxBXOCPNPB/7CPgvwjeWEb/Gbx/qukWviv/hKb3w5q%2Bp2ctlqOum6kvG1CTbarLExu3%2B0GC3khtvMRSIR8wYA9xooooAKKKKACiiigAooooAKKKKACiiigAooooAKKKKACiiigAooooAKKKKACiiigAooooAKKKKACiiigAooooAKKKKACiiigAooooAKKKKACiiigAooooAKKKKACiiigAooooAKKKKACiiigAooooAKKKKACiiigAooooAKKKKACiiigAooooAKKKKACiiigAooooAKKKKACiiigAooooAKKKKACiiigAooooAKKKKACiiigAooooAKKKKACiiigAooooAKKKKACiiigAooooAKKKKACiiigAooooAKKKKACiiigAooooAKKKKACiiigAooooA//9k%3D\">"
            ]
          },
          "metadata": {
            "tags": []
          }
        }
      ]
    },
    {
      "metadata": {
        "id": "JijpeRR5boL-",
        "colab_type": "text"
      },
      "cell_type": "markdown",
      "source": [
        "# Submit a linear model"
      ]
    },
    {
      "metadata": {
        "id": "_eFDILIbboMA",
        "colab_type": "code",
        "colab": {}
      },
      "cell_type": "code",
      "source": [
        "## GRADED PART, DO NOT CHANGE!\n",
        "# Testing shapes \n",
        "grader.set_answer(\"9XaAS\", grading_utils.get_tensors_shapes_string([W, b, input_X, input_y, logits, probas, classes]))\n",
        "# Validation loss\n",
        "grader.set_answer(\"vmogZ\", s.run(loss, {input_X: X_val_flat, input_y: y_val_oh}))\n",
        "# Validation accuracy\n",
        "grader.set_answer(\"RMv95\", accuracy_score(y_val, s.run(classes, {input_X: X_val_flat})))"
      ],
      "execution_count": 0,
      "outputs": []
    },
    {
      "metadata": {
        "id": "owiIRKHqboMD",
        "colab_type": "code",
        "colab": {
          "base_uri": "https://localhost:8080/",
          "height": 34
        },
        "outputId": "e517eef1-e518-4818-83bf-e18d0d6484fa"
      },
      "cell_type": "code",
      "source": [
        "# you can make submission with answers so far to check yourself at this stage\n",
        "grader.submit(COURSERA_EMAIL, COURSERA_TOKEN)"
      ],
      "execution_count": 88,
      "outputs": [
        {
          "output_type": "stream",
          "text": [
            "Submitted to Coursera platform. See results on assignment page!\n"
          ],
          "name": "stdout"
        }
      ]
    },
    {
      "metadata": {
        "id": "HfJ9dyIQboMF",
        "colab_type": "text"
      },
      "cell_type": "markdown",
      "source": [
        "# MLP with hidden layers"
      ]
    },
    {
      "metadata": {
        "id": "JoUWt7XxboMH",
        "colab_type": "text"
      },
      "cell_type": "markdown",
      "source": [
        "Previously we've coded a dense layer with matrix multiplication by hand. \n",
        "But this is not convenient, you have to create a lot of variables and your code becomes a mess. \n",
        "In TensorFlow there's an easier way to make a dense layer:\n",
        "```python\n",
        "hidden1 = tf.layers.dense(inputs, 256, activation=tf.nn.sigmoid)\n",
        "```\n",
        "\n",
        "That will create all the necessary variables automatically.\n",
        "Here you can also choose an activation function (remember that we need it for a hidden layer!).\n",
        "\n",
        "Now define the MLP with 2 hidden layers and restart training with the cell above.\n",
        "\n",
        "You're aiming for ~0.97 validation accuracy here."
      ]
    },
    {
      "metadata": {
        "id": "PisIRDDgboMH",
        "colab_type": "code",
        "colab": {}
      },
      "cell_type": "code",
      "source": [
        "# write the code here to get a new `step` operation and then run the cell with training loop above.\n",
        "# name your variables in the same way (e.g. logits, probas, classes, etc) for safety.\n",
        "h1 = tf.layers.dense(input_X, 256, activation=tf.nn.sigmoid, kernel_regularizer=tf.contrib.layers.l2_regularizer(0.2))\n",
        "\n",
        "logits = tf.layers.dense(h1, 10, kernel_regularizer=tf.contrib.layers.l2_regularizer(0.6))\n",
        "probas = tf.nn.softmax(logits)\n",
        "classes = tf.argmax(probas, axis=1)\n",
        "\n",
        "loss = tf.reduce_mean(tf.nn.softmax_cross_entropy_with_logits(labels=input_y, logits=logits)) \n",
        "\n",
        "# Use a default tf.train.AdamOptimizer to get an SGD step\n",
        "step = tf.train.AdamOptimizer().minimize(loss)"
      ],
      "execution_count": 0,
      "outputs": []
    },
    {
      "metadata": {
        "id": "GEjpa1UNrv35",
        "colab_type": "code",
        "colab": {
          "base_uri": "https://localhost:8080/",
          "height": 309
        },
        "outputId": "77bf3dce-4021-4dbf-ce28-4a76cfde0c23"
      },
      "cell_type": "code",
      "source": [
        "s.run(tf.global_variables_initializer())\n",
        "\n",
        "BATCH_SIZE = 512\n",
        "EPOCHS = 40\n",
        "\n",
        "# for logging the progress right here in Jupyter (for those who don't have TensorBoard)\n",
        "simpleTrainingCurves = matplotlib_utils.SimpleTrainingCurves(\"cross-entropy\", \"accuracy\")\n",
        "\n",
        "for epoch in range(EPOCHS):  # we finish an epoch when we've looked at all training samples\n",
        "    \n",
        "    batch_losses = []\n",
        "    for batch_start in range(0, X_train_flat.shape[0], BATCH_SIZE):  # data is already shuffled\n",
        "        _, batch_loss = s.run([step, loss], {input_X: X_train_flat[batch_start:batch_start+BATCH_SIZE], \n",
        "                                             input_y: y_train_oh[batch_start:batch_start+BATCH_SIZE]})\n",
        "        # collect batch losses, this is almost free as we need a forward pass for backprop anyway\n",
        "        batch_losses.append(batch_loss)\n",
        "\n",
        "    train_loss = np.mean(batch_losses)\n",
        "    val_loss = s.run(loss, {input_X: X_val_flat, input_y: y_val_oh})  # this part is usually small\n",
        "    train_accuracy = accuracy_score(y_train, s.run(classes, {input_X: X_train_flat}))  # this is slow and usually skipped\n",
        "    valid_accuracy = accuracy_score(y_val, s.run(classes, {input_X: X_val_flat}))  \n",
        "    simpleTrainingCurves.add(train_loss, val_loss, train_accuracy, valid_accuracy)"
      ],
      "execution_count": 104,
      "outputs": [
        {
          "output_type": "display_data",
          "data": {
            "text/html": [
              "<img src=\"data:image/jpeg;base64,/9j/4AAQSkZJRgABAQEASABIAAD/2wBDAAIBAQEBAQIBAQECAgICAgQDAgICAgUEBAMEBgUGBgYFBgYGBwkIBgcJBwYGCAsICQoKCgoKBggLDAsKDAkKCgr/2wBDAQICAgICAgUDAwUKBwYHCgoKCgoKCgoKCgoKCgoKCgoKCgoKCgoKCgoKCgoKCgoKCgoKCgoKCgoKCgoKCgoKCgr/wAARCAEgA2ADASIAAhEBAxEB/8QAHwAAAQUBAQEBAQEAAAAAAAAAAAECAwQFBgcICQoL/8QAtRAAAgEDAwIEAwUFBAQAAAF9AQIDAAQRBRIhMUEGE1FhByJxFDKBkaEII0KxwRVS0fAkM2JyggkKFhcYGRolJicoKSo0NTY3ODk6Q0RFRkdISUpTVFVWV1hZWmNkZWZnaGlqc3R1dnd4eXqDhIWGh4iJipKTlJWWl5iZmqKjpKWmp6ipqrKztLW2t7i5usLDxMXGx8jJytLT1NXW19jZ2uHi4%2BTl5ufo6erx8vP09fb3%2BPn6/8QAHwEAAwEBAQEBAQEBAQAAAAAAAAECAwQFBgcICQoL/8QAtREAAgECBAQDBAcFBAQAAQJ3AAECAxEEBSExBhJBUQdhcRMiMoEIFEKRobHBCSMzUvAVYnLRChYkNOEl8RcYGRomJygpKjU2Nzg5OkNERUZHSElKU1RVVldYWVpjZGVmZ2hpanN0dXZ3eHl6goOEhYaHiImKkpOUlZaXmJmaoqOkpaanqKmqsrO0tba3uLm6wsPExcbHyMnK0tPU1dbX2Nna4uPk5ebn6Onq8vP09fb3%2BPn6/9oADAMBAAIRAxEAPwD9/KKKKACiiigAooooAKKKKACiiigAooooAKKKKACiiigAooooAKKKKACiiigAooooAKKKKACiiigAooooAKKKKACiiigAooooAKKKKACiiigAooooAKKKKACiiigAooooAKKKKACiiigAooooAKKKKACiiigAooooAKKKKACiiigAooooAKKKKACiiigAooooAKKKKACiiigAooooAKKKKACiiigAooooAKKKKACiiigAooooAKKKKACiiigAooooAKKKKACiiigAooooAKKKKACiiigAooooAKKKKACiiigAooooAKKKKACiiigAoorkvh18c/hT8WvEnifwl8OvF8Wq33g3VBpviNILeUJa3W0kxCRkCSlSGVjGzBHR0YhlZQAdbRXDfB/9pL4NfHm6vLP4W%2BK5tQeytLe8b7Ro93aLcWc7SrBeW7XMUYurWQwyhLiEvE%2Bw7XNdzQAUUUUAFFFFABRRRQAUUUUAFFFFABRRRQAUUUUAeJ%2BLv%2BCin7H3gTULzT/FfxUubQWeqNpovD4U1R7S8vFv4dPkt7S4S2MN7JHdzxQSLbvIYnYh9u1sbR/bP/Z0j8c2Xw5uvGOo2%2BqXl1YWbLd%2BFNTht7K9vYo5bSxu7h7YQ2N5KksRW0uHjnJmjHl5dQfErn9jP9q2PwF4b/Z10zU/h6PAvhP4t6b4rttaudRvX1XVbO38XWuti3kgFqIrWWOBLiLeJZhcSLET9nVm29D44/Y%2B%2BNmu%2BMfFvgfRdT8Lf8IB45%2BL2g%2BPdV1q61K5XWdPfT5NKnksIrVbdoZhLLpMW24a4jMSXDDynMalgD0K1/bq/Zfu4NXvh4/vobPRtPub2XUrzwpqcFpewW86W8z2NxJbLFqO2aSOPFq0xLSIADvXPZ/Cn4y%2BAvjTpN7q/gS51PGm6gbLUrPW/D17pV5aTiNJdktrfQwzx5jljdSyAMrggkHNfM2m/sQfHy11bxNa2nhL4cab4Y1nQdTttW8Cr4y1q%2B8O%2BKby4u4JY7htMngEegMES4JezknPmXIYiXyhu9A/Zx/ZN8deGNMuf%2BF2%2BMvEMMFj4rXU/BfhnQ/jJ4h1KDRbYW9srW019M1rNqcLzwySiC6jeKJZTGoKE5AOki/bx/ZUmj8QXQ%2BJsq2vhvRNV1e%2B1GXw7qCWl1ZaaSL%2BayuGtxFqQtyMSC0aYqSARkjPN%2BO/%2BCl/7MvhDwrL4m0e78Ta48HiLw3pkum6f4G1f7U8Wt34s7O/hia0D3Nq5Wdo54Q8czQmKJnleNG8U0P/AIJY/EfRvg1rnwS8vRLr%2Bzfhv4o8OeBfFerfFfxNfl5tRsp7K2kfSZ82OlqIZisxgFxkjMaR8Ad58f8A9iH42eO/HD/EP4fan4Ue50/w58OYtJ07V9TubaO5vvDfiibWZ4pZIraUwwyxOkSSqkjByxMWANwB6q/7c/7Mi22vXcfjfU5k8N%2BJP%2BEe1IW3g/VZWfV/OeE6dbqlqTeXYdCTBAJJAhWQrsZWNTVP%2BCgv7KGk2mjTyeP9Vup9fstVutM0vS/BOsXl%2ByaZcRW%2BoLJZwWj3EMtvLMiyRSRrInzErhHK8LbfsdfGnQvC1p4g0K%2B8KzeK9A/aE1n4j6Npl1qdzHp99BfLqFubOe5W2aSGQW2oykSLDKFliT5WFeYaR8I/2lvgv%2B3N4Q1TwfpvgbV/HfinwH8S/EusaRqeu3lrpFr9s1vwuEt4LtLOWZvKVbfMht184rL8sXmDaAfUdj%2B2R%2BzTqngzWfiFpXxSt7vR9BuNJg1C9tLG5lBbVIbSbTzCqxlrlbhL618t4Q6s0hTO5HVfTa%2BBvht%2ByHa%2BCP2rPgr%2Bzt4K%2BJdhrth8PPhnor/G%2Bzs04e90Bd3h55VUkW0kt1qM9ykb/O0WnR4yqA1980AFFFFABRRRQAUUUUAFFFFABRRRQAUUUUAFFFFABRRRQAUUUUAFFFFABRRRQAUUUUAFFFFABRRRQAUUUUAFFFFABRRRQAUUUUAFebfFX9rr9n74J%2BMo/AfxJ8b3FlqP2W0urz7PoN9d2%2Bm291cPbW097cW8Dw2EUs0ciJJcvGrGN8E7Gx6TXyH%2B3j%2BxV%2B1H%2B1JrPjPRvCPxC0//AIRzXfCFpZ%2BGLbUPiDrWlQaNfQvPJN5%2BnafF5Gpx3LGBTLcyN5CqSsEu3Y4B7BD%2B3X%2BypJd63bTfFVbWLQNP1C%2Bu9Q1DRb22srm3sJlgvZLO6lhWHUBDK6Rv9leUq7qp5YA6HgT9sD9n34j%2BJNO8F%2BGvGF9Hreqandafb6Hq/hnUdOvorm3tI7yWOe3u7eOW2P2aWOZfOVBIkilC2RXhmh/sa/ta3n7K5/ZC8Qa18PNK0DRdIk/sDWrK/vtQu9QvotShvrAXKPb2620MZiMU5Rp2uNwdRBzGev8AGPwl/bT8a/EDwP8AHrVND%2BGCa/4M8S6hJaeDoPE2oLZjTLvS/sjltTNgZJrgTjzgPscaeWfKzlfNYA7XQ/26f2WvEuu2HhzQ/iXLcXWo6FPrUWzw9qAih02Ge5t5ryeUweXawJNaTxtJMyKGCAn97Fvb4e/bs/Zd8TeE9d8a2XxCvbay8O2On3upR6v4V1OwuWtr%2BRorGaC2ubaOa7juZVaKBoEkE0gKRlm%2BWvHf2fP2Ef2lfgx4b1d4vij4XsfFFx8E7vwro/iLS45pVsdak1bVr6K9EMsQBgT7dbttLE7o3XBADNyVj/wTm/ajuPGmo/ETUNd8OxX8%2BjeEZ7O31r4p6/4kYax4d17%2B1oVludQtg/2W73yo/kpEtqdrRwTEsaAPqD4e/thfs7fE/XZfC/hTx/Iup22l3uoXum6vol7ptxZwWcsUV158d3DE0DxNcW5eKQLIqzxOV2SIx7T4e%2BPfC3xU8BaJ8TfA1/Jd6L4i0m31LSLqazlt2mtZ41licxTKkkZKMp2uqsM4IB4r44/bj%2BHvxn%2BMNt8Ofh74w8Y%2BEND%2BKXirxpqGix%2BHvB97cXTw%2BB9SsmtNaXzpUhlmMUKJdm7MMEYnhtogu4oZPtnTtOsNI0%2BDSdLs47e1tYVhtreFAqRRqAFVQOAAAAB7UATUUUUAFFFFABRRRQAUUUUAFFFFABRRRQAUUUUAFFFFABRRRQAUUUUAFFFFABRRRQAUUUUAFFFFABRRRQAUUUUAFFFFABRRRQAV8%2B/DSw%2BLh/aL%2BLM/iH9nTxdoug%2BM5NPt9I8SyanojwhLe0NtJMY4dRedQSd6gxbio5Ct8tfQVFAHzb%2Bxn8HfjP4T8SeHNR%2BKfw4bwzH4G%2BDek%2BB03ala3CazeQSZnu7cW8rlLUCGLyjMI5T57hok2/N7/wCKtZu9D09Lu0SNmaYIRIpIxgnsR6Vp15b8ZPiy2g/Gfwf8Em0pGj8TeHtb1cXxlIaJ9Pm02IRBcYIddQdic8eSBg7uFzwpyjz7NpfN6L8TpwuDxGNlKNFXcYzm/wDDCPNJ/Ja23fQ6D/hYetf8%2Btr/AN8N/wDFUf8ACw9a/wCfW1/74b/4qsGiu72cOxx3Zvf8LD1r/n1tf%2B%2BG/wDiqP8AhYetf8%2Btr/3w3/xVYNFHs4dguzpH8d6wunxXYt7bc80iEbGxhQhH8X%2B0ah/4WHrX/Pra/wDfDf8AxVZc3/IFt/8Ar6m/9BiqrSVOHYLs3v8AhYetf8%2Btr/3w3/xVH/Cw9a/59bX/AL4b/wCKrBop%2Bzh2C7N7/hYetf8APra/98N/8VU11471iCC3lW3tiZoS7ZRuDvZf73%2ByK5urWof8elj/ANep/wDRslJ04X2C7NT/AIWHrX/Pra/98N/8VR/wsPWv%2BfW1/wC%2BG/8AiqwaKfs4dguze/4WHrX/AD62v/fDf/FUf8LD1r/n1tf%2B%2BG/%2BKrBoo9nDsF2dJfeO9YtZ1iS3tiDDG/KN1ZFY/wAXvUP/AAsPWv8An1tf%2B%2BG/%2BKrL1j/j7T/r1g/9FJVWkqcLbBdm9/wsPWv%2BfW1/74b/AOKo/wCFh61/z62v/fDf/FVyHizxf4T8BeHbrxf468Uadouk2KB73VNWvY7a3t1LBQXkkIVASQMkjkgVwP8Aw27%2Bxf8A9Hd/C/8A8L7Tv/j1Y1a2CoS5as4xfnKK/OSPTwOS55mdN1MFhatWKdm6dKrNJ72bhTmk7a2bTt0Pbf8AhYetf8%2Btr/3w3/xVTaj471iz1Ce0jt7YrFMyKSjZIBI/vV4Z/wANu/sX/wDR3fwv/wDC%2B07/AOPV2fhH41fBv4z6hqt/8Hvi14Z8WQWd4VvJvDWvW9%2BkBcsUDmB2C7gCRnrg46VNPEYCtUUKdSMn2Uot/cpN/gaYvh/iHAUHXxWDrU4K15To1YRV9FeU6UYq70V5K70V2d1/wsPWv%2BfW1/74b/4qj/hYetf8%2Btr/AN8N/wDFV4j8Xv2uPhL8DPiNb%2BAPiTLqljG/hS51661mLQ7u4tLW3iure2CvJDE6hmefpn5dq5/1iZj8W/th/Bbwra6gl7rGoWV5Z6Hc6jEuveF9WsLZzDp51B4GnezIE62wMr26h7hFSTMJaNlHRyU%2Bx5F2e5f8LD1r/n1tf%2B%2BG/wDiqm07x3rF5qEFpJb2wWWZUYhGyASB/erxDQ/2u/gP4h8VS%2BB9K8UX9xqsEl5A8Nt4Z1J4pLm1h864tYZvswjnuFi/eCBCZWT5lQitH4lfGbxf4I8beEfAnwt%2BHdp4m8TeJXurqy07VdcbS7eO1tEjaaR5hbzsrb5reNU8vlpssVCk0OFO2wXZ6x/wsPWv%2BfW1/wC%2BG/8AiqP%2BFh61/wA%2Btr/3w3/xVeDX/wC1DN4g%2BHfwz8XfBzwPDreo/Fa1gu/Dena3q7adDBbPpz6g0tzMkNw0e2JAm1I3JkkQcLudeb0z9t3UNX1D4c3Vt8LbGHS/iI1lDp1vd%2BLohrTTyj/S/s%2Bnxwv9ogsjj7RMZY9qq7KrALvOWn2DU%2Bnf%2BFh61/z62v8A3w3/AMVR/wALD1r/AJ9bX/vhv/iq%2BNfDX/BT7Rde8J6n4guPAmgW9xbpo62tsvjxGi0661C6lg%2Bw61M1qo0m6tlhkluIcTmNI5MFyqh/SbT9qLxRLqvwnsp/hRZzWXxK1i606517SfGFve6fYyR2GoXkT20sSbr5JksGKtthCpKpbDgxUctJ9A1Poex8d6xdTtE9vbACGR%2BEbqqMw/i9qh/4WHrX/Pra/wDfDf8AxVfOnwV/a%2B8YfFnVfHdp4S%2BHnhDUb3wnd%2BJdOsfDGk/EpJdcup9P1G606N7q0ltIksYZjbtL5hmk2KygLITXJa5/wUA8Q%2BH/ABZafDvXPAfgLRtYGt6xpeqX/iX4pPY6Mk9jFpku22vW05muWcamkZQwxFJbedPmKZK5ad9g1Prj/hYetf8APra/98N/8VR/wsPWv%2BfW1/74b/4qvnz4nftOfEP4T%2BOLTR/EfwGe50XVLq7stEutJ8Qrc6nqdzb6NPqbtDYrDg25%2BzS2wkaZZPO2ZhCOHOB8H/20PHfx58J3%2Br/Cb4U%2BE/EFzYalaQT6no/xKWfQLeGaye6dptQFkJFmi2pFJBHbSsj3MBJCM7xvlp9guz6i/wCFh61/z62v/fDf/FVNbeO9YnguJWt7YGGEOuEbk71X%2B9/tGvmPSf2xvF%2BseGfAHxOi%2BBn2fwh45Hh6GLUbvxMgvhdas4REtrRIX%2B0xwb0klleSH91vkRXVDlPg3%2B27rXxo%2BFvif4n/AA88A%2BEb3TbbR7HUdMlPxQtVFtYXFwH8/Vx5G/Silqq3LIFuPlYqCWVgE40%2Bwan0v/wsPWv%2BfW1/74b/AOKo/wCFh61/z62v/fDf/FV8wD9r34s638HPDnxl8CfBLwxqVp4h1caTaWlx8QJ4XvbttTksYpLFk0yRbqzlRBdx3LGLdbt5hRVBNUtH/b9tp/DvxF8Z634d8HJZeA9R1ywGi6V8Qxda5cT2OsTaXb/aLJ7OJLKO5kh3LI0zhBLGDuBLB8tLsGp9Wf8ACw9a/wCfW1/74b/4qtnwl4ivde%2B0fbIol8rZt8pSM53dck%2BleKfAb4p3/wAYfAQ8Y6hZ%2BHYyb2aCOfwn4tj1vTrlUIHmQ3aRxFxnKsrxoyujDBADN658Nv8Al9/7Z/8As1TUhBQukNN3OoooorlKCiiigAooooAK5nxB4y1TSdXm0%2B3gt2SPbtLo2eVB7N7101cH4z/5GW5/4B/6Ata0oqUtRPYtf8LD1r/n1tf%2B%2BG/%2BKo/4WHrX/Pra/wDfDf8AxVePeIv2uf2UfB%2Bu3fhfxb%2B078PNL1OwnaC%2B07UfGljBPbSqcMkkbyhkYHqCARVP/ht39i//AKO7%2BF//AIX2nf8Ax6oeLy2Ls6sE/wDHH/5M9unwvxVVgpwy/EOLSaaoV2mnqmmqLTTTTTTaa1TaPbf%2BFh61/wA%2Btr/3w3/xVH/Cw9a/59bX/vhv/iq8e8O/tc/so%2BMNdtPC/hL9p34eapqd/OsFjp2neNLGee5lY4VI40lLOxPQAEmtb48fGHQPgB8HfEXxm8T6bf3lj4d0x7ua00y0knnmxgKipGrNyxALYwoJZsKCRtSnha8XKnKMkuzT/Js8/HZbmmWVFDG0KlKTV0qkJwbW10pwg2r6XSavpe56jqPjvWLPUJ7SO3tisUzIpKNkgEj%2B9UP/AAsPWv8An1tf%2B%2BG/%2BKrxvWP2xPgRcX2u3tjqfiS6Gk6%2B%2BmahDZeANanmjvNkszQCKO0Ls6Rxs0gVT5QKeZs3puxbn9uL9nvTbudL7xr9rheSM6P/AMI7o2papNfQtpltqRkEVtaMTi2uo5f3ZkXyzuLAh0S1CnbY4tT37/hYetf8%2Btr/AN8N/wDFUf8ACw9a/wCfW1/74b/4qvN7/wCM/gGz%2BGerfF6HUZ7jQNH0NtXm1CKykEdxZi0F2JYHdVWdTEQdyEjOVJDKwHM/Bb4/%2BKPHuq614U%2BJnw0h8M63o/hzS/EBsNO1ttTSTT7/AO1rAS/kQkTrJY3KPEFZQUUq7hxh8lPsF2e6ad471i81CC0kt7YLLMqMQjZAJA/vVD/wsPWv%2BfW1/wC%2BG/8Aiq%2BVPAX/AAUE1nxAPDMUfwj0iLxB4xg8Nal4L0w%2BNt1rcWWsSzrbve3K2hNnIn2dw6JFcKWeNI3lLHboXv7Z3i1Ph3YfFrSvgraXXhyHU/7L8Tah/wAJegMOoprUmjzWmnokDnUHW4icqX%2BzLIrw7CXdkjXLTvsGp9N/8LD1r/n1tf8Avhv/AIqj/hYetf8APra/98N/8VXhPw9/aQ8ReK/2htU%2BAPiT4f6Xp9zY6Pdan5mmeLE1G6sII7mCK3XUoI4VWxluo5xPAglm3xwzZKmMg%2BsVShTfQLs3v%2BFh61/z62v/AHw3/wAVU1j471i6naJ7e2AEMj8I3VUZh/F7VzdWtH/4%2B3/69Z//AEU9J04W2C7NT/hYetf8%2Btr/AN8N/wDFUf8ACw9a/wCfW1/74b/4qsGin7OHYLs3v%2BFh61/z62v/AHw3/wAVR/wsPWv%2BfW1/74b/AOKrBoo9nDsF2dJbeO9YnguJWt7YGGEOuEbk71X%2B9/tGof8AhYetf8%2Btr/3w3/xVZen/APHpff8AXqP/AEbHVWkqcL7Bdm9/wsPWv%2BfW1/74b/4qj/hYetf8%2Btr/AN8N/wDFVg0U/Zw7Bdm9/wALD1r/AJ9bX/vhv/iqmTx3rDafLdm3ttyTRoBsbGGDk/xf7Irm6tQ/8gW4/wCvqH/0GWk6cOwXZqf8LD1r/n1tf%2B%2BG/wDiqP8AhYetf8%2Btr/3w3/xVYNFP2cOwXZvf8LD1r/n1tf8Avhv/AIqj/hYetf8APra/98N/8VWDRR7OHYLs6R/HesLp8V2Le23PNIhGxsYUIR/F/tGof%2BFh61/z62v/AHw3/wAVWXN/yBbf/r6m/wDQYqq0lTh2C7N7/hYetf8APra/98N/8VR/wsPWv%2BfW1/74b/4qsGin7OHYLs3v%2BFh61/z62v8A3w3/AMVU11471iCC3lW3tiZoS7ZRuDvZf73%2ByK5us/x58R/h54B06xufHXjzRdFj%2ByMfM1bVIbZcebJzmRhUTVGmrysl56fm0a0KOIxNRU6MHOT2UU5N%2Biim38kzrv8AhYetf8%2Btr/3w3/xVH/Cw9a/59bX/AL4b/wCKr5r8c/8ABTf9gj4ebhr37UPhi4ZOqaHcPqZJ9ALNZea5T/h6z8I9e/5JP%2Bz18aPHAb/VTeGPhzO8T%2Bh3TNHge%2BK82pnGR05crrwb7J8z%2B6POz7PC%2BGniHjKKrQyuvGD%2B1ODpR/8AAqzoR/E%2Bv/8AhYetf8%2Btr/3w3/xVdN4f1GfVtIh1C4VFeTduCAgcMR3%2BlfDX/DZ/7avjH5PhR/wTL8U7H%2B7deNPGFjo/lj%2B80ThmP0BzX1r%2BzNq/xX134IaJq3xw8IaboPiiYXJ1PSNI1A3Vvb4uZRGFlIG8mIRsewYkDgU6WPwmLly0Yy9XCcV8nJRu/Q4c64Qzjh7CxrY6dFNvl5IYihVqLRu7hSqVHFaWbk0rtLqd5RRRW58wFFFFABRRRQAUUUUAFFFFABRRRQAUUUUAFFFFABRRRQAUUUUAFFFFABXy/wDtaax/Zn7fn7Pllux/aPhjxzb49cR6RL/7Sr6gr48/b5uJtK/4KC/sn61uxA1540sZvdp9Lt9g/wC%2Bo/0rz8zm6dCEv%2BnlL/05Ffqfb%2BH%2BHWLzyvSfXC4371hK0l%2BMT3OiiivoD4QKKKKALU3/ACBbf/r6m/8AQYqq1am/5Atv/wBfU3/oMVVaSAKKKKYBVrUP%2BPSx/wCvU/8Ao2SqtWtQ/wCPSx/69T/6NkpPdAVaKKKYBRRRQBa1j/j7T/r1g/8ARSVVq1rH/H2n/XrB/wCikqrSWwGd4s8IeE/Hvh268IeOvC%2Bna1pN8gS90vVrKO5t7hQwYB45AVcAgHBB5ANcD/wxF%2Bxf/wBGifC//wAIHTv/AIzXW/Fn4seAPgb8O9U%2BK/xS1/8AsvQNGhWXUr/7LLP5KM6oDshR3b5mUfKp6%2BleA/8AD5r/AIJr/wDRyH/ln6z/APIdeXj8TkdGqljZU1K2nPyXt5cybtf5Fx4yrcOL6vDMpYZS97lVedK/Tm5Y1YJ7WvZvS1%2Bh6j/wxF%2Bxf/0aJ8L/APwgdO/%2BM12fhH4K/Bv4Mahqth8HvhL4Z8JwXl4WvIfDWg29gk5QsELiBFDbQSBnpk46189/8Pmv%2BCa//RyH/ln6z/8AIdeu/Ab9sX9nH9r%2BXXtc/Z2%2BIv8AwkVrpF6qajL/AGReWnlNLvaMYuYYy2QrH5QcY5xWWDxfD1XEqOFnSc9bcvs%2BbztypPbfyHLjzEZ3H6nLNZ11L7DxNSonbX4JVpp23%2BF2303Oe/aP/ZU1P49eLrPxJp3xGt9GhXw3Po%2BpWs%2BhNdtPG9/Y3qPG4uIhEyvZBTuWQMshxtK5Pnfxr/4JsX3xd%2BIGveP4vi5otld6vqOqzwahd%2BBBd6lDbX%2BhXOkS2T3n2tHkt4luDLDGgjRGXDrKfmHsvxV/aW8DfB/WdS0DxTo%2BryXdj4bh1exhs7eJjq3mXgsxaWu6Rd9wJ5LVCr7EzeQfOdzbfM/GH/BQ3wVJ4j1L4a/D3TNvifSPFmiafc2%2BrXVlcRy2dz4lsNGu5RHZ3jzW8iLebkW5WFiXRvLdVdR675epGp0nh79kXUvCmpaPrmi/EuD7ZonjvWPE9q11oLPE8t7plzYrC6rcKSsZnEhIYFwmwbN28dj8TPg3408e%2BNPCXj34bfEey8M%2BKvDr3Vta6nf%2BHzqNtJbXiRrPG1uLiE58yG3lRvM%2BVoQCHViK8guP%2BCgTaz4T8NXfw68CapqlxqXiPwjYa3r11pEMGnaeusatb2zQyRi%2BeZJ/s0jyJs86JGeHex3bD638U/it448IaP4Qi8E6Na6b4j8X%2BMdP0XTl8SW4uYdOeVmkllnitp187ZDDKQiTKGbaN6gkgfLysNbnNTfss614d8EfD7wp8KfiJZaPP8LIba18GXmq%2BH3vlNpHpbafJDeIt1Cbjer%2BYGjaEq8ced4DB8bTv2LvFGleHvC3wwt/jpJceCvD19oOozaZf%2BHlfUHvtMnjufNt7yOZFtkuJ4UeZDDISHmVGRZMLY/4aW%2BIb/s8R%2BLY9N0UeMZPiOfA/mG1mOnC9XxAdIa%2B8nzfM8rapuRB5u7pF5uf3leXfEv9vz43/Dw33h%2B40zwzJq3hka4msTW/hjULq11aeyu7eOFSYbk/2Fbyw3MTPe3jS28Ls4LMIiWG4oNTrvDn/BPnVdF0XRbW%2B%2BL%2Bm3d/4J0XQtL8AXn/AAh2yO0i0q6NxBJfxfaz9ulYfI7o1sAHkaNY2fcNiP8AZC%2BK2i2fgG18H/G7w5bHwd461fxffm/8BTzrqGpal/av2hIlj1KIW1sBq8/lxnzXXy4y0j/Nu6LTPij8etY%2BOPxP%2BD9ro/hGKTQfBuiax4HeWW6IZ7641i3/ANOkH3l3abHJsiRSokZN7nDjz2L9rX4/yfCnVvGGnab4VvZ/D3xd0nwzqV/qGgajpEk%2BnXU2lxvKNKuJXubS4338iIs8qho4kuQrxzRox7qDU7LW/wBlT4y%2BKPFWo%2BJ9N/aK0zSdRtNA8SWXgrU9P8BJHc6UdVdJZZrlku1S8eNYgsexLfL4ll811zVdP2Wfi1YfCWy%2BFXhz4q%2BBtLtrXTtR0uSO2%2BGEsttLZXkcYditxqck5u/MWV2nadkmNwxmhkYBw6b9pr4qad8ZtQTT9M8PyeD9P%2BIcfgZ7Ga1nXUZru40iO5W9FyJTGkYubmKAw%2BQzbFeXzM4jrP8ADHxo/ad1a98Z%2BDtU8S/DCK68IQ6TPrnjMadepo%2BivNHdTahYvG91uu5rWKG1cyGa1Upfo7JGYyjnu3YajP8AhiPxfcavr%2Bnar8ZtOvvDmseCj4Q06K68L3DaxomimwS1eC0vvt/lRySSr9pkm%2BylpH2K2ViiCVfEn7EvxX8T6PqEOo/Hjw39q1250iDxLaRfD2aLStV0nToLhIbCS1i1NZMSSzh5mE%2B2WOFIDH5RZWl0n46/tO%2BKvCfwr8VaPqPg7T7rx9qVtbS%2BHtR8GXryy2yGWe71BJv7RjNrE1jC00UckMjJJLDE7MXyI/gR%2B0t8cfij4Q1tdT1zwpH40TSJ7zS/COpeA9X0QWsaXTQm4a4ubiUajCi7dxt0QF2VC8fmAg90NTql/Z8%2BNd38cND%2BMOv/ABe8HX8Gh6Vb2Nloknw9uli0/lhez2RGq7bee4jYRCR0maKNAi5VpRJkfDH9iXxx8LtOVvAHx3tNLn8LeENO8OeBza%2BDwIoNJtb%2BOYW%2Bop9qzqDOgWJnja1I%2Bd1Cs7GsXx9%2B1R8etB/ZI8DftQ6NZ%2BFok1jwLp%2Br61YTeHtRu0udQubWKcW4limWPSbMAyhr%2B6eSKHKFxgZbr2%2BN3x40D9oy4%2BDd3YeFr2DWvD2q3uiWLaZqFgIRbyQG0DapMWgvZJc5mgtoDJbKxY71QNIPlDUsfD/9le58HnwXNqvxAS/k8L%2BMNe8UX8dvo/2eC81LVBe7zDH5z/Zoov7QuQiFpSQw3MWy55/4i/sTaz8YdXvZPid8VdOvNPt7HWIfC8Gn%2BDYrW4tJL%2B8guxJeSCdo70RSW0OFWKASbd0vmP8AMKtv%2B0N%2B0NqX7J1p8b1bwvaarYXusReJZLHwZq2sI4s765tIktNPtJxO29okLyNNtiUMxUrkpNb/ALSXxth8efC861ZeFI9E%2BIv2IJp1hYXl0IUl0trmWYa0JFsd4uFMcVqqSSTxKJUfDMIj3Q1PSfgb8ItZ%2BFkfijVvFXiyz1jW/GHidtb1q50zR2sLNZvsdrZqkFu007Rr5VnEW3SuWkaR8jdtHsXw2/5ff%2B2f/s1cvXUfDb/l9/7Z/wDs1KrpTYLc6iiiiuMsKKKKACiiigArg/Gf/Iy3P/AP/QFrvK4Pxn/yMtz/AMA/9AWtqHxky2PKPEX7I37KPjDXbvxR4t/Zi%2BHmqanfztPfajqPguxnnuZWOWeSR4izsT1JJJqn/wAMRfsX/wDRonwv/wDCB07/AOM1xHxF/wCCrH7A/wAJ/HerfDT4gfHn%2Bz9b0O%2Bks9Usv%2BEX1WXyJ0OGTfHasjYPdSR71i/8Pmv%2BCa//AEch/wCWfrP/AMh15NTHcKxqNTqUOa7vf2d79b3V73vfzLXiXisMvYrO5x5fd5frdVWtpayrpK1rWSVrWsrWPXfDv7I37KPg/XbTxR4S/Zi%2BHml6nYTrPY6jp3guxgntpVOVeORIgyMD0IIIrV%2BPnwsb43/BbxR8Ik14aW/iLRZ7GLUja%2BeLV3UhZDHvTzArYJTcu4Ajcucjyf4df8FWP2B/ix470n4afD/48/2hreuX0dnpdl/wi%2BqxefO5wqb5LVUXJ7sQPevZPit8S9C%2BD3gK9%2BI/iizvJtN014TqDWUaM1vA8yRvcMGZR5USuZZDnIjjcgMQFPo4CtldenJ4KUHG%2BvJy2vbrypK9vwIlxFV4jftp4x4nk05pVZVeXra8p1Gu9k13t1PI/iN%2BwpqnjKOTS/EfxJ0LUXf4iat4k1ey1bwR9r0u8e9haFlFnLdlRJEzGSGSR5VQ/ejfrWR8Av8Agnve/BW70K91D4yRau%2Bh6WthH5Xho2wliTQLDRoyc3MmGCWCysejNIVAUAGuo%2BN//BQz4IfB/wAQ6nL4u0vV00%2B28U6jpUurtdabBA72ckCXMkK3F5HLdLHLM8Rjgjkm320wERAQvzvhD9u4jWdT8PeMPCt3qWrp4m1TSdD0Hwxpcay35i8TarpNsFmurxY/MMOn%2BbKHEaLskcPhhEvWuSyFqemeB/gLHon7OVv%2BzT418Qw6xo0Hgq38Mm4tdPa0lltU09LSVnzLINzkSOMYCB1X5ipds74M/AP4g/DfxHeeOPGHxY0/xDrmoaTpGiXV7H4ZazjOlacLtoIxH9qkxctNezyPPkodwUQqAMWP2Wvjb4o%2BO/w4bxp4m8FzaXI3iDX7OM%2BWkaRx2Wt31hDC6GaRxcCG1jaU48su7bDj5V5P4BftKfEz4jePPDUHjKy0EaD8QfDmt634Vh0yxniutNhsL60hSK6keZ1uXmhvI5CyRwiNonTDhgwrTQNSl4L/AGCLvTBrrXPi7wLdaz4k/suzmeX4SWa6TeW9tdvcStqGnLOEvLi5aU%2BdNG9uMxwmNIthDN8OfsU%2BPPA2qeC28HfFzwy2k%2BD47y8h0LWvAU09t/bV7e3F3eanBHb6jAkDH7Q8UEbJL9mRnCMfMNR/C/8Aa3%2BJnjr9oc/BaDxN4M0zVtS1vxDp%2BkaNLoN1c33h59MvhHbXGooLyP7RFeWytcxhRbfK6bGmXdIOWuv2s/2lNIstC1rxF4r8IW3h3WrvxJcReMdP%2BEetalAum6c9lDbzSWtpqLtAszvfTidpTGbdYSQh3mp924ansHgn4AePNK%2BM9l8VviD8YY/EUehaVq%2Bm%2BG7dfDwtbtLa/u7a4dby4E7rdGIWsMceyKAYBZw7YYeqV5CfiF8a5v2h/C3gnQPHvgvWfDGs6Vda1qcNp4UuUubXTI4kjhkS8GovEzzXU0WwGAK0Udxg5jyfXqtWEFWtH/4%2B3/69Z/8A0U9VataP/wAfb/8AXrP/AOinoewFWiiimAUUUUAWtP8A%2BPS%2B/wCvUf8Ao2OqtWtP/wCPS%2B/69R/6NjqrSW7AKKKKYBVqH/kC3H/X1D/6DLVWl1HWNI0Dwpe6xr2q21laQXELT3V3OsccY2y8szEAD61MmkrsqEZTkoxV29ktW/RK7f3CUV8/fEb/AIKifsS/D3U/%2BEctPjFD4p1lmKwaN4Is5dXmmYdVVrdWj3excVzf/DZf7Z/xb/dfs4f8E/NesLSX/V6/8V9Wi0ZIx2Y2YLTOD1%2BVuleXPPMsjNwhU55LpBOb/wDJE0vnJH3OG8NONa1COIxGF%2BrUnqqmJnDDQa7p15U5SX%2BClP79D6lplxc29nA91dzpFFGpaSSRgqqPUk9BXy8P2dv%2BClPxZPn/ABi/bb0TwRay/wCu0P4WeE1bAPZb28PnIR6gGpLX/gkr%2BzPr066h8dPFnxC%2BJ92GDtP468c3c43eyQNEAPQHI7c1P1/M638DCtLvUlGH/kq55fkb/wCq/BmX/wDIyzyE5dY4WhVrv/wZU%2BrUfmuZdmeo/Ez9u79jb4T6NHD47/aX8HWtxDczGWxt9biublRtj5MMBeTsf4exryw/8FWvg/4vYwfs8/BD4q/E1nOIbrwp4HnFoT6vNceXsX32mvX/AIffsYfsl/CPSrW7%2BHX7OXg3TLpLmULfx6BA9zgLHgGZ1Mhxk9W7mvQlVVUKqgADAAHSkqOe1viqwpr%2B7Bzf3zkl/wCSh9f8MMv/AIGAxWLl3rV6dCH/AIBhqc529aqfR9z5cPx5/wCCoHxN%2BX4ZfsVeE/A1vJ/qNS%2BJHjYXJI/vNbWIEif7pJNOH7Of/BTLx5%2B%2B%2BIP7fmh%2BFYn5m0zwJ8O4JVHslxdMJV%2BuK%2BoqKf8AY6qfx69Wf/b/ACL7qah%2BYf8AEQZYTTK8rwWHXf6uq8//AAPFTru/pBa7dj5d/wCHYtn4q/efGn9s743eLt3%2BtsZvGps7JvX9xCgx%2BDV0Xh7/AIJOf8E%2B/BYtNQtf2c9P1K6mhMlxda/qN3qDTP5jjcwuJXXoB0AHHSvoCrWof8elj/16n/0bJTjkWTxkpOhGT7yTm/vm5mNbxQ8Q61J0o5nVpwf2aUlQj/4DQhQX339TifA3wG%2BB3ww2n4bfBvwr4fKfdbRfD9takfjGgNdZRRXqU6VOlHlpxSXZJJfckj4zFYzGY%2Bs6uKqyqTf2pylN/fKUn%2BIV3ngz/kWrb/gf/obVwdd54M/5Fq2/4H/6G1RX%2BA547mpRRRXKWFFFFABRRRQAUUUUAFFFFABRRRQAUUUUAFFFFABRRRQAUUUUAFFFfIX7KXxC8ZyfEnwL4l1n4i%2BItUufHnw/8Za1460q/wBbub23sL6w1nToYVt7aR2jshb/AGm6tfKgWMSbRvDvFuoA%2Bva%2BPf8AgqGn9lfG39mHxj08j4xDTt3/AF92kiY/HZSf8Ey/GPxb1XXltfin4u1O/HiH4P8AhjxNppu/Gl3ra6l9pkvRJqkgueNKuJwIt2n2xe1j2fuppdrbJv8AgsIi2XgX4IeLN4T%2Bxf2kPC11JIc4EZNyjA47fMM/SvLzrTLZy/lcH91Smz9A8Lve45wtL/n5GvT/APA8Li4/i7L5nttFWv7PtP8AoOWv/fEv/wARR/Z9p/0HLX/viX/4ivo7o/OyrRVr%2Bz7T/oOWv/fEv/xFH9n2n/Qctf8AviX/AOIougCb/kC2/wD19Tf%2BgxVVrTlsbU6RAn9sWwAuZSG2y4Pyx8fcz/8Arqt/Z9p/0HLX/viX/wCIpJoCrRVr%2Bz7T/oOWv/fEv/xFH9n2n/Qctf8AviX/AOIp3QFWrWof8elj/wBep/8ARslH9n2n/Qctf%2B%2BJf/iKs31jatbWYOsWwxbEAlZfm/evyPk/Dn0pNq6AzKKtf2faf9By1/74l/8AiKP7PtP%2Bg5a/98S//EU7oCrRVr%2Bz7T/oOWv/AHxL/wDEUf2faf8AQctf%2B%2BJf/iKLoA1j/j7T/r1g/wDRSVVrT1WxtWuVLaxbL/o0Iwyy/wDPJeeE79arf2faf9By1/74l/8AiKSasBVoq1/Z9p/0HLX/AL4l/wDiKP7PtP8AoOWv/fEv/wARTugKtWtc/wCQ1ef9fUn/AKEaP7PtP%2Bg5a/8AfEv/AMRVnWLG1fV7p21i2Um5clWWXI%2BY8HCYpXVwPMfiv%2Bzz4D%2BMfjbwb488WT6gl54J1Rr3T4rOdEiu8tFKILgMjF4luLa0uQqlT5tnCckKVbzq0/4J1/C%2B01TRL7/hafjiS38PXEbaTpkl5YfZ4bePW7HWo7bAswzILuwi/eFjM6O6vK/yFPor%2Bz7T/oOWv/fEv/xFH9n2n/Qctf8AviX/AOIo91j1PnzSP%2BCfPwu8PxaRp2hfEjxnaabpmo6DqFxpMV7Z%2BRqV3o92lzaT3BNqXLZjjjdY3jRkRflDqHHqXir4N2HxO8P6P4P17xnrUN7putWWoaZ4msjapf2l5BMrx3CAwGAt1VlaFo2R2VkIYiux/s%2B0/wCg5a/98S//ABFWdHsbVNXtXXWLZiLlCFVZcn5hxymKT5bMNTx3/hlTwcPhUvwkTxp4iWyXUBqy6gJrX7WNZ/tM6qdV3/Z9v2g3hMpTb9nOSnk7CVrmtX/YD%2BGOs6Pe6VN8RPGMbeINN1HT/HF5Fd2XneKrS%2BuHnuYbwm1KxhmklVTai3aNJCiFVChffv7PtP8AoOWv/fEv/wARR/Z9p/0HLX/viX/4in7oanjetfsmWfiH4j%2BLviNqvx18dl/GXh230S%2B0y1n062gtLW2lvJrT7PJDZJcRvDJf3Dq5mYsSok8wKBWf4k/Yq0rxP4Q1Tw1ffH3x7Hea94qsvEHiHxDEuj/bNSurP7J9kV1bTjBHHF9htsJDFHu2sXLl2J90/s%2B0/wCg5a/98S//ABFH9n2n/Qctf%2B%2BJf/iKPdDU8m039kXwpc/EU%2BPLv4keKpZWuTrN1p7S2QtbnW4tJOnpqzotqCLgQJGfLVltvMjWTyNwzXK2n7Buj2vwbtPgVJ%2B0X8QJ9BsdTtL6GO4ttBZ5JYJXmPn/APEr23fnTss8xnWRpJI1Yt80m/6M0qxtVuWK6xbN/o0wwFl/55NzynbrVb%2Bz7T/oOWv/AHxL/wDEUvduGpwelfBq0t/GXhr4g%2BI/HWua9rHhjQ9T0y2vNUFon2pb6a0lkmmjtreJPNQWccaNGqAJJKGVi24c1a/sqQ2uq3niJ/j149udWbRLjR9C1a/udPubjQrC4uYbi4gtzLZsJfMNvbo0l0LiTbCmHDZY%2Bw/2faf9By1/74l/%2BIo/s%2B0/6Dlr/wB8S/8AxFP3RHgK/sI%2BGG%2BEulfBa5%2BPHxDm0TT/AAg3hS%2Bia905Dq2iFEjFlcBLJUXEatGJ4ViuNsj/AL0kgjqtO/ZS0OPxbe%2BN4viv4x3WP9p3vhnTZbqzmtvD99ftsnu7XzbZpGcCafZHcPNDGJmVYggVV9U/s%2B0/6Dlr/wB8S/8AxFWbGxtVtrwDWLY5tgCQsvy/vU5Pyfhx60ny2HqeCeFf2NB4L8G2PhPw7%2B0x8SrefTNT1G8sdZjn0lbmNb6R5bmAouni3kjaVzIDJE0kbAbHQZBseG/2Lfhx4R1Dw9beH/GfiqHw14Zn0y40vwRJqUMumJc6fZR2dpNmSFrldkUMLeWkyxNJGJGjLs7N7V/Z9p/0HLX/AL4l/wDiKP7PtP8AoOWv/fEv/wART90NSrXUfDb/AJff%2B2f/ALNWD/Z9p/0HLX/viX/4iuj8AW8UH2vyr6KbPl58oOMfe67lFRVa5GC3OjooorkLCua%2BMw8Zn4P%2BKx8OTJ/wkP8AwjV9/YPlff8Atv2d/I2%2B/mbcV0tFAHwX8F0%2BDGufDv4reAf2dviJY%2BFvDeu/s6aRbzaroEbySWviX7LrP2%2B48i3/AH82pw27WL3SqPtXFuGw5WvLtS/4RjxRdG1hufgj4R%2BGEvjiV9Ev54P7d%2BHVtfJ4aVZ40RvsMdzNJI8bxyIYliniu1xNKJBJ%2BotFAHnn7Is%2Bo3X7KHwwudX0zWbK7k%2BHmitdWfiK6afUIJDYwlo7qRlQyTg5DsVUlwxKjOBf8Wx6W3iC4NxeXCP8m5UtlYD5F7lx/Ku0rg/Gf/Iy3P8AwD/0Ba2o/EKWxV8nRf8AoIXX/gGv/wAco8nRf%2Bghdf8AgGv/AMcqrRXTbzILXk6L/wBBC6/8A1/%2BOVmeNfBXgb4heDdX8A%2BK3ubnS9c0y40/UrY2i4lt5o2jkT/Wd1Yj8as0UWA8P8Xf8E4PgnqvhZvh6/xg%2BIdrGfCt94b17ULeaxa71yK5upLua5upZID/AKQ11JJcM8IiWR5GEiOmIxND%2BwB8GbS%2BbX9O%2BKnjm21tdTl1K012JNPNxaXkmsX2qvNGrQGEky6jcxFXjZPJYLt3DefdNc/5DV5/19Sf%2BhGqtSoqw7s5T4IfAzwj8CPCaeC/DvxD8T6nYLeaheMutwWsjvc3uoXN/PMzxqjFjJdOoGdoRE43bmbB8B/sk/Df4ceKG8U%2BG/ib4wD2tnfWfhu0uILGSHw9a3t7FeXdvaAxZKSSwQj9%2BZmRIlSMooxXpNFPlQXOR8I/s6%2BFNO%2BMa/FC%2B%2BLHjTV7tWvYtB07V5beS20P7bNHJcfZSEEvzNGgXznmEKAxxCOMlDjX/wCyn4OHwm8LfBzwf8bfH/hnS/CvhYeHoZNDey8y/sBbxQbLhZ4pYmk2woRMiJKhL%2BWyB3B9R0P/AJDVn/19R/8AoQqrS5VcLnNeBvgX8L/h14xuPGPha%2B1SFpvCWkeG4NPaGNre0sdNkvHtxEC28MftsgcszbhHHwNpJ6/ydF/6CF1/4Br/APHKq0VVhFrydF/6CF1/4Br/APHKs6VFpAuW8u%2BuSfs03DWqjjymz/H6VmVa0f8A4%2B3/AOvWf/0U9JrQA8nRf%2Bghdf8AgGv/AMco8nRf%2Bghdf%2BAa/wDxyqtFO3mBa8nRf%2Bghdf8AgGv/AMco8nRf%2Bghdf%2BAa/wDxyqteV/Hn9tn9lv8AZpDW3xe%2BMWlWGo8eXodrIbrUJCfugW0IaQZOACVC%2B9Y18Rh8LTdStNRiuraS/Gx6OV5Rm2eYyOEy7Dzr1ZbQpwlOT%2BUU3bu3ZLq0ez2MWkC2vNl9ckG2G4m1UYHmp0%2BfnnFVvK0X/oIXX/gGv/xyvlOy/a7/AG3v2gYLqD9kb9jmTQNHngAXxr8ZLltOh2eYmHjsISZ5FJwQwJBHUVCf%2BCfvxo%2BN3%2BkftqftmeKvE9pLzN4N8FKuhaOV7xSCL95cp/tMUb3ry1ms8Q/9jozqf3n7kP8AwKaTf/bsH5H2n%2BoWHyrXiLMqOEa3pRf1nEensqDlCD8quIhZ7pao9H%2BM/wDwUM/Ye%2BBGpnw743%2BP1vcazv2LoWgWJ1K8Mn/PNo7ZnMbH0fbXAXH7ePx%2B%2BKWIP2Vf2A/iBq0MvEWufEUweHLMD/nqokeR5k9l2k17H8FP2Xf2ef2dNNGm/BP4QaH4eGzZJdWVmDczD/ppO%2BZZP%2BBMa72qWFznEa1cQqa7U4pv/wADnf71BEvOfDvKdMBldTFyX28VWcIvz9hheRJeUsRLze58v23wZ/4Kc/GYGX4sftXeEvhdYS8tpPw08J/2jclP7jXV86mN/Vo8jPTitTRv%2BCS/7LOsEeJvj947%2BIvxX1KC5jZbnx/4lmuIo3If7kEUsabeOFbcAOOc19GVah/5Atx/19Q/%2Bgy0f2Fl8neupVX/ANPJOf8A5K2o/wDkhMvE7i2jFwyydPAw2thaVOg7dvaRjKu/nXu%2Bpzfw5%2BC/wM%2BD%2Bmf2N8KfAel%2BG7XaA0OieHbe1D%2B7eWw3H3OSa6TydF/6CF1/4Br/APHKq0V6sKUKUFGCsl0SSX3JJHw2JxWKxteVfE1JVJy1cpSlKTfnKTk382y15Oi/9BC6/wDANf8A45R5Oi/9BC6/8A1/%2BOVSnuILWFri6nSONBl3kYAKPUk9K5DWv2iv2ffDUzW/iP46%2BDdPkT78d74ntImX6hpBilUqUqSvOaXq0vzaOOpWo0VepJR9Wl%2BbR6LLFpH9kQA31zt%2B0y4P2Vck7Y88b/pVbydF/wCghdf%2BAa//AByvI/E37fX7EfhjQ4Tqv7Wfw9LJcyl4rTxZa3EgG2PGUidm7Ht2rzrVv%2BCv3/BPjTro6dYfHV9Wuv4bbRvDOpXLN9GS32n/AL6rhqZvlND%2BJiYL/t%2BP%2BbOCtnmS0Hapiaa/7fj%2BkmfUPk6L/wBBC6/8A1/%2BOUeTov8A0ELr/wAA1/8AjlfKn/D134N6jz4M/Z%2B%2BNfiNT9xtE%2BGlxIH%2Bm9kpD/wUM%2BM/iY%2BV8Lv%2BCbHxovJD9weKtNt9EQ/VpZHArL%2B3cpfw1eb/AAxnL8qb/Mw/1iyZ/BV5v8Makv8A0mm/zPqzydF/6CF1/wCAa/8AxyrN9FpBtrPffXIAtjtItVOR5r9fn45zXyWv7SP/AAU7vR9qtf8Agm5o1rG/KQXnxfsGkUf7RSPGasXnxy/4Ks6vb2sVn%2Bwv4H0jFuRHLqnxNjuFYeY/OIUBHORj2pPOcM3pTqv/ALhVP1SD%2B3sI9qVV/wDcGp%2BqR9R%2BTov/AEELr/wDX/45R5Oi/wDQQuv/AADX/wCOV8qf29/wWP1Pmy8A/s96XnoNS1TWJiv18nrR/wAIX/wV/wDEPy6x8afgf4dB6toHh3Ubsr9BdEZp/wBrN/Dh6z/7ct%2Bc0H9tOXwYWs/%2B4dv/AEqoj6r8nRf%2Bghdf%2BAa//HK7XwkIF8P24t5HdPn2s6BSfnbsCf518P8A/DLn/BSXWvm8Qf8ABTmGwQ/ettF%2BEOmjH0keTcK%2Btf2ZvBXjP4d/BDRPB3xC%2BKF5401izFz9s8S39jHbS3he5ldd0cXyLsVljGOoQE8k1cMXiMQ7ToTgu8nD7rRlJnXgsbicTVcZ4adNW3k4a%2BVozk/vO8ooorU9MKKKKACiiigAooooAKKKKACiiigAooooAKKKKACiiigAooooAK5fS/gh8FtE8TX/AI10X4Q%2BF7PWdUvkvdT1a18P20d1d3KFik8sqoHkkUu5DsSw3tg8muoooA53wF8IfhN8K5dRn%2BGHwv8ADvht9XuBcas%2Bg6JBZm9lBYiSYxIvmN8zfM2T8x9TXzH/AMFvP9A/YjTxaeP7A%2BIPh/UN393beomf/IlfX1fKP/BbfRzrf/BNH4jWqrkxR2FypHUeVfQS5/8AHK8zO05ZPiLb8kn9yv8AofeeFlSNPxLyZy2eJoxfpOfI/wAJs9eorP8ACOrjxB4U0zXg2ft2nw3GfXfGrf1rQr6KLUoprqfBVacqNWVOW8W0/VNp/imFFFFMgtTf8gW3/wCvqb/0GKqtWpv%2BQLb/APX1N/6DFVWkgCiiimAVa1D/AI9LH/r1P/o2SqtWtQ/49LH/AK9T/wCjZKT3QFWiiimAUUUUAWtY/wCPtP8Ar1g/9FJVWrWsf8faf9esH/opKq0lsAUUUUwCrWuf8hq8/wCvqT/0I1Vq1rn/ACGrz/r6k/8AQjS6gVaKKKYBVrQ/%2BQ1Z/wDX1H/6EKq1a0P/AJDVn/19R/8AoQpPZgVaKKKYBRRRQBa0f/j7f/r1n/8ART1Vq1o//H2//XrP/wCinqrS6gFFFFMAq1p//Hpff9eo/wDRsdVataf/AMel9/16j/0bHSewFWiiimAV1Hw2/wCX3/tn/wCzVy9dR8Nv%2BX3/ALZ/%2BzVnV/hsa3OoooorjLCiiigAooooAK4Pxn/yMtz/AMA/9AWu8rg/Gf8AyMtz/wAA/wDQFrah8ZMtjLooorqJCiiigC1rn/IavP8Ar6k/9CNVata5/wAhq8/6%2BpP/AEI1VpLZAFFFFMC1of8AyGrP/r6j/wDQhVWrWh/8hqz/AOvqP/0IVVpdQCiiimAVa0f/AI%2B3/wCvWf8A9FPVG6urWxtZL29uY4YYYy800rhVRQMliTwABySa%2Bb/Ff/BRuLxd40u/hL%2Bwp8Krv4weKreKWK/1KwuBb%2BH9JzGwL3F%2B3yPgZYJGTv2kBw3FcWNx%2BEwME60rN7JXcpPtGKu2/RerR9BkHC2e8TVZxy%2BjzRpq85yahSpx/mqVZuNOmu3NK72jGb0PpKeeG2he5uZljjjUtJI7AKqjkkk9BXzx8Vv%2BCmf7PPg/xA/w3%2BD/APafxV8atlbfwv8ADy1N%2BQ%2BcZluEzDEgP3juYrySvFchqP7EvxI%2BNdt/wnH/AAUp/aa/tLSUYSN8PvCd8%2Bj%2BG7Xvtml3LNdY5wzsrDn5iK3bb9s3/gl/%2ByB4e/4Qj4ffEvwRpcKMFXR/AlqL6WeXoAwskkLyE8Zc5yeTXk4nMsZKPNOUMNDvUcXN%2BkOZRj/285Py6HuYqXhfwaubNMX9frr7FKfsMMn2dea9vWXf2FGnF9KmqZkw/AP9u79rhxqv7T3xhl%2BEvhObmL4efDK/H9pSof4bzU8HnGQyRAowPRTXrfwF/Yg/ZZ/ZrK3vwl%2BD2l2mp5Jk169Q3eoyMfvMbmctIMnkhSF9q8u/4by/aQ%2BL3%2Bj/ALKf7A/jPUbeXiLxH8RZ4tAsQP8AnqqSFpJ09l2saI/2eP8AgpN8ZW%2B3fGv9s7R/AFo/J8PfCjw4GIz0ze3f70EDrgEZ%2Bgrnw7y5VFVw9GpiKn/PyS/KdTkjFeUIJep87m3i3n%2BcYOWAyyEqWEf/AC5w0Pq9Br%2B/KThKs%2B8qtSu3vpex9Y6f/wAel9/16j/0bHXn/wAQP2k/2evhSkj/ABK%2BOPhLQjFndFqniG3hkz6BGcMT7AE14zaf8Emvgt4rt7qb43/HT4v/ABDK24aSHxV8QrhoGJkQEBIBHhcE8Z4rrvAH/BNz9hP4ZvHN4W/Zd8KNJFzHLq1idRdT6hrsyHPvnNemq2eVW%2BWjCH%2BKbk/uhFL/AMmPivb8QVfgoU6f%2BKo5P7qcEv8AyY5PVv8Agrh%2BxgNRk0f4feJPEnji8iOJbbwX4Qvbwqew3mNEbPsxFV/%2BHjvxA8SfL8Mf%2BCdvxz1Ld/q5tc8NRaVDJ7h5ZW498V9MaPomi%2BHdPj0nw/pFrY2sQxFbWdusUaD2VQAKtU/qmcVPjxSj/hpx/OcpP8A%2Bp55U/iYtR8oUo/nOUn%2BB8uH9o/8A4KbeMh5Xgv8A4J56L4bR/wDV3/jD4m2sy/VobZBIPpmrEXw//wCCvXjvS5pPEH7QXwg8BwPcR5j8KeFbrVJY8rJjm9IUkDOe2a%2Bm6tQ/8gW4/wCvqH/0GWk8pnP%2BNiasv%2B3lBf8AkkY/mP8AsadT%2BNiq0vSagv8AynCP5nymP2D/ANqDxT83xV/4Kb/Eq7Zv9Z/wiOl2ehD/AICIQ%2B2lH/BKL4Oah%2B88a/tA/GrxLMfv3GufEq4d3%2BvlqlfUNFP%2Bwcqfx0%2Bb/FKcvzm/yD/V3J38dNz/AMU6kv8A0qo/yPmGH/gj3%2BwjPMs/ij4da5r5Q5Vdb8aalKoPrhZ1B/Guu0T/AIJrfsGeH4VgsP2VPB8ir0N9pguW/EzFifxr3CitKeSZNSd44aH/AIBF/mmaU8gyOk7wwtNP/BF/mmcDon7HH7I/hPTre98M/su/Dyxn%2B0yg3Fr4MsUkICx4G8RZ4ye/c12mk6HomgWosdC0e1soR0htLdY1H4KAK1Jv%2BQLb/wDX1N/6DFVWuyjh8PQX7uCj6JL8kj0KWGw2H/hU4x9IxX5JBRRRW5sFWtQ/49LH/r1P/o2SqtWtQ/49LH/r1P8A6NkpPdAVaKKKYBXeeDP%2BRatv%2BB/%2BhtXB13ngz/kWrb/gf/obVjX%2BAcdzUooorlLCiiigAooooAKKKKACiiigAooooAKKKKACiiigAooooAKKKKACiiigAr58/wCCqejf27/wT9%2BKdls3bPB99cY/6428kuf/AByvoOvJv25tH/4SL9kz4geH9m77d4O1W32%2Bu%2BwuF/rXNjaftcFVh3hNf%2BSyPoOE8V9R4ry/EfyYihL7q1Fv8LnG/suax/wkX7M3w68Qb9327wJpFxu9d9lE39a7uvGv%2BCd%2Bs/27%2Bwv8KL3fu2eBdPt8/wDXGFYsf%2BOV7LXbl1T2uX0Z94Qf/ksTPi3C/UeLMxw/8mIrx%2B6tVS/CwUUUV2Hz5am/5Atv/wBfU3/oMVVatTf8gW3/AOvqb/0GKqtJAFFFFMAq1qH/AB6WP/Xqf/RslVatah/x6WP/AF6n/wBGyUnugKtFFFMAooooAtax/wAfaf8AXrB/6KSqtWtY/wCPtP8Ar1g/9FJVWktgCiiimAVa1z/kNXn/AF9Sf%2BhGqtWtc/5DV5/19Sf%2BhGl1Aq0UUUwCrWh/8hqz/wCvqP8A9CFVataH/wAhqz/6%2Bo//AEIUnswKtFFFMAooooAtaP8A8fb/APXrP/6KeqtWtH/4%2B3/69Z//AEU9VaXUAooopgFWtP8A%2BPS%2B/wCvUf8Ao2OqtWtP/wCPS%2B/69R/6NjpPYCrRRRTAK6j4bf8AL7/2z/8AZq5euo%2BG3/L7/wBs/wD2as6v8NjW51FFFFcZYVifErxvY/DP4c6/8SNTtZJ7bw/ol3qVxDEcNIkELSso9yEIFbdVdc0XSvEmi3nh3XbGO6sb%2B1ktry2lGVmidSrofYqSD9aAPnTw/wDtVftC%2BHfAfxCk%2BIHg3w/4j8VeGvg3YePvD%2BmeEdOuraO8a6i1HGlsjzXEksiTaeF89NplW4XbCrLhuBn/AOCkviya/T4WeFviL4H8R65L4mFvF488K%2BBtV1bSZtOGkG/eSHTLK7lubiZZlNuyx3DKih5mIMbwj3T4bfsdeHPhrbapHZ/GPx3qNxq3he38OTalf6napdw6VaxTx2dtFPbW0UkZtzdXMiTA%2Be0kxaSSQhdtaL9irw/DCddT42%2BOf%2BEzbXzqzfEVpNMOrGT7CLDydhsfsYg%2BzAJ5Ytsbh5v%2Bt/eUAemfDLxZH49%2BG3h7x1FqmlXy61odpfre6FctPY3AmhSTzLeRlVpIW3ZRiASpBIGcVj%2BLdK1S58QXE1vptxIjbNrpCxB%2BRe4Fa/ww%2BHPhb4P/AA28P/CfwNaSQaL4Z0W10rSYZZjI6W1vEsUYZ25dtqDLHknJPWsDxn/yMtz/AMA/9AWtqN%2BYUtir/Yetf9Ae6/8AAdv8KP7D1r/oD3X/AIDt/hVWiunUgtf2HrX/AEB7r/wHb/Cj%2Bw9a/wCgPdf%2BA7f4VVoo1A09Y0fV5dXupYtKuWVrlyrLAxBG489Krf2HrX/QHuv/AAHb/CjXP%2BQ1ef8AX1J/6Eaq0leyAtf2HrX/AEB7r/wHb/Cj%2Bw9a/wCgPdf%2BA7f4VVop6gaej6Pq8Wr2ssulXKqtyhZmgYADcOTxVb%2Bw9a/6A91/4Dt/hTdKnhttUtrm5mWOOO4RpJHYBVUMCSSegr5W%2BPH/AAVQ%2BCngfxF/wqX9nXRr74wfEO5LJZeGfBINxDGw%2B8090isiKo3FtnmFdvzBB8w4sZj8Jl8OfETUU9u7faKV3J%2BSTMK%2BLwuG5VWqKN9rvV%2BiSbfyiz6h1v8A4prSLnxB4j/4l9hZwtLd3t7%2B6hgjUZLu7YVVA6knAr5T%2BIX/AAUuTxld3/hb9iT4aH4gz6fIYtW8c6pdf2d4V0dsZJmvpdomIHOyMjcOVZuleZX/APwT9/bd/b11KHxR/wAFBvjj/wAIj4Z8wS2nwx8CyKRB3AlkJeLzB2dvtDckAr0HrHgf/gjt%2Bwb4QS1bWfhlqPiiayQJazeKfEV1crGo/hESukOPbZivBrYriXM3bCUVRp/zTdqj9I2nyfNOXkj38rzzI8sg60ctlja32fb1Hh8Mn3lTgpYqsl0i5YaEuqtv80eNfiZ8N/jTr/8AYX7U37V/ib48a87Brb4Lfs/aVc/2I75GI5JoQPtaBv42kV19%2Bh9%2B%2BFX7LP7d3xo0O18O6nPF%2BzJ8Nra3kOm%2BB/hnAja5KpjbH2i9C7IGbjPlgsSSHXdzX0/4D%2BGvw6%2BFuir4b%2BGngPRvD2npjbZaJpkVrFx32xqBn3rpdH/4%2B3/69Z//AEU9XhuHHGTnial29%2BXmTl/iqOTqSX91OnH%2B6cefZ/xdxfShh85xiWGg7ww2GgsPhoPyhTs5O2nNJuT%2B1N7HzLov/BHb9lU6hHrvxQ8J%2BM/iJqcZyupePvE97fSE9yVVkjbPuhr2v4cfsxfCT4PxrH8KvgJoPh0qMeZo3hqK3c/V0QMx9ySa6Wivaw%2BV5fhJc1GjCL7qKv8Ae7v8Tw8LlOVYKXNQoQi%2B6ir/APgTvL/yYtf2HrX/AEB7r/wHb/Cj%2Bw9a/wCgPdf%2BA7f4VVoru1PQNOx0fV0trxX0q5Ba2AUGBuT5qHA49Afyqt/Yetf9Ae6/8B2/wo0//j0vv%2BvUf%2BjY6q0le7Atf2HrX/QHuv8AwHb/AAo/sPWv%2BgPdf%2BA7f4VVop6gWv7D1r/oD3X/AIDt/hVmLR9XGkTxHSrncbmIhfIbJAWTJ6e4/OsyrUP/ACBbj/r6h/8AQZaTuAf2HrX/AEB7r/wHb/Cj%2Bw9a/wCgPdf%2BA7f4VVop6gWv7D1r/oD3X/gO3%2BFH9h61/wBAe6/8B2/wqrRRqBpy6Pq50iCIaVc7hcykr5DZAKx4PT2P5VW/sPWv%2BgPdf%2BA7f4UTf8gW3/6%2Bpv8A0GKqtJXAtf2HrX/QHuv/AAHb/Cj%2Bw9a/6A91/wCA7f4VVop6gWv7D1r/AKA91/4Dt/hVm%2B0fV3trNU0q5JW2IYCBuD5rnB49CPzrMq1qH/HpY/8AXqf/AEbJSd7oA/sPWv8AoD3X/gO3%2BFH9h61/0B7r/wAB2/wqrRT1Atf2HrX/AEB7r/wHb/Cu18JQT23h%2B3huIXjdd%2B5HUgj527GuArvPBn/ItW3/AAP/ANDasa1%2BUqO5qUUUVzFBRRRQAUUUUAFFFFABRRRQAUUUUAFFFFABRRRQAUUUUAFFFFAFXXdb0nwzol54k16/jtbHT7WS5vbmU4WGKNSzufYKCT9K8r8Dfto/DPxT4O8UeN/FnhjxH4MtfCPg%2B28WarD4qtIFlOhXEVzLDqCrbTTAIy2d0PLcrMjQsHjQlc%2BifEnwTYfEz4da/wDDjVLmSG18QaLdabczRD5o454WiZh7gOSK%2BdIP2O/jr8R/A/j3wl8a7/wpYzeNvgxa/Do3nhrV7ucWsVtBqIGpBJLaEl5ptRYm33YhW3TEspdtoB718IvifqHxT0K51fVvhN4r8G3FrdLC%2Bl%2BLrS3jndWhjlWVGtp54nQrIFO2Qsro6OqspFM%2BOOkDxB8Or/QSuRfQy2%2BPXfDIv9a4v9kn4D%2BLvgs3i/UfEfhnwt4Yt/Ems293YeDfBF/Nc6Zppjs4YZZkeW3tz5s8iNI4WJRkKSXcu7ekeO7mS10iOSJYyTcgfvIlcfdbswIqopSlZ9S6dSVGpGpHeLTXqmmvxSPjn/gkXrB1v/gnX8NbpmyYrG9tmB6jytQuYsf%2BOV9IV8z/APBIDUrjSf2Ol8GxxW%2BPD/jfX9P2vaxsV26hK%2BMlSf8AlpX1F/bF3/zxtf8AwBi/%2BJrmyCUpZHhr/wAkV9yt%2Bh9t4qU4U/EvOVHZ4mtJek586/CaKtFWv7Yu/wDnja/%2BAMX/AMTR/bF3/wA8bX/wBi/%2BJr1tT4IJv%2BQLb/8AX1N/6DFVWtOXVboaRBJ5Vtk3MoP%2BhxY4WPttx3/ziq39sXf/ADxtf/AGL/4mkrgVaKtf2xd/88bX/wAAYv8A4mj%2B2Lv/AJ42v/gDF/8AE09QKtWtQ/49LH/r1P8A6Nko/ti7/wCeNr/4Axf/ABNWb7VbpbazYRW3zWxJzZxH/lq44%2BXjp2pO90BmUVa/ti7/AOeNr/4Axf8AxNH9sXf/ADxtf/AGL/4mnqBVoq1/bF3/AM8bX/wBi/8AiaP7Yu/%2BeNr/AOAMX/xNGoBrH/H2n/XrB/6KSqtaeq6rdR3KqsVt/wAe0J%2BaziPWJT3Wq39sXf8Azxtf/AGL/wCJpK9gKtFWv7Yu/wDnja/%2BAMX/AMTR/bF3/wA8bX/wBi/%2BJp6gVata5/yGrz/r6k/9CNH9sXf/ADxtf/AGL/4mrOsardR6vdRrFbELcuBus4ifvHqSuTS1uBmUVa/ti7/542v/AIAxf/E0f2xd/wDPG1/8AYv/AImnqBVq1of/ACGrP/r6j/8AQhR/bF3/AM8bX/wBi/8Aias6Pqt1Jq9rG0VsA1ygO2ziB%2B8O4XIpO9mBmUVa/ti7/wCeNr/4Axf/ABNH9sXf/PG1/wDAGL/4mnqBVoq1/bF3/wA8bX/wBi/%2BJo/ti7/542v/AIAxf/E0agGj/wDH2/8A16z/APop6q1p6Vqt1JcsrRW3/HtMeLOIdImPZarf2xd/88bX/wAAYv8A4mlrcCrRVr%2B2Lv8A542v/gDF/wDE0f2xd/8APG1/8AYv/iaeoFWrWn/8el9/16j/ANGx0f2xd/8APG1/8AYv/ias2Oq3TW14xitvltgRiziH/LVBz8vPXvSd7AZlFWv7Yu/%2BeNr/AOAMX/xNH9sXf/PG1/8AAGL/AOJp6gVa6j4bf8vv/bP/ANmrB/ti7/542v8A4Axf/E10fgC8lu/tfmpENvl48qBE/vddoGazq35GNbnR0UUVyFhRRRQAUUUUAFcH4z/5GW5/4B/6Atd5XB%2BM/wDkZbn/AIB/6AtbUPjJlsZdFFFdRIUUUUAWtc/5DV5/19Sf%2BhGqtWtc/wCQ1ef9fUn/AKEaztS1LTtG06fV9Yv4LS0tYWlubq5lEccMajLOzMQFUAEkngAUk0o3YNpasnryH9rj9tr4H/sbeEU1z4m6w9zq16jHRPC%2BmbZL/UWHUohI2RjHzSvhFx1Jwp%2Bf/wBqf/grrpWkeGtXh/ZI0e11u306U2mo/EvXQ8egWNwQcQ22B5mo3HdYogRj5/nQMR5j%2Bx9/wTA%2BI37TPjF/2oP279Q1q4tdVlS5h0DXHKalrYBDI96FP%2Bh2wwClnGRgBQxwi7vk8dxDWxNf6nk8faVXvN/w4Lbmb%2B15W0bVk5PRenkWS4jiHCSzD2qw%2BXwk4zxUo8ylJb0sLTvF4qvbpFqhRup4itGKVOeH4dj/AG%2Bf%2BC1HjJNLv9Xb4b/BYaisN2dOLNBdKGAaNX%2BVtSmB4J%2BW3QrnGcBvvr9l39j/AOA37H3ggeC/gp4NjszKi/2nrFziS%2B1Fx/HPNgFuSSEGEXJ2qua9O8E6Jo3ht9K8P%2BHdJtrCwsnhhs7KzgWKKCNSAqIigBVAGAAMCiu7Ksho4Gq8TiJutiGtakt15QW0Y%2BSs%2B76F43F5XTi8PlOH9jR6yk1Ur1bfar1uVOXdUqapYentClJr2jKKKK988kKtaP8A8fb/APXrP/6KeqtWtH/4%2B3/69Z//AEU9J7AVaKKKYBRRRQBa0/8A49L7/r1H/o2OqtWtP/49L7/r1H/o2OqtJbsAooopgFWof%2BQLcf8AX1D/AOgy1Vq1D/yBbj/r6h/9BlpMCrRRRTAKKKKALU3/ACBbf/r6m/8AQYqq1am/5Atv/wBfU3/oMVVaSAKKKKYBVrUP%2BPSx/wCvU/8Ao2SqtWtQ/wCPSx/69T/6NkpPdAVaKKKYBXeeDP8AkWrb/gf/AKG1cHXeeDP%2BRatv%2BB/%2BhtWNf4Bx3NSiiiuUsKKKKACiiigAooooAKKKKACiiigAooooAKKKKACiiigAooooAKKKKACsH4h/8gWL/r6X/wBBat6sH4h/8gWL/r6X/wBBarp/GhPY%2BLf%2BCXf/ABL/AA58afCLcf2J%2B0L4ntY09I98DqR7Hca%2BoK%2BX/wBgL/iU/Hz9pbwl08n4uHUNv/X1ao%2Bfx219QVyZDplVOP8AK5r7qlRH33il73HWKq/8/I0Kn/geFwkvxd38wooor2D8%2BLU3/IFt/wDr6m/9BiqrVqb/AJAtv/19Tf8AoMVVaSAKKKKYBVrUP%2BPSx/69T/6NkqrVrUP%2BPSx/69T/AOjZKT3QFWiiimAUUUUAWtY/4%2B0/69YP/RSVVq1rH/H2n/XrB/6KSqtJbAFFFFMAq1rn/IavP%2BvqT/0I1Vq1rn/IavP%2BvqT/ANCNLqBVooopgFWtD/5DVn/19R/%2BhCqtWtD/AOQ1Z/8AX1H/AOhCk9mBVooopgFFFFAFrR/%2BPt/%2BvWf/ANFPVWrWj/8AH2//AF6z/wDop6q0uoBRRRTAKtaf/wAel9/16j/0bHVWrWn/APHpff8AXqP/AEbHSewFWiiimAV1Hw2/5ff%2B2f8A7NXL11Hw2/5ff%2B2f/s1Z1f4bGtzqKKKK4ywoormvjN4d8R%2BMPg/4r8JeDrz7Pq%2BqeGr600q48zZ5VzLbukTbv4cOynPbFAC%2BC/jH8IfiTo%2BoeIfh38VPDev2GkzPDqt9ouuW91DZyIu50leJ2WNlXkhiCByaZoPxt%2BDHin4fXnxa8MfFzwxqXhXT4Zpb/wATWGv202n20cK75nkuEcxoqKCzEsAoGTivlXwX4Hj%2BK3hL4jeGtQ%2BDvj/w94d8Rfs26L4Il0qLwdcWV7Jf2lvrP2u2tkuo0hLwxX1vFFK7C3nd9iSOsbY43xt8HP2wvjj8NPilr%2Bm%2BHtP8Q%2BHPEd%2Bl1qejeIPD%2BqeDbjXmsdDiigNvpstteXOw3Sxbo5ijTvp6qrfZ5ApAPv6xvrLVLKHU9MvIri2uIllt7iCQOkqMMqysOGBBBBHBBriPGf8AyMtz/wAA/wDQFq98AbbxRZ/AzwdZeNtDi0zV4PDFjHqOnw3DyrbyrAgZN0kcTEgjB3IpByMcVD4tk0tfEFwLizuHf5NzJcqoPyL2KH%2BdbUfiFLYw6Ktedov/AED7r/wMX/43R52i/wDQPuv/AAMX/wCN1038iCrRVrztF/6B91/4GL/8brC%2BJvxR%2BFvwc8A6r8T/AIkajJpeh6LZtc6jfT3q4jQdgBHlmJIVVGSzMAASQKmdSNODnPRLVt7JImc4UoOc2kkrtvRJLdstfE7xn4U%2BHlhrfjjxz4htNJ0jSzNcahqN9MI4oI1Y5ZmPT%2BpwBya/OP8Aak/aqu/2r7Kx17xtpevaf8Gb3URB4F%2BHmlB4vEHxavlcBPkX57fTg%2B0lsc8Y3SFBG39pX9oDxT%2B1d4z0bxx8W/hnq95oGv3xn%2BCP7O8NwEvvFc2SY9Z1vaP3NivLiMkAqCA20PI/1R%2Bx9%2BxfD8Ltcl/aF/aS1JfFvxa1a1EU%2Bp27rHYeHrTGF07TYShEMKKdpYYLc9AxB%2BKxOLxnEVb6rhVy0VbmbW67yWmjWsaejmrSqctO0Z/QZFwzgcflsOIeJ1KGWyu6GHTcK2YOLtdv4qOCjJWnVa5qtnTpJttw4/8AZX/YP1q68R6R%2B0F%2B1xpOjv4g0mEDwN8ONEt0TQfA8BIZY4IV%2BSW5HBaY5wwyCxVXH1fVrztF/wCgfdf%2BBi//ABujztF/6B91/wCBi/8AxuvqsDgcNl1H2dFb6tvVyfdvr5bJKySSSQ%2BIeI8y4kxcauJ5YwpxUKVKnFQpUaa%2BGnSprSEV85Slec5TnJyDQ/8AkNWf/X1H/wChCqtaejy6QdXtRFY3Ib7Sm0tdKQDuHUbBmq3naL/0D7r/AMDF/wDjddl9TwCrRVrztF/6B91/4GL/APG6PO0X/oH3X/gYv/xunfyAq1a0f/j7f/r1n/8ART0edov/AED7r/wMX/43VnSpdINy3l2NyD9mm5a6U8eU2f4PSk3oBmUVa87Rf%2Bgfdf8AgYv/AMbo87Rf%2Bgfdf%2BBi/wDxunfyAq0Va87Rf%2Bgfdf8AgYv/AMbo87Rf%2Bgfdf%2BBi/wDxui/kAaf/AMel9/16j/0bHVWtOxl0g215ssbkAWw3A3SnI81Onycc4qt52i/9A%2B6/8DF/%2BN0k9WBVoq152i/9A%2B6/8DF/%2BN0edov/AED7r/wMX/43Tv5AVatQ/wDIFuP%2BvqH/ANBlo87Rf%2Bgfdf8AgYv/AMbqzFLpH9kTkWNzt%2B0xZH2pck7ZMc7PrSbAzKKtedov/QPuv/Axf/jdHnaL/wBA%2B6/8DF/%2BN07%2BQFWirXnaL/0D7r/wMX/43R52i/8AQPuv/Axf/jdF/IAm/wCQLb/9fU3/AKDFVWtOWXSP7IgJsbnb9plwPtS5B2x552fSq3naL/0D7r/wMX/43STAq0Va87Rf%2Bgfdf%2BBi/wDxujztF/6B91/4GL/8bp38gKtWtQ/49LH/AK9T/wCjZKPO0X/oH3X/AIGL/wDG6s30ukC2s99jckG2O0C6UYHmv1%2BTnnNJvVAZlFWvO0X/AKB91/4GL/8AG6PO0X/oH3X/AIGL/wDG6d/ICrXeeDP%2BRatv%2BB/%2BhtXG%2Bdov/QPuv/Axf/jddr4SMDeH7c28bonz7VdwxHzt3AH8qxrP3So7mjRRRXMUFFFFABRRRQAUUUUAFFFFABRRRQAUUUUAFFFFABRRRQAUUUUAFFFFABXL/EnXNFt/sXhq41e2TUbvzLm1sHnUTTQxbVlkRM7mRGmhDMBhTKgONwz1FfIn/BRrxFrfwl/ab/Zu%2BORufL0AeLNV8Ga96E6zBb/Zix7Ks1irEnj5RXPicUsFTVVq6Uop%2BSclFv5cyZw5jjFgML7Zq6Uop%2BSlKMW/lzJnFfsof8Sf/gol%2B1D4bPCTT%2BEdQtx/e8zTJBIf%2B%2BgK%2BoK%2BX/hT/wASX/grJ8WNM6f238MNC1DH97yZWt8/rivqCjJNMLUh2q1V/wCVG/8A24/S/En386wlf/n5gsDL7sLCD/Gkwooor2D8%2BLU3/IFt/wDr6m/9BiqrVqb/AJAtv/19Tf8AoMVVaSAKKKKYBVrUP%2BPSx/69T/6NkqrVrUP%2BPSx/69T/AOjZKT3QFWiiimAUUUUAWtY/4%2B0/69YP/RSVVq1rH/H2n/XrB/6KSqtJbAFFFFMAq1rn/IavP%2BvqT/0I1Vq1rn/IavP%2BvqT/ANCNLqBVooopgFWtD/5DVn/19R/%2BhCqtWtD/AOQ1Z/8AX1H/AOhCk9mBVooopgFFFFAFrR/%2BPt/%2BvWf/ANFPVWrWj/8AH2//AF6z/wDop6q0uoBRRRTAKtaf/wAel9/16j/0bHVWrWn/APHpff8AXqP/AEbHSewFWiiimAV1Hw2/5ff%2B2f8A7NXL11Hw2/5ff%2B2f/s1Z1f4bGtzqKKKK4ywooooAKKKKACuD8Z/8jLc/8A/9AWu8rg/Gf/Iy3P8AwD/0Ba2ofGTLYy6KKivb2z02zm1HUbuK3t7eJpJ55pAqRooyzMx4AABJJ6Yrq2JbSV2OuLi3s7eS7u50iiiQvLLIwVUUDJJJ4AA71%2BaP7Xv7U9x%2B1p460%2B98M%2BHZPEPw90nxIdM%2BF/gxQf8Ai5PieM7TdSqCM6XaFtzMSFckKTmQ%2BV237TP7S5/bD8I%2BJfEKeKdQ8J/szeDi6%2BLfFtqTDfePrhG2jTNPzgi3eTEZfjeWx0yB6V/wT0/ZU1OwuYv2tfjR4LttF8Q6lpKWPgHwZDHiDwToGD5NpGp6XEisXlcjeS7ZwzyA/E5ji6%2Bf4mOBwjtSespd0nbmt1hdWjfSpNbOnCTn7XCmT5dnWHnxFnMObKcNPljTbaePxKXNChG1n9Wp6VMTUW8FGnF3qxb9C/ZP/Y3l%2BBGqat8XvjP4lHi/4u%2BKWLeLvF06DbDz/wAeVmuAIbVMBQqhd20EgAIie31a1z/kNXn/AF9Sf%2BhGqtfW4PCUMFh40qKsl97b3be7berb1b/Cc9z3NOJMznj8fPmqSstEoxjGKtGEIq0YU4RSjCEUoxikkt3IooorpPHLWh/8hqz/AOvqP/0IVVq1of8AyGrP/r6j/wDQhVWl1AKKKKYBVrR/%2BPt/%2BvWf/wBFPVWrWj/8fb/9es//AKKek9gKtFFFMAooooAtaf8A8el9/wBeo/8ARsdVataf/wAel9/16j/0bHVWkt2AUUUUwCrUP/IFuP8Ar6h/9BlqrVqH/kC3H/X1D/6DLSYFWiiimAUUUUAWpv8AkC2//X1N/wCgxVVq1N/yBbf/AK%2Bpv/QYqq0kAUUUUwCrWof8elj/ANep/wDRslVatah/x6WP/Xqf/RslJ7oCrRRRTAK7zwZ/yLVt/wAD/wDQ2rg67zwZ/wAi1bf8D/8AQ2rGv8A47mpRRRXKWFFFFABRRRQAUUUUAFFFFABRRRQAUUUUAFFFFABRRRQAUUUUAc18Zh4zPwf8Vj4cmT/hIf8AhGr7%2BwfK%2B/8Abfs7%2BRt9/M24r5K/ZN8b%2BDPBk3jGf9i7w5o2uRv8FvDMuleF9P1K3tI9W8XxrqrXcUrSSIovxCbD7a0hEyqYPNO7FfbVFAHy/wD8EybDxJoFv8Y/C/irwd4p06/tvit9o1K98V3OnyXN/fT6HpMlzKwsru4jRmlLTbFby0W4jRD8rIl//grR8Jbn4w/sI%2BNdG0dpU1jR7Vdd0GW3TMiXliTdIE54ZljdAefv19I1z3xKgguvDy21zCskck4WSN1yGUowIIPUEVjiMNDGYeeHntNNfemvw0fyOTHYWGOwVXDz2nFx%2B9NX%2BWj%2BR%2Be/xU%2BK%2BieHfEnwB/4KneH7yWLQ/EuiWfhj4qCOABLfT78B4pm%2BfGLa8Lhj1J2LX3GItEIyNRuiD0ItF/8AjlfEX7Gfwk0H4g/s1fGr/gm78QGP2fwT4t1TRLDzPneHTLxmu9PugD/EHZ5FzxmNa9T/AOCbfxj8S/En9naPwB8S3KeNvhrqc3hLxfBI%2BXNxZnZHNk8sJIvLbf0Zg%2BM4ry8lxE414qpp7ePN6VYe5VXz5VP7z7yhip8Y%2BFmCzSeuKy62Grd3RnKboyf/AF7rRr0G%2BinSWmh9FeTov/QQuv8AwDX/AOOUeTov/QQuv/ANf/jlVaK%2Bpt5nxRpyxaR/ZEAN9c7ftMuD9lXJO2PPG/6VW8nRf%2Bghdf8AgGv/AMcom/5Atv8A9fU3/oMVVaSQFrydF/6CF1/4Br/8co8nRf8AoIXX/gGv/wAcqrRTt5gWvJ0X/oIXX/gGv/xyrN9FpBtrPffXIAtjtItVOR5r9fn45zWZVrUP%2BPSx/wCvU/8Ao2Sk1qgDydF/6CF1/wCAa/8AxyjydF/6CF1/4Br/APHKq0U7eYFrydF/6CF1/wCAa/8AxyjydF/6CF1/4Br/APHKq0UW8wNPVYtINyvmX1yD9mh4Fqp48pcfx%2BlVvJ0X/oIXX/gGv/xyjWP%2BPtP%2BvWD/ANFJVWkloBa8nRf%2Bghdf%2BAa//HKPJ0X/AKCF1/4Br/8AHKq0U7eYFrydF/6CF1/4Br/8cqzrEWkHV7oy31yG%2B0vuC2qkA7j33jNZlWtc/wCQ1ef9fUn/AKEaVtQDydF/6CF1/wCAa/8AxyjydF/6CF1/4Br/APHKq0U7eYFrydF/6CF1/wCAa/8AxyrOjxaQNXtTFfXJb7Sm0NaqATuHU7zisyrWh/8AIas/%2BvqP/wBCFJrRgHk6L/0ELr/wDX/45R5Oi/8AQQuv/ANf/jlVaKdvMC15Oi/9BC6/8A1/%2BOUeTov/AEELr/wDX/45VWii3mBp6VFpAuW8u%2BuSfs03DWqjjymz/H6VW8nRf%2Bghdf8AgGv/AMco0f8A4%2B3/AOvWf/0U9VaVtQLXk6L/ANBC6/8AANf/AI5R5Oi/9BC6/wDANf8A45VWinbzAteTov8A0ELr/wAA1/8AjlWbGLSBbXmy%2BuSDbDcTaqMDzU6fPzzisyrWn/8AHpff9eo/9Gx0mtADydF/6CF1/wCAa/8AxyjydF/6CF1/4Br/APHKq0U7eYFrydF/6CF1/wCAa/8Axyuj8AJZJ9r%2Bx3Esn%2Br3ebCEx97phjmuSrqPht/y%2B/8AbP8A9mrOqvcY1udRRRRXIWFFFYnxK8b2Pwz%2BHOv/ABI1O1kntvD%2BiXepXEMRw0iQQtKyj3IQgUAbdFfNXh/9qr9oXw74D%2BIUnxA8G%2BH/ABH4q8NfBuw8feH9M8I6ddW0d411FqONLZHmuJJZEm08L56bTKtwu2FWXDZnhH9sT4l%2BPPBXjG78L/HL4PzW3gLUYJ/EXxOXRr19EbSpdNNyrwWaXxaSZbgNA%2BLzaoQtgyZgUA%2BqK4Pxn/yMtz/wD/0Ba1fgp4v8W/EH4NeEvHvj/wAGyeHNd1vwzYX%2BteHpiS%2BmXc1ukk1q2QDmN2ZDkA/LzVLxbpWqXPiC4mt9NuJEbZtdIWIPyL3Arai0pClsYdfI37U/jTxL%2B2p8aZ/2Bvg3rs9l4V0hY7n44eLrGTb9mtScpo8MnTzpsHzP7qgg5CyJXr37efx28Qfsw/s5ap4x8P6PcTeKtZni0LwPp4tyXvNYuyY7dEUj5yp3Sle4iI7184%2BO/hJ4u/Z8%2BCHgn/gmT8C5Z2%2BK3xdR7z4g%2BJUR5Li2tHGdV1WVz8zbsPBEWIJVSAd4GfCz3GxlfCrWKSc7PWXM7QpR86j3fSCl3bU5Rw/i%2BOeJqXD1Cap0mnUxFR35adCKcpuTW0eSM5z6uCUI%2B9ViaXwl8F%2BGv26Pjhpc/hbQYLP9nf4IXq2XgrSYI8WvifWoF2fadvSS1txwhOQ7HOW3yKPtesj4TfBLRvgn8NdE%2BE/w98J3Flo2gafHaWEAt2ztUcsxx8zscszdWZiTya6H%2Bw9a/wCgPdf%2BA7f4V6mWYL6lQbqNOpPWTW17WUY9owVoxXZX3kz6zi7P8LnGLpYXLqbpYDCx9lh6bteNNO7nO2jq1pfvar/mcYL3KUEGuf8AIavP%2BvqT/wBCNVa09Y0fV5dXupYtKuWVrlyrLAxBG489Krf2HrX/AEB7r/wHb/CvRTVlqfJFWirX9h61/wBAe6/8B2/wo/sPWv8AoD3X/gO3%2BFO67gGh/wDIas/%2BvqP/ANCFVa09H0fV4tXtZZdKuVVblCzNAwAG4cniq39h61/0B7r/AMB2/wAKV1fcCrRVr%2Bw9a/6A91/4Dt/hR/Yetf8AQHuv/Adv8Kd13Aq1a0f/AI%2B3/wCvWf8A9FPR/Yetf9Ae6/8AAdv8Ks6Vo%2Brx3LNJpVyoNtMMtAw5MTADp60m1bcDMoq1/Yetf9Ae6/8AAdv8KP7D1r/oD3X/AIDt/hTuu4FWirX9h61/0B7r/wAB2/wo/sPWv%2BgPdf8AgO3%2BFF13ANP/AOPS%2B/69R/6NjqrWnY6Pq6W14r6VcgtbAKDA3J81DgcegP5VW/sPWv8AoD3X/gO3%2BFJNXeoFWirX9h61/wBAe6/8B2/wo/sPWv8AoD3X/gO3%2BFO67gVatQ/8gW4/6%2Bof/QZaP7D1r/oD3X/gO3%2BFWYtH1caRPEdKudxuYiF8hskBZMnp7j86Ta7gZlFWv7D1r/oD3X/gO3%2BFH9h61/0B7r/wHb/CnddwKtFWv7D1r/oD3X/gO3%2BFH9h61/0B7r/wHb/Ci67gE3/IFt/%2Bvqb/ANBiqrWnLo%2BrnSIIhpVzuFzKSvkNkArHg9PY/lVb%2Bw9a/wCgPdf%2BA7f4Uk13Aq0Va/sPWv8AoD3X/gO3%2BFH9h61/0B7r/wAB2/wp3XcCrVrUP%2BPSx/69T/6Nko/sPWv%2BgPdf%2BA7f4VZvtH1d7azVNKuSVtiGAgbg%2Ba5wePQj86TautQMyirX9h61/wBAe6/8B2/wo/sPWv8AoD3X/gO3%2BFO67gVa7zwZ/wAi1bf8D/8AQ2rjf7D1r/oD3X/gO3%2BFdr4SgntvD9vDcQvG679yOpBHzt2NY1mnEqO5o0UUVzFBRRRQAUUUUAFFFFABRRRQAUUUUAFFFFABRRRQAUUUUAFFFFABRRRQAVg/EP8A5AsX/X0v/oLVvVg/EP8A5AsX/X0v/oLVdP40J7Hwr%2B0pceIP2If2sD%2B3Ja6W9/8ADrxtp9joPxXjtYWabSJYW8uz1XC/fjUMsTjGQOmS6gM%2BPuneM/2UfjHd/wDBQ74BWX/CVeA/F2m2f/C2vDek7ZJJbSKPEGtWZU4kMcTZcdGUlicMzx/V3iPw5oPi/wAP3vhTxTpFvqGm6layW1/Y3cQeK4hdSro6ngqQSCPevjrwZ438Vf8ABLPxDc/Bz40adqusfATUdQz4H8dJG10fComY502/UZfyAxxHLg9cc5Kx%2BDmOFWDqOUpONKUudTWvsav8z/6dzv719E202oyvFcNcTVPD7OqterTVbL8UpQr05X5eWbi5qTWsIylGNSFVa0K8Yz%2BGUk/rf4cfEbwT8XPA2mfEn4ceI7bVtE1i1W40%2B/tXykqH9VYHKspwVYEEAgituvjib4WfF/8AYz1e9/aA/YPs7Tx/8JfE8w1XXfhZp1yrNblwC97osqkqQw%2BYwDIOAqhvl8v6F/Zx/aj%2BDH7VPgr/AITX4QeKVuhC3l6ppV0vlX2mT94bmAndG4II7q2CVLDmvWwOZe2msPiFyVrbfZkv5qb%2B1F72vzRvaS%2B0/teIeEaeGwf9tZJU%2Bs5bJq1RW56LlqqWJhG/s6i2jO3sa1uelUd3Th6ZN/yBbf8A6%2Bpv/QYqq1am/wCQLb/9fU3/AKDFVWvUR8QFFFFMAq1qH/HpY/8AXqf/AEbJVWrWof8AHpY/9ep/9GyUnugKtFFFMAooooAtax/x9p/16wf%2BikqrVrWP%2BPtP%2BvWD/wBFJVWktgCiiimAVa1z/kNXn/X1J/6Eaq1a1z/kNXn/AF9Sf%2BhGl1Aq0UUUwCrWh/8AIas/%2BvqP/wBCFVataH/yGrP/AK%2Bo/wD0IUnswKtFFFMAooooAtaP/wAfb/8AXrP/AOinqrVrR/8Aj7f/AK9Z/wD0U9VaXUAooopgFWtP/wCPS%2B/69R/6NjqrVrT/APj0vv8Ar1H/AKNjpPYCrRRRTAK6j4bf8vv/AGz/APZq5euo%2BG3/AC%2B/9s//AGas6v8ADY1udRRRRXGWFVdc0XSvEmi3nh3XbGO6sb%2B1ktry2lGVmidSrofYqSD9atUUAeQfDb9jrw58NbbVI7P4x%2BO9RuNW8L2/hybUr/U7VLuHSrWKeOztop7a2ikjNubq5kSYHz2kmLSSSELtxtc/YM0DxDZ2s2qftB/EGXWY/GMHibUPEUy6LLcape29otraC4hl01rQxW6KjxIkCBZkWc5lHmV7xRQBT8P6Ze6NodnpOo%2BIbzVri2tkim1TUEhWe7ZQAZZBBHHEGY8kIiLk8KBxXH%2BM/wDkZbn/AIB/6Atd5Xiv7WHxOtfgt8NPG/xbvGXb4b8N3Ooqr9HeK2LonuWYKoHqauNSFGMqk3ZRTb9Fq/wRlXqwoUZVJuyim36JNv8ABM%2BT/GHjjw98fP24df8Aiz4vvR/wq/8AZd0e5uLic8xXfiR4S8zjs5tYUxjqkqjH366v/gnR8PPE/ji1139vP4xWYXxh8Wdk%2BlWjksNF8PKf9Cs4yegZAsrEY35jJG4En5/g%2BH2r2/7EXwN/YY0i5mTxV%2B0BrKa/49vlY/aTprMuoX9xK3XzPLMEQzjcI2X1r9F9J0nTdB0q10PRrKO2s7K3SC0tolwkUaKFVFHYAAAfSvnMmozxuN%2BsVVrG03/18qRul/3Co8sV2c5Pdn2GSQq8L%2BF8cRJcuMzqcqk39qOEpSShTXVRq1kk/wCaGGt8LadiiiivsD5Ata5/yGrz/r6k/wDQjVWrWuf8hq8/6%2BpP/QjVWktkAUUUUwLWh/8AIas/%2BvqP/wBCFVataH/yGrP/AK%2Bo/wD0IVVpdQCiiimAVa0f/j7f/r1n/wDRT1Vq1o//AB9v/wBes/8A6Kek9gKtFFFMAooooAtaf/x6X3/XqP8A0bHVWrWn/wDHpff9eo/9Gx1VpLdgFFFFMAq1D/yBbj/r6h/9BlqrVqH/AJAtx/19Q/8AoMtJgVaKKKYBRRRQBam/5Atv/wBfU3/oMVVatTf8gW3/AOvqb/0GKqtJAFFFFMAq1qH/AB6WP/Xqf/RslVatah/x6WP/AF6n/wBGyUnugKtFFFMArvPBn/ItW3/A/wD0Nq4Ou88Gf8i1bf8AA/8A0Nqxr/AOO5qUUUVylhRRRQAUUUUAFFFFABRRRQAUUUUAFFFFABRRRQAUUUUAFFFFABRWJ8SvG9j8M/hzr/xI1O1kntvD%2BiXepXEMRw0iQQtKyj3IQgV5D8Evjl%2B0V4rvPEfw88b6Z4MvvF0Pw10fxb4b/suG60/TzJqP2%2BNdPuWeS5kxFPYgNdIBvScEQKUKsAe81g/EP/kCxf8AX0v/AKC1cN%2By98WfiT8SbzxvoHxC1Hw9rP8AwiXigaRaeKfCmlT2NhqTrawSXMSRTXFwd9vcPLbu6yspeNlwjxyIve%2BO7W6vNIjitLaSVhcglY0LHG1ueKun8aE9jiaq61omjeJNIufD/iLSba/sL2BobyyvIFlinjYYZHRgQykHBBGDWp/Yetf9Ae6/8B2/wo/sPWv%2BgPdf%2BA7f4V1vlaszNpSVmj5D1H9jf9oj9knWLzxl/wAE8/HdnJ4dubhrrUPgz4xlZ9Nd2OXNhck77N25whOwscs20BR5V4m8Wfsp/H/4sLq3irUvEf7K/wC0Vb8fb70i0W/fgDfIdttqUDEAAsUeQAAZXg/oj/Yetf8AQHuv/Adv8K5j4r/s9eAPjp4Yfwb8YPhJZeI9NfJFtquleb5bEY3RsRujb0ZSGHY187i8ipuny4aSUb39nK7gn3g01Ok%2BzhKy/l6EZHi%2BIuDMd9c4axToSaalTl71GcXvCUGpLkl1g4zpvrTW6%2Bb7T9tf9o79lTTLXw7%2B358G5bvw9FcuLb4y/D62a70udCsYD3lqg820OACWAKszYRMDNfRvwy%2BLHw0%2BM/hSDxx8KPHWl%2BIdJuP9XfaVeLMgOOVbacow7q2GHcCvAbn/AIJvfH74DaYLj9hX9pfxB4d03zpcfDbx5avrOg7Cqfu4zIDNao3dl3sdvWvm34l/B34nfBfxNP8AEj4i/sgfEL4KeJlObn4o/s6yNqWg3eOfMvNLyPLgzklWwzE85zXnRzPNso0xEHKC/md7elWKaf8A3FpwfefU%2BwfE/AfEGme4SeUYl71qEJYjAzfeVKDdXD33bpc0Fr%2B6ilY/TCivgL4F/wDBT744WQi03VIPCvx40leF1f4aXIsPEqoP4ptDugkssnXIgUIP7xr6Y%2BBn7f37Kf7QWpL4Y8G/FK2sPEQk8qbwp4kjbTtTim7xeRPtMjDuIy4969rBcQ5TjrKNRRk%2BkrJv0d3GX/bsn6GuJ4GzxZfLMstcMdhFr7fCTjiKaX9/2d6lL0rUabXV6HstWtQ/49LH/r1P/o2Sj%2Bw9a/6A91/4Dt/hVm%2B0fV3trNU0q5JW2IYCBuD5rnB49CPzr2W1danxxmUVa/sPWv8AoD3X/gO3%2BFH9h61/0B7r/wAB2/wp3XcCrRVr%2Bw9a/wCgPdf%2BA7f4Uf2HrX/QHuv/AAHb/Ci67gGsf8faf9esH/opKq1p6ro%2BryXKtHpVywFtCMiBjyIlBHT1qt/Yetf9Ae6/8B2/wpJq24FWirX9h61/0B7r/wAB2/wo/sPWv%2BgPdf8AgO3%2BFO67gVata5/yGrz/AK%2BpP/QjR/Yetf8AQHuv/Adv8Ks6xo%2Bry6vdSxaVcsrXLlWWBiCNx56Urq%2B4GZRVr%2Bw9a/6A91/4Dt/hR/Yetf8AQHuv/Adv8Kd13Aq1a0P/AJDVn/19R/8AoQo/sPWv%2BgPdf%2BA7f4VZ0fR9Xi1e1ll0q5VVuULM0DAAbhyeKTas9QMyirX9h61/0B7r/wAB2/wo/sPWv%2BgPdf8AgO3%2BFO67gVaKtf2HrX/QHuv/AAHb/Cj%2Bw9a/6A91/wCA7f4UXXcA0f8A4%2B3/AOvWf/0U9Va09K0fV47lmk0q5UG2mGWgYcmJgB09arf2HrX/AEB7r/wHb/CldX3Aq0Va/sPWv%2BgPdf8AgO3%2BFH9h61/0B7r/AMB2/wAKd13Aq1a0/wD49L7/AK9R/wCjY6P7D1r/AKA91/4Dt/hVmx0fV0trxX0q5Ba2AUGBuT5qHA49AfypNq24GZRVr%2Bw9a/6A91/4Dt/hR/Yetf8AQHuv/Adv8Kd13Aq11Hw2/wCX3/tn/wCzVg/2HrX/AEB7r/wHb/Cuj8AWN7Zfa/tlnLFu8vb5sZXON3TNZ1WuRjW50dFFFchYUUUy5ubaytpLy8uEhhhQvLLK4VUUDJYk8AAc5oAfRXnPgn9rT9n74geDde%2BIOgePTDo/hnR01fW7zWdIu9NFvprxSTR34W7iiaS1eOKVkuEDROIn2s2xsUpv20P2eoPDCeKZvEWuKH1htKGkf8IPq/8Aawuxa/bDGdN%2By/bABbYnLGHb5RD52kGgD1OviT/gspqV9rvwd0z9nvRLlo9Q%2BLHj/RPC8RiPzpDJKk00nsoWHDHph/evs7w14k0Dxl4c0/xf4U1e31DS9VsorzTb%2B0kDxXNvKgeOVGHDKysGBHUEV%2BfX/BRr4hrN%2B3xpMyzZsvgj8H/EHj%2B%2BX%2BA3ktt9ltEb/poroHUdfmzXlZ3VjTyycG/jtD5Sfvf%2BSRmebmmEr5nRp5ZQV6mKqUqEV3dapCH5ORofsc6dY/Hz9sH4l/tVW9sp8N%2BDkT4dfDdVH7tbe0Ie%2Bnj7ENMVCOOqllzxX1lXhn/BNP4dD4X/ALCfwz8OPb%2BXNc%2BGotUuQRhjJes1227uW/fY59Mdq9zrvySjKnlsJz%2BOp78v8U/et8k4xXlFH6P4j43D4jjDEYXC/wC74S2For/p1hr0YvtecoVKkrfaqPfcKKKK9Y%2BGLWuf8hq8/wCvqT/0I1Vq1rn/ACGrz/r6k/8AQjVWktkAUUUUwLWh/wDIas/%2BvqP/ANCFVataH/yGrP8A6%2Bo//QhVWl1AKKKKYBVrR/8Aj7f/AK9Z/wD0U9VataP/AMfb/wDXrP8A%2BinpPYCrRRRTAKKKKALWn/8AHpff9eo/9Gx1Vq1p/wDx6X3/AF6j/wBGx1VpLdgFFFFMAq1D/wAgW4/6%2Bof/AEGWqtWof%2BQLcf8AX1D/AOgy0mBVooopgFFFFAFqb/kC2/8A19Tf%2BgxVVq1N/wAgW3/6%2Bpv/AEGKqtJAFFFFMAq1qH/HpY/9ep/9GyVVq1qH/HpY/wDXqf8A0bJSe6Aq0UUUwCu88Gf8i1bf8D/9DauDrvPBn/ItW3/A/wD0Nqxr/AOO5qUUUVylhRRRQAUUUUAFFFFABRRRQAUUUUAFFFFABRRRQAUUUUAFFFFAFXXNF0rxJot54d12xjurG/tZLa8tpRlZonUq6H2Kkg/WvIfB37FmjeB9A13StG%2BPfxCN9rvhCHwwfEMt9p/9oWOmW8NxFZRW8q2QCvatdXE0crK0jSylpmmAUD2iigDh/gH8EovgB4Ft/hzpfxE1rXNK0%2BCK30i21ew0y3XToI12rFEun2dsu3uS4Zs9%2BtbXxD/5AsX/AF9L/wCgtW9WD8Q/%2BQLF/wBfS/8AoLVdP40J7HG0UUV2kBRRRQBam/5Atv8A9fU3/oMVVatTf8gW3/6%2Bpv8A0GKqtJAeVfGv9h/9kz9odpbn4ufAbw/qd5NnzNVitPst6T6/aYCkp/Fq%2BbfjX/wRD8FeOLBrf4c/tE%2BJbJEj2WuneNLSHX7e1T/nlA8uye2U9MpISOtfc9FeTjchyfMLuvQi292lyt%2Brja/zuc%2BHw0MDj44/BylQxEdqtGc6NRelSlOnL73Jd0z8yNL/AGRP%2BC0H7ITk/s/fFax8VaNA4%2Bz6FbeIftNskAHKLa6qB5R74ilz6Guy0v8A4K//ALWvwUhttO/bd/YE8TaXbW0RSXxH4e0%2B4ghdQ7EuqThopOSeVuAMj8v0Fq1qHNpYg/8APqf/AEbJXlw4ar4Fr%2Bz8ZUpr%2BWVqkPulqvk0e/iuJOJMcv8Abq0MU/5sRRpzqfOvSWGrt%2Bc5VX3bbbfy/wDB7/grt%2BwN8YhFbWvxvtvDl7KAWsfF9u2nmP2Mz/uM/SQ19EeG/FHhnxlo8PiHwh4isNV0%2B4GYL7TbtJ4ZB6q6EqfwNcR8Sf2RP2W/i/5snxL/AGfPB%2BsTzAh7260CD7Tz1xMqiRfqGFeI69/wRh/Y7j1iPxL8ILzxv8NtTi%2BaO%2B8EeMJ4pN3UNm484r9FK/hXbGXEuHXvxpVl5OVOX3SU4/ij56tXx7leNCH/AG7Uml91SEmtf7zsurPrOivi%2B%2B/Ye/4KW/C6J5f2f/8AgphfayoYmLTviNoa3XH91rmQXLH6hFrm9X%2BNf/BdL4LEnxN%2Bzl4C%2BIVhF/rL7QTmZ8f3UjuI35/64H8KiefVMP8A7zhK0PNRVRffTk3/AOSnTh6GbYl2p4ZyfaNSjJ/%2BAurSl%2BGvRM%2B/tY/4%2B0/69YP/AEUlVa/O7Wf%2BC6Pxi%2BGeoRaf%2B0l/wT98SeGJdkUbzTajPaZwiqCI7q0QcgAg%2BZjn8a7TwN/wXk/ZS8W3Y0zUPhl8Q7K5CgyfZdHtr6JQf9q3uGY/98VnR4v4dqS5HXUZdpKUX9zidWNy/Octoe3xuBxNGnvzTw2IULd/aKjUp28/aW8z7dor5n0b/gr9/wAE/dSuRp%2Bq/G2bRbs43Wmu%2BGdRtmX6s0Gwf99V6B4Z/bw/Ys8X7V0L9qrwC7v9yGfxTbQSH6JK6t%2BlepSzjKa%2BlPEQf/b8f1aPCo53k2IdqeJpt/44/k5J/gesVa1z/kNXn/X1J/6Ea5zw78RPh/4vAbwl460bVAwyp07U4p8/98Ma6PXP%2BQ1ef9fUn/oRrujOE9Yu68tfyPSjOE43i015O/5XKtFFFWUFWtD/AOQ1Z/8AX1H/AOhCqtWtD/5DVn/19R/%2BhCk9mBVooopgFFFFAFrR/wDj7f8A69Z//RT1Vq1o/wDx9v8A9es//op6q0uoBRRRTAKtaf8A8el9/wBeo/8ARsdVataf/wAel9/16j/0bHSewFWiiimAV1Hw2/5ff%2B2f/s1cvXUfDb/l9/7Z/wDs1Z1f4bGtzqKKKK4ywrnvi54KuPiV8KPE/wAObTURZy6/4evdNiuyCfIaeB4g/HPBbP4V0NFAHyj4N%2BC/xe8fab44T4vfs3XljaeJPgXpfgOTw7N4osY0vriyi1V7hjc2s0rQW0zaikMEoQzJslkeKP5Qea%2BHPwF/ac8AfGpP2utV%2BHHjfxVePqs9nJ4T8R%2BIdA/t1rJtIggS8draaHTUYXMHl%2BXHID5DCU7pS8dfadFAHAfsp/C/X/gl%2BzJ8Pfg94rubebVPDHgzTNL1KS0YtCbiC2jjkEZIBMYZSFyAdoFfmR%2B1nr%2BrfEOy/ay%2BKFpa7dS8d/FjRPhL4VeYMDENPmhhuVjAIysuHJ65IOOhr9dq/P8A/bP%2BFfgnRP2vPgN%2Bzj4F0ow2uvfF/WfiPrkbStIXvLeN76SZy3QNNcuFHQABRwBXgcQYaeIw0bPS7j/29U5acfu55s%2Bu8OsB9Y8R8qx1SzpYKVXFST6/V8PVqx%2BSlCN/XufVvhyx0Twt4esPDGk%2BH7VLXTrKK1tk3y/LHGgRR9/0Aq7/AGhaf9AO1/77l/8Ai6q0V9aoRiklsfIVKk6tRzm7tttvu222/m238y1/aFp/0A7X/vuX/wCLo/tC0/6Adr/33L/8XVWinZEGnrF9apq90jaPbMRcuCzNLk/MeTh8VW/tC0/6Adr/AN9y/wDxdGuf8hq8/wCvqT/0I1VpJKyAtf2haf8AQDtf%2B%2B5f/i6P7QtP%2BgHa/wDfcv8A8XVWinZAaej31q%2Br2qLo9spNygDK0uR8w55fFVv7QtP%2BgHa/99y//F0aH/yGrP8A6%2Bo//QhVWlZXAtf2haf9AO1/77l/%2BLo/tC0/6Adr/wB9y/8AxdVaKdkBa/tC0/6Adr/33L/8XVnSr61a5YLo9sv%2BjTHIaX/nk3HL9%2BlZlWtH/wCPt/8Ar1n/APRT0mlYA/tC0/6Adr/33L/8XR/aFp/0A7X/AL7l/wDi6q0U7IC1/aFp/wBAO1/77l/%2BLo/tC0/6Adr/AN9y/wDxdVaKLIDTsb61a2vCNHthi2BIDS/N%2B9Tg/P8Ajx6VW/tC0/6Adr/33L/8XRp//Hpff9eo/wDRsdVaSSuwLX9oWn/QDtf%2B%2B5f/AIuj%2B0LT/oB2v/fcv/xdVaKdkBa/tC0/6Adr/wB9y/8AxdWYr61OkTv/AGPbAC5iBXdLg/LJz9/P/wCusyrUP/IFuP8Ar6h/9BlpNIA/tC0/6Adr/wB9y/8AxdH9oWn/AEA7X/vuX/4uqtFOyAtf2haf9AO1/wC%2B5f8A4uj%2B0LT/AKAdr/33L/8AF1VoosgNOW%2BtRpED/wBj2xBuZQF3S4Hyx8/fz/8Aqqt/aFp/0A7X/vuX/wCLom/5Atv/ANfU3/oMVVaSSAtf2haf9AO1/wC%2B5f8A4uj%2B0LT/AKAdr/33L/8AF1Vop2QFr%2B0LT/oB2v8A33L/APF1Zvr61W2sydHtjm2JALS/L%2B9fgfP%2BPPrWZVrUP%2BPSx/69T/6NkpNK6AP7QtP%2BgHa/99y//F0f2haf9AO1/wC%2B5f8A4uqtFOyAtf2haf8AQDtf%2B%2B5f/i67XwlIkvh%2B3kjgSMHfhEJwPnb1JP61wFd54M/5Fq2/4H/6G1Y1klEqO5qUUUVzFBRRRQAUUUUAFFFFABRRRQAUUUUAFFFFABRRRQAUUUUAFFFFABRRRQAVg/EP/kCxf9fS/wDoLVvVg/EP/kCxf9fS/wDoLVdP40J7HG0UUV2kBRRRQBam/wCQLb/9fU3/AKDFVWrU3/IFt/8Ar6m/9BiqrSQBRRRTAKtah/x6WP8A16n/ANGyVVq1qH/HpY/9ep/9GyUnugKtFFFMAooooAn8QW1veSfZbuBJYpLOFZI5FDKwMScEHqK8h%2BIX7C37HHxT3yeOP2aPBt1NL/rLuHQ4re4b6zQhJP8Ax6vYdY/4%2B0/69YP/AEUlVa56uGw2Jhy1oRkvNJ/mmelluc5xktb2uX4mpQl3p1J0398Jxv8AO58q6z/wR7/ZTW3e2%2BGHiT4heAo2JIi8J%2BOLlYwf9y584Ee1efeJv%2BCOXi6HdJ4M/aO8Paog6W3xA%2BD2jarJIPQ3exZV%2Bq81910V5NXhnIqv/LlR/wALcfwTt/5KfUVfEji7Gq2ZVYYxf9RVDDYm/rKvh5z/APKl%2BzR%2BaniL/glL8c9LJbVv2Uf2evGtuvIOi6vrmgXrn/tlMsK/hWZffspePPhrezW%2Bs/8ABPH42eE44JWUXHwr%2BPI1PABP3ImJcY7Akmv0%2Bq1rn/IavP8Ar6k/9CNefLg7LVK9KTi/NQl%2BcIv/AMmPOnm3BmMd8fwxl831lSp1sLL78PiFG/8A258j8sv%2BEz8GeBv%2BRh/aN/bm%2BHGz7w8c6dJeW0X02xvla3vCn7Reg6uwj%2BHX/BeG6sWBwI/GnwwtmIPoxvEi/Ov0lrC8V/C34ZePFZPHHw60LWVYYYatpENwD9fMU0v9W8VS/hVl/wCVY/jCv%2BhH1PwdxPx5Ti8O/wDpxmE5Jeka9Nv/AMnR8ieFfFv7ZOv7R8Nf%2BCrXwP8AGZP3FuPD9ihf6i0nYg%2B1d5olv/wWT0y/tLjRvEP7OWvoZkMTXcGtW7SfMMYMfy12Xiv/AIJy/sKeM9x1n9lXwXGX%2B82maOliT75tthrkrD/gj5%2BxLBrMB8CeG/FPhCSW5QGbwv441GBlJYcjfM4B/Ck8szqktG3/AIcRUX4VKc/zH/qr4T4j%2BBm2ZYf/AB06VZL1dOsn90WVf%2BFlf8Fb9H/5CP7NHwk1nHX%2ByPGVzb7vp56nFH/DTf8AwUx0k41X/gmZYaio%2B9JpXxi05PxCyR5P0o/4dq694f8Am%2BG/7f3x70jH3Le%2B8aLf26fSOSIcfjR/wyX/AMFBfDh3eCf%2BCnN7cRr0tPEnwx0673fWUOGH4Cn7POqe6r/KpQn/AOlQixf8Q%2B4Yrf7nxbb/AK/YfEQ%2B9%2Bwrr8bB/wANvftgab/yMn/BL/xxFj739l%2BLNPvfy24zR/w8Z%2BI2n/8AIxf8E4fj1Fj739m%2BForz8tsozR/whf8AwV98Nf8AIG%2BNPwR8TBen/CQ%2BHdQsy/1%2Byk4pf%2BFlf8FbfDn/ACGf2Z/hL4j29f8AhHvGVzZ7vp9qU4/Gj6zmMPiqV160Kcv/AEmX6B/xC3N6n%2B58SYKp61qMH91ahR/GRPp3/BVDwhp1wz%2BIf2Mf2idL/wBHlU/bvhZIMZjYZ%2BWZuOfyqv8A8Pbf2Z7X/kPeB/idpWOv9ofDu8XH12hqsad%2B2D%2B374duG/4S/wD4JcatIoglBm8P/E7Tb3cDGwLBAgYYGTg88VX/AOHjvjzRP%2BR3/wCCdPx7tcfffR/CUWoqvvmOVePel/aeIg/exbX%2BLDTX5IP%2BISeJkv8AdsTh63%2BCrgZ/%2Bk42Af8AD439gO2/5DfxS1jTMdft/gnVVx/3zbmr1j/wV8/4Jy6hjyP2l7Jc/wDPfQdSi/8AQ7YVS/4eyfs/6d/yOnwm%2BLXhvH3/AO3PhzdR7fr5e%2BoU/wCCrv8AwTO8QTfZNe%2BLlnb3H8cGteDNQjZfqXtdv61SzmSdvr9D/t6Eo/nUj%2BQpeEXjZCPNDL5zXeGGnUX30a9VHVWX/BUX/gn/AH%2BPI/ak8Nrn/ns00f8A6HGK39F/4KK/sJ3dtdrH%2B1n4EQyWwCCfxDDFk%2BYhx85HYH8q4iz/AGwP%2BCVnjAAv8UvhVJv/AOgnaW0P5%2BfGtbujax/wSw8ZW12bXUfgBqbNbjywsmiTNu8xO3JzjP610wzDG1F7mJw8vnL9KjPExXBXipgP94wEo2/mwuLj/wC2NfidNaftwfsYX2Psv7W3w0Ynop8c2AP5GXNadr%2B1Z%2By7ff8AHl%2B0l4Bmz08rxjZN/KWuTs/2bP8Agnd4vIOmfAj4NaiW6NaeGtKkJ/FEzU9z/wAE9/2GL8bpP2T/AADhhwYfDdun/oKiuyM89krx9i/R1f8AgngVqHFmGly1adJPs1Xi/ulE7a1%2BPnwKvsfYvjT4Smz08rxHat/KSvRfgz4s8K%2BKl1F/DHibT9SWHyfNNhepMEzvxnYTjODjPoa%2Bcrr/AIJl/sDXf%2Bt/ZX8KDP8Azys2T/0FhXrv7IX7K37Pn7M7eIn%2BBPwu0/w0dc%2Byf2r9geQi48nzvKyHZsbfNkxjH3jWkZZu5WrwpqPVxlNv5JxS38ysLPOnXSxEKah1cZTb%2BSlFLfzPaKKKK1PXCiiigAooooAK%2BIfEOfiV/wAFnNcuz%2B8s/hp8Hba1C9fK1DULgS7vbNuMY9q%2B3q%2BH/wBixLrxt%2B05%2B058ddQgZZdS%2BLr%2BGImkHLQ6LbraqR/s/OR%2BBrzsYnVxmFo958z9KcZS/NxPv%2BDGsFkme5i94YVUY/4sVXpUf/TcKv49z6Qooor6E/PAooooAta5/wAhq8/6%2BpP/AEI1Vq1rn/IavP8Ar6k/9CNVaS2QBRRRTAtaH/yGrP8A6%2Bo//QhVWrWh/wDIas/%2BvqP/ANCFVaXUAooopgFWtH/4%2B3/69Z//AEU9VataP/x9v/16z/8Aop6T2Aq0UUUwCiiigC1p/wDx6X3/AF6j/wBGx1Vq1p//AB6X3/XqP/RsdVaS3YBRRRTAKtQ/8gW4/wCvqH/0GWqtWof%2BQLcf9fUP/oMtJgVaKKKYBRRRQBam/wCQLb/9fU3/AKDFVWrU3/IFt/8Ar6m/9BiqrSQBRRRTAKtah/x6WP8A16n/ANGyVVq1qH/HpY/9ep/9GyUnugKtFFFMArvPBn/ItW3/AAP/ANDauDrvPBn/ACLVt/wP/wBDasa/wDjualFFFcpYUUUUAFFFFABRRRQAUUUUAFFFFABRRRQAUUUUAFFFFABRRRQAy5ubaytpLy8uEhhhQvLLK4VUUDJYk8AAc5rz3wL%2B1h8AfiL4Q13x54c8eNFpPhvSU1bWrzWdJu9NFvpzxSTR34W7iiZ7V44pWS4QNE4ifax2NjpPi54KuPiV8KPE/wAObTURZy6/4evdNiuyCfIaeB4g/HPBbP4V8uXHwA/aK%2BLXgD4jaV4g%2BDc/hPUfE/wG0rwNpVtfa1YTW7alYJqkrzSvbTyEWcst/FDEdvm7UmaSKIFQwB9NfCj41fDv416Zfap8P9SvpP7MvRaanZ6tod5pt3aTGGOZVltryKKaPdFLFIpZAGV1ZSQc1c%2BIf/IFi/6%2Bl/8AQWrgf2dPDHxFuviT8Q/jX8Qvh5e%2BET4tu9Mh0zw7qd/aXF1HBZ2YjaeZrOaaEM8skqqqyMfLijZtpYovqOs6VHrFqttKIyFkDfvFYjoR/Cynv61UGlJMT2POqK7L/hBrT%2B7a/wDfmX/47R/wg1p/dtf%2B/Mv/AMdrp9tAmzONorsv%2BEGtP7tr/wB%2BZf8A47R/wg1p/dtf%2B/Mv/wAdo9tALM5eb/kC2/8A19Tf%2BgxVVrtm8G2rWqW222wkjMP3UuOQo/565/h9fy7x/wDCDWn921/78y//AB2kqsAszjaK7L/hBrT%2B7a/9%2BZf/AI7R/wAINaf3bX/vzL/8dp%2B2gFmcbVrUP%2BPSx/69T/6NkrqP%2BEGtP7tr/wB%2BZf8A47Uk3g21mjijK237qMqMxS/3i3H73375/oE6sLhZnE0V2X/CDWn921/78y//AB2j/hBrT%2B7a/wDfmX/47T9tALM42iuy/wCEGtP7tr/35l/%2BO0f8INaf3bX/AL8y/wDx2j20Aszl9Y/4%2B0/69YP/AEUlVa7a58G2txIJGW24jRfmil/hUL2lHp/%2BvrUf/CDWn921/wC/Mv8A8dpKrBILM42iuy/4Qa0/u2v/AH5l/wDjtH/CDWn921/78y//AB2n7aAWZxtWtc/5DV5/19Sf%2BhGuo/4Qa0/u2v8A35l/%2BO1JdeDbW6upLlltsySFjuilJ5OecSgfoKXtYXCzOJorsv8AhBrT%2B7a/9%2BZf/jtH/CDWn921/wC/Mv8A8dp%2B2gFmcbVrQ/8AkNWf/X1H/wChCuo/4Qa0/u2v/fmX/wCO1Ja%2BDbW1uo7lVtsxyBhtilB4Oe8pH6Gk6sGgsziaK7L/AIQa0/u2v/fmX/47R/wg1p/dtf8AvzL/APHaftoBZnG0V2X/AAg1p/dtf%2B/Mv/x2j/hBrT%2B7a/8AfmX/AOO0e2gFmcvo/wDx9v8A9es//op6q121t4NtbeQyKttzG68RS/xKV7yn1/8A1daj/wCEGtP7tr/35l/%2BO0vawuFmcbVfUdJ0rV4fs%2BraZb3Uf9y4hVx%2BRBruv%2BEGtP7tr/35l/8AjtH/AAg1p/dtf%2B/Mv/x2h1abVmVFzhLmi7Py0PHNZ/Z3/Z/8R5/4SH4GeDr/AHfe%2B2%2BGLSXP/fUZrnLv9gD9h/xBbXr6l%2ByX8PQwtwwa28KWsBB8xBnMSLzgn86%2Bhv8AhBrT%2B7a/9%2BZf/jtSQ%2BDbWGOWMLbfvYwpxFL/AHg3P7327Y/oeWphsuq/HSi/WMX/AO2nt4XifijA/wC7Y%2BvD/DXrR/BVUvwPkPV/%2BCUf/BPXW8/bP2YtGTPX7Je3dv8A%2BiplxWMf%2BCO/7BtoS3hr4b65ohzkHSvG2qJj6brhq%2B0f%2BEGtP7tr/wB%2BZf8A47R/wg1p/dtf%2B/Mv/wAdrklk%2BQzd3hqf/gEV%2BSR71HxQ8S6EeWGdYq3Z16rX3SlJfgfFv/DqL4KWX/IsfHb4zaJj7v8AZXxJuE2/TerV7x%2BxN%2BzEn7N//CTRw/H74l%2BN4tY%2BxbIviH4p/tMaf5Xn/wDHsfLTyw/mfP1z5aeletf8INaf3bX/AL8y/wDx2r%2BiaHFovm%2BUIh5u3PlI46Z67nb19qqnlmVYeaqUaSjJbWcvy5rfgcuacf8AGmd4GeDzDGyq052upRpNuzTXvewU1qltUV9ndXTv0UUV0nyIVz3xd8a3Pw1%2BE/if4i2WnC8m0Dw7e6lFaHP79oIHlCcc8lccetdDTLm2t7y3ktLuBJYpUKSxSKGV1IwQQeCCOMUAfJdp8ffjz8M/hl8UrbxN8bIPEGraJ8AdK8daH4j13RLeOLT9TvItWRoTFYQJ5loJbCF4kKSzENKpeX5a4G%2B/ad/bC/tC7%2BFGn6p8S38QWviS%2BZPDCaV4UbxolhFoNndJJM2z%2BxWtRd3BBMLGcrNAgJkEsY%2Bo/C/7GH7N/hDw1qvg7SPAd1Jpet6QdJ1aw1LxHqF7Fc6d5DwJYstxO/8Ao0cckixQf6uHzXMaoXYmvN%2Bw9%2BzfcaYbGbwxrrXLahJey67/AMJ3rP8Aa8sslslq4fUftf2uSNoIo4zE0pj2xoNvyjAB13wE8a3nxK%2BBfgv4i6jrenanca/4T07Up9S0iKRLS7ee1jlaWBZAHWJixZQ4DBSMgHNcX4N%2BBPhn4N3HiDSvBkzNHr3izU/EN/Jf30PmNeahcvdTcDbhFaQogIyERcljlj6n4c8O6F4Q8PWHhPwvpNvYaZpdlFaadYWkYSK2gjQJHGijhVVVCgDoAKzta8E/2vqcuo/2n5fmbfk8nOMKB13D0pwjT9qpyWqvZ9r2v99jeGKxNLDVMPCbUKnK5LpLkbcb/wCFybXm2cv/AGPd/wDPa1/8Dov/AIqj%2Bx7v/nta/wDgdF/8VW9/wrb/AKjX/kt/9lR/wrb/AKjX/kt/9lXV7WPc5bMwf7Hu/wDnta/%2BB0X/AMVR/Y93/wA9rX/wOi/%2BKre/4Vt/1Gv/ACW/%2Byo/4Vt/1Gv/ACW/%2Byo9rHuFmZWsaVdSavdSLLbANcuRuvIgfvHqC2RVb%2Bx7v/nta/8AgdF/8VXR33gD7bezXn9rbfNlZ9vkZxk5x96ov%2BFbf9Rr/wAlv/sqSqRtuFmYP9j3f/Pa1/8AA6L/AOKo/se7/wCe1r/4HRf/ABVb3/Ctv%2Bo1/wCS3/2VH/Ctv%2Bo1/wCS3/2VP2se4WZlaPpV1Hq9rI0tsQtyhO28iJ%2B8OwbJqt/Y93/z2tf/AAOi/wDiq6Ox8AfYr2G8/tbd5Uqvt8jGcHOPvVF/wrb/AKjX/kt/9lS9pG%2B4WZg/2Pd/89rX/wADov8A4qj%2Bx7v/AJ7Wv/gdF/8AFVvf8K2/6jX/AJLf/ZUf8K2/6jX/AJLf/ZU/ax7hZmD/AGPd/wDPa1/8Dov/AIqrOlaVdR3LM0tt/wAe0w4vIj1iYdmrV/4Vt/1Gv/Jb/wCyqWz8AfZJTL/a27MTpjyMfeQrn73vmk6kbbhZnOf2Pd/89rX/AMDov/iqP7Hu/wDnta/%2BB0X/AMVW9/wrb/qNf%2BS3/wBlR/wrb/qNf%2BS3/wBlT9rHuFmYP9j3f/Pa1/8AA6L/AOKo/se7/wCe1r/4HRf/ABVb3/Ctv%2Bo1/wCS3/2VH/Ctv%2Bo1/wCS3/2VHtY9wszKsdKultrxTLbfNbADF5Ef%2BWqHn5uOneq39j3f/Pa1/wDA6L/4qujt/AHkRTxf2tnzogmfI6fOrZ%2B9z93H41F/wrb/AKjX/kt/9lSVSN9wszB/se7/AOe1r/4HRf8AxVH9j3f/AD2tf/A6L/4qt7/hW3/Ua/8AJb/7Kj/hW3/Ua/8AJb/7Kn7WPcLMwf7Hu/8Anta/%2BB0X/wAVVmLSroaRPH5ttk3MRH%2BmRY4WTvux3/zitX/hW3/Ua/8AJb/7KpU8AbLKSz/tb/WSo%2B7yOm0MMfe/2v0pOpHuFmc5/Y93/wA9rX/wOi/%2BKo/se7/57Wv/AIHRf/FVvf8ACtv%2Bo1/5Lf8A2VH/AArb/qNf%2BS3/ANlT9rHuFmYP9j3f/Pa1/wDA6L/4qj%2Bx7v8A57Wv/gdF/wDFVvf8K2/6jX/kt/8AZUf8K2/6jX/kt/8AZUe1j3CzMqXSro6RBH5ttkXMpP8ApkWOVj77sdv85qt/Y93/AM9rX/wOi/8Aiq6N/AG%2Byjs/7W/1crvu8jruCjH3v9n9ai/4Vt/1Gv8AyW/%2BypKpHuFmYP8AY93/AM9rX/wOi/8AiqP7Hu/%2Be1r/AOB0X/xVb3/Ctv8AqNf%2BS3/2VH/Ctv8AqNf%2BS3/2VP2se4WZg/2Pd/8APa1/8Dov/iqs32lXTW1moltvltiDm8iH/LVzx83PXtWr/wAK2/6jX/kt/wDZVLceAPPigi/tbHkxFM%2BR1%2Bdmz97j72PwpOpG%2B4WZzn9j3f8Az2tf/A6L/wCKo/se7/57Wv8A4HRf/FVvf8K2/wCo1/5Lf/ZUf8K2/wCo1/5Lf/ZU/ax7hZmD/Y93/wA9rX/wOi/%2BKrtfCUL2/h%2B3hkKEjfko4YffbuCQayP%2BFbf9Rr/yW/8Asq3tF03%2ByNMi07zvM8vd8%2B3GcsT0yfWs6s4yjZMaVi1RRRWBQUUUUAFFFFABRRRQAUUUUAFFFFABRRRQAUUUUAFFFFABRRRQAUUUUAFfPfxY/aj%2BKng74s67H4bsfDx8H%2BC/E/hPQfEdpfWE76jfz61d28DTW86zrHbpbpeW0m1oZTMVlTMfytX0JXlvjv8AZM8B%2BP8A4pj4nal4p8QWsVxfaPfa34asri3XTtYu9KuPtGn3FwHhaYPDKI2/dSxrJ5ESyCRUAoA9SooooAKKKKAPn/4c/tK/EPXf2qvEXwj%2BIHirRdE0q28WXOk%2BE9Gn%2BHGqxT62kWmQXm6LWZLr7FJMC1w5gSIyeVbOcAKzj6Arze6/Zr0rVPjBp/xY8Q/FLxfqlvo2uS6zoXhPUL%2B3k0zTdQkspLJp4v3AuceTPcBYXnaFGnZljBCFfSKACiiigDif2kPGXxG%2BHnwI8V%2BO/hPp%2Bi3Ov6Nos97Yx%2BIZJRZr5Sl3eQQ/PJtQMwjBTzGATzIwxkXxXw5%2B2T8ZNc1yDxdJpfhiPwlpnjTwr4Q8RacNOuDqFxqGs6bpl0Lu3uPtHlxQxyazZJ5LxSMyxzHzV%2BUV718Y/hq3xh%2BGmr/DNvHOs%2BHYdasntLvU9AS0N0sEilZEX7XBPENykqSYyQDlSpwR5l4E/YM8C%2BCdZ0nU7r4ueNtbt9O1Gw1O90rVZtOW11fUrG3W2sr65W2somMsMEVrGoiaONvsVu0iO6F2APc6KKKACvLP2xPix8Vfgl8GZPiN8J9J0C6ubLWLFNUPiFpzHFZS3CRSGKOEqZZSXVVDOiruLkvsEUnqdcD%2B0d8BYP2j/hzJ8MtR%2BJ/iTwvY3F1DNeT%2BGEsDNcCKRZEjY3trcKqh0RvkVWJUDdgkEA89%2BBn7SvxD8b/H/wAQfDb4meKdF0iKDxJren%2BGvDb/AA41WzuNRtrObak0WrT3RtLt/KxK8UMW4K27CqpNfQFeV%2BEf2WbbQviFpHxE8X/HHx34xm8P3F3d6HYeKLyxe3sr25haGe6T7PaQyFmSSdVjZzDEs7pFHGgRU9UoAKKKKAPGP2zPi98cfgd4Em%2BJHwtbwg1npunTONJ16zurm/8AEeqs8SWOjWSQyxLDLcuzxidjMVdo/wBwy7iMP9lH9qP4qfGDXPCEnxIsfDy6b8TvhcvjzwdFolhPBPpdn5tqDZ3byzyrcyiLUbM%2BdGsKllmHl42mu2%2BMv7NKfF/4k%2BGfilB8afF3hnUfCVreRaPDoUGkz26SXIRZLkx6hY3IFwI0MSyrtZY5ZkGBK%2B6L4GfsmeA/gJria14e8VeINVTT9AXQfDFjrdxbvD4e0hZfNFhaCGCNvKyIl3TNLJtt4V34QCgD1KiiigAr5y/bo/aK/aV/Zv0pvGXwr03wZq0E/wBls/Dvg66029u9Z8QXbtI15JGYZ4lgitLZftTKEmMqQTKWgJRq%2Bja8k%2BIv7JcHxA%2BMl38aYPj5480G%2BvPDcegvY6FJpaxQWIkeSVLeWaxkurR5mcGSSCaORjDCQwMMZUAX9kj41eIPjH4UvpvGvj3SdU12wNqdS0uw%2BH%2Bp%2BG59M86BZFWW21K4mmkVvmKTrtjcKdu7aTXrVcH8HvgNYfCbWtc8Xah8RPEfi7xB4hjs4dT8QeKHtPtD29qsi29uq2dvbwqiGad%2BI9zNM5ZmyMd5QAUUUUAfKX7W/wC2J%2B0T%2Bzb8YfDngax0/wAIXlr488U2OgeF7a78OamiWBvpo7O2vJ9SaZLa8lW7fdJpdui3At90wkCRs59n/Zz%2BJ/jX4gWXizwx8SRpcniDwR4xn0HVL7RLOS2tL3FtbXkM8cMsszw5t7yEMhlkw6vhiMVyfxX/AGC/h58ZvEf9seNPip46extfE3/CTaBoMWq232XQ9eEJii1O1Z7Zp1kiLPIkUkslssjlvJ6Y9F%2BDnwf0X4NeHr7SNO8QaprN7q%2BsXGq65rutvCbvUrybaGlk8iKKJcIkcarHGiqkSKF4oA62iiigAr43%2BOH7Z37W/wAKP2gNO%2BCEdp4Vl/tW6ae8vbH4V%2BINROi2XmDyvIjjuY5NfJjkiEs9mscdrLtjlXdPGB9kV4bJ%2BwzpSeLrHxzpn7SXxQs9S0GO%2Bg8IzxavYSf2Fa3lxHPdWsYmsnF3FIYYF2332oosMfllGUNQB6Z8GvG9p8SPhdovjey8Zab4gTULISNrGkaZLZW9w4JV9tvNJLJbkMGVopHZ0ZWVsEEDpq5r4Q/Cvw38Ffh5YfDfwrcXk9rYtPLJeajMJLi7uJ5nuLi4lZVVTJLNLJI21VXc52qowB0tABRRRQAUUUUAFFFFABRRRQBifErxvY/DP4c6/wDEjU7WSe28P6Jd6lcQxHDSJBC0rKPchCBXmP7M3xs%2BMXjLxtqHw1%2BN8fhuTVE8C6B4rsrrwvp9xbQxQ6k99E9k6zzzGR4JLI/vwUEqzL%2B6jKnPr%2BuaLpXiTRbzw7rtjHdWN/ayW15bSjKzROpV0PsVJB%2BtcD8Bf2ZvDHwEur3VbHxv4k8SajeaNpujJqfie5t5Z7fS7AT/AGOyQwQQgpGbm4be4eZ2mYySOcYAPSKKKKACuB/al%2BI3jj4Rfs6eM/id8NNHgv8AX9D8P3F5pFndafNdxyzouVDQwOkkoz/AjKx6Aiu%2BrK8c%2BFR448Iaj4S/4SPVdIOoWrQpquh3v2e8tGP3ZYZMEK6nBGQynGGVlJBAOS/Zu%2BKF38UvBuoXur/EHTNf1LS9aksNT/s/wRf%2BHZLCURRSC3nsNQnmuIpdkqSguVDxzRsq7SGb0KuM%2BDfwV0r4Ow69dJ4v1rxFq/ijWhqviHxB4ga2%2B1XtwttBaR5W1hhgjVILaCNVjiQYTccuzM3Z0AFFFFAHz7%2B17%2B1d8Tv2X/GUWuDwpoV/4Ktvhx4m8QXytNMdTurvSrF7zyYyMRQRbFVdxErOZTxEI8y9b8BPib8W9U%2BIvi74KfHGfw5ea/4Z03SNUXVPCumT2dpNa6gtyqxmGeedxJHNZXIL%2BZh0MZ2ociq/x8/Y/wDDv7RfjbTfFHjj4seLLfS7DSr3TJ/CWnx6X/Z1/aXsXk3sMxmspLkieH92xSZCq8xlG%2Bauh%2BCvwC0n4M3Osa1L498ReK9b137KmpeIfFU9s93JBbReVb2/%2BjQQxiOMNIw%2BTczzSMzMzE0Ad5RRRQAV8z/tJ/tSftJ/CX4jeNvCfhLwt4YmsdM8HaTq3hV10e/1W8cz6rDZXM1zBbyRNIqLJKy28PzYhDmU%2BYY4/pivHfHf7Idz44%2BMV98aIv2m/iTol9d6NHpkWn6DNpEFvaW8cwnjWNm09pzicCQiSV1k5jkDws0RAOn/AGdviVL8Uvh4devfHum%2BIL221K4s9Rn03wle6EbWeNsG3msL6aW4t5VBXKyMCQysFAYZ7uuQ%2BDfwb0b4M6NqllZeJdW1zUNd1ubV9e17XXgN3qN5IkcXmOLeKKFNsUMMSrHGihIl4zknr6ACiiigD5Q%2BIn7Vn7Vvg79qnwn%2By3Zy/Dm41Dx/fX8dtfWei391F4LjhjubyzXUD9riN/Le2NjfNGqC02S2r/6xMMfdP2avirrPxm%2BDmneOPE2nWtrqy3uoaZrEVhu%2Bzm9sL6exuHiDksImltpGQMSQrKCSRk%2Bfab%2BwLo2l311qtt%2B0h8RftknjC58VWN80WhfaLDWJ/MR7tJf7L3zEWs01ksdwZo1tZPKCfJEU9Z%2BEvwv8NfBn4d6Z8NPCT3UllpkTAXN9MJLi6ld2lmuJXAAaWWV3kcgAFnYgAcUAdHRRRQBHdNcpayPZQpJMIyYY5ZCis2OAWAJUE98HHoelfFvij9tz9rbwV8cX%2BD/ivWfAi6VpWji68V%2BO/DPwo1/XrDSNR8kyzaM0NpfCQyW8fkzPdsUUx3Ue6GEq2ftDUbSW/wBPnsYNQmtHmhaNLq22%2BZCSCA671Zdw6jcpGRyCOK8I8G/sHT%2BAfAFl8NvC37YHxatNNsLKe0iEMugo0sc%2BTcvNs0oC4nlc%2Ba1zKHuBJvZZUMs3mAHuHhvVrTX/AA7Ya7p%2BsWmowXtlFPBqFh/qLpHQMJY/mb5GBDL8zcEcnrV2szwT4O8O/DvwZpHw/wDCGni00nQtMt9P0u0VywhtoY1jjTLEk4RVGSc8Vp0AFZXjc%2BNh4R1EfDddKOvG1YaSdbaQWizkYVphEN7IDyVXBbGNy53DVrE%2BJHgTT/ib4G1PwHqer6np8WpWxi/tDRr0293avkMksMgztdWCsMgqSMMGBIIB8eeGv%2BCiX7RGt3PxVnisfCEunfA/T7PWfFc174O1PS77X9OuHnPlxWFzeefotxHHY3uBdCczA2sqxrHMDX29Xz3/AMO5vhlc%2BJfEHjDW/i5471HU/G9xat8SLm5u9OQeL4LYQrbWt4kVkiRwxRw%2BUotVt2ZJZQ7OZGJ%2BhKACiiigDlvjNqnxF0X4fXur/DC40uDUbXbNNdato15qSQWqHfO0dlZFZ7yby1YRwRujO5UA5%2BVvmL9lT9vL4z/Gb4ippnxa1/wv4Y0Z/EK6RpCL8MdZA12TEqj/AImL3pttMuZHjI%2BwXCvPDIHt33So1fUHxW%2BGkXxT8NQ6EvjTXfDt1aajBfafrXhy6jiurWeJtykCaOSGVSNytHLHIjKxBXOCPNPB/wCwj4L8I3lhG/xm8f6rpFr4r/4Sm98OavqdnLZajrpupLxtQk22qyxMbt/tBgt5IbbzEUiEfMGAPcaKKKACiiigAooooAKKKKACiiigAooooAKKKKACiiigAooooAKKKKACiiigAooooAKKKKACiiigAooooAKKKKACiiigAooooAKKKKACiiigAooooAKKKKACiiigAooooAKKKKACiiigAooooAKKKKACiiigAooooAKKKKACiiigAooooAKKKKACiiigAooooAKKKKACiiigAooooAKKKKACiiigAooooAKKKKACiiigAooooAKKKKACiiigAooooAKKKKACiiigAooooAKKKKACiiigAooooAKKKKACiiigAooooAKKKKACiiigAooooAKKKKAP/9k%3D\">"
            ]
          },
          "metadata": {
            "tags": []
          }
        }
      ]
    },
    {
      "metadata": {
        "id": "1Hw0YvWCboMK",
        "colab_type": "text"
      },
      "cell_type": "markdown",
      "source": [
        "# Submit the MLP with 2 hidden layers\n",
        "Run these cells after training the MLP with 2 hidden layers"
      ]
    },
    {
      "metadata": {
        "id": "mxz5hdBPboMM",
        "colab_type": "code",
        "colab": {}
      },
      "cell_type": "code",
      "source": [
        "## GRADED PART, DO NOT CHANGE!\n",
        "# Validation loss for MLP\n",
        "grader.set_answer(\"i8bgs\", s.run(loss, {input_X: X_val_flat, input_y: y_val_oh}))\n",
        "# Validation accuracy for MLP\n",
        "grader.set_answer(\"rE763\", accuracy_score(y_val, s.run(classes, {input_X: X_val_flat})))"
      ],
      "execution_count": 0,
      "outputs": []
    },
    {
      "metadata": {
        "id": "61a905xdboMO",
        "colab_type": "code",
        "colab": {
          "base_uri": "https://localhost:8080/",
          "height": 34
        },
        "outputId": "84cc84ad-789d-4640-9e6c-3683e33a879a"
      },
      "cell_type": "code",
      "source": [
        "# you can make submission with answers so far to check yourself at this stage\n",
        "grader.submit(COURSERA_EMAIL, COURSERA_TOKEN)"
      ],
      "execution_count": 92,
      "outputs": [
        {
          "output_type": "stream",
          "text": [
            "Submitted to Coursera platform. See results on assignment page!\n"
          ],
          "name": "stdout"
        }
      ]
    }
  ]
}