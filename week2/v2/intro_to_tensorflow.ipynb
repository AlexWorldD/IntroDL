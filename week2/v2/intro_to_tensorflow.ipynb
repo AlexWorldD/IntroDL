{
  "nbformat": 4,
  "nbformat_minor": 0,
  "metadata": {
    "colab": {
      "name": "intro_to_tensorflow.ipynb",
      "version": "0.3.2",
      "provenance": []
    },
    "kernelspec": {
      "name": "python3",
      "display_name": "Python 3"
    },
    "accelerator": "GPU"
  },
  "cells": [
    {
      "metadata": {
        "id": "7PRxrpwD5wLs",
        "colab_type": "code",
        "colab": {
          "base_uri": "https://localhost:8080/",
          "height": 323
        },
        "outputId": "30fd1532-1638-432c-b0a6-8ecaf6198a53"
      },
      "cell_type": "code",
      "source": [
        "! shred -u setup_google_colab.py\n",
        "! wget https://raw.githubusercontent.com/hse-aml/intro-to-dl/master/setup_google_colab.py -O setup_google_colab.py\n",
        "import setup_google_colab\n",
        "setup_google_colab.setup_week2()"
      ],
      "execution_count": 2,
      "outputs": [
        {
          "output_type": "stream",
          "text": [
            "shred: setup_google_colab.py: failed to open for writing: No such file or directory\n",
            "--2018-12-10 16:15:59--  https://raw.githubusercontent.com/hse-aml/intro-to-dl/master/setup_google_colab.py\n",
            "Resolving raw.githubusercontent.com (raw.githubusercontent.com)... 151.101.0.133, 151.101.64.133, 151.101.128.133, ...\n",
            "Connecting to raw.githubusercontent.com (raw.githubusercontent.com)|151.101.0.133|:443... connected.\n",
            "HTTP request sent, awaiting response... 200 OK\n",
            "Length: 3595 (3.5K) [text/plain]\n",
            "Saving to: ‘setup_google_colab.py’\n",
            "\n",
            "setup_google_colab. 100%[===================>]   3.51K  --.-KB/s    in 0s      \n",
            "\n",
            "2018-12-10 16:15:59 (51.8 MB/s) - ‘setup_google_colab.py’ saved [3595/3595]\n",
            "\n",
            "**************************************************\n",
            "inception_v3_weights_tf_dim_ordering_tf_kernels_notop.h5\n",
            "**************************************************\n",
            "cifar-10-batches-py.tar.gz\n",
            "**************************************************\n",
            "mnist.npz\n"
          ],
          "name": "stdout"
        }
      ]
    },
    {
      "metadata": {
        "id": "kzAcmzZG8SYJ",
        "colab_type": "code",
        "colab": {}
      },
      "cell_type": "code",
      "source": [
        "# !!! RUN THIS CELL ONLY ON GOOGLE COLAB !!!\n",
        "! wget https://raw.githubusercontent.com/hse-aml/intro-to-dl/master/setup_google_colab.py -O setup_google_colab.py\n",
        "import setup_google_colab\n",
        "\n",
        "# run tensorboard in background\n",
        "import os\n",
        "os.system(\"tensorboard --logdir=./logs --host 0.0.0.0 --port 6006 &\")\n",
        "\n",
        "# expose port and show the link\n",
        "setup_google_colab.expose_port_on_colab(6006)"
      ],
      "execution_count": 0,
      "outputs": []
    },
    {
      "metadata": {
        "id": "YtAvSYbZ5TjK",
        "colab_type": "text"
      },
      "cell_type": "markdown",
      "source": [
        "# Intro to TensorFlow\n",
        "\n",
        "This notebook covers the basics of TF and shows you an animation with gradient descent trajectory.\n",
        "<img src=\"https://github.com/AlexWorldD/IntroDL/blob/master/week2/v2/images/gradient_descent.png?raw=1\" style=\"width:50%\">"
      ]
    },
    {
      "metadata": {
        "id": "sIAUJTbt5TjN",
        "colab_type": "text"
      },
      "cell_type": "markdown",
      "source": [
        "# TensorBoard"
      ]
    },
    {
      "metadata": {
        "id": "Te9EQo4H5TjP",
        "colab_type": "text"
      },
      "cell_type": "markdown",
      "source": [
        "**Plase note that if you are running on the Coursera platform, you won't be able to access the tensorboard instance due to the network setup there.**\n",
        "\n",
        "Run `tensorboard --logdir=./tensorboard_logs --port=7007` in bash.\n",
        "\n",
        "If you run the notebook locally, you should be able to access TensorBoard on http://127.0.0.1:7007/"
      ]
    },
    {
      "metadata": {
        "id": "xFTQJJaj5TjP",
        "colab_type": "code",
        "colab": {
          "base_uri": "https://localhost:8080/",
          "height": 34
        },
        "outputId": "44d6806b-3b36-4a2e-a340-7e187b7ab881"
      },
      "cell_type": "code",
      "source": [
        "import tensorflow as tf\n",
        "import sys\n",
        "sys.path.append(\"../..\")\n",
        "from keras_utils import reset_tf_session\n",
        "s = reset_tf_session()\n",
        "print(\"We're using TF\", tf.__version__)"
      ],
      "execution_count": 18,
      "outputs": [
        {
          "output_type": "stream",
          "text": [
            "We're using TF 1.12.0\n"
          ],
          "name": "stdout"
        }
      ]
    },
    {
      "metadata": {
        "id": "8j9Q_nvv5TjT",
        "colab_type": "text"
      },
      "cell_type": "markdown",
      "source": [
        "# Warming up\n",
        "For starters, let's implement a python function that computes the sum of squares of numbers from 0 to N-1."
      ]
    },
    {
      "metadata": {
        "id": "O2sUsj-a5TjU",
        "colab_type": "code",
        "colab": {}
      },
      "cell_type": "code",
      "source": [
        "import numpy as np\n",
        "\n",
        "def sum_python(N):\n",
        "    return np.sum(np.arange(N)**2)"
      ],
      "execution_count": 0,
      "outputs": []
    },
    {
      "metadata": {
        "id": "5JzoEBKb5TjX",
        "colab_type": "code",
        "colab": {
          "base_uri": "https://localhost:8080/",
          "height": 68
        },
        "outputId": "e9fb8b47-f2a6-4ff7-f364-62d32d72c5b4"
      },
      "cell_type": "code",
      "source": [
        "%%time\n",
        "sum_python(10**5)"
      ],
      "execution_count": 20,
      "outputs": [
        {
          "output_type": "stream",
          "text": [
            "CPU times: user 1.57 ms, sys: 93 µs, total: 1.66 ms\n",
            "Wall time: 951 µs\n"
          ],
          "name": "stdout"
        },
        {
          "output_type": "execute_result",
          "data": {
            "text/plain": [
              "333328333350000"
            ]
          },
          "metadata": {
            "tags": []
          },
          "execution_count": 20
        }
      ]
    },
    {
      "metadata": {
        "id": "4jIpGDcw5TjZ",
        "colab_type": "text"
      },
      "cell_type": "markdown",
      "source": [
        "# Tensoflow teaser\n",
        "\n",
        "Doing the very same thing"
      ]
    },
    {
      "metadata": {
        "id": "IyRkJRGr5Tjb",
        "colab_type": "code",
        "colab": {}
      },
      "cell_type": "code",
      "source": [
        "# An integer parameter\n",
        "N = tf.placeholder('int64', name=\"input_to_your_function\")\n",
        "\n",
        "# A recipe on how to produce the same result\n",
        "result = tf.reduce_sum(tf.range(N)**2)"
      ],
      "execution_count": 0,
      "outputs": []
    },
    {
      "metadata": {
        "id": "C25zAiO65Tjd",
        "colab_type": "code",
        "colab": {
          "base_uri": "https://localhost:8080/",
          "height": 34
        },
        "outputId": "5abc7352-75a6-4355-9806-421aac9c7a5e"
      },
      "cell_type": "code",
      "source": [
        "# just a graph definition\n",
        "result"
      ],
      "execution_count": 22,
      "outputs": [
        {
          "output_type": "execute_result",
          "data": {
            "text/plain": [
              "<tf.Tensor 'Sum:0' shape=() dtype=int64>"
            ]
          },
          "metadata": {
            "tags": []
          },
          "execution_count": 22
        }
      ]
    },
    {
      "metadata": {
        "id": "8Hbqi4Gh5Tjg",
        "colab_type": "code",
        "colab": {
          "base_uri": "https://localhost:8080/",
          "height": 68
        },
        "outputId": "c4ae4b08-cef7-4c81-bda8-d3e422eaec89"
      },
      "cell_type": "code",
      "source": [
        "%%time\n",
        "# actually executing\n",
        "result.eval({N: 10**5})"
      ],
      "execution_count": 23,
      "outputs": [
        {
          "output_type": "stream",
          "text": [
            "CPU times: user 6.12 ms, sys: 847 µs, total: 6.97 ms\n",
            "Wall time: 7.01 ms\n"
          ],
          "name": "stdout"
        },
        {
          "output_type": "execute_result",
          "data": {
            "text/plain": [
              "333328333350000"
            ]
          },
          "metadata": {
            "tags": []
          },
          "execution_count": 23
        }
      ]
    },
    {
      "metadata": {
        "id": "ZPNwINJ45Tji",
        "colab_type": "code",
        "colab": {}
      },
      "cell_type": "code",
      "source": [
        "# logger for tensorboard\n",
        "writer = tf.summary.FileWriter(\"logs\", graph=s.graph)"
      ],
      "execution_count": 0,
      "outputs": []
    },
    {
      "metadata": {
        "id": "r7L1s7UE5Tjl",
        "colab_type": "text"
      },
      "cell_type": "markdown",
      "source": [
        "# How does it work?\n",
        "1. Define placeholders where you'll send inputs\n",
        "2. Make a symbolic graph: a recipe for mathematical transformation of those placeholders\n",
        "3. Compute outputs of your graph with particular values for each placeholder\n",
        "  * `output.eval({placeholder: value})`\n",
        "  * `s.run(output, {placeholder: value})`\n",
        "\n",
        "So far there are two main entities: \"placeholder\" and \"transformation\" (operation output)\n",
        "* Both can be numbers, vectors, matrices, tensors, etc.\n",
        "* Both can be int32/64, floats, booleans (uint8) of various size.\n",
        "\n",
        "* You can define new transformations as an arbitrary operation on placeholders and other transformations\n",
        " * `tf.reduce_sum(tf.arange(N)**2)` are 3 sequential transformations of placeholder `N`\n",
        " * There's a tensorflow symbolic version for every numpy function\n",
        "   * `a+b, a/b, a**b, ...` behave just like in numpy\n",
        "   * `np.mean` -> `tf.reduce_mean`\n",
        "   * `np.arange` -> `tf.range`\n",
        "   * `np.cumsum` -> `tf.cumsum`\n",
        "   * If you can't find the operation you need, see the [docs](https://www.tensorflow.org/versions/r1.3/api_docs/python).\n",
        "   \n",
        "`tf.contrib` has many high-level features, may be worth a look."
      ]
    },
    {
      "metadata": {
        "id": "UBEvkgw05Tjl",
        "colab_type": "code",
        "colab": {}
      },
      "cell_type": "code",
      "source": [
        "with tf.name_scope(\"Placeholders_examples\"):\n",
        "    # Default placeholder that can be arbitrary float32\n",
        "    # scalar, vertor, matrix, etc.\n",
        "    arbitrary_input = tf.placeholder('float32')\n",
        "\n",
        "    # Input vector of arbitrary length\n",
        "    input_vector = tf.placeholder('float32', shape=(None,))\n",
        "\n",
        "    # Input vector that _must_ have 10 elements and integer type\n",
        "    fixed_vector = tf.placeholder('int32', shape=(10,))\n",
        "\n",
        "    # Matrix of arbitrary n_rows and 15 columns\n",
        "    # (e.g. a minibatch of your data table)\n",
        "    input_matrix = tf.placeholder('float32', shape=(None, 15))\n",
        "    \n",
        "    # You can generally use None whenever you don't need a specific shape\n",
        "    input1 = tf.placeholder('float64', shape=(None, 100, None))\n",
        "    input2 = tf.placeholder('int32', shape=(None, None, 3, 224, 224))\n",
        "\n",
        "    # elementwise multiplication\n",
        "    double_the_vector = input_vector*2\n",
        "\n",
        "    # elementwise cosine\n",
        "    elementwise_cosine = tf.cos(input_vector)\n",
        "\n",
        "    # difference between squared vector and vector itself plus one\n",
        "    vector_squares = input_vector**2 - input_vector + 1"
      ],
      "execution_count": 0,
      "outputs": []
    },
    {
      "metadata": {
        "id": "M5g3tA5L5Tjp",
        "colab_type": "code",
        "colab": {}
      },
      "cell_type": "code",
      "source": [
        "my_vector =  tf.placeholder('float32', shape=(None,), name=\"VECTOR_1\")\n",
        "my_vector2 = tf.placeholder('float32', shape=(None,))\n",
        "my_transformation = my_vector * my_vector2 / (tf.sin(my_vector) + 1)"
      ],
      "execution_count": 0,
      "outputs": []
    },
    {
      "metadata": {
        "id": "0hytD1Rq5Tjt",
        "colab_type": "code",
        "colab": {
          "base_uri": "https://localhost:8080/",
          "height": 34
        },
        "outputId": "8bb30fe3-01a1-4b75-f807-18164cd66feb"
      },
      "cell_type": "code",
      "source": [
        "print(my_transformation)"
      ],
      "execution_count": 27,
      "outputs": [
        {
          "output_type": "stream",
          "text": [
            "Tensor(\"truediv:0\", shape=(?,), dtype=float32)\n"
          ],
          "name": "stdout"
        }
      ]
    },
    {
      "metadata": {
        "id": "FloOi1c85Tjv",
        "colab_type": "code",
        "colab": {
          "base_uri": "https://localhost:8080/",
          "height": 68
        },
        "outputId": "f541a4fa-7ddb-4b86-cbf4-af8702113cd8"
      },
      "cell_type": "code",
      "source": [
        "dummy = np.arange(5).astype('float32')\n",
        "print(dummy)\n",
        "my_transformation.eval({my_vector: dummy, my_vector2: dummy[::-1]})"
      ],
      "execution_count": 28,
      "outputs": [
        {
          "output_type": "stream",
          "text": [
            "[0. 1. 2. 3. 4.]\n"
          ],
          "name": "stdout"
        },
        {
          "output_type": "execute_result",
          "data": {
            "text/plain": [
              "array([0.       , 1.6291324, 2.0950115, 2.6289961, 0.       ],\n",
              "      dtype=float32)"
            ]
          },
          "metadata": {
            "tags": []
          },
          "execution_count": 28
        }
      ]
    },
    {
      "metadata": {
        "id": "-tXycM-a5Tjy",
        "colab_type": "code",
        "colab": {}
      },
      "cell_type": "code",
      "source": [
        "writer.add_graph(my_transformation.graph)\n",
        "writer.flush()"
      ],
      "execution_count": 0,
      "outputs": []
    },
    {
      "metadata": {
        "id": "Z-TCDvhO5Tjz",
        "colab_type": "text"
      },
      "cell_type": "markdown",
      "source": [
        "TensorBoard allows writing scalars, images, audio, histogram. You can read more on tensorboard usage [here](https://www.tensorflow.org/get_started/graph_viz)."
      ]
    },
    {
      "metadata": {
        "id": "iqel8VPf5Tj0",
        "colab_type": "text"
      },
      "cell_type": "markdown",
      "source": [
        "# Summary\n",
        "* Tensorflow is based on computation graphs\n",
        "* A graph consists of placeholders and transformations"
      ]
    },
    {
      "metadata": {
        "id": "hanjmmoe5Tj1",
        "colab_type": "text"
      },
      "cell_type": "markdown",
      "source": [
        "# Loss function: Mean Squared Error\n",
        "\n",
        "Loss function must be a part of the graph as well, so that we can do backpropagation."
      ]
    },
    {
      "metadata": {
        "id": "O7hxKgEF5Tj1",
        "colab_type": "code",
        "colab": {}
      },
      "cell_type": "code",
      "source": [
        "with tf.name_scope(\"MSE\"):\n",
        "    y_true = tf.placeholder(\"float32\", shape=(None,), name=\"y_true\")\n",
        "    y_predicted = tf.placeholder(\"float32\", shape=(None,), name=\"y_predicted\")\n",
        "    # Implement MSE(y_true, y_predicted), use tf.reduce_mean(...)\n",
        "    # mse = ### YOUR CODE HERE ###\n",
        "    mse = tf.reduce_mean((y_true-y_predicted)**2)\n",
        "\n",
        "def compute_mse(vector1, vector2):\n",
        "    return mse.eval({y_true: vector1, y_predicted: vector2})"
      ],
      "execution_count": 0,
      "outputs": []
    },
    {
      "metadata": {
        "id": "brtDBo0F5Tj4",
        "colab_type": "code",
        "colab": {}
      },
      "cell_type": "code",
      "source": [
        "writer.add_graph(mse.graph)\n",
        "writer.flush()"
      ],
      "execution_count": 0,
      "outputs": []
    },
    {
      "metadata": {
        "id": "xaaIZBRW5TkH",
        "colab_type": "code",
        "colab": {}
      },
      "cell_type": "code",
      "source": [
        "# Rigorous local testing of MSE implementation\n",
        "import sklearn.metrics\n",
        "for n in [1, 5, 10, 10**3]:\n",
        "    elems = [np.arange(n), np.arange(n, 0, -1), np.zeros(n),\n",
        "             np.ones(n), np.random.random(n), np.random.randint(100, size=n)]\n",
        "    for el in elems:\n",
        "        for el_2 in elems:\n",
        "            true_mse = np.array(sklearn.metrics.mean_squared_error(el, el_2))\n",
        "            my_mse = compute_mse(el, el_2)\n",
        "            if not np.allclose(true_mse, my_mse):\n",
        "                print('mse(%s,%s)' % (el, el_2))\n",
        "                print(\"should be: %f, but your function returned %f\" % (true_mse, my_mse))\n",
        "                raise ValueError('Wrong result')"
      ],
      "execution_count": 0,
      "outputs": []
    },
    {
      "metadata": {
        "id": "afV0MBO25TkK",
        "colab_type": "text"
      },
      "cell_type": "markdown",
      "source": [
        "# Variables\n",
        "\n",
        "Placeholder and transformation values are not stored in the graph once the execution is finished. This isn't too comfortable if you want your model to have parameters (e.g. network weights) that are always present, but can change their value over time.\n",
        "\n",
        "Tensorflow solves this with `tf.Variable` objects.\n",
        "* You can assign variable a value at any time in your graph\n",
        "* Unlike placeholders, there's no need to explicitly pass values to variables when `s.run(...)`-ing\n",
        "* You can use variables the same way you use transformations \n",
        " "
      ]
    },
    {
      "metadata": {
        "id": "zb4ZMAGF5TkL",
        "colab_type": "code",
        "colab": {}
      },
      "cell_type": "code",
      "source": [
        "# Creating a shared variable\n",
        "shared_vector_1 = tf.Variable(initial_value=np.ones(5),\n",
        "                              name=\"example_variable\")"
      ],
      "execution_count": 0,
      "outputs": []
    },
    {
      "metadata": {
        "id": "Oc4H_xJZ5TkO",
        "colab_type": "code",
        "colab": {
          "base_uri": "https://localhost:8080/",
          "height": 34
        },
        "outputId": "495aaa95-a032-4c0e-b51f-0e5490c948d0"
      },
      "cell_type": "code",
      "source": [
        "# Initialize variable(s) with initial values\n",
        "s.run(tf.global_variables_initializer())\n",
        "\n",
        "# Evaluating the shared variable\n",
        "print(\"Initial value\", s.run(shared_vector_1))"
      ],
      "execution_count": 34,
      "outputs": [
        {
          "output_type": "stream",
          "text": [
            "Initial value [1. 1. 1. 1. 1.]\n"
          ],
          "name": "stdout"
        }
      ]
    },
    {
      "metadata": {
        "id": "HUvx1j4I5TkQ",
        "colab_type": "code",
        "colab": {
          "base_uri": "https://localhost:8080/",
          "height": 34
        },
        "outputId": "2d4bc7b1-e434-4376-c86b-b0761f949410"
      },
      "cell_type": "code",
      "source": [
        "# Setting a new value\n",
        "s.run(shared_vector_1.assign(np.arange(5)))\n",
        "\n",
        "# Getting that new value\n",
        "print(\"New value\", s.run(shared_vector_1))"
      ],
      "execution_count": 35,
      "outputs": [
        {
          "output_type": "stream",
          "text": [
            "New value [0. 1. 2. 3. 4.]\n"
          ],
          "name": "stdout"
        }
      ]
    },
    {
      "metadata": {
        "id": "EMvm9ViT5TkV",
        "colab_type": "text"
      },
      "cell_type": "markdown",
      "source": [
        "# tf.gradients - why graphs matter\n",
        "* Tensorflow can compute derivatives and gradients automatically using the computation graph\n",
        "* True to its name it can manage matrix derivatives\n",
        "* Gradients are computed as a product of elementary derivatives via the chain rule:\n",
        "\n",
        "$$ {\\partial f(g(x)) \\over \\partial x} = {\\partial f(g(x)) \\over \\partial g(x)}\\cdot {\\partial g(x) \\over \\partial x} $$\n",
        "\n",
        "It can get you the derivative of any graph as long as it knows how to differentiate elementary operations"
      ]
    },
    {
      "metadata": {
        "id": "BOwYvXi65TkX",
        "colab_type": "code",
        "colab": {}
      },
      "cell_type": "code",
      "source": [
        "my_scalar = tf.placeholder('float32')\n",
        "\n",
        "scalar_squared = my_scalar**2\n",
        "\n",
        "# A derivative of scalar_squared by my_scalar\n",
        "derivative = tf.gradients(scalar_squared, [my_scalar, ])"
      ],
      "execution_count": 0,
      "outputs": []
    },
    {
      "metadata": {
        "id": "pIi7EaFv5TkY",
        "colab_type": "code",
        "colab": {
          "base_uri": "https://localhost:8080/",
          "height": 34
        },
        "outputId": "886d9be5-101c-48c7-df06-35267e65bb89"
      },
      "cell_type": "code",
      "source": [
        "derivative"
      ],
      "execution_count": 37,
      "outputs": [
        {
          "output_type": "execute_result",
          "data": {
            "text/plain": [
              "[<tf.Tensor 'gradients/pow_1_grad/Reshape:0' shape=<unknown> dtype=float32>]"
            ]
          },
          "metadata": {
            "tags": []
          },
          "execution_count": 37
        }
      ]
    },
    {
      "metadata": {
        "id": "te6GHDlW5Tka",
        "colab_type": "code",
        "colab": {
          "base_uri": "https://localhost:8080/",
          "height": 265
        },
        "outputId": "a878b614-35bd-458e-ae38-aed4712fe136"
      },
      "cell_type": "code",
      "source": [
        "import matplotlib.pyplot as plt\n",
        "%matplotlib inline\n",
        "\n",
        "x = np.linspace(-3, 3)\n",
        "x_squared, x_squared_der = s.run([scalar_squared, derivative[0]],\n",
        "                                 {my_scalar:x})\n",
        "\n",
        "plt.plot(x, x_squared,label=\"$x^2$\")\n",
        "plt.plot(x, x_squared_der, label=r\"$\\frac{dx^2}{dx}$\")\n",
        "plt.legend();"
      ],
      "execution_count": 38,
      "outputs": [
        {
          "output_type": "display_data",
          "data": {
            "image/png": "[encoded data removed]",
            "text/plain": [
              "<matplotlib.figure.Figure at 0x7f1bab810be0>"
            ]
          },
          "metadata": {
            "tags": []
          }
        }
      ]
    },
    {
      "metadata": {
        "id": "LvwfGO4H5Tkb",
        "colab_type": "text"
      },
      "cell_type": "markdown",
      "source": [
        "# Why that rocks"
      ]
    },
    {
      "metadata": {
        "id": "LEdIMdJq5Tkd",
        "colab_type": "code",
        "colab": {}
      },
      "cell_type": "code",
      "source": [
        "my_vector = tf.placeholder('float32', [None])\n",
        "# Compute the gradient of the next weird function over my_scalar and my_vector\n",
        "# Warning! Trying to understand the meaning of that function may result in permanent brain damage\n",
        "weird_psychotic_function = tf.reduce_mean(\n",
        "    (my_vector+my_scalar)**(1+tf.nn.moments(my_vector,[0])[1]) + \n",
        "    1./ tf.atan(my_scalar))/(my_scalar**2 + 1) + 0.01*tf.sin(\n",
        "    2*my_scalar**1.5)*(tf.reduce_sum(my_vector)* my_scalar**2\n",
        "                      )*tf.exp((my_scalar-4)**2)/(\n",
        "    1+tf.exp((my_scalar-4)**2))*(1.-(tf.exp(-(my_scalar-4)**2)\n",
        "                                    )/(1+tf.exp(-(my_scalar-4)**2)))**2\n",
        "\n",
        "der_by_scalar = tf.gradients(weird_psychotic_function, my_scalar)\n",
        "der_by_vector = tf.gradients(weird_psychotic_function, my_vector)"
      ],
      "execution_count": 0,
      "outputs": []
    },
    {
      "metadata": {
        "id": "NKKqsYie5Tke",
        "colab_type": "code",
        "colab": {
          "base_uri": "https://localhost:8080/",
          "height": 265
        },
        "outputId": "f0df707d-9efe-47e9-c7f0-3e676b4bb6ae"
      },
      "cell_type": "code",
      "source": [
        "# Plotting the derivative\n",
        "scalar_space = np.linspace(1, 7, 100)\n",
        "\n",
        "y = [s.run(weird_psychotic_function, {my_scalar:x, my_vector:[1, 2, 3]})\n",
        "     for x in scalar_space]\n",
        "\n",
        "plt.plot(scalar_space, y, label='function')\n",
        "\n",
        "y_der_by_scalar = [s.run(der_by_scalar,\n",
        "                         {my_scalar:x, my_vector:[1, 2, 3]})\n",
        "                   for x in scalar_space]\n",
        "\n",
        "plt.plot(scalar_space, y_der_by_scalar, label='derivative')\n",
        "plt.grid()\n",
        "plt.legend();"
      ],
      "execution_count": 40,
      "outputs": [
        {
          "output_type": "display_data",
          "data": {
            "image/png": "[encoded data removed]",
            "text/plain": [
              "<matplotlib.figure.Figure at 0x7f1ba1027e48>"
            ]
          },
          "metadata": {
            "tags": []
          }
        }
      ]
    },
    {
      "metadata": {
        "id": "qBeZTJjm5Tkh",
        "colab_type": "text"
      },
      "cell_type": "markdown",
      "source": [
        "# Almost done - optimizers\n",
        "\n",
        "While you can perform gradient descent by hand with automatic gradients from above, tensorflow also has some optimization methods implemented for you. Recall momentum & rmsprop?"
      ]
    },
    {
      "metadata": {
        "id": "L9ZjIfY-5Tkh",
        "colab_type": "code",
        "colab": {}
      },
      "cell_type": "code",
      "source": [
        "y_guess = tf.Variable(np.zeros(2, dtype='float32'))\n",
        "y_true = tf.range(1, 3, dtype='float32')\n",
        "\n",
        "loss = tf.reduce_mean((y_guess - y_true + 0.5*tf.random_normal([2]))**2) \n",
        "\n",
        "step = tf.train.MomentumOptimizer(0.03, 0.5).minimize(loss, var_list=y_guess)"
      ],
      "execution_count": 0,
      "outputs": []
    },
    {
      "metadata": {
        "id": "KCPsAB5X5Tkk",
        "colab_type": "text"
      },
      "cell_type": "markdown",
      "source": [
        "Let's draw a trajectory of a gradient descent in 2D"
      ]
    },
    {
      "metadata": {
        "id": "2_XstAAc5Tkl",
        "colab_type": "code",
        "colab": {
          "base_uri": "https://localhost:8080/",
          "height": 269
        },
        "outputId": "9cdd18a2-50fb-4794-f698-66b9ec974bf5"
      },
      "cell_type": "code",
      "source": [
        "from matplotlib import animation, rc\n",
        "import matplotlib_utils\n",
        "from IPython.display import HTML, display_html\n",
        "\n",
        "# nice figure settings\n",
        "fig, ax = plt.subplots()\n",
        "y_true_value = s.run(y_true)\n",
        "level_x = np.arange(0, 2, 0.02)\n",
        "level_y = np.arange(0, 3, 0.02)\n",
        "X, Y = np.meshgrid(level_x, level_y)\n",
        "Z = (X - y_true_value[0])**2 + (Y - y_true_value[1])**2\n",
        "ax.set_xlim(-0.02, 2)\n",
        "ax.set_ylim(-0.02, 3)\n",
        "s.run(tf.global_variables_initializer())\n",
        "ax.scatter(*s.run(y_true), c='red')\n",
        "contour = ax.contour(X, Y, Z, 10)\n",
        "ax.clabel(contour, inline=1, fontsize=10)\n",
        "line, = ax.plot([], [], lw=2)\n",
        "\n",
        "# start animation with empty trajectory\n",
        "def init():\n",
        "    line.set_data([], [])\n",
        "    return (line,)\n",
        "\n",
        "trajectory = [s.run(y_guess)]\n",
        "\n",
        "# one animation step (make one GD step)\n",
        "def animate(i):\n",
        "    s.run(step)\n",
        "    trajectory.append(s.run(y_guess))\n",
        "    line.set_data(*zip(*trajectory))\n",
        "    return (line,)\n",
        "\n",
        "anim = animation.FuncAnimation(fig, animate, init_func=init,\n",
        "                               frames=100, interval=20, blit=True)"
      ],
      "execution_count": 42,
      "outputs": [
        {
          "output_type": "display_data",
          "data": {
            "image/png": "[encoded data removed]",
            "text/plain": [
              "<matplotlib.figure.Figure at 0x7f1ba0340438>"
            ]
          },
          "metadata": {
            "tags": []
          }
        }
      ]
    },
    {
      "metadata": {
        "id": "gSVdwVEH5Tkm",
        "colab_type": "code",
        "colab": {
          "base_uri": "https://localhost:8080/",
          "height": 309
        },
        "outputId": "6b7823e3-3726-4c90-f01b-4a2f6c3055ee"
      },
      "cell_type": "code",
      "source": [
        "try:\n",
        "    display_html(HTML(anim.to_html5_video()))\n",
        "except (RuntimeError, KeyError):\n",
        "    # In case the build-in renderers are unaviable, fall back to\n",
        "    # a custom one, that doesn't require external libraries\n",
        "    anim.save(None, writer=matplotlib_utils.SimpleMovieWriter(0.001))"
      ],
      "execution_count": 43,
      "outputs": [
        {
          "output_type": "display_data",
          "data": {
            "text/html": [
              "<img src=\"data:image/jpeg;base64,/9j/4AAQSkZJRgABAQEASABIAAD/2wBDAAIBAQEBAQIBAQECAgICAgQDAgICAgUEBAMEBgUGBgYFBgYGBwkIBgcJBwYGCAsICQoKCgoKBggLDAsKDAkKCgr/2wBDAQICAgICAgUDAwUKBwYHCgoKCgoKCgoKCgoKCgoKCgoKCgoKCgoKCgoKCgoKCgoKCgoKCgoKCgoKCgoKCgoKCgr/wAARCAEgAbADASIAAhEBAxEB/8QAHwAAAQUBAQEBAQEAAAAAAAAAAAECAwQFBgcICQoL/8QAtRAAAgEDAwIEAwUFBAQAAAF9AQIDAAQRBRIhMUEGE1FhByJxFDKBkaEII0KxwRVS0fAkM2JyggkKFhcYGRolJicoKSo0NTY3ODk6Q0RFRkdISUpTVFVWV1hZWmNkZWZnaGlqc3R1dnd4eXqDhIWGh4iJipKTlJWWl5iZmqKjpKWmp6ipqrKztLW2t7i5usLDxMXGx8jJytLT1NXW19jZ2uHi4%2BTl5ufo6erx8vP09fb3%2BPn6/8QAHwEAAwEBAQEBAQEBAQAAAAAAAAECAwQFBgcICQoL/8QAtREAAgECBAQDBAcFBAQAAQJ3AAECAxEEBSExBhJBUQdhcRMiMoEIFEKRobHBCSMzUvAVYnLRChYkNOEl8RcYGRomJygpKjU2Nzg5OkNERUZHSElKU1RVVldYWVpjZGVmZ2hpanN0dXZ3eHl6goOEhYaHiImKkpOUlZaXmJmaoqOkpaanqKmqsrO0tba3uLm6wsPExcbHyMnK0tPU1dbX2Nna4uPk5ebn6Onq8vP09fb3%2BPn6/9oADAMBAAIRAxEAPwD9/KKKKACiiigAooooAKKKKACiiigAooooAKKKKACiiigAooooAKKKKACiiigAooooAKKKKACiiigAooooAKKKKACiiigAooooAKKKKACiiigAooooAKKKKACiiigAooooAKKKKACiiigAooooAKKKKACiiigAornLb4wfCS8%2BIk/wgs/ij4cl8W20Hn3PhePW7dtRii2q29rYP5qrtdGyVxhlPcU/Q/ix8LPE3jXU/ht4b%2BJXh/UPEeioH1nQLHWYJb2wU4wZoFcyRA7l5YD7w9aAOgooooAKKKKACiiigAooooAKKKKACiiigAooooAKKKKACiiigAooooAKKKKACiiigAooooAKKKKACiiigAooooAKKKKACiiigAooooAKKKKACiiigAooooAKKKKACiiigAooooAKKKKAPlvx7dXd3%2B2N4I1jR/hX43s7bwr4z1KXxBpo8CyNopjn0a8iXxJBfWltm5vJHuLeyMLTylY5pi1ujRGdM39nnwR46svjj4P8LX3w81/T7/wV4m%2BIl/4r1%2B%2B0OeCyu7bVNXkntBDdugiuzciW3uSkTuY/sxWURuqqfraigCrrWpHSNMk1EQ%2BZ5e35N2M5YDr%2BNY154/8Askoi/sndmJHz5%2BPvIGx933xV/wAZ/wDItXP/AAD/ANDWuN1j/j7T/r1g/wDRSVvShGS1JbaN7/hZP/UF/wDJn/7Gmy/E6OCMyy6QFVRkk3PT/wAdrkZrySG9SB4cRuMCTP8AF6YqheRS27zRtJCzTPhN7EyFWPAHPQHt6CrdOmugJs7OT4uF3CWOgiTClnDXJUgAjIAKdee9WoficlxCs8WjZV1BU/aOx/4DXEx2F1PdtduDA4UbWGGDNggn6EbfyFXbaBbWBbdCSFGMnvQqUeqBs6OL4j629x9om8NRR2Zd40Y3mXdl2nPC8DDDrVj/AIWT/wBQX/yZ/wDsawZv%2BQLb/wDX1N/6DFVWmqUBXZ1H/Cyf%2BoL/AOTP/wBjR/wsn/qC/wDkz/8AY1y9Kqs5wqkn2FP2VPsF2dP/AMLJ/wCoL/5M/wD2NSp4/wB9lJef2T/q5UTb5/XcGOfu/wCz%2BtcsLZxzIyp/vGrEQRdKmwd6faIt3Y52yYx7df0qHCl0Q7s3P%2BFk/wDUF/8AJn/7GlHxHJ6aIT9Lj/7Gua85F/1cCj3PNIbmcjHmED0HFP2cX0/ELnUD4gTkZ/sEge9zj/2Wl/4WCR9/S0H/AG9f4LXKEk9ST9aSj2KDmOui8ei4cxxaaCwRm/13ZVLH%2BH0FQH4iyBwRp6svddxBP4//AFqwtH/4%2B3/69Z//AEU9VaFRhcOZnUf8LJ/6gv8A5M//AGNH/Cyf%2BoL/AOTP/wBjXL0VXsqfYV2dR/wsn/qC/wDkz/8AY1LY%2BP8A7bew2f8AZO3zZVTd5%2BcZOM/drkqtaH/yGrP/AK%2Bo/wD0IUnShbYLs3v%2BFk/9QX/yZ/8AsaP%2BFk/9QX/yZ/8Asa5ein7Kn2C7Oo/4WT/1Bf8AyZ/%2Bxo/4WT/1Bf8AyZ/%2Bxrl6KPZU%2BwXZ08fxEf8A5a2Kn6Ej/GrFx48FtO9tJpqh43KuDOeoOD/DXIVa1z/kNXn/AF9Sf%2BhGp9jC4%2BZnQP8AEXYcf2Qrf7tz/wDY0xviNJINsWkqrHoWmyPywK5ilRyhyAD9RT9lGwrs6hPiNuHzaP7f8fH/ANjSn4iMBn%2Bxfw%2B0/wD2NcusgAwV75HNOWRd27PJx%2BFS6aT2Hc6m4%2BIIgjiYaUGMkZZl%2B0fdO5hj7vtn8ai/4WT/ANQX/wAmf/sa5%2B9V0t7UNjBgJUjuPMf%2BoNQrDI670Qke1NU6drsLs6b/AIWT/wBQX/yZ/wDsaP8AhZP/AFBf/Jn/AOxrlyCOCKKr2VPsK7Oo/wCFk/8AUF/8mf8A7Gq9p8SNbDM%2Bo%2BGYhC0jiGeK84OMHaQVznDDnpXP1am/5Atv/wBfU3/oMVJ0oaBdm8fiTgZ/sb/yZ/8Asaq23xaDWJvrzQ1iUE8i6JGM8fwVzl3btdQNCs7xkj7yY/rVa6t5UtY7d4GkVCDm3O0gjG04J9fr2pOlBdB3Z2kPxPiuEEsGlK6nut1n/wBlp3/Cyf8AqC/%2BTP8A9jXn8l1NGhmurgrLHIF2o2OgDOxA68A%2B3NXrO7upJzDdRopMQcKucrnsfehQpvoGp6D4d8W/29etZ/2f5W2Ivu83dnBAx0HrWzXG/Dz/AJDUv/Xq3/oS12VY1YqM7Ia1QUUUVmMKKKKACiiigAooooAKKKKAMvxn/wAi1c/8A/8AQ1rg7zV7O/1VrW0Lv5NtCskgQ7QwjUFc%2Bua7zxn/AMi1c/8AAP8A0Na43VwBdpgY/wBFg/8ARSV00diWZ97afbIhEZmTDA7kAzx6Z6U%2BKFIlCrk4/iY5P5mn0VtZXJCjr0op%2BM4eNeR1FDdgLMij%2BxoFdsYupf1WP/Cq7IANpA%2B7kEetTSkLpkTBchriTk/7qcfrVYuxJwcZ7ZqEpMegA4IJGcHoac1xKw2hto9FGKZRVtJ7iDr1q1D/AMgW4/6%2Bof8A0GWqtWof%2BQLcf9fUP/oMtDAq0UU%2BC2ubp/LtoHkb%2B6ikn9KYDKK0V8M6ig338kFqp73EwB/IZNH2Hw7bf8fOsyzEdVtoMfq1TzLoOxBo/wDx9v8A9es//op6q1s6bd6BHcstppErkW8p3z3HUCNiRhR3HH41X/4SHy/%2BPXRrGP0Pkbj%2BbE0ru%2BwGcAScAVKljey/6uzlb/djJq4fFWu4xHeCMekcSr/IVE/iDXJPvatcf8BlI/lT94NBq6JrL/d0m5P/AGwb/CrWj6HrMWrWs0ulzqq3KFmaIgABhzVJtV1N/v6jOfrM3%2BNWNFvbx9ZtFe7lINzGCDIefmFJ81g0GHQNcHXSLn/vyaY2j6un39LuR9YG/wAKjF/fDpey/wDfw09dX1ZPuancD6Tt/jT98NCN7W6j/wBZbSL/ALyEVHV1PEmvR/d1ac/7z5/nUn/CVaw3E8sUw9JbdD/Sj3g0M6rWuf8AIavP%2BvqT/wBCNT/27bS8XegWT%2BpjQof0NWNVm8Nyarcpd2d1E4uHDSQyhgx3HnBH6Uru%2BwGNRWj/AGVo1x/x5a%2Bik9Euoin6jIps3hrWI082K2E6f37dw4/TmnzRCzKFFK6PGxSRCpHUEYIpKoRa1D/j0sf%2BvU/%2BjZKqglTkHB9qtah/x6WP/Xqf/RslVaS2AkFw5GJQHH%2B0KMW8n3WKH0PIqOilyrpoO494ZEG4jI/vDkVPN/yBbf8A6%2Bpv/QYqrpI8ZyjkfSrUhEmlwvM%2B1TcShQq9DtTJ/HI/Kk3JbhoU6KfJC8Y3cFT0YdKZVJp7CI57S3uFdXjGZF2swHOPrSW1oltubezu5%2Bd3PJ9OlS0UWVwN74dnOtSnH/Lq3/oS12Vcb8PP%2BQ1L/wBerf8AoS12Vctb4y47BRRRWQwooooAKKKKACiiigDxj9oD4v8Axy%2BFfxN8KweG28IXGg%2BIPE2jaLY%2BG5bO6n1vWHuLorqNxDIsscVrHZWe68OYp/MS3lDGH5ScbRf2lviHJ%2B1/4i%2BDvjbxVovh/wAOWPiu30fwvZXnw41VpdeEmhWl%2BSmtfalsUm8%2Ba5VYPKLslowALEsOs8YfsvS%2BJvju37QWkfHvxroOrHQoNIjsdNttGntYLRJWmdIvtunTyw%2Bc7KZikimTyYc/6qPbPrH7MmneJPiVp3j/AMVfF7xpqllpms22sW3hO9vbRtMGpQWv2eO6AFsJ0wP3vkJMtv52ZPK3EkgHd%2BLoZrjw9cQ28TO7bNqIuSfnXsK5TVdH1eS5Vo9KuWAtoRkQMeREoI6etdT4z/5Fq5/4B/6GtcbrH/H2n/XrB/6KSuijexLD%2Bw9a/wCgPdf%2BA7f4U2TSdThx5%2BnzxhjgGSIqCfxFQxxtIcDgDkk9qdJKAvlQ8L3Pc1q3K9kIsSaDrCnCaVdNxyRbt/hSf2LrgG0aTdY9Ps7f4VUop2dhGnLo%2BrnSIIhpVzuFzKSvkNkArHg9PY/lVb%2Bw9a/6A91/4Dt/hRN/yBbf/r6m/wDQYqq0K4Fr%2Bw9a/wCgPdf%2BA7f4Uf2HrX/QHuv/AAHb/CqtXNP0Wa8iN5PKtvbKfmnl6fQD%2BI/ShtrcBv8AYetf9Ae6/wDAdv8ACtLTfC%2BqXGlTJcwtbq08b5eMliFDg4Uc5%2BYVWOsWWmDytBtcP3u5wC5/3R0X%2BdQmee50m5muJmdzdQ5Z2yT8stS%2BdrsPQv8A9mwafxa%2BGr28kH/LS5gZU/BQOfxNRzz%2BMJk8mLT7mCPtFbWrIP0FY9FPl7hcttouuOxZtJuyT1Jgb/Ck/sPWv%2BgPdf8AgO3%2BFVaKrURp6Vo%2Brx3LNJpVyoNtMMtAw5MTADp61W/sPWv%2BgPdf%2BA7f4UaP/wAfb/8AXrP/AOinqrS1uBa/sPWv%2BgPdf%2BA7f4Uf2HrX/QHuv/Adv8Kq0U9QLX9h61/0B7r/AMB2/wAKs6Po%2Brxavayy6Vcqq3KFmaBgANw5PFZlWtD/AOQ1Z/8AX1H/AOhCk72YB/Yetf8AQHuv/Adv8KP7D1r/AKA91/4Dt/hVWinqBa/sPWv%2BgPdf%2BA7f4Uf2HrX/AEB7r/wHb/CqtFGoFr%2Bw9a/6A91/4Dt/hVnWNH1eXV7qWLSrlla5cqywMQRuPPSsyrWuf8hq8/6%2BpP8A0I0tbgH9h61/0B7r/wAB2/wp8OleIbd/Mt9NvUb%2B8kLg/oKpUU9QNtLnxQ6iLUdDlu0Ha4s2JH0YDNL/AGBbah/q9Mv7GQ/wvbtJH%2BeMisOip5X00Hc2NZ8OazbxWsK2MkvlwFWaFCwz5jnsPQiqP9h61/0B7r/wHb/Cp21K%2B02CxksrloybU7gDw372TqOhp4n0bWfluo1srg/8tox%2B6Y%2B6/wAP1FJOSQaFX%2Bw9a/6A91/4Dt/hR/Yetf8AQHuv/Adv8KbqGmXmmSiO7iwGGUdTlXHqD3qvVq7EWv7D1r/oD3X/AIDt/hVmXR9XOkQRDSrncLmUlfIbIBWPB6ex/KsyrU3/ACBbf/r6m/8AQYqTuA6PSNdiOU0m69x9nbB/SibRtREZmbTLiLby2%2BFgPzIqnR06UnF3uh3LKaPq8qCSPSrllIyGWBiD%2BlL/AGHrX/QHuv8AwHb/AAqIMs42SEBv4W9fY1GysjFWGCOopptuzA6PwJp2oWeryS3dhNEptiA0kRUZ3LxyK6yuN%2BHn/Ial/wCvVv8A0Ja7Kuat8ZS2CiiishhRRRQAUUUUAFFFFABRRRQBl%2BM/%2BRauf%2BAf%2BhrXHaqrPexoo5NrBj/v0ldj4z/5Fq5/4B/6Gtcjqn7uUSd2tYFX/v0ma6KTtEl7lWV1UeTGeB1PqajoordKyJCiiimBam/5Atv/ANfU3/oMVVatTf8AIFt/%2Bvqb/wBBiqTRbKCVpNRv1zbWq7nX%2B%2B38Kfiam9lcB9lp9rY2y6trKkq3NvbA4MvufRf51W1HU7vU5RJcuAqjEcajCoPQDtTdQv7jUrpru5b5m6AdFHYD2qGhLqxhVqH/AJAtx/19Q/8AoMtVatQ/8gW4/wCvqH/0GWmxFWiiimAUUUUAWtH/AOPt/wDr1n/9FPVWrWj/APH2/wD16z/%2BinqrS6gFFYvxGvvFmmeBNX1HwJNo8esQWEj6dJ4gldLJZQuVM7J8wjHfGDjuOtfDFx/wU8/aP%2BFfxIl8M%2BOY/hl44gEbyzW3hHWWhWLAwEjumLRsxP8Ayz2yOcY4yM%2BpgMpxeZRk6Fm49G7P8rfe0cWLx%2BHwTSq3s%2Btrr87/AIM/QGrWh/8AIas/%2BvqP/wBCFfI3hn/gsF%2BzVe6vF4e8d%2BE/F/hi8Vmj1J9Q0qOWGymXO5G8qRpjhgV/1QOeoHOPeP2Z/wBqD4L/ALTNzJqXwf8AE8uoLpV7bpqMc%2BnzQNAZGJTPmKA2QjfdJxjnFZ4rKsywdNzrUpRj3tp96bRVDH4LES5adRN9r6/dozt6KKK4DrCiiigAq1rn/IavP%2BvqT/0I1Vq1rn/IavP%2BvqT/ANCNLqBVooopgFFFFAFrUP8Aj0sf%2BvU/%2BjZKq1a1D/j0sf8Ar1P/AKNkqrSWwF3TtYa2iNjexefaMfmhY8r7qexpNU0oWapeWc3nWsv%2BqlxyD/db0IqnV3RtRitXazvgWtLj5Zk/u%2BjD3FJq2qGUqtTf8gW3/wCvqb/0GKmanYSaZevZyMG2n5XHRlPII/Cnzf8AIFt/%2Bvqb/wBBip3vYRVooopgFSj/AEhNp%2B%2Bo%2BU%2Bo9KipVYowZTyDxSkrgbvw8/5DUv8A16t/6EtdlXHeAGV9dmZVwDbNx/wJa7GuWr8Za2CiiishhRRRQAUUUUAFFFFAHPa78XPhR4X8baZ8NPE3xO8Pad4j1pN%2Bj%2BH7/WoIb2/XLDMMDuJJR8rcqD90%2BhpZfix8LIPiHH8IpviV4fTxZNafaovDDazANReDBPmi23%2BaUwrHdtx8p54rwX9pLV/D/iT9o/Svhhqvwt8T6dolpeeH/Enirxnofwx1fUn1660%2B/a70vTIruys5Y0SC4hWeeSR/kSRYkX9/K8XP3nhLxtqH7RN54btPhz4j%2B36r%2B0Bpfjax8TyeHbpLGPQ4/DdrbSSvdtGIopf3M9h9mZhPmQHy/LYvQB9TeM/%2BRauf%2BAf%2BhrXFX0zzPHv/AIYUX8lA/pXb%2BLjCvh64NxGzJ8m5UfaT869yD/KuNkk0sMPPs7hm2jlLlVGMehQ1vS6fMllOirXnaL/0D7r/AMDF/wDjdHnaL/0D7r/wMX/43XRfyJKtFWvO0X/oH3X/AIGL/wDG6PO0X/oH3X/gYv8A8bov5AE3/IFt/wDr6m/9BiqxqbfY9EstPTgyg3Evvk4X9BSyy6R/ZEBNjc7ftMuB9qXIO2PPOz6VNrsmlFbKSSzuGDWMewrcqMAZGD8hyff9Ki%2BqGY1FWvO0X/oH3X/gYv8A8bo87Rf%2Bgfdf%2BBi//G6u/kIq1ah/5Atx/wBfUP8A6DLR52i/9A%2B6/wDAxf8A43VmKXSP7InIsbnb9piyPtS5J2yY52fWk2BmUVa87Rf%2Bgfdf%2BBi//G6PO0X/AKB91/4GL/8AG6d/ICrRVrztF/6B91/4GL/8bo87Rf8AoH3X/gYv/wAbov5AGj/8fb/9es//AKKeqtaelS6QblvLsbkH7NNy10p48ps/welVvO0X/oH3X/gYv/xulfUDmviT4c8EeLfAWr%2BHviTp0N1oNxYyf2tBcFgjQKNzElSCMAZyCCMZFfFv7EfgX9mPWtX%2BIvjOTRvDGm/C7XLeKPSvD3i/W7a6vcWxkL3Tq7F7ZMM5AZi44OSAGP3pcJ4du7d7W60ieWKVCkkcl0jK6kYIIMeCCO1eWa1%2BxD%2BxTr8omvv2adCRgwbFlFHbDP0hjUY9q9jL8wp4bDVaNRzXPb4baWd72bXvaK0r6L1PPxeEnWrQqRUXy336303Sem%2BnU89%2BEv7E3/BOjx3ob%2BL/AIW/D/RPENhdBo2uo9durxIz3XDzN5TD6BhxVHXf2Zvjx%2By/42g8Sf8ABP46Lb6Tr91BBrvhLxRdO9hp8wZQuoxs8gcAKMSKCzEchX%2BUJuS/8Euv2Ko/FNr4u0LwT4i0i5tNQS8hTTfFUiIro4cAbkZkGQPulSOxFeK/8F3fg/8AtJ/F/wCF3gy2/Z%2B8J%2BIta0Oy1K7bxRomhB7maWRkiFtK0MShpEUCccK20uOma48/4jq5TgamLw7qYlJa05q99Ulezle173STVvNn1vh3wRhON%2BLcJkmMxFLARrSa9u2ko2jKXVwV5W5YqUkm5K7Wh7VoP7Unxt%2BGHjrQvAX7Xfwp0bRLTxFeGx0rxv4b1czabLeEZSGSOQeZBv6Kznk9sBiv0BX5c/AfSvjN8Kv2V/hh8C/217PV/Dfg/VviJPq19qGvQTSSWOl2ywNDpzqFdrczTmZhvC7VYNjG6v0/8K%2BM/h3460KDxP4L1SPVtOuVzb32natFNFIPZkQg/wBKiFV4/J8LmPsHSdWLbjrZa2W%2Bzet432s7K9jm4kyajwxxdmGR0sZDFQw1RwjVha1RJL3lZu61tdNq6klKSSbnoq152i/9A%2B6/8DF/%2BN0edov/AED7r/wMX/43XPfyPLKtWtc/5DV5/wBfUn/oRo87Rf8AoH3X/gYv/wAbqzrEukDV7oS2NyW%2B0vuK3SgE7j22HFK%2BoGZRVrztF/6B91/4GL/8bo87Rf8AoH3X/gYv/wAbp38gKtFWvO0X/oH3X/gYv/xujztF/wCgfdf%2BBi//ABui/kAah/x6WP8A16n/ANGyVVrTvpdIFtZ77G5INsdoF0owPNfr8nPOaredov8A0D7r/wADF/8AjdJPQCrRVrztF/6B91/4GL/8bo87Rf8AoH3X/gYv/wAbp38gLGoH7boNpfty8LtbufUD5l/QkVXm/wCQLb/9fU3/AKDFV8SaWvhksbK48t74YU3K5yE652dOemPxqGWXSP7IgJsbnb9plwPtS5B2x552fSoT/MZmUVa87Rf%2Bgfdf%2BBi//G6PO0X/AKB91/4GL/8AG6u/kIq0Va87Rf8AoH3X/gYv/wAbo87Rf%2Bgfdf8AgYv/AMbov5Aanw8/5DUv/Xq3/oS12Vcn4Ek09tXkFpazI32Y5Mk4YY3L2CiusrlrfGWtgooorIYUUUUAFFFFABRRRQAUUUUAZfjP/kWrn/gH/oa1x2qQJC0Wz/nhHu%2BpRW/rXY%2BM/wDkWrn/AIB/6GtcjqLA3awscBrWDB9D5SYrenpG5L3KNFKylWKsMEdaSukkKKKKALU3/IFt/wDr6m/9Biqz/wAhTw6qIo83T2JIHVomOc/gf0NVpv8AkC2//X1N/wCgxUzTdQm0y7W7hAOOGRujqeoPtUtNrQZBRV/VtNhSMapphLWkp49Ym/uN/T1qhTTTQgq1D/yBbj/r6h/9BlqrVqH/AJAtx/19Q/8AoMtDAq0UUUwCiiigC1o//H2//XrP/wCinqrVrR/%2BPt/%2BvWf/ANFPVWl1AKKKKYBVrQ/%2BQ1Z/9fUf/oQrzj9oL9oHw1%2Bz14WsNd1rw/q2s3usarHpmh6JodsJbq%2Bu5FZkjVSQAPkOT24wCSAfPtFP/BRL43apbT2V34W%2BDelz3CfZ/Ntl1vV4wWGGZWxb%2Bh28MOhrspYGpVo%2B1lKMIO%2Bsna9t7JXk7eS%2BZzVMVCE%2BSKcpdkvzeiXzfyPbfFl94U07w5eXfjm70%2BDSFgP2%2BXVpI1thH38wyfLt%2BvFfn5d/trfBD9jb9ozxzqvwC8KWHifwz4otNOlsNN0DVvsdjZzxrItwf9W6hi2CAqYw3BAxn6Y0z9grw94o1mDxF%2B0t8XPE3xOuLRg9pp%2BuTi302F/74tISFJ%2BpII4INeoXPwF%2BBl6lnHefBjwnMun/APHgsvh22YW3AH7vKfJwAOMdBXp4PE5XgOaFTmrRkrSS92O6a395tNb2XU48RRx2L5ZQtTcXdN%2B8%2Bz20S121N3wr4isPF3hfTfFmlTRyWup2EN3bSRSB1aORA6kMOGGCOR1q/TLe3gtIEtbWBIookCRxxqFVFAwAAOAAO1PrwZWcnbY9RXtqFWtc/wCQ1ef9fUn/AKEaq1a1z/kNXn/X1J/6EanqMq0UUUwCiiigC1qH/HpY/wDXqf8A0bJVWrWof8elj/16n/0bJVWktgClVWdgiKSScAAdTSVq2cK6Bbrq14o%2B0uv%2BhwMPu/8ATRh/KhuwDNfK2cdvoiMCbZCZiD1kbkj8OBVeb/kC2/8A19Tf%2BgxVWd3kcySMSzHLEnkmrM3/ACBbf/r6m/8AQYqVrJDKtFFFUIKKKfDH5j4PCjlj6Ck2krgbfw8/5DUv/Xq3/oS12Vcd8P2D67MwXANs2AP95a7GuWr8Za2CiiishhRRRQAUUUUAFFFFABRXlnjv4sfFXwv%2B1Z4D%2BFVppOgf8Id4p0fVHubyVp31Jr22jWQBACsUUSqy5J8xpDIRiIR5k5LRf2lviHJ%2B1/4i%2BDvjbxVovh/w5Y%2BK7fR/C9lefDjVWl14SaFaX5Ka19qWxSbz5rlVg8ouyWjAAsSwAPbPGf8AyLVz/wAA/wDQ1rjdY/4%2B0/69YP8A0Uldp4uhmuPD1xDbxM7ts2oi5J%2BdewrlNV0fV5LlWj0q5YC2hGRAx5ESgjp610UWkiWUf%2BPlcf8ALQD/AL6H%2BNRdOtWhomtg5GkXX/gO3%2BFSNo%2BqyoWl0q5RgOWMDAH68cVpdR9BblGirEWk6pOvmQabcOufvJCxH5gU7%2Bw9a/6A91/4Dt/hV80e4gm/5Atv/wBfU3/oMVVa05dH1c6RBENKudwuZSV8hsgFY8Hp7H8qrf2HrX/QHuv/AAHb/Ckmu4CabqlxpkpaMB43GJYXGVcehFWptIttSjN54fYtgZks2P7xPp/eH61W/sPWv%2BgPdf8AgO3%2BFOi0jX4ZBLDpd4jKcqywMCP0pO17pjKhBUlWBBB5BqzD/wAgW4/6%2Bof/AEGWtMR3upAR694duy%2BMC7gtiH/4EMYb%2BdFz4V1G20iYWiPOrzxuoETK%2BArg5U8/xD1pc62YWMKirX9h61/0B7r/AMB2/wAKP7D1r/oD3X/gO3%2BFXddxFWirX9h61/0B7r/wHb/Cj%2Bw9a/6A91/4Dt/hRddwDR/%2BPt/%2BvWf/ANFPVWriwzaDb3Wta3C9nZ2thcy3N1dIY44kELkszNgKAO5r5BuPi7%2B2f%2B2L4s8M6n%2Byj4e8TeB/h1dmePVPF%2Bo6HYzfakDlRPEkzMxAKMoEZByxJJxx2YPBTxblLmUYx3lJ2S0bt3bdtEk2c%2BIxMMPZWbk9ktW/8kurdkfWVZfiXxz4J8GQfafGHjDStJjxnzNT1COBceuXYV47J%2Bw/%2B0T4mxp3xJ/bT%2BIt9pv8dtoOlw6VK/qGmiDEqfTFanhf/gmn%2By94bm%2B33fwQl1y%2Bdt0%2BoeI5rm%2Blnb%2B84lYoT9FArX2OWU/jruX%2BCP6zcfyZHtcZP4aaX%2BKX6RT/ADPMf23v2gP2cfi78Nh8Ofht45l8U%2BPYL6O/8EReA4zf3NtqUJzHKHhyipyVb5s7WJAJAx9P/BnUPFereFPCuqeO9LNjrlzYWMus2R2/uLpkQyp8pI4csOPSjwd8F/CXw7iaD4f/AAo07Q0dQrpo%2BhR2wYDsfLQZrpNH0fV4tXtZZdKuVVblCzNAwAG4cnioxeLw08NGhRi7Rbd5NN6rVaWSWl7a66joUKsa0qtRq7SVkmlp66t9OmhmUVa/sPWv%2BgPdf%2BA7f4Uf2HrX/QHuv/Adv8K4brudRVoq1/Yetf8AQHuv/Adv8KP7D1r/AKA91/4Dt/hRddwKtWtc/wCQ1ef9fUn/AKEaP7D1r/oD3X/gO3%2BFWdY0fV5dXupYtKuWVrlyrLAxBG489KV1fcDMoq1/Yetf9Ae6/wDAdv8ACj%2Bw9a/6A91/4Dt/hTuu4FWirX9h61/0B7r/AMB2/wAKBoWtkgDSLrn1gb/Ci67gGof8elj/ANep/wDRslQW9tcXcwt7WFpHboqjJrek8LTLaWsmppOPKgKtBbQmRyd7tjI4HDDrUFw2uJC1npHh%2B5tIW4YpAxd/95sfoKhTXQdiJYtP8PfvLkpc3o%2B7CDmOI%2BrH%2BI%2B1Z11dXF7O1zdSl5HOWZjU39h61/0B7r/wHb/Cj%2Bw9a/6A91/4Dt/hVLlWtwKtWpv%2BQLb/APX1N/6DFR/Yetf9Ae6/8B2/wqzLo%2BrnSIIhpVzuFzKSvkNkArHg9PY/lQ2u4jMoq1/Yetf9Ae6/8B2/wpp0nU1lWGWwmRn%2B6HiIz9M9afNFdQsQIjSMEQZJp8jKi%2BTGcj%2BJvU1afR9YRTFDpF1g/eb7O3P6VH/Yetf9Ae6/8B2/wqU1J3Y9jU%2BHn/Ial/69W/8AQlrsq5PwJp2oWeryS3dhNEptiA0kRUZ3LxyK6yuetrMpbBRRRWQwooooAKKKKACiiigDzH4o/s2XfxN%2BL3hv4xQfHzxr4euvCsM8el6VocGjtZnz1Czs/wBr0%2BeVi6Kqn94AAuVCnJK6x%2BzJp3iT4lad4/8AFXxe8aapZaZrNtrFt4Tvb20bTBqUFr9njugBbCdMD975CTLb%2BdmTytxJPptFAGX4z/5Fq5/4B/6GtcbrH/H2n/XrB/6KSuy8Z/8AItXP/AP/AENa4G/1uzn1X7DKrwSrBCqpOu3eBGo3L6g9q6aLSRLHUUUVuSSLMCuyYbh2PcUNAcb4jvX26io6VWZDuViD6ip5bbDLM3/IFt/%2Bvqb/ANBiqrVyQq%2BlwyTscNcSABR0IWPn8cj8qrm3ZhmJg49B1/KkpW3CxHRQQQcEYoqxBVy1lkh0ieWGRkYXUOGU4I%2BWWqdWof8AkC3H/X1D/wCgy0mBJL4gvbq2a3v44rjK4WWWP509ww5/Oq%2BnRJNeJG65HJ2%2BuATioaVWZWDKxBHQg0WSWgXNCRbaS5tm1CNELRM8oxtB%2B9tB2/Qe/NQ3sGnWUbXepXC2kIIAkL5QcZ3EnHy8ioUv7mJzKZd2QQ3mDcCD1zmvn34//tIXHxl1u5/ZO/Z3tY9e1/UJBB4n8SQKXsPC1oxxJK7qdr3AAPlxg8OOTkbTvhcJVxVXljstW%2BkV1b/rXRK7ZlXrwoQu93surfZf1pu9BfiB4F%2BOf7bfh%2BPw74f8QWvgr4YarYLPq08trI%2Bt6tatGs8axqyiKCKRCuTuZ1zhgTvjHuHh/QNG8K6HZ%2BGvDmmw2dhYWyW9naW6BUhiRQqqoHQAACt7S7i0iDWljAY1azkUrgBUVYGAVQO3%2BAqlZvZpOGvoXePBysbYP51VbFzrQVNLlhHVJefVvq%2Bl38kkKlQjTk5t3k93%2Bi7Ly%2B%2B5FRWjjwpJ0e/iPuEYf0oax8OtzHrsq89HtCf5GuXm8jexnVa0P/kNWf8A19R/%2BhCp/wCytGb7niWL/gVs4/pVjSdJ0%2BPVbaSPX7dytwhCBGBY7hx0pOSswsY1FaP9j6YOviS3/CN/8KP7L0Nfv%2BJU/wCA2rmnzILGdRWj9j8NR/f1meT/AK52uP5mjd4Uj5EV/KfRmRR%2BmaObyCxnVa1z/kNXn/X1J/6Ean/tXRYv%2BPbw4hPrPcM36DAqxq3iK/tdVuYbOK3h23DjfHbruOGPJJzzSvK%2BwGfa6Nqt7/x66fK4P8QQ4/PpVn/hHTb86rqltbY6p5m9x/wFc1VutX1S9yLrUJnB/haQ4/LpVenaTDQ0vO8NWP8Aqrae9cfxSt5afkOT%2BdR3HiLUpYzb27JbRH/llbLsH445NUaKOVdQuWtQ5tbHP/Pqf/RslVatah/x6WP/AF6n/wBGyVVprYQUUoViMhT9ad5eMljkD0obSCwyrUoJ0a3AGT9qm4H%2B7FVZl2nGc%2B9WnZo9JhkjcrunkUjPHCpz9Tn9BSbelhkAiSPmc4PZB1/%2BtSSTM42gBVHRRTOvWihR1uwuFFFIzKoLMQAOpNUI3/h5/wAhqX/r1b/0Ja7KuL%2BG8sU%2BrSSwyK6taNtZTkH5lrtK5K3xlrYKKKKyGFFFFABRRRQAUUUUAFFZd9438F6X4rsPAep%2BL9Lt9c1W3muNL0afUI0u7yKHb50kUJbfIqb03MoIXcucZFU5fix8LIPiHH8IpviV4fTxZNafaovDDazANReDBPmi23%2BaUwrHdtx8p54oAueM/wDkWrn/AIB/6GtcP4ksLPUJVgvLdZF%2BywYz1H7pOh7V3HjP/kWrn/gH/oa1xusf8faf9esH/opK6aKvEl7mGLXWdK5sZvtcI/5YzNhwPZu/41NZ67Y3Un2d2aCbvDONrfh6/hVyobyws9Qj8q8tlkXtuHI%2Bh7VrZrYRNRWb/ZWp2HOkakWQdLe6%2BZfoG6ilGvSWny6zpstv6yqN8f5jpRzW3Cxtzf8AIFt/%2Bvqb/wBBiqqCQcg4qWO9s73Q7drS6jkAuZSdjg4%2BWOoqa1QiQXDEYlUOP9rr%2BdGLd%2BjMh9xkVHRS5V00HckNtIeUw4/2TU8asui3AYEH7VD1/wB2WqgJHINcF%2B0T%2B0z4U/Z68Fxy3dnNrfijWLyO18KeFLE77vVJyGG1VGSsYYpukwQuQBkkKdKVGvXqKnTXM3/Xpbu9ElqyKlSnSg5zdkjf%2BIPxS%2BHHwn0Y%2BIfiX440vQ7PnbNqd4kXmEfwoGOXb/ZUE%2B1eLXX7bXiv4tyNon7HPwQ1fxc7uUHizXLd9O0SD1fzJNrzY7ooViOhPSrnwa/ZKm8UeIZPj1%2B2JYaf4q8cakFNtpU8Sy6b4cgB3Ja20TbkZlzlpDn5uhJ3O/vsMFjDEsFuPKRFCoioNqgdAAOgr0JSy/Bvl5fayXW9oX8kvekl3bin0VjkSxeIV78kX03lbzvovkm16nztB%2Bxb8Qvi4P7U/a6/aF13xAZzmXwn4Wum0zRox/zzKpiScDs7FW559a9k%2BF/wk%2BGvwX8MJ4N%2BFvg2y0XTUcube0Q5kc9Xd2JaRsADcxJwAM8V0/kA/cnQ/U4/nQbWfsmfoc1zV8xxGJjyTlaP8q92K%2BSSX33fmbUsLRoy5orXu9X97u/y9CbR/wDj7f8A69Z//RT1Vq3pSPHdOZEK/wCjTjkf9MmqpXKmmzcKKKKYBVrQ/wDkNWf/AF9R/wDoQqrVrQ/%2BQ1Z/9fUf/oQpPZgVaKKKYBRRRQAVa1z/AJDV5/19Sf8AoRqqAT0FXNYjkl1i7eNCwNzIQQOCNxqW0mBToqT7NKOWAX/eYCjyYx9%2B4X8MmjmiOzI6Kk/0VT/G36Ueeq/6uBR7nmjmfRBYm1Aj7JY8/wDLqf8A0bJVdAGBXHPY1Y1AD7PaSY5e3LMfU%2BY4/kBVZWZTlTg0K7iHUehwAScYznPcUhkAB2jqeQaYSTyTRRyLqFxWYsc1Zm/5Atv/ANfU3/oMVVaXUdY0uw0eCO6vo1cXMp8vdlsFY8cDmh2VhCUjMqqWZgABySelZ/8Aamq33GlaWUU/8trs7R/3yOTQugG6Ik1q%2BkuTnIjHyxj/AICOv40c19h2Fl1%2BKSQ2%2Bk27Xco4Pl8Iv1bpTRo93qLCXXbreuci1hJEY%2Bvdq0IoYoIxFBEqKOiqMAU6jlvuFzc%2BG8UcOryRQxhVW0YKqjAHzLXaVxvw8/5DUv8A16t/6EtdlXNW%2BMpbBRRRWQwooooAKKKKACiiigD5y%2BP2seFPCv7b/wALvGi/C/xTdXdnpWq22veI9B%2BGuq6hHHBLCFs4Zby0tJE2iVpyEL/u/MZiFD5PJXnhLxtqH7RN54btPhz4j%2B36r%2B0Bpfjax8TyeHbpLGPQ4/DdrbSSvdtGIopf3M9h9mZhPmQHy/LYvX11RQBm%2BLjCvh64NxGzJ8m5UfaT869yD/KvKPEg%2BIuheIJdQsRb65p0kcbx6e7rbXEKGNSqLJgq%2BBxlgCcV6r4z/wCRauf%2BAf8Aoa1xusf8faf9esH/AKKSuikrxJZzWnfFn4fz3S6brunajo14f%2BXbVZ1iz/uuY9rD055rpEudCkQSR2VyysMqy3qkEf8Afus/UdL03V7Y2Wq6fDcwt1iniDqfwNc4/wALbfS3M/gfxHf6K5OfJik823J9TE%2BR%2BRFa2kvMWh2nnaL/ANA%2B6/8AAxf/AI3R5uiHrp91/wCBi/8AxuuK/tf4p%2BH%2BNW8OWetQL/y8aZN5UoHqY34J9lNTWXxZ8GzTiy1W6n0m5PW31a3aBh%2BLfL%2BtF49QOpvfD/hCewivRo9xFK08iiWC8CPwEPJCYPX09fXjNlstWtZN2magZYh0ivcM2P8AfUD%2BVaqXNteeH7a4tLhJY2uZirxuGB%2BWLoRUFCitwuV1162tQBqfhW/GOslteI6n3x5eRWjHc6HLGsi6fd4YAjN2oP8A6LqtXCftC/tAeDv2dfAbeL/EyS3l5czC10LQ7MbrrVbxuEgiUZJJJGTg7RzycA60aFWtVVOF23siKlSFKDnJ2SIv2jv2jvDfwK0CCDSfA%2Bq6/wCJ9ZmFp4X8PWV2pkv7ps7QcR5SNcFmfoAp71zn7Mf7PI8N6tf/AB9/aJ1BvEXxP1VhHPeRkraaHbYf/QrLKFUVejMDljnBxuL2P2evhT41glHxo%2BN9us3jTWo/OuLaW4WRNDR1A%2ByW%2BFAVVUAHknJb5m3Mzemm0vxpVyy28iQ/aYvtEfmbw7EucqBntn069K661dYSi8PRer0lLv8A3U%2Bke/8ANu9LI54UnXqKrU2Xwx7eb/vf%2Bk%2Bt2a0V3oE6eZDaXDqejLeoR/6Lp3naL/0D7r/wMX/43XOTbGmle7TEciu8ETcFm4UYHrgZ/wCBVrQeYtugmOWCDcfU45rz1qdbLvnaL/0D7r/wMX/43QJtFHIsLr/wMX/43WKPFGjA7Zblom9JYmX%2BlTx6zpMv%2Br1OA%2B3mjNO8X1DU3NMn0qS4ZBZ3XEErYa7UjiNj02deOD2NRfb9M72d0frdof8A2nUOiSxS3TmORW/0Wf7rZ/5ZPVelyRbC7L327SD102c/W5T/AON0hvNFx/yCZv8AwKX/AON1Soo9nELstm70ntpcn43I/wDiam0yawm1O3ihs5I3adAkgmB2ncMHG3ms6rWh/wDIas/%2BvqP/ANCFDhGwXYC60sf8w1//AAIH/wATThd6QOulS/8AgSP/AIiqdFPkiF2Xvtui/wDQJm/8CV/%2BN0fb9J7adcD6XKf/ABuqNFL2cQuy99v0z/n0ux9Lxf8A43UurS6TFqdzC1lc/JO64S7ULwx6DYcD2rMqfxBc20OtXhmuET/SpPvOB/EaOWKYXY/ztF/6B91/4GL/APG6PO0X/oH3X/gYv/xusqXXtGh%2B/qcP/AZAf5VF/wAJPpb/APHt5059IYGP9KLxXUNTa87Rf%2Bgfdf8AgYv/AMbo87Rf%2Bgfdf%2BBi/wDxusT%2B2dQm/wCPTw9cn/rsyx/zo3%2BKJ/uw2luD13szsPy4ouulwOkvpdIFtZ77G5INsdoF0owPNfr8nPOaqS3egQrvmtLhF9WvUA/9F1nXmi6tLbWh1DxJM6tbkqkESx7B5jjGRknnJz71DH4a0dH8yW2Mz93ncuT%2BfFJczX/BDQtS%2BKvByP5UNvdzv2S3uQ5P5R4qKbVbi8QjSfDc8BP3Zb68Uj/vlUB/WrEUMMCbIYlRfRVwKdT5X1YXRTt9KluCTrupXMin/llZSCED2yVYmtS30nwlp2mQ3Frocqs08g3/AGlS5wqdWKZI56fX1qvVDXNc13TUs0GmQGxfURCsjTfvJXk8sMVA6BBgnPUZx0pOMU7hdmz52i/9A%2B6/8DF/%2BN1S1DxP4O02KOa4gu2WUsE8ifzM7fvH5IjgDuTwK43xFJrEx1SKPUZWmN2LX7IXPltDKqiPA/hOdw3Dqc/gaXa3D68NX8OaW4itkU3Nn5fkguyNHLGoYBc/u4W9PlPIzRcLHew3mgXEKXEFncujqGR1vFIYEZBH7uuf1vx/Y2%2BpS6B4Z8Caxqd7FgSN9pWK3jJAI3StHjoQeM1Y8Lafc6XoNvYXaBXjU5jDZ2AsSFz3wCB%2BFaFVZtbgbfwsmmlkVtTsBDfGzJuBFc%2BZGDuXhcoD6V2tcb8PP%2BQ1L/16t/6EtdlXNVVplLYKKKKyGFFFFABRRRQAUUUUAFFFFAGX4z/5Fq5/4B/6GteEeN7f9pjwv4nudX8L6h4f8VaVMscsOjX0JsLq3jMalYo5l3I%2BBxucAmvd/Gf/ACLVz/wD/wBDWuK1G5trm7/0a4STZBCj7HB2sIkyDjoR6V0UleJLPKof2oPDehTLY/F3wZr3g24LBfO1WxMtm7eiXEO5GHudtd94c8WeF/F9iNT8KeI7HUrc/wDLaxuklUfUqTg1emhhuImguIlkR1IdHXIYehB61wXiL9mL4Na9fHWbHwudE1HqmpeHLl7GZD6/uiFJ9yDW3vIWh39Q3thYalAbXUbKK4ibrHNGGU/ga82/4Vl%2B0B4O%2BbwB8c01eBP9Xp3jTTRMT9bmHbIfyNdn8P774g32iO3xK0HTtP1GO4ZFTS7xpoZowFxICygrklhtOSMZzzw076NCGXvwd8GrYxaloSXmj3MlxKGn0m8eHICxkfLkr3Paqn/CPfFHR%2BdG8b2uooPuwaxZbSB/10iwT9SKs/GDxPrvhLwRa6voet2FtKlzcmKzurRppb%2Bby4vLt4lV1OWbgnnGQegNfPvjr9o3x3%2B1Lrdz8Ff2YfFlrotlBKlt4j8Zx3UfmSMcebBp2513sBuAmUH7rFduFZtcPhvbN68sVvLWyv3t%2BC3f4mdWsqS7t7Lq/wCu%2ByNz4kftt%2BKfD/jC8%2BC3ws%2BD7%2BNvHVrFme00K%2BMlnp5PG66lC/usH%2BDO7sSpIqh8Fvh9EvxIg%2BPf7WvxAbV/HcVu0Wj6dLpUltpnh5GPzJaqy/M/YythiPU/Me/%2BAmi/Af4D%2BE38C/DzR59LsIopbubWdRjG/WGjdY5blpc7pm3ug5A%2B%2BoQYIFelaRrGheLNJXUtJuory0mLKGC5BIJBUgjgggggjIIrrqYynRg6WD0T0cn8Ul1/wp9lq18UnsYQw86klUxDu1qor4V/8k/N/JIXTPEfh/WQDpGuWl1ntb3Kv/I1rQ/8gW4/6%2Bof/QZa5jUvhj8P9WJa88JWW49Xhi8pj%2BKYNRR/CPTLbS5ptC8V6/poS4iCw2uqsY%2BVk5Kvuz0/U%2Btea3I7NDoiAeoorlv%2BEU%2BJFkc6b8TfOUfdi1DSo2/NlINAl%2BM1n/rLTw9fKP8AnnJNC5/MEU%2BbyCx1BVWGGAI9DUMml6ZNzLp0De7RA/0rnf8AhL/iJbH/AE/4VyMo6vZ6tFJn8Dg0f8LOlg41D4d%2BJIj3ZNOEij8UY0c0XuFmdFYeE/D11css2lpgW8rDaxXkRsR0PqBVb/hGdMX/AFLTx/7lw3%2BNZ2m/GfwTZ3DPqh1GzBt5V/0jSZxgmNgOinuRUUPxj%2BGc5wvi2BT6SI6f%2BhKKn93foGprf8I8o%2B5rOoL9LnP8xQNEul%2B5r95/wJlP9KqRfEr4fTfc8aaYP9%2B8Rf5mp4/G/gyX/VeLtLb/AHb%2BM/8As1O0P6/4cNST%2ByNTH3fEU/4xqf6VPpOj63JqttHF4olRmuECuLdCVO4c1Cvinww/3PEdgfpeJ/jVzRPEnh0azaOdesgBcxkk3ScfMPehqNg1KX9lav38Ry/9%2BEo/sfUT97xDcfgij%2BlPPiPw8OuvWQ%2Bt0n%2BNMbxX4WTl/Eunj63if407R/phqH9hTt9/Xr7/AIDIB/Sj/hHYj/rNVv3/AN66NRSeO/BEX%2Bt8Y6Uv11CP/wCKqtN8UPh5By/jLTz/ALlyG/lmlaH9f8OGpe/4RfSG5milk/352P8AWrepeF/D9lqtzb2%2BlRBEuHVFYbsAMQOtc4/xm%2BGiNsXxQjn0it5XP/jqmp9W%2BMXhe91W5n0rTdYvFe4dk%2Bz6PNkgsSPvKKX7u/QNTcisLGD/AFFlEn%2B7GBUtct/wsjU7njTfhn4gkPY3FskI/wDHmo/4Sb4n3XFp8NIbcHo95rMZ/wDHUBP61XNHoFmdTRXLeT8Zb3iS98P2KnvFFNM4/wC%2BiBR/whPje941n4p3pU9U0%2Bxit8fQ4Y0cz7BY7PUCBaWJJ/5dT/6NkrB1Txv4P0XI1TxPYwsvVGuV3f8AfIOao3nwb8KS29o%2BuX%2BraqXtyx/tLVZXA/eOOACBjjpV3S/AvgzRcNpnhexhYdJFtlLf99EZ/WkuawaGUfi54du%2BPDmlarq56A6fpzlfxZ9ox70f2/8AFTVuNJ8EWenKfuzatf7yR/uRDI/OuqAAGAKKdn1YGZ4asfFVpHNJ4p123vJJGBjjtrTykhHOQDkls8dfSrfiDQrnVrLTLuHWJbUWt1c8RRIxYskQyC4IUgZGcfxGqPibx74H8GRed4u8YaZpi4yPt99HET9AxGfwrkbv9rP4XX9hHpvgKx1/xZdRXMu%2BLw3oc0yjKxgZkYLHjg87uKTcVZMNTuU0LS/PhvLizSe4gXEdzOgaQf8AAj06np6mrdeYnxr%2B034v%2BXwr8I9I8NwN9288Vav5zlfXyLYEqfZmpP8AhRnxG8WfP8U/j9rdzE33tO8NxJpkGO6MybpHX6sDTv2QHXeNfiv8NfhzCZfG/jfTdNIXIhuLpfNYf7MYy7fgDXIf8NB%2BJfGH7r4MfBrXNbRvuatqyf2bYkf3leYb5APQLmuh8FfAX4P/AA%2BmF54X8A2EV0G3fb7iMz3Ge582Us/6119FpMNC/wDBV/E0kUL%2BMoLKLVDYH7bHp0jtAr714QuAxHTqK9Brjfh5/wAhqX/r1b/0Ja7Kuat8ZS2CiiishhRRRQAUUUUAFFFFAHz3on7UfxUv/jdp9vdWPh7/AIQbWfirqXgKws47CcapBc2emXd01/JcGcxPG89jPCIBApCyRyeacMlSfs3ftLfEP4kfGLX/AAH8U/FWi6XLB4g8TWnh/wAJ/wDCuNV065ubPTtXls4bqPVLm6a1v826wyyJbxAr9pU/Iow3Sz/se%2BDT8VT8U9O%2BIfimyMfiObxFp%2BgW81k2n2GszWZsp7%2BJZLVpPMkt3nQo8jRA3MsixrIwcafh/wDZr0rSfi5D8XNc%2BKXi/wAQyabLqUnhzRdevreWz0V75w1wYGSBLhxgGNFnmlWKNikYRcAAHbeLoZrjw9cQ28TO7bNqIuSfnXsK%2BePiR%2Bwt8OfE/jG7%2BIPg9PFng/xFqAjmvtc8HaxcWslxMUUsZEO6J8tnOU55Br6F8Z/8i1c/8A/9DWvlb4o/tPftI/Cjx7qNv4x/Yl8Sa74UgdF0vxH4A1i21O5ntwi7GksGMcqNtwSFLDnAzit6duXUl7lj/hVX7fvw258HfEvQfH1knSy8ZeH5LC7CD%2BFbi0yrt/tOn19aG/aZ%2BLngZdvx3/Y78eaGif63VPDlsut2SKOrs9vh0X6pkd6oeDP%2BCkf7HfizVR4a1j4sR%2BEtZGBNovjqwm0a4iY/wt9qVEJ7fKxr2rRdc0TxJpseseHtYtb%2B0mGYbqyuFljceoZSQfwrVJvZiOB8Bfte/s0/Eq5Gn%2BFfjHoxvC23%2Bz9QnNnc7u6%2BTcBHJHoBXpr2F9HZnUZLKVbdYzI05jIQIBndu6YxzmuO%2BKHwx%2BCXjLRrnVPjB4H8OX9na27SXN9rljCwt41GWcyuMxgAE7sjFfH3hT9mrwj%2B1X44vbL9myHxH4C%2BD8KzW2sazZa3eIviiXJDR2ttNI0awAjl2Ug9NucgduFwlTENyk1GnH4pPp5JdZPolq/JJs56%2BIjRtFK8nsu/%2BSXV/m7I9J8QQ%2BKv%2BCgHxJuNF%2BDceqWHw00uOXTPFPje3mm/4nnIL2dgoIVVzkPMOHDYO5QFf2rTv2Zb3w3oen%2BAvB0C6X4Z08W/2fTrbRCs8DRKcGOYEfec72LKzbmY7vmrhfDn7Pn7WnwV8F6d4a%2BDX7RPhvVNE09pIdM8P%2BK/BccEdugVOPPsmRmzkclc5yec1P8A8Lb/AG0vB/7vxp%2Byxo/iKNP9bf8AgvxjGvHqsF2iO303ZpYrFRqr2dKPLTWy3u/5pW0cn6WS0Wi1KFCUHzzd5vd9vJdkvx3eu25d/Br4p20OjalrHhKWaHw69lClhpIaSS6ijmE0kqh1QDMkds3lkk4ibkkiu5%2BG3g7xhYaRd6lrfh%2B8t7jVdTmvmtGgJNur4CIcDG4Kq5x/ETXlf/DcvgjQuPil8H/iR4PC/wCsuda8GzyW49cS23mhh7/pW94U/bP/AGU/GZVdD%2BPfhpXY4WK/1BbNyfTbPsbPtiuNWT3Og3vGPjr4qeD/ABHcWI/Zy8UatpUWzyNV0YwzNNlAW/clldcMSvPXbnvWe37U3w%2B0XTJrbx14Z8XeGXaeNsa94Tu4gAFcHJRGA%2B8O9dro%2Bv6F4itRfeH9atL6A9JrO5WVT%2BKkitWH/kC3H/X1D/6DLTal3DQ8/wBE/aR%2BAviDaNN%2BLWhAt91Lm/WBj%2BEm012Gi6jp/iRBJ4dvob9SMhrKUSj/AMdzWfrXgHwL4kz/AMJF4L0m/wB33vtunRS5/wC%2BlNctqv7LH7POsMXuvhPpUZPezja3x9PKK4p%2B/wCQaHpP9h61/wBAe6/8B2/wo/sPWv8AoD3X/gO3%2BFeU/wDDKHwys/8AkWtY8UaNj7v9l%2BKbtNv03O1A/Z21yy50T9ov4gQnsLzVorpR/wB/Isn8TSvPsGh6/pWj6vHcs0mlXKg20wy0DDkxMAOnrVObw3qVwMT6BO4/27Vj/MV5ppvwi%2BP9vcsmjftVXqAW8pxfeErK4yBGxIz8p5GR171X/wCEK/aksv8Aj2%2BOHh%2B9x0%2B2eE/Lz/37lpXlfYND0ib4fW1xzP4Ijf8A39MB/mtQSfCjQpf9b8NrRvro6/8AxNeffYP2wLbiHxF8PLn3uNNvUP8A47JR5v7Y0f3rL4aSj/ZuNQQ/qhov5fgB3jfBzw0/X4Z2v4aSB/7LUmmfBXwg2p24uvhrbeWZ08zfp2Bt3DOeOmK8/wD7V/a7j%2B/4P8BSf9c9Xux/OOrGk6/%2B10mq2xg%2BHngh3FwmwHXbgAncMZ/dUna234AdkPgv4XHT4aW/46Z/9anr8HvDSdPhnafjpCn%2Ba1wX9u/tbN08AeCV/wB7XLg/%2B0qP7S/a%2Bk%2B54W%2BH8X/XTVLxv5R09O34AehR/C3Rof8AVfDm1X/d0hR/7LVmHwIlv/x7%2BDRH/uadj%2BS15pu/bHk/5Z/DOH6vqEn9Fo/sn9ru64uPGXgO1z3tdIu5Mf8AfclF32/AD1VPD%2BrRLtj0S5Uei2zD%2BlWtY0fV5dXupYtKuWVrlyrLAxBG489K8g/4QD9p285uf2hNJs/UWfg2OT/0ZLVjVfgz8bLnVbmPxB%2B1PrM5Fw4drDw/ZWu47jkjapxReV9g0PTv7D1r/oD3X/gO3%2BFH9h61/wBAi6/8B2/wryn/AIZtmuzu1r4%2B/EW6z95E8RCBD%2BEUa/zrPv8A9nL9m%2B20251rxpqtxf2tk229vNb8XXDRwtwMSEzKq9Rw3qKd59g0PS9d8X%2BE/C%2B7/hJfE%2Bnadt%2B99uvY4cfXeRXI6t%2B1P%2Bz3o8nlXHxV0ydycBNPZ7ok%2BwhVs/hTvDH7Pv7OkVhBqnhv4Y%2BG7u2njWS2ujaR3SSIRkMrvuyCOQQa7DSfDfh3QE8vQtBsrJcY22lqkY/8dAp%2B%2BGhx0/7Sml67bWq%2BBfhH4/8AEIjgKedpnhKYRZMjsPnl2ADDDmov%2BE0/af1z5fDX7LdzZRt9y68Qa5HFj6xRK7fqK9N1D/j0sf8Ar1P/AKNkrnvEvj/wH4LjM3jHxtpGkoBktqepRQAD6uwqUpW3DQ5P/hAv2y/EXy6p4t8OeHEPT%2BxfD097IB7m4Krn8MUf8Mq%2BJ9c%2Bf4hfFnx7rO7/AFttBdmxtn%2BscCL/AOhVjeIP27v2SvD1z9hf416ZqFwTiODQo5dQZz6L9mRwazj%2B2Vf%2BIf3Xwt/Ze%2BJuvlv9Td3GgLp1pJ/22unX/wBBpe73v94anf8Ahr9lH4SeEpRcaT8GrV5gc/aL6ye6lz675t5B9813y6BqNvodtZ22izII7iXEUdsQFXbHjgDgcH8q8C/4TT9vXxn/AMi/8FfAvguM9X8U%2BJZdSlA9Qlmirn2LY96nm/Z7/ac8X6VDL8U/2zdUtLSW4kDaZ4H8PW2meUcR523L%2BbKc5A5xjHvTu1sgPZdaZfDenyav4iYWFpEMy3V6fKjQe7NgCvJvEf7cH7NOh6mfD%2BjfEIeJdVORFpXhCyl1SaU%2Bg%2BzKyg/VhXHD9nP9hjQb3WNX8feII/GmseGYPP12TxT4om1i8tFzj95bB2%2BZjwF8rcxIABJAr174Oaj8J9T8MyN8I/D9ppVlbXT21zp0GiHTpLaVODHLbtGjxNgggMoOGB6Gneb7BocR/wALm/ay%2BIH7v4Pfsaa1p9vJwmsfEW9XTVj9zaxiSZh%2BVIf2b/2w/iP8/wAYP2jb3Q7ST/W6L8NdC%2Bx7f928nDzfoK9K8c/Ev4dfDDS/7c%2BJPj7RfD9lzi71vVIrWM464aVlBrxbVf8Agpp%2BzVeahLoXwbg8V/E/VIm2vYfDrwrc6gFPbMxVIAPfzMAcmk1bdgfSnwO8Av8ADjSrXwpC2qzW1hp5hiu9YneaeX5gcvK/Lt15NegV5n%2Bzv4p1fxtoVl4r17wVqHhy8vtMMs%2BiaqyG4s2Lr8knlsy7u/BPWvTK56vxlLYKKKKzGFFFFABRRRQAUUUUAFFFFAGX4z/5Fq5/4B/6GteEWn7Xn7LPi34maj8JfD/7Q/g248U6LOlhqfhv/hIbdb%2B3uY0VXjMDOJCQwI4BGQRmvd/Gf/ItXP8AwD/0Na%2Bev2hf2H/2P/2kLtpfjj%2BzZ4N8R3U1pDv1K/0KH7YMxJnFyiiZfwcV0Ur8uhLOx8Z/D3wD8R9LOh/ELwRpGvWRzmz1nTYrqI5/2ZFYfpXiut/8EzP2URqEviH4a6Jr3w61SQ7m1X4eeKLrSnX6Ro5hGP8ArnXlvxM/4Jz/ALP/AOyz4Xm8dfBz9tv4t/AzTbME22n6b8QJb/SS4GQgsNRE/nt6Ih3HoK4Dwv4b/wCCvH7RHwT1zS/Dfxw0rxF4cvZtmj634y0OLwpqGuWJGHXFjDc7FYZ%2BfbGHBHOCwr0sPgp4iPtKnu01vJ7ei6yfkvm0tTlrYmNJ8kfem9kt/V9EvN/K5oaP8Cv2mP2sx4l8HfDv9qrVfEnwz8Na3FDpF38RrZbiLxFdQkGWN5LIQSzW6nHzliCdpUZzt9w0j4if8FDvg9pdvoGu/sfeA/F2nWUKxQN8NPGX9nLBCowAlrqEY6AY2K/sCa4f4e/tVftc/sweCtN%2BHnxN/wCCTPjC30DRLVba1vfhH4s0/wASLIq9XFszQXALHLHcCzEk5JJroNM/4LOfsKWd7Fonxe8VeK/hjqsrbRpfxM8BalpMinuGkeEwgj/rpSxmLhXap07xpx0iv1feUt2/ktEgw9B0k5z1nLd/ovJbJfPdnUyf8FIfBnhjS4bb43/s4/F7wEIriUz6hrPgWa5sBlY87bizMwfGOeAeRxzXReBf%2BCgH7FXxHZYvC/7TPhHzXOEttS1VbGZj6CO58tyfbGa6r4a/tYfsvfGzRrSP4P8A7RfgfxPJJcylYNC8VWl1KMrHgFI5Cyn2IBq547%2BBnwU%2BKKsvxK%2BEPhjxBvHzNrWg290fzkQmuNc3RnTodBpGt6N4gsU1PQdXtb62f7lxZ3Cyo30ZSQay/Ffwq%2BGHjsMPG/w40HWNww39qaRDcZ/7%2BKa8d1f/AIJffsTXt82seHvhHL4av2%2B7feEtfvtNdPosEyp%2Bamq3/DBfjPwz%2B9%2BFX7dnxm0dl/1VvrHiCDWbaP0Aju4Sce26n73VBodRrH7A37JGr3R1CL4OWmm3P8Fxod9c2DIfb7PIg/TFMj/YksNL0uafwL%2B0r8WtBEdxEI7S28ZtcWwysnWK4STOMeo6mua/4U3/AMFIfCf7zw1%2B2f4P8VAfcg8X/DRLX8GexnXP1CirEXjH/gqZ4V0qZtZ%2BC3wc8WQi4iLf8I74rv8ATpGO2TAxdwuozz/Ee1S1HsGprf8AChv2stF48L/ttXU8S/ct/EHgWxus%2BxkjMb/jzR/ZX/BQrRfksvF3wm11B/FqOl6hZyN%2BMTuo/KsH/hq/9sHQPm8d/wDBODxMkY%2B9L4Z8daXqmfcLuib8wKP%2BHiGn6YceM/2OfjzogX/WT3Hw5e4hX/tpbSyDFHu93%2BIam9/wsX9uzRONU/Zs8Ha2R1Oi%2BOmtt30%2B0Qfzo/4aL/aW03nxJ%2Bw14hjA6tpPi3Trz8gHU/oKwj/wVO/Y0sPk8XeM/EPh6T%2BKPXvAmrQbfq32YqPxNa%2Bi/wDBSv8AYP17H2H9qHwtHnp9tumtv/Ryrii6/mD5F7TP2ytb025b%2B3P2O/jHE32eUH7F4Whu1GY2GcxTk4Gc9OlV/wDhubwDbca38Hfilpnr9v8Ah9drj67Q1dZ4U/bK/ZE1m5J0v9qT4dzlraYBU8aWO7JiYAY83NbOm/Gr4N6zj%2ByPi14Zus9Ps2vW75/75c01e%2B4HnX/DwH9myD/kK6r4ksfX7X4K1IY/KA0f8PEf2O1/13xdaH/r48O6jHj/AL6txXsFlr2h6kAdO1m0uM9PIuVfP5GrdO0u4aHi8f8AwUO/Yyl%2B78dtOH%2B9ZXS/ziq7pH/BQf8AYzh1W1nl%2BPmkKiXCMzGGfgBgSf8AV16xJb283%2BtgRv8AeUGpdF0nSn1q03aZbn/So%2BsK/wB4e1J81mGh403/AAUE/Y3UZPx50n8IJz/7TqF/%2BCiH7GSHH/C87Fj6R6fdt/KE17Eul6Yn3dOgH0hX/CpUijiGI41UeijFP3w0PFv%2BHh/7IT8W3xRubg9hbeFtTkz/AN82xo/4b8/Z%2Bn/5BEfi3UD2Fn4H1Fs/99QivayQo3MQAOpNZ994u8KaWCdT8T6dbgdfPvY0x%2BZo97uGhg/CL4y6F8ZdMu9W0Dwx4i02KznWJh4h0OWxaUlc7o1kALr2yO9ct%2B1rdR6H4gn8XaX4quYr/Rpo768s4dflgkhsUuTvkt7VR5VzJIT5ZEvG0/KQcA9TqXx%2B%2BBGi5/tj41%2BEbTHX7T4ktY8f99SCuV%2BI/wC1p%2BwTc%2BJDqvi39of4V3txYXsklhNP4l0%2B5lt2LZ3R4dmQ8A5GOgpP1A4/4szxf8LS1y603UYl8Wy32knwPOZR5skMkbwSRwE8tEJN7yqMqpIZ8YBrB0TR449W0a%2B8E%2BGbhbXw7BpsvjixtdOcsJ7a8lR/MjVd002yWSXgM7LCp5%2BXPT6h/wAFNP8Agn34cKQH9o3w8xjBWJNNtp7nAPZRBE36VW/4egfsualx4Hg8deJyfuroHw51WTd9N8CZqXy33Hqeo/APT7%2Bx8I30k2nXFnZXXiC%2BuNHtbq2eGSK0eYmMGNwGjH3iFIBCkcCq/wAXPg946%2BJms2tzoH7QHiXwlp8Vt5dxp/h6G3Vp33E%2BZ5skbMpwQMDjjNebf8N%2B69rH7vwV%2Bwp8dtQc/wCrkv8AwZFp0Lf8CuZ1P/jtJ/w0r%2B3Xr/HhL/gnXNaRP9y78T/E7Trbb7mKFZX/AA4qrxtYWp0t5%2Bwj8PNRtrQ%2BP/i58TvFiSW5Z4df8d3Jj/1jjASDywo4zgY5Jq/4a/Yd/ZJ8KSCbTPgLoE7g536rbm%2BYn1JuS5J965O9v/8Agqx4nt7QxeH/AIG%2BFLd7chPtd7qup3KL5j84jWKPOc9yKr/8M7/t8%2BKDv8Zft/22kRP/AK2x8H/DSzjwPRZ7mSVx9cA0ko9gPefD/hLwp4StvsfhXwxp%2BmQ4x5Wn2UcK/kgAq79ptvtP2P7QnnbN/lbxu25xnHXGe9fPP/Du3SPEPzfFb9rD41eK1f8A19leePHtLR/%2B2NokQA/E/Wu5%2BBX7Gf7Nn7Nmu3fir4OfDZNL1W/tDbX2qT6ndXdxcRFlcq0lxK5ILIp/CqV%2BwFr9o/QfiZrPhNZfhd4v1Kz1OCOT7DpGl3ltavqFyxQRl551YCOIb5GjUAyAYJxwfIvijq/hnWtE8CftbX/jnwTMl14Gk%2Bx2nxA0hytxqFs0FyhtYhKI7a6ZpJYyVLupCbBJsrvf27/FOkeEPgLNqs/w0tPFuqtqMKaBol3NJEJLgBpZZN8REiLFax3MzlOdkT5BGa5L4s%2BOvHfhy98O%2BG/gLc6R4R0m2%2BHF74zhgTRbeRdVktXsY2s5fMTKRrbzfejZZAWHzYGDMtwRyGtfCz4h/Fbw3p3w90/wfq2jeJX1PW9QXV7vT5vsUVpfW7X8Er3ap5bSC/jsFeLIk/dSNtwoz738FfD3jQ%2BN/GPxJ8X%2BDJ/Dn/CQz2CwaNcX0Fw%2B63t/Le4LQOyDeWCgZzthUkKSVHx98RPiz8cfGXwL1T4teDfGHiW81bxrq3iPQ9V8EvfyzRQCPS7nVLK1t4elu5t7N4Q8YV5ftilix2Y%2Bif2MdX8AP46%2BIfhf4Da/YX/w30%2BbS5vDqaTc%2BbaWF5PDLJe2kWCQmD5ErR8bXnYEA5FEbXGz1X4i/Az4NfF7UtK1f4q/C7QfEk%2BiGU6S2uaXFdC1MuzeUWQFQT5ac4/hFbsMHhzwfofl28NlpWm2URO1FSCCBB16YVQPwFeY/tQ/Ar9oD43yaJp3wd/a/wBa%2BFml2y3A8RxeH/DNleXeqh/L8ry7m5DG0KbZclFYt5g6befLLD/gjh%2Byd4gvItY/aL8TfEf4y6hE4eO5%2BKfxBvb%2BNG/2beJooAvopjIHpVO99EI%2BwfhBr2h%2BJ5E8QeGtZtNRsLuxL2t7Y3CzQzLuX5kdCVYe4Nd7Xm3wA8A%2BCPhbpNp8Pvhv4S07QtD0rTTBpukaTaJBb20YdTtSNAAoySeByST3r0muat8ZS2CiiishhRRRQAUUUUAFFFFAHP2/xY%2BFl18Qp/hHa/Erw/J4rtrQXVz4Yj1mA6jFAQpErWwbzFTDqdxXHzDnkUaH8WPhZ4m8a6n8NvDfxK8P6h4j0VA%2Bs6BY6zBLe2CnGDNArmSIHcvLAfeHrXzBZ%2BHvGHh/9oDStB1H4beKPtuiftB6z4x1bxJb%2BFbyazm0S60G9tLeSO6jiaOd915Z2Zt1YyoIGdkEcQerP7PPgjx1ZfHHwf4Wvvh5r%2Bn3/grxN8RL/wAV6/faHPBZXdtqmryT2ghu3QRXZuRLb3JSJ3Mf2YrKI3VVIB9ReM/%2BRauf%2BAf%2BhrX58eJvhP4h%2BG37e3iuL9i3x74xvfFfifw99u8eWnjPx9e33hPw6908EouIdNfcqXpCfu1UhEjkZQhVjs/RPVNOh1axfT7h2VJMbih54IPf6V5d8Dv2QfAfwPg166sPEOq6tqvifXZ9U1vWtRkjM9zI7HYhITASNTtVRwPmIA3Yr0sBWwmHUqlVc0l8Kaurvq9Volrbq2uiZzYiFao4wg7J7vrbsvN9%2Bi8z4/8A2jP2LvHnhn4ZT/Fd9Tvvip44juVl8RazrutR2MunaSitJdf2RC8clvBcEIEjLj92ZGkRlZVrgPAHhbWLf9gP4JfD/wCHc9t4ZvNI1rUfE/i/wZc/FWfw/e6haWtlfT3NqNQ0p55Udbm8sZ5BuyVX96AGbH6df8K80X/n6uv%2B%2B1/%2BJrmviV%2Byp8BfjNpUWhfF74aaN4psre5%2B029r4i0e2vY4Ztu0Sos0TBX2kjcMEDvSxOOqYufNVk3bRdkuySskvJJFUcPToRtBW/N%2Br3fzZ8AaL%2B2P4407wXp/xo8I/FXXtK8C%2BGfE3hjw/B4X8RrDqF1rUVyiXOr3N9e3KSXTyW9pJO8TRSR7zY7mLrL8vs37Mf7R3xR%2BN/inT/BHx68H%2BGIrbxt8MLLxxoWkabYTGXS7O4mCGwvzPI6TzKJYcSokauyzDywEBPtni3/gnZ%2Byr448Z6h478T%2BCb25vNUtpIr60bW7kWEjvYNpxuPsW/7MtyLJ3thcCMSiJ2Tdjin/ALP/AOw14H%2BA2o6h4iuPiZ4r8X61fafZ6Ymu%2BKJrM3NvptohW3s0FrbwxBFLSOW2b3aQs5Y4Ncyqxua2PMvin/wTH/4J7/GHSUuvHv7HPw/uLme5mE99Y%2BHIbK5k%2BWP709sI5D1PVuM15x/w53/Z48LcfAP42/Gz4WIv%2Brg8CfFnUEhX28q7a4Qj/ZIIr6E/a9/YB0X9rbR/D%2Bnw/tSfGb4Y3Xhu5up7PUvhN42Gky3TTrCpW6UwyR3KL5KlVdSAWf14679n/wDZsu/gx8IdG%2BGXi/41%2BK/H%2BoaUkyT%2BLvFctudQ1APNJIpmMMSISiusYIUZWME85NCqU76oLM%2BTf%2BGKf%2BChHgj5fhD/AMFYfEM9rHzHp/xD%2BGmlaz5noGuI/IlH1B/Cjyv%2BC2ngjiO7/Zw8e2sXeWPWtEvZv%2B%2BTPCD%2BX419x/8ACvNF/wCfq6/77X/4mj/hXmi/8/V1/wB9r/8AE0/aU%2B7CzPhz/hrv/gpn4R%2BXx/8A8EpH1SGP/W6h4H%2BMWl3W73W3uUhk/DJqxH/wVVvfDulzWvxP/wCCcn7TOgEXETT3lv8ADRdTs48LJ1msriT17qOhr7b/AOFeaL/z9XX/AH2v/wATUi%2BBNIW1e0Fzc7XkVyd65yoYD%2BH/AGjQ6ke4WPhpf%2BC1/wDwT20wiH4g/EjxN4OnzhoPFvw41qzKn3c2hQfi1ev/ALPH7an7Kv7WM1/a/s5/HLQvFs2lwpNqNvpc7GW2jckIzoyhlBIIGR2NfQLfDrQ2Uq1xckEYILrz/wCO1Q0v4IfDzRL%2BfVdF0SGzurpQtzc2ttDHJKASQGZUBYAk9fWmq0e/4BY8i/aK%2BMdx8FfhreeItB0BtZ8QTwzR%2BG9CTIN9dLC8u1iPuRqkbyO5wAqHnJUHyXx78ZvEeqfD3wF5XwI8Ga/4v8WeEbrX9WttXQxWNvBaW8Uk6oWjkkJkaZUj3DA6sa%2Blfjd%2Bx98C/wBofwfN4N%2BLHg6z1iE288djcajp9vcS2EksZjM0Bljby5ADww9BXnPiT/gm/oR8D%2BG/Bvww%2BMGp%2BF28MaDqHh7T7qDSLaUJo17HAk9uqAIqzA20TxznJRt2VYMRSdWNwSPnq1%2BL/wCx/wCJEi%2BIXi/9iD4ezeAHkm0%2B/wDEl3o1lNdwagmlXF9MFtDZlXhiFvIjSmdW3qCsbA7q2/gx%2Bz9%2Bxr8btcv/AAt46/YN8F%2BFNVh0iz1ixsorS3l%2B1abdbxDOWhjjEb7o3VoznaRwzDmvVNZ/4JY%2BDNXF/wCAB8Tri2%2BHN3Nf3kHhW20gC9t7y70WfSZW%2B2mYq0Oy6nuBEYNwnZW8zYuw%2BhfBH9kbUvh54s1T4hfEj4mReI9cv9E07RoJ9K0H%2BzLe2sbMSsiCJp7gs7SzzOzbwPmVQoC8yqkb6jseOXv/AAS5/YC1Akz/ALMmhLn/AJ4TXEX/AKBKKqf8Oo/2BF/1HwEEH/Xt4o1WL/0C6Fe0ftOfsR2/7SOn6RZaZ%2B0/8WPhu%2BkTTSfaPhr4jt7B77zAo23Hm20okVduVA24LN1zx5A3/BI/4mWvGkf8FXv2kUHb7Zrul3H87EZpupSvsKzK3/Dqv9h9P%2BPX4Y6zB/1y8fa0P53lWNJ/4JW/sZT6rbQN4Q8TBHuEVgvxD1kcFh/09Uf8Oq/2i4OLL/grj8b1Hbz7HRpf52lOt/8Agl/%2B1ZaTpcW//BXr4vgxuGXd4d0Q8g5/59qTqU7bBZlX/h1l%2Bxm3%2Bs8GeJH9m%2BIOs/8AyVR/w6p/YYf/AI%2BfhPqk3/Xbx5rTf%2B3lT/8ADrf9qV%2BJv%2BCvHxhI/wBjQNEX/wBtaUf8Epvj/PxqH/BW746sO/2eHR4v5WZp%2B0p9gsyAf8Eo/wDgn/kGb9nq3nI/5%2BvEGpS/%2Bh3JrQsP%2BCY37BGnEG3/AGYfDjY6eessv/obmq4/4JD%2BObs/8Tn/AIKsftNyDv8AYvFWmW/8rA07/hzJos//ACFP%2BClv7XN1n7w/4XIsAP8A34s46Xtaf8oWZ0em/sFfsT6Vj7L%2Byl4AbHT7T4VtZv8A0YjV1jfsyfs2%2BG9YuY/Dv7PfgewWO5cItl4Ts4goDHAG2MYrzAf8EQP2eL3/AJGn9qD9o3XAfvDVvjbqL7vrsK0sv/BBH/gm9qcrTeLfA3jbX2ZiWOt/FXXZsn3H2sA/jmn7WN9gsz1ye%2B%2BFnw3hP2m88P6BGF53yQWoA/HbXI%2BJf22f2NPBu7/hLv2tfhnpZX7y6h470%2BEj8GmBrC0H/ghB/wAEpPDjiSx/ZB0GZgc51Gee8z9fPkfP413fhv8A4JYf8E8fCBV/Dn7HHw1tZF%2B7OvgXTWk/77aAt%2BtP2yDlPHPFP/BYP/gmT4PLDVf2z/Bk5XtpN5Jf5%2Bn2ZJM/hWF/w%2Be/Yv1v5fhZZfEzx0x%2B4vhD4Ta1PvP%2ByZbaMH88V9i%2BFv2a/gz4HCr4K8CaZo4UfKNL0u3t8fTy4xW7/wAK80X/AJ%2Brr/vtf/iaPbLv%2BAWPiS9/4Kb/ABV8WW1pb/Cj/glt%2B0VqMi25WOXxP4ZstBhk/eOQQ13dbgOcZKDkHioP%2BGkf%2BCsvjT9x4P8A%2BCbHhLwiG/1d745%2BM1tcADsWh0%2B3kI%2Bm8mvuabwJpE8cUT3NyBDGUXDryNxbn5fVjUf/AArzRf8An6uv%2B%2B1/%2BJoVSPcLHw5/whH/AAWo8efufEXx2%2BAHw/hbpJ4T8IaprVxGPc300SMf%2BAgV6X%2BzN8Av2nvhX4k1HxN%2B0P8Att6r8U2vbEQW2myeCtP0WysnDhvNjjtQWLYBX53bg%2BtfTH/CvNF/5%2Brr/vtf/iaP%2BFeaL/z9XX/fa/8AxNNVKfdhZnjHxt/Z8%2BFX7QuiW2g/FTw/NfwWbTPaCHU7m28tpYmifPkSJvBR2BV8qc9K4bxd%2ByL%2Bzv4B/Zm0zQviLqGqv4Z%2BHujagILqDUv7Nez0wW0RvIDJZ%2BSzQTRxAyo7EPtGTivYvix%2ByvqXxJ%2BIPgbxloX7QnjXwpY%2BEdVlvdV8P%2BH5rVbXxKrKgW3vTJC7GJdrHEZUneeeBjp/iV8APhz8Xfh3qPwq%2BIFnd3uh6tBJBqFrHfPA0sbhQy%2BZCVdPujlWBHrSdWmwsz4Bj8V/Frx7%2Bzf4d/ae%2BGf7Ntr4P%2BKll43sfDHjKHwx4SttT13S9F%2B0raSwWv20BVmjie2MhkyiLFKCGVRXOeOf2gfGetS%2BMfE3hL4p/EDR9V%2BDXwsOu2mgau0NhcX2o6bezvrCahZafts7ySSBI48Rq8CrdRSRYdlevsX4Z/8ABLj9nP4SaV418MeBdV8Tabo3jrU/7Q1jT7HV/Kl%2B0hIgky3oU3nmI0QdX8/7zHII4rodF/4J0/sjaZ4a07wtq/wrt/EUOl61LrNtdeMpDrV0dSlZWkvHnvvNkeZmRCXLcFFxjauF7SI7HxV%2BxxqWn%2BGv2i/Bug6NqlpB8S9T8QeNbT436VFPi71Cxt7y8fTdYu4s5IkLWjQSkYaO9KocIVX68/aO%2BFvj340fCHU/hz8NPjrrnw21fUHg8nxf4btLee8s40mR5VjW4R4wZI1ePdjK79w5Fe0J8M/DkU0lxG06yS4811KAvjgZO3nFP/4V5ov/AD9XX/fa/wDxNUqsErCszhP2VPhxf/CHwNpHw01T4l%2BI/GNxo2j/AGebxP4uu459S1Fg4Pm3Ekccas/OMhRwB1PJ9ZrM0bwrp%2Bh3TXdpNMzNGUIkYEYyD2A9K06wqSUpXQ1sFFFFQMKKKKACiiigAooooAKKKKAPnP4GftbfEvxn4t0DUfiLZaAvhjx74Q8Q%2BJPC0OkafPHe6XbaZe2kSw3Ukk7pdSTW97HLuSOARvE6YkDKw4vQf24P2j7tfA3hTWtN8Exa/wDF7QdA1nwTcQaPdm10KK%2Bkke6t72M3e6%2Be3t1QpJG9sJpGIKRAZPsfw8/Y48EfDTxzB410Hx/4omj06HULTQNEvpLKSy0ewvrtLu9sYB9lEhhlmigz5jySItvGkbxoCrYOif8ABPT4WaDosOmWnxJ8aSXWj2ek2XgvWJ72ze68K2emTvNZ21kfsux0UyMjtcpcPNHhJXkAAAB3n7NPxT8R/Fz4ZS674ztLGLWtK8Ta1oGrnTInjtp7jTdTubFp4kd3aNJfs4lEbO5QSbC7FSx7%2BuY%2BD/wp8PfBbwHb%2BAfDd9fXkSXl5fXmoanKj3N9eXd1Ld3VzKUVE8yW4nlkYIqoC%2BFVVAUdPQAV896J%2B1H8VL/43afb3Vj4e/4QbWfirqXgKws47CcapBc2emXd01/JcGcxPG89jPCIBApCyRyeacMlfQleST/se%2BDT8VT8U9O%2BIfimyMfiObxFp%2BgW81k2n2GszWZsp7%2BJZLVpPMkt3nQo8jRA3MsixrIwcAHmv7Qv7Un7VXwX8SeLdD0XSvBGvXdr4H13xBo%2BhaPoeoXlzokFtcRRabNfulwv2r7YGlIt44oHDxSpHJOsMktex/s3fFC7%2BKXg3UL3V/iDpmv6lpetSWGp/wBn%2BCL/AMOyWEoiikFvPYahPNcRS7JUlBcqHjmjZV2kM3O%2BH/2PV8Naz421bS/2kPiLGPHep3moarHFLpMUkFzNgQvDdRaet1i2jWOKBJJnVY4URxIuQex%2BDfwV0r4Ow69dJ4v1rxFq/ijWhqviHxB4ga2%2B1XtwttBaR5W1hhgjVILaCNVjiQYTccuzMwB2dFFFAHgH7WH7S/xb%2BE2u%2BILL4UWHh14fAvwvvfHPiaPXrGeaTU7eGRxHYWzRTxC2kkW3us3DiZUPlfumBbEPxS/ah8eeDv2n7T4fzeK9G8M%2BBH8NeHb9Nb1f4b6tqa313qGo39tJbNqFvdRWum4W3tFRrhWHmXYzu4U9p8e/2TvAv7QepHUPEfivxDpAvPDt14e8RW%2Bg3NvHHruj3Do81hdedDIRG21gHhMUyiWULIoc034j/stWXxVubeDxf8avHEukGGzi1vw3Fd2SWGtJbXTXMQnT7JuhO5tjm1aAyxqiSFwq4AOO/Z1/aj%2BKnxN%2BIXha38cWPh5fD3xI8Ma9r3hGHSrCeK70uDTr%2Bzgjhu5ZJ5Eunmgvo5SyRwCJ4nTEgZWH0JXlvwl/ZM8B/B/x6PHWi%2BKfEGoCxsdRsfDOkarcW7Wnh60v7yO8u7e0EcKSFJJoYP8AXvMyLAiIUQFT6lQAV5d8fPiZ8UtF8d%2BC/g78Gbrw/Za74tbUrh9W8TaXPe2tpaWVuruBBBcW7ySPLNboD5qhVMjYYqFPqNcP8ZvgXpnxil0TV4fHXiDwtrfh26nm0fxF4Yktlu4FngeCaLF1BPE8bo/IaMkMkbqVZFIAPK/GX7SXxz8V/se%2BCv2mfgtqXhLRdV8WeHdLltfC/iTwzdaoLvV9T%2BzxWlmk0F/a%2BTGLifZJKUkxHmTACEGb4N/tJ/FHxH%2B0drfwm%2BLHjDw/pUNr4kvdK8O6Ovwz1e0k1oW9nHOZINWmu2s5ZMGaU26RtIIomPRWeu%2B0b9l/wDoPhLwB4C07VtXXRvhpq1ve%2BFtOM0OyOO3sJrK3tJCIt0sMSTb1JPmmSKNmkbBBG/Zr0q8%2BMOn/ABa8QfFLxfq0Wi61cax4e8Lanf28mm6Vfz2ctlJPCRALk/uLi5RYpJ3iT7Q%2ByNcJtAPSKKKKAKPiabxHb%2BHL%2BfwdYWd1qyWcp0y21G6aC3luAp8tZZER2jQtgMyoxAyQpPFeD6F%2B1J8WNS/Yv8H/ABiudP8ADv8Awm3i7XNK0KIx2M40u3u7zVk083JhM5laKNWabyvODPs2eYm7cPefEel32t6Dd6RpniS90e4uYGjh1XTo4GntWIwJIxcRyxFh1AdHX1U15B4R/Yj0Hwx8EE%2BAl/8AHTx3rOkWd5bXuh3epf2Sl3pF5b3sd9b3MD22nxKzx3MSuBKsiNkq6uh20AeU6/8At0ftE2Vn480fSdL8GSax8G/Duva347km0i78jXorG4b7NBYoLsGxee3ikdpJXuRDIVXbKMtX17Y3kGoWUN/bMTHPEskZIwSrDI/Q14TrP/BPL4Ua5oc2j3XxD8ZJJrFlqtj431CK9sxP4us9RuRcXlvf/wCi7FR23Kptlt3ijdo4mjU4r3pVVFCIoAAwABwBQAtIxYKSi5OOATjNLTLiN5oHhjuHiZ0IWWMAshI%2B8NwIyOvII9jQB5B%2Bz38Xfj38UfhP421HxX4c8JL418PeKNZ0fTNO067uYtMea3/4945bh1eUruZUedYlLAF1hXPljyLXv2yP2nNF1b/hFY9T8Kaha2PxFufD%2BqeP/Dnwn1vWLGSKDRWvJkh06yv3nMkN4ptZJRM8YZXUqjxyKvrPgb9j7UPAfhbxl4Usf2qfiZcx%2BNpdRuL68m/sOG5sby8jZJLu1kttMiMcqlldM7kV41%2BUjIL/AAx%2ByJqHgr4daR8NvB37UXxG0m18PlU0S40uHQrY2lsIGh%2By%2BRHpa20sZBD5lheRXQMjrlsgHpfw98T6f428A6H4y0nxPp2t2uraRbXltrOkRFLS/jliV1uIVLyFYnDBlBdyFYDc3U7FYXww%2BHPhX4P/AA30D4UeBrOS30bw1o9tpmlQyzNI6W8ESxRhnbJdtqjLHknJPJrdoAK8s0L4sfFWb9sLXPgj4i0nQIfC0Pgi31nQLizaeTUJZDc%2BTK1wzFY0XduVYkViBGHMh8zy4/U68t1P9mW/vv2gJv2hbP8AaI8c2N7No66UNCtbfRTp8dmJDKIh5mnPP/rCX3GYtk4ztwtAHi8n7dfxY8N2fj278Z6t4cg1jTtc8QaZ4I8FXnw61fTWvfs2vnSrG6Oqz3TW9/GUktZp0togwW4BGwAZ9w/Z5%2BJvj/xjqvjr4e/FObRrrXfAfiuLSbjVNA06WztdRim0yy1CKZbeWed4SFvPKZTLJloS4IDhVwPG37D/AID%2BJ2ralefE34oeN/EFlcW%2BqR6JpOparbmLw89/Isks1nKlutx5iMo8kzyzLAvyxhVAUdx8HPgxpPwdstaaHxXrHiDVvEutnVvEXiHX2t/teoXX2eC1RnW2hhhQJb21vEqxxooWIEgsWYgHY0UUUAeWeO/ix8VfC/7VngP4VWmk6B/wh3inR9Ue5vJWnfUmvbaNZAEAKxRRKrLknzGkMhGIhHmTnfjl8Uv2lPAXxm03wt8PfEvgzU9Nv9G1XWrjQLnwXeNfWmm2NooZzeJqQSSSS%2BntIkT7MuUllIyYST0/xR/Zsu/ib8XvDfxig%2BPnjXw9deFYZ49L0rQ4NHazPnqFnZ/tenzysXRVU/vAAFyoU5J3R8FfD8nxA1P4mXviHWZ9U1Xwda%2BHJ5BdrD5VvDLcymeIwojRTyNdHe6sB%2B5h2qhUkgHD/sWfHvxd8cvBct38SPG2j3fiSDTNNvNU0Cx%2BHmqeHJ9J%2B1Qs4Dw6lczSXETskqx3CBY38iQKWKtt9prz74N/s%2Baf8I/EOseNdR%2BJfijxh4g1vTdP02817xXNaNcCxsTcNbWyi0t4I9qPd3Tlyhkdp2Lu2FC%2Bg0AFef8A7R/jD4i%2BAvATeMPBPjTwX4Z0/TDLdeJ/EvjeyuLu30%2BxjgkbcltBNAZnaQRrzMgVSxAkbCH0CvPP2gf2ebH9oKDw3BqHxM8SeHP%2BEY8QR6zZjQI9PlS5uo43WEzxX9pcxyiJn81BtGyVI5B80aFQDy7xp%2B1H%2B0hceC/BS%2BEPA3h/w14t1P4M33j3xZovi2xublbOa1isN2joIpoWikaa8kQ3Db/KFvzDIXwsPwm/bS%2BI3xQ8Z%2BFfGttpWhRfD3xr4/uvCOkacbCcatazQ6RcX322W488xOjTWc8HkLApCvHJ5pwyV3fxJ/ZA0v4r6ZYReL/jh45bVLXRNR0S78RWUmmW95qGlX4t/tdjN5diIVSQ20LCSKOOaNlzHKmTmXwx%2Bxv8MvCHxRs/iLoeu65FYaZrcut6P4ME9uNI0/VZdPOnyXsSiETh2tnlTy2mMIaeRxGHbcAD1qiiigAooooAKKKKACiiigAooooAKKKKACiiigAooooAKKKKACiiigAooooAKKKKACiiigAooooAKKKKACiiigAooooAKKKKACiiigAooooAKKKKACiiigAooooAKKKKACiiigAooooAKKKKACiiigAooooA/9k%3D\">"
            ]
          },
          "metadata": {
            "tags": []
          }
        }
      ]
    },
    {
      "metadata": {
        "id": "633-JWCi_Tq5",
        "colab_type": "code",
        "colab": {}
      },
      "cell_type": "code",
      "source": [
        ""
      ],
      "execution_count": 0,
      "outputs": []
    }
  ]
}